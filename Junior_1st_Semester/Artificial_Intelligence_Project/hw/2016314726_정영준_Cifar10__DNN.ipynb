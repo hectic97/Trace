{
  "nbformat": 4,
  "nbformat_minor": 0,
  "metadata": {
    "colab": {
      "name": "Untitled6.ipynb",
      "provenance": [],
      "collapsed_sections": []
    },
    "kernelspec": {
      "name": "python3",
      "display_name": "Python 3"
    },
    "accelerator": "GPU"
  },
  "cells": [
    {
      "cell_type": "code",
      "metadata": {
        "id": "-AllK5D6VjZG",
        "colab_type": "code",
        "colab": {}
      },
      "source": [
        "import torch\n",
        "import torchvision\n",
        "import torch.nn as nn\n",
        "import torch.optim as optim\n",
        "from torchvision import transforms\n",
        "import numpy as np\n",
        "import matplotlib.pyplot as plt\n"
      ],
      "execution_count": 0,
      "outputs": []
    },
    {
      "cell_type": "code",
      "metadata": {
        "id": "IKd1DG9bbrWW",
        "colab_type": "code",
        "colab": {}
      },
      "source": [
        "transform = transforms.Compose([transforms.RandomHorizontalFlip(0.5),\n",
        "                                transforms.ToTensor(),\n",
        "                                transforms.Normalize((0.5,0.5,0.5),(0.5,0.5,0.5)),\n",
        "                                ])\n"
      ],
      "execution_count": 0,
      "outputs": []
    },
    {
      "cell_type": "code",
      "metadata": {
        "id": "orXh4npGVujQ",
        "colab_type": "code",
        "outputId": "d93765ee-4894-4708-9779-a7bf6103afdc",
        "colab": {
          "base_uri": "https://localhost:8080/",
          "height": 53
        }
      },
      "source": [
        "\n",
        "train_set = torchvision.datasets.CIFAR10(root='./',train=True,download=True,transform=transform)\n",
        "test_set = torchvision.datasets.CIFAR10(root='./',train=False,download=True,transform=transform)"
      ],
      "execution_count": 209,
      "outputs": [
        {
          "output_type": "stream",
          "text": [
            "Files already downloaded and verified\n",
            "Files already downloaded and verified\n"
          ],
          "name": "stdout"
        }
      ]
    },
    {
      "cell_type": "code",
      "metadata": {
        "id": "B307Obi7Xwna",
        "colab_type": "code",
        "colab": {
          "base_uri": "https://localhost:8080/",
          "height": 302
        },
        "outputId": "d448a4cc-3fbb-47c1-f837-8eb52f367cca"
      },
      "source": [
        "plt.imshow(np.transpose(train_set[4][0],[1,2,0]))"
      ],
      "execution_count": 192,
      "outputs": [
        {
          "output_type": "stream",
          "text": [
            "Clipping input data to the valid range for imshow with RGB data ([0..1] for floats or [0..255] for integers).\n"
          ],
          "name": "stderr"
        },
        {
          "output_type": "execute_result",
          "data": {
            "text/plain": [
              "<matplotlib.image.AxesImage at 0x7ff1b8245630>"
            ]
          },
          "metadata": {
            "tags": []
          },
          "execution_count": 192
        },
        {
          "output_type": "display_data",
          "data": {
            "image/png": "[encoded data removed]",
            "text/plain": [
              "<Figure size 432x288 with 1 Axes>"
            ]
          },
          "metadata": {
            "tags": [],
            "needs_background": "light"
          }
        }
      ]
    },
    {
      "cell_type": "code",
      "metadata": {
        "id": "53ftKc9NWXtE",
        "colab_type": "code",
        "colab": {
          "base_uri": "https://localhost:8080/",
          "height": 35
        },
        "outputId": "53a62058-f49a-4e65-fa47-2a2255f57721"
      },
      "source": [
        "train_set.data.shape"
      ],
      "execution_count": 212,
      "outputs": [
        {
          "output_type": "execute_result",
          "data": {
            "text/plain": [
              "(50000, 32, 32, 3)"
            ]
          },
          "metadata": {
            "tags": []
          },
          "execution_count": 212
        }
      ]
    },
    {
      "cell_type": "code",
      "metadata": {
        "id": "fRZEN9LsPf2r",
        "colab_type": "code",
        "colab": {}
      },
      "source": [
        "train_set, val_set = torch.utils.data.random_split(train_set,[int(len(train_set)*0.1),int(len(train_set)*0.9)])"
      ],
      "execution_count": 0,
      "outputs": []
    },
    {
      "cell_type": "code",
      "metadata": {
        "id": "54OfNHBmjgSN",
        "colab_type": "code",
        "colab": {}
      },
      "source": [
        "batch_size = 128 \n",
        "epochs = 1000\n",
        "\n",
        "train_loader=torch.utils.data.DataLoader(train_set,batch_size=batch_size,shuffle=True,drop_last=True)\n",
        "val_loader =torch.utils.data.DataLoader(val_set,batch_size = batch_size,shuffle=True,drop_last = True)\n",
        "test_loader =torch.utils.data.DataLoader(test_set,batch_size=batch_size,drop_last=True)"
      ],
      "execution_count": 0,
      "outputs": []
    },
    {
      "cell_type": "code",
      "metadata": {
        "id": "O57IlicolIot",
        "colab_type": "code",
        "outputId": "39d171f5-b9f7-4f58-901b-337ef523bff5",
        "colab": {
          "base_uri": "https://localhost:8080/",
          "height": 35
        }
      },
      "source": [
        "iter(train_loader).next()[0].shape # Check the shape of loaded data"
      ],
      "execution_count": 215,
      "outputs": [
        {
          "output_type": "execute_result",
          "data": {
            "text/plain": [
              "torch.Size([128, 3, 32, 32])"
            ]
          },
          "metadata": {
            "tags": []
          },
          "execution_count": 215
        }
      ]
    },
    {
      "cell_type": "code",
      "metadata": {
        "id": "1CAG2jBldzWs",
        "colab_type": "code",
        "colab": {}
      },
      "source": [
        "class DNN(nn.Module):\n",
        "    def __init__(self):\n",
        "        super(DNN,self).__init__()\n",
        "        self.layer = nn.Sequential(nn.Linear(32*32*3,1024),\n",
        "                                   nn.ReLU(),\n",
        "                                   nn.Linear(1024,256),\n",
        "                                   nn.ReLU(),\n",
        "                                   nn.Linear(256,10),)\n",
        "        \n",
        "    def forward(self,x):\n",
        "        x = x.view(batch_size,-1)\n",
        "        out = self.layer(x)\n",
        "        return out"
      ],
      "execution_count": 0,
      "outputs": []
    },
    {
      "cell_type": "code",
      "metadata": {
        "id": "cT9VWnwQeGIC",
        "colab_type": "code",
        "colab": {}
      },
      "source": [
        "model = DNN()\n",
        "loss_func = nn.CrossEntropyLoss()\n",
        "optimizer = optim.Adam(model.parameters(),weight_decay=0.02)\n"
      ],
      "execution_count": 0,
      "outputs": []
    },
    {
      "cell_type": "code",
      "metadata": {
        "id": "yNcMgirlfpc4",
        "colab_type": "code",
        "outputId": "e1225346-c8be-4879-deac-a4c145dbf416",
        "colab": {
          "base_uri": "https://localhost:8080/",
          "height": 197
        }
      },
      "source": [
        "loss_arr =[]\n",
        "for i in range(epochs):\n",
        "    correct = 0\n",
        "    total = 0\n",
        "    for j,[img,label] in enumerate(train_loader):\n",
        "        x = img\n",
        "        y = label\n",
        "\n",
        "        optimizer.zero_grad()\n",
        "        output = model.forward(x)\n",
        "        _,output_index = torch.max(output,1)\n",
        "        loss = loss_func(output,y)\n",
        "        loss.backward()\n",
        "        optimizer.step()\n",
        "        total += y.size()[0]\n",
        "        correct += (output_index == y).sum().float()\n",
        "        loss_arr.append(loss)\n",
        "    if i % (epochs/10) == 0 :\n",
        "        \n",
        "        with torch.no_grad():\n",
        "            val_correct = 0\n",
        "            val_total = 0\n",
        "            for k,[val_img,val_label] in enumerate(val_loader):\n",
        "                val_x = val_img\n",
        "                val_y = val_label\n",
        "                val_output = model.forward(val_x)\n",
        "                _,val_output_index = torch.max(val_output,1)\n",
        "                val_loss = loss_func(val_output,val_y)\n",
        "                val_total += val_y.size()[0]\n",
        "                val_correct += (val_output_index==val_y).sum().float()\n",
        "        print('EPOCHS {:>3d}/{} || Train Loss : {:.4f} || Train Accuracy : {:.4f} || Validation Loss : {:.4f} || Validation Accuracy : {:.4f}'\\\n",
        "              .format(i+1,epochs,loss,100*correct/total,val_loss,100*val_correct/val_total))   \n"
      ],
      "execution_count": 218,
      "outputs": [
        {
          "output_type": "stream",
          "text": [
            "EPOCHS   1/1000 || Train Loss : 1.9312 || Train Accuracy : 29.6474 || Validation Loss : 1.7947 || Validation Accuracy : 34.2259\n",
            "EPOCHS 101/1000 || Train Loss : 1.4442 || Train Accuracy : 49.4591 || Validation Loss : 1.6692 || Validation Accuracy : 42.1563\n",
            "EPOCHS 201/1000 || Train Loss : 1.4607 || Train Accuracy : 51.7829 || Validation Loss : 1.6052 || Validation Accuracy : 42.3722\n",
            "EPOCHS 301/1000 || Train Loss : 1.4057 || Train Accuracy : 54.2067 || Validation Loss : 1.4898 || Validation Accuracy : 43.2670\n",
            "EPOCHS 401/1000 || Train Loss : 1.2567 || Train Accuracy : 53.2452 || Validation Loss : 1.5111 || Validation Accuracy : 43.9503\n",
            "EPOCHS 501/1000 || Train Loss : 1.3362 || Train Accuracy : 54.5473 || Validation Loss : 1.4546 || Validation Accuracy : 44.0816\n",
            "EPOCHS 601/1000 || Train Loss : 1.4006 || Train Accuracy : 54.1066 || Validation Loss : 1.6606 || Validation Accuracy : 43.5163\n",
            "EPOCHS 701/1000 || Train Loss : 1.3824 || Train Accuracy : 54.3069 || Validation Loss : 1.4848 || Validation Accuracy : 43.8257\n",
            "EPOCHS 801/1000 || Train Loss : 1.2668 || Train Accuracy : 53.9463 || Validation Loss : 1.5945 || Validation Accuracy : 44.3087\n",
            "EPOCHS 901/1000 || Train Loss : 1.2512 || Train Accuracy : 54.1466 || Validation Loss : 1.5758 || Validation Accuracy : 43.6521\n"
          ],
          "name": "stdout"
        }
      ]
    },
    {
      "cell_type": "code",
      "metadata": {
        "id": "LtNLE0hvhq-Q",
        "colab_type": "code",
        "outputId": "75f500ad-9df8-49f5-ddb7-8a3abd435f69",
        "colab": {
          "base_uri": "https://localhost:8080/",
          "height": 35
        }
      },
      "source": [
        "correct = 0\n",
        "total = 0\n",
        "with torch.no_grad():\n",
        "    for image,label in test_loader:\n",
        "        x = image\n",
        "        y = label\n",
        "\n",
        "        output = model.forward(x)\n",
        "        _,output_index = torch.max(output,1)\n",
        "        total += label.size(0)\n",
        "        correct += (output_index == y).sum().float()\n",
        "\n",
        "    print('Accuracy of Testset : {:.4f}'.format(100*correct/total))"
      ],
      "execution_count": 220,
      "outputs": [
        {
          "output_type": "stream",
          "text": [
            "Accuracy of Testset : 44.3409\n"
          ],
          "name": "stdout"
        }
      ]
    }
  ]
}