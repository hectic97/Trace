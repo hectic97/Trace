{
 "cells": [
  {
   "cell_type": "code",
   "execution_count": 1,
   "metadata": {},
   "outputs": [],
   "source": [
    "import torch"
   ]
  },
  {
   "cell_type": "code",
   "execution_count": 2,
   "metadata": {},
   "outputs": [
    {
     "data": {
      "text/plain": [
       "'1.4.0'"
      ]
     },
     "execution_count": 2,
     "metadata": {},
     "output_type": "execute_result"
    }
   ],
   "source": [
    "torch.__version__"
   ]
  },
  {
   "cell_type": "code",
   "execution_count": 3,
   "metadata": {},
   "outputs": [],
   "source": [
    "X = torch.Tensor(2,3) # random number in 2,3 size Tensor"
   ]
  },
  {
   "cell_type": "code",
   "execution_count": 6,
   "metadata": {},
   "outputs": [],
   "source": [
    "X = torch.Tensor([[1,2,3],[4,5,6]]) # default FloatTensor"
   ]
  },
  {
   "cell_type": "code",
   "execution_count": 9,
   "metadata": {},
   "outputs": [
    {
     "data": {
      "text/plain": [
       "tensor([[1., 2., 3.],\n",
       "        [4., 5., 6.]])"
      ]
     },
     "execution_count": 9,
     "metadata": {},
     "output_type": "execute_result"
    }
   ],
   "source": [
    "X"
   ]
  },
  {
   "cell_type": "code",
   "execution_count": 10,
   "metadata": {},
   "outputs": [
    {
     "data": {
      "text/plain": [
       "array([[1., 2., 3.],\n",
       "       [4., 5., 6.]], dtype=float32)"
      ]
     },
     "execution_count": 10,
     "metadata": {},
     "output_type": "execute_result"
    }
   ],
   "source": [
    "X.numpy() "
   ]
  },
  {
   "cell_type": "code",
   "execution_count": 11,
   "metadata": {},
   "outputs": [],
   "source": [
    "x_tensor = torch.tensor(data=[2.0,3.0],requires_grad=True) #requires_grad deafult == False"
   ]
  },
  {
   "cell_type": "code",
   "execution_count": 14,
   "metadata": {},
   "outputs": [
    {
     "data": {
      "text/plain": [
       "tensor([2., 3.], requires_grad=True)"
      ]
     },
     "execution_count": 14,
     "metadata": {},
     "output_type": "execute_result"
    }
   ],
   "source": [
    "x_tensor"
   ]
  },
  {
   "cell_type": "code",
   "execution_count": 15,
   "metadata": {},
   "outputs": [
    {
     "data": {
      "text/plain": [
       "False"
      ]
     },
     "execution_count": 15,
     "metadata": {},
     "output_type": "execute_result"
    }
   ],
   "source": [
    "X.requires_grad"
   ]
  },
  {
   "cell_type": "code",
   "execution_count": 21,
   "metadata": {},
   "outputs": [
    {
     "name": "stdout",
     "output_type": "stream",
     "text": [
      "tensor([ 8., 12.]) None None\n"
     ]
    }
   ],
   "source": [
    "x = torch.tensor(data=[2.0,3.0],requires_grad=True)\n",
    "y = x**2\n",
    "z = 2*y+3\n",
    "\n",
    "target = torch.tensor([3.0,4.0])\n",
    "loss = torch.sum(torch.abs(z-target))\n",
    "loss.backward()\n",
    "\n",
    "print(x.grad,y.grad,z.grad)"
   ]
  },
  {
   "cell_type": "code",
   "execution_count": 27,
   "metadata": {},
   "outputs": [],
   "source": [
    "import numpy as np"
   ]
  },
  {
   "cell_type": "code",
   "execution_count": 31,
   "metadata": {},
   "outputs": [
    {
     "data": {
      "text/plain": [
       "tensor([3.])"
      ]
     },
     "execution_count": 31,
     "metadata": {},
     "output_type": "execute_result"
    }
   ],
   "source": [
    "torch.abs(torch.tensor([-3.0]))"
   ]
  },
  {
   "cell_type": "code",
   "execution_count": 33,
   "metadata": {},
   "outputs": [
    {
     "data": {
      "text/plain": [
       "tensor(21.)"
      ]
     },
     "execution_count": 33,
     "metadata": {},
     "output_type": "execute_result"
    }
   ],
   "source": [
    "torch.sum(torch.tensor([[3.0,5.0,7.0],[4.0,1.0,1.0]]))"
   ]
  },
  {
   "cell_type": "code",
   "execution_count": 34,
   "metadata": {},
   "outputs": [],
   "source": [
    "import torch\n",
    "import torch.nn as nn\n",
    "import torch.optim as optim\n",
    "import torch.nn.init as init"
   ]
  },
  {
   "cell_type": "code",
   "execution_count": 40,
   "metadata": {},
   "outputs": [
    {
     "name": "stdout",
     "output_type": "stream",
     "text": [
      "torch.int64\n",
      "torch.float32\n"
     ]
    }
   ],
   "source": [
    "a = torch.tensor([2,3]) # Auto assign dtype\n",
    "print(a.dtype)\n",
    "b = torch.Tensor([2,3])  # torch.Tensor == torch.FloatTensor \n",
    "print(b.dtype)"
   ]
  },
  {
   "cell_type": "code",
   "execution_count": 50,
   "metadata": {},
   "outputs": [],
   "source": [
    "num_data = 1000\n",
    "num_epoch = 500\n",
    "x = init.uniform_(torch.Tensor(num_data,1),-10,10)  # bound (-10,10)\n",
    "noise = init.normal_(torch.FloatTensor(num_data,1),std=1)\n",
    "y = 2*x+3\n",
    "y_noise = 2*(x+noise) +3"
   ]
  },
  {
   "cell_type": "code",
   "execution_count": 51,
   "metadata": {},
   "outputs": [],
   "source": [
    "model = nn.Linear(1,1) #input size  , output_size, bias = True\n",
    "loss_func = nn.L1Loss()"
   ]
  },
  {
   "cell_type": "code",
   "execution_count": 52,
   "metadata": {},
   "outputs": [],
   "source": [
    "optimizer = optim.SGD(model.parameters(),lr=0.01)"
   ]
  },
  {
   "cell_type": "code",
   "execution_count": 53,
   "metadata": {},
   "outputs": [
    {
     "name": "stdout",
     "output_type": "stream",
     "text": [
      "tensor(13.8522)\n",
      "tensor(11.2996)\n",
      "tensor(8.7920)\n",
      "tensor(6.3606)\n",
      "tensor(4.1953)\n",
      "tensor(2.7709)\n",
      "tensor(2.2972)\n",
      "tensor(2.1707)\n",
      "tensor(2.1159)\n",
      "tensor(2.0786)\n",
      "tensor(2.0443)\n",
      "tensor(2.0115)\n",
      "tensor(1.9808)\n",
      "tensor(1.9517)\n",
      "tensor(1.9245)\n",
      "tensor(1.8989)\n",
      "tensor(1.8749)\n",
      "tensor(1.8524)\n",
      "tensor(1.8314)\n",
      "tensor(1.8118)\n",
      "tensor(1.7937)\n",
      "tensor(1.7770)\n",
      "tensor(1.7613)\n",
      "tensor(1.7467)\n",
      "tensor(1.7332)\n",
      "tensor(1.7210)\n",
      "tensor(1.7093)\n",
      "tensor(1.6984)\n",
      "tensor(1.6884)\n",
      "tensor(1.6794)\n",
      "tensor(1.6711)\n",
      "tensor(1.6636)\n",
      "tensor(1.6564)\n",
      "tensor(1.6497)\n",
      "tensor(1.6434)\n",
      "tensor(1.6379)\n",
      "tensor(1.6330)\n",
      "tensor(1.6283)\n",
      "tensor(1.6242)\n",
      "tensor(1.6207)\n",
      "tensor(1.6174)\n",
      "tensor(1.6144)\n",
      "tensor(1.6115)\n",
      "tensor(1.6088)\n",
      "tensor(1.6063)\n",
      "tensor(1.6040)\n",
      "tensor(1.6018)\n",
      "tensor(1.5999)\n",
      "tensor(1.5980)\n",
      "tensor(1.5964)\n",
      "1.9805463552474976 2.6048457622528076\n"
     ]
    }
   ],
   "source": [
    "label = y_noise\n",
    "\n",
    "for i in range(num_epoch):\n",
    "    optimizer.zero_grad()\n",
    "    output = model(x)\n",
    "    loss = loss_func(output,label)\n",
    "    loss.backward()\n",
    "    optimizer.step()\n",
    "    \n",
    "    if i % 10 == 0:\n",
    "        print(loss.data)\n",
    "param_list = list(model.parameters())\n",
    "print(param_list[0].item(),param_list[1].item())    "
   ]
  },
  {
   "cell_type": "code",
   "execution_count": null,
   "metadata": {},
   "outputs": [],
   "source": []
  }
 ],
 "metadata": {
  "kernelspec": {
   "display_name": "Python 3",
   "language": "python",
   "name": "python3"
  },
  "language_info": {
   "codemirror_mode": {
    "name": "ipython",
    "version": 3
   },
   "file_extension": ".py",
   "mimetype": "text/x-python",
   "name": "python",
   "nbconvert_exporter": "python",
   "pygments_lexer": "ipython3",
   "version": "3.7.6"
  }
 },
 "nbformat": 4,
 "nbformat_minor": 4
}
