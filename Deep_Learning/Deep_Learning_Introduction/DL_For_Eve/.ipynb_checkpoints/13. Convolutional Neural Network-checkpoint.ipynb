{
 "cells": [
  {
   "cell_type": "code",
   "execution_count": 6,
   "metadata": {},
   "outputs": [
    {
     "data": {
      "text/plain": [
       "'2.0.0'"
      ]
     },
     "execution_count": 6,
     "metadata": {},
     "output_type": "execute_result"
    }
   ],
   "source": [
    "import numpy as np\n",
    "import tensorflow as tf\n",
    "import random\n",
    "import matplotlib.pyplot as plt\n",
    "from scipy import ndimage\n",
    "tf.__version__"
   ]
  },
  {
   "cell_type": "code",
   "execution_count": 8,
   "metadata": {},
   "outputs": [
    {
     "data": {
      "text/plain": [
       "(60000, 28, 28)"
      ]
     },
     "execution_count": 8,
     "metadata": {},
     "output_type": "execute_result"
    }
   ],
   "source": [
    "mnist=tf.keras.datasets.mnist\n",
    "(x_train,y_train),(x_test,y_test) = mnist.load_data()\n",
    "x_train.shape"
   ]
  },
  {
   "cell_type": "code",
   "execution_count": 111,
   "metadata": {},
   "outputs": [],
   "source": [
    "def data_augmentation(images,labels):\n",
    "    aug_images=[];aug_labels=[]\n",
    "    \n",
    "    for x,y in zip(images,labels):\n",
    "        aug_images.append(x)\n",
    "        aug_labels.append(y)\n",
    "        \n",
    "        bg_value=np.median(x)\n",
    "        \n",
    "        for _ in range(3):\n",
    "            angle = np.random.randint(-15,15,1)[0]\n",
    "            rot_img = ndimage.rotate(x,angle,reshape=False,cval=0)\n",
    "            \n",
    "            shift = np.random.randint(-2,2,2)\n",
    "            shift_img = ndimage.shift(rot_img,shift,cval=0)\n",
    "            \n",
    "            aug_images.append(shift_img)\n",
    "            aug_labels.append(y)\n",
    "    \n",
    "    aug_images = np.array(aug_images)\n",
    "    aug_labels = np.array(aug_labels)\n",
    "    \n",
    "    return aug_images,aug_labels"
   ]
  },
  {
   "cell_type": "code",
   "execution_count": 153,
   "metadata": {},
   "outputs": [],
   "source": [
    "train_images,train_labels = data_augmentation(x_train,y_train) "
   ]
  },
  {
   "cell_type": "code",
   "execution_count": 154,
   "metadata": {},
   "outputs": [],
   "source": [
    "train_images=train_images/255"
   ]
  },
  {
   "cell_type": "code",
   "execution_count": 121,
   "metadata": {},
   "outputs": [],
   "source": [
    "x_test=x_test/255"
   ]
  },
  {
   "cell_type": "code",
   "execution_count": 198,
   "metadata": {},
   "outputs": [],
   "source": [
    "class ConvBNRelu(tf.keras.Model):\n",
    "    def __init__(self,filters,kernel_size=3,strides=1,padding='SAME'):\n",
    "        super(ConvBNRelu,self).__init__()\n",
    "        self.conv = tf.keras.layers.Conv2D(filters=filters,kernel_size=kernel_size,strides=strides,padding=\n",
    "                                          padding)\n",
    "        self.batchnorm = tf.keras.layers.BatchNormalization()\n",
    "        self.flatten = tf.keras.layers.Flatten()\n",
    "        self.dense = tf.keras.layers.Dense(10)\n",
    "        \n",
    "    def call(self,inputs,training=False):\n",
    "        layer = self.conv(inputs)\n",
    "        layer = self.batchnorm(layer)\n",
    "        layer = self.flatten(layer)\n",
    "        layer = self.dense(layer)\n",
    "        layer = tf.nn.softmax(layer)\n",
    "        \n",
    "        return layer\n",
    "    "
   ]
  },
  {
   "cell_type": "code",
   "execution_count": 199,
   "metadata": {},
   "outputs": [],
   "source": [
    "lr_decay=tf.keras.optimizers.schedules.ExponentialDecay(0.01,100000,0.5,staircase=True)\n"
   ]
  },
  {
   "cell_type": "code",
   "execution_count": 200,
   "metadata": {},
   "outputs": [],
   "source": [
    "model=ConvBNRelu(6)"
   ]
  },
  {
   "cell_type": "code",
   "execution_count": 201,
   "metadata": {},
   "outputs": [],
   "source": [
    "model.compile(loss='sparse_categorical_crossentropy',optimizer=tf.keras.optimizers.Adam(lr_decay),metrics=['acc'])"
   ]
  },
  {
   "cell_type": "code",
   "execution_count": 202,
   "metadata": {},
   "outputs": [
    {
     "name": "stdout",
     "output_type": "stream",
     "text": [
      "Train on 228000 samples, validate on 12000 samples\n",
      "Epoch 1/10\n",
      "228000/228000 [==============================] - 117s 515us/sample - loss: 0.7282 - acc: 0.7981 - val_loss: 0.5385 - val_acc: 0.8398\n",
      "Epoch 2/10\n",
      "228000/228000 [==============================] - 100s 437us/sample - loss: 0.6432 - acc: 0.8131 - val_loss: 0.5493 - val_acc: 0.8412\n",
      "Epoch 3/10\n",
      "228000/228000 [==============================] - 102s 445us/sample - loss: 0.6401 - acc: 0.8152 - val_loss: 0.5209 - val_acc: 0.8493\n",
      "Epoch 4/10\n",
      "228000/228000 [==============================] - 100s 438us/sample - loss: 0.6353 - acc: 0.8164 - val_loss: 0.5128 - val_acc: 0.8508\n",
      "Epoch 5/10\n",
      "228000/228000 [==============================] - 100s 437us/sample - loss: 0.6341 - acc: 0.8169 - val_loss: 0.5639 - val_acc: 0.8355\n",
      "Epoch 6/10\n",
      "228000/228000 [==============================] - 100s 439us/sample - loss: 0.6296 - acc: 0.8182 - val_loss: 0.5147 - val_acc: 0.8535\n",
      "Epoch 7/10\n",
      "228000/228000 [==============================] - 98s 430us/sample - loss: 0.6293 - acc: 0.8189 - val_loss: 0.5274 - val_acc: 0.8457\n",
      "Epoch 8/10\n",
      "228000/228000 [==============================] - 97s 427us/sample - loss: 0.6244 - acc: 0.8193 - val_loss: 0.5175 - val_acc: 0.8481\n",
      "Epoch 9/10\n",
      "228000/228000 [==============================] - 101s 442us/sample - loss: 0.6236 - acc: 0.8204 - val_loss: 0.5122 - val_acc: 0.8543\n",
      "Epoch 10/10\n",
      "228000/228000 [==============================] - 100s 440us/sample - loss: 0.6233 - acc: 0.8199 - val_loss: 0.5295 - val_acc: 0.8551\n"
     ]
    },
    {
     "data": {
      "text/plain": [
       "<tensorflow.python.keras.callbacks.History at 0x2a8c0ee9f48>"
      ]
     },
     "execution_count": 202,
     "metadata": {},
     "output_type": "execute_result"
    }
   ],
   "source": [
    "model.fit(np.expand_dims(train_images,axis=-1),train_labels,epochs=10,batch_size=128,validation_split=0.05)"
   ]
  },
  {
   "cell_type": "code",
   "execution_count": 170,
   "metadata": {},
   "outputs": [
    {
     "data": {
      "text/plain": [
       "(240000, 28, 28, 1)"
      ]
     },
     "execution_count": 170,
     "metadata": {},
     "output_type": "execute_result"
    }
   ],
   "source": [
    "np.expand_dims(train_labels,1).shape\n",
    "np.expand_dims(train_images,axis=-1).shape"
   ]
  }
 ],
 "metadata": {
  "kernelspec": {
   "display_name": "Python 3",
   "language": "python",
   "name": "python3"
  },
  "language_info": {
   "codemirror_mode": {
    "name": "ipython",
    "version": 3
   },
   "file_extension": ".py",
   "mimetype": "text/x-python",
   "name": "python",
   "nbconvert_exporter": "python",
   "pygments_lexer": "ipython3",
   "version": "3.7.5"
  }
 },
 "nbformat": 4,
 "nbformat_minor": 2
}
