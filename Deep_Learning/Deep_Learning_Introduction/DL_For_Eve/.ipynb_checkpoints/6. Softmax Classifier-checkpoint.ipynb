{
 "cells": [
  {
   "cell_type": "code",
   "execution_count": 2,
   "metadata": {},
   "outputs": [],
   "source": [
    "import tensorflow as tf\n",
    "import numpy as np\n",
    "\n",
    "x_raw = [[1, 2, 1, 1],\n",
    "          [2, 1, 3, 2],\n",
    "          [3, 1, 3, 4],\n",
    "          [4, 1, 5, 5],\n",
    "          [1, 7, 5, 5],\n",
    "          [1, 2, 5, 6],\n",
    "          [1, 6, 6, 6],\n",
    "          [1, 7, 7, 7]]\n",
    "y_raw = [[0, 0, 1],\n",
    "          [0, 0, 1],\n",
    "          [0, 0, 1],\n",
    "          [0, 1, 0],\n",
    "          [0, 1, 0],\n",
    "          [0, 1, 0],\n",
    "          [1, 0, 0],\n",
    "          [1, 0, 0]]\n",
    "\n",
    "X_tata=np.array(x_raw,dtype=np.float32)\n",
    "y_tata=np.array(y_raw,dtype=np.float32)\n",
    "nb_classes=3\n",
    "\n",
    "tf.model=tf.keras.Sequential()\n",
    "tf.model.add(tf.keras.layers.Dense(input_dim=4,units=nb_classes,use_bias=True))\n",
    "#Defualt use_vias ==True\n",
    "tf.model.add(tf.keras.layers.Activation('softmax'))\n",
    "\n",
    "tf.model.compile(loss='categorical_crossentropy',optimizer=tf.keras.optimizers.SGD(lr=0.1),metrics=['accuracy'])"
   ]
  },
  {
   "cell_type": "code",
   "execution_count": 23,
   "metadata": {},
   "outputs": [
    {
     "name": "stdout",
     "output_type": "stream",
     "text": [
      "---------------------------------\n",
      "[[2.8174200e-06 9.9998355e-01 1.3686472e-05]] [1]\n",
      "---------------------------------\n",
      "[[0.06285075 0.27156654 0.66558266]] [2]\n",
      "---------------------------------\n",
      "[[0.13656768 0.589299   0.27413324]] [1]\n",
      "---------------------------------\n",
      "[[2.8174200e-06 9.9998355e-01 1.3686472e-05]\n",
      " [1.0627013e-02 9.8777652e-01 1.5965301e-03]\n",
      " [1.3656768e-01 5.8929902e-01 2.7413324e-01]] [1 1 1]\n"
     ]
    }
   ],
   "source": [
    "print('---------------------------------')\n",
    "a=tf.model.predict(np.array([[1,11,7,9]]))\n",
    "print(a,tf.keras.backend.eval(tf.argmax(a,axis=1)))\n",
    "#tf.keras.backend.eval(tf.argmax(a,axis=1)) \n",
    "#tf.argmax doesn't return ndarray\n",
    "print('---------------------------------')\n",
    "b = tf.model.predict(np.array([[3, -1,0 , 3]]))\n",
    "print(b, tf.keras.backend.eval(tf.argmax(b, axis=1)))\n",
    "print('---------------------------------')\n",
    "c=tf.model.predict(np.array([[1,1,0,1]]))\n",
    "c_onehot=tf.model.predict_classes(np.array([[1,1,0,1]]))\n",
    "print(c,c_onehot)\n",
    "print('---------------------------------')\n",
    "all = tf.model.predict(np.array([[1,11,7,9],[1,3,4,3],[1,1,0,1]]))\n",
    "all_onehot=tf.model.predict_classes(np.array([[1,11,7,9],[1,3,4,3],[1,1,0,1]]))\n",
    "print(all,all_onehot)\n",
    "#tf.model.predict() - like predict_proba because of activation function softmax \n",
    "#tf.model.predict_classes = return class ==make ont hot and choose 1\n",
    "#tf.keras.backend.eval(tf.argmax(b,axis=1)) = same as upper one"
   ]
  },
  {
   "cell_type": "code",
   "execution_count": 15,
   "metadata": {},
   "outputs": [
    {
     "data": {
      "text/plain": [
       "tensorflow.python.framework.ops.EagerTensor"
      ]
     },
     "execution_count": 15,
     "metadata": {},
     "output_type": "execute_result"
    }
   ],
   "source": [
    "type(tf.argmax(a,axis=1,name='tensor!'))\n",
    "# tf.Tensor  [1]\n"
   ]
  }
 ],
 "metadata": {
  "kernelspec": {
   "display_name": "Python 3",
   "language": "python",
   "name": "python3"
  },
  "language_info": {
   "codemirror_mode": {
    "name": "ipython",
    "version": 3
   },
   "file_extension": ".py",
   "mimetype": "text/x-python",
   "name": "python",
   "nbconvert_exporter": "python",
   "pygments_lexer": "ipython3",
   "version": "3.7.5"
  }
 },
 "nbformat": 4,
 "nbformat_minor": 2
}
