{
 "cells": [
  {
   "cell_type": "code",
   "execution_count": 34,
   "metadata": {},
   "outputs": [],
   "source": [
    "import torch\n",
    "import torch.nn as nn\n",
    "import torchvision"
   ]
  },
  {
   "cell_type": "code",
   "execution_count": 30,
   "metadata": {},
   "outputs": [],
   "source": [
    "class VGG(nn.Module):\n",
    "    \n",
    "    def __init__(self,features,num_classes=1000,init_weights=True):\n",
    "        super(VGG,self).__init__()\n",
    "        self.features = features\n",
    "        self.avgpool = nn.AdaptiveAvgPool2d((7,7)) # auto setting \n",
    "        self.classifier = nn.Sequential(nn.Linear(512*7*7,4096),\n",
    "                                       nn.ReLU(True),\n",
    "                                       nn.Linear(4096,4096),\n",
    "                                       nn.ReLU(True),\n",
    "                                       nn.Linear(4096,num_classes),)\n",
    "        if init_weights:\n",
    "            self._initialize_weights()\n",
    "    \n",
    "    def forward(self,x):\n",
    "        x = self.features(x)\n",
    "        x = self.avgpool(x)\n",
    "        x = x.view(x.size(0),-1)\n",
    "        x = self.classifier(x)\n",
    "        return x\n",
    "    \n",
    "    def _initialize_weights(self):\n",
    "        for m in self.modules():\n",
    "            if isinstance(m,nn.Conv2d):\n",
    "                nn.init.kaiming_normal_(m.weight,mode='fan_out',nonlinearity='relu')\n",
    "                if m.bias is not None:\n",
    "                    nn.init.constant_(m.bias,0)\n",
    "            elif isinstance(m,nn.BatchNorm2d):\n",
    "                nn.init.constant_(m.weight,1)\n",
    "                nn.init.constant_(m.bias,0)\n",
    "            elif isinstance(m,nn.Linear):\n",
    "                nn.init.normal_(m.weight,0,0.01) #tensor,mean,std\n",
    "                nn.init.constant_(m.bias,0)\n",
    "    \n",
    "    def make_layers(cfg,batch_norm=False):\n",
    "        layers=[]\n",
    "        in_channels = 3\n",
    "        for v in cfg:\n",
    "            if v == 'M':\n",
    "                layer += [nn.MaxPool2d(kernel_size=2,stride=2)]\n",
    "            else:\n",
    "                conv2d = nn.Conv2d(in_channels, v, kernel_size=3,padding=1)\n",
    "                if batch_norm:\n",
    "                    layers += [conv2d,nn.BatchNorm2d(v),nn.ReLU(inplace=True)] #nn.BatchNorm2d(num_features)\n",
    "                else:\n",
    "                    layers += [conv2d,nn.ReLU(inplcae=True)]\n",
    "                in_channels = v\n",
    "        \n",
    "        return nn.Sequential(*layers)\n",
    "    \n",
    "    cfgs = {\n",
    "        'A':[64,'M',128,'M',256,256,'M',512,512,'M',512,512,'M'],\n",
    "        'B':[64,64,'M',128,128,'M',256,256,'M',512,512,'M',512,512,'M'],\n",
    "        'D':[64,64,'M',128,128,'M',256,256,256,'M',512,512,512,'M',512,512,512,'M'],\n",
    "        'E':[64,64,'M',128,128,'M',256,256,256,256,'M',512,512,512,512,'M',512,512,512,512,'M'],\n",
    "        \n",
    "        }\n",
    "            "
   ]
  },
  {
   "cell_type": "code",
   "execution_count": 31,
   "metadata": {},
   "outputs": [
    {
     "name": "stdout",
     "output_type": "stream",
     "text": [
      "VGG(\n",
      "  (avgpool): AdaptiveAvgPool2d(output_size=(7, 7))\n",
      "  (classifier): Sequential(\n",
      "    (0): Linear(in_features=25088, out_features=4096, bias=True)\n",
      "    (1): ReLU(inplace=True)\n",
      "    (2): Linear(in_features=4096, out_features=4096, bias=True)\n",
      "    (3): ReLU(inplace=True)\n",
      "    (4): Linear(in_features=4096, out_features=1000, bias=True)\n",
      "  )\n",
      ")\n",
      "<class '__main__.VGG'> ======NEXT======\n",
      "AdaptiveAvgPool2d(output_size=(7, 7))\n",
      "<class 'torch.nn.modules.pooling.AdaptiveAvgPool2d'> ======NEXT======\n",
      "Sequential(\n",
      "  (0): Linear(in_features=25088, out_features=4096, bias=True)\n",
      "  (1): ReLU(inplace=True)\n",
      "  (2): Linear(in_features=4096, out_features=4096, bias=True)\n",
      "  (3): ReLU(inplace=True)\n",
      "  (4): Linear(in_features=4096, out_features=1000, bias=True)\n",
      ")\n",
      "<class 'torch.nn.modules.container.Sequential'> ======NEXT======\n",
      "Linear(in_features=25088, out_features=4096, bias=True)\n",
      "<class 'torch.nn.modules.linear.Linear'> ======NEXT======\n",
      "ReLU(inplace=True)\n",
      "<class 'torch.nn.modules.activation.ReLU'> ======NEXT======\n",
      "Linear(in_features=4096, out_features=4096, bias=True)\n",
      "<class 'torch.nn.modules.linear.Linear'> ======NEXT======\n",
      "ReLU(inplace=True)\n",
      "<class 'torch.nn.modules.activation.ReLU'> ======NEXT======\n",
      "Linear(in_features=4096, out_features=1000, bias=True)\n",
      "<class 'torch.nn.modules.linear.Linear'> ======NEXT======\n"
     ]
    }
   ],
   "source": [
    "for i in iter(model.modules()):\n",
    "    print(i)\n",
    "    print(type(i),'======NEXT======')"
   ]
  },
  {
   "cell_type": "code",
   "execution_count": 32,
   "metadata": {},
   "outputs": [],
   "source": [
    "model=VGG(10)"
   ]
  }
 ],
 "metadata": {
  "kernelspec": {
   "display_name": "Python 3",
   "language": "python",
   "name": "python3"
  },
  "language_info": {
   "codemirror_mode": {
    "name": "ipython",
    "version": 3
   },
   "file_extension": ".py",
   "mimetype": "text/x-python",
   "name": "python",
   "nbconvert_exporter": "python",
   "pygments_lexer": "ipython3",
   "version": "3.7.6"
  }
 },
 "nbformat": 4,
 "nbformat_minor": 4
}
