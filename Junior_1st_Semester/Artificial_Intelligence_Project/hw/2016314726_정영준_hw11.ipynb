{
  "nbformat": 4,
  "nbformat_minor": 0,
  "metadata": {
    "colab": {
      "name": "Batch_packed_rnn.ipynb",
      "provenance": [],
      "collapsed_sections": []
    },
    "kernelspec": {
      "name": "python3",
      "display_name": "Python 3"
    },
    "accelerator": "GPU"
  },
  "cells": [
    {
      "cell_type": "code",
      "metadata": {
        "id": "RTkCGJt31CKA",
        "colab_type": "code",
        "outputId": "1b3edd03-ae20-4d94-af78-9449a25ef029",
        "colab": {
          "base_uri": "https://localhost:8080/",
          "height": 341
        }
      },
      "source": [
        "from __future__ import unicode_literals, print_function, division\n",
        "from io import open\n",
        "import glob\n",
        "import os\n",
        "import numpy as np\n",
        "import random\n",
        "\n",
        "\n",
        "def findFiles(path): return glob.glob(path)\n",
        "\n",
        "import unicodedata\n",
        "import string\n",
        "\n",
        "all_letters = '/'+string.ascii_letters + \" .,;'\"\n",
        "n_letters = len(all_letters)\n",
        "\n",
        "def unicodeToAscii(s):\n",
        "    return ''.join(\n",
        "        c for c in unicodedata.normalize('NFD', s)\n",
        "        if unicodedata.category(c) != 'Mn'\n",
        "        and c in all_letters\n",
        "    )\n",
        "\n",
        "\n",
        "train_category_lines = {}\n",
        "test_category_lines = {}\n",
        "all_categories = []\n",
        "\n",
        "def readLines(filename):\n",
        "    lines = open(filename, encoding='utf-8').read().strip().split('\\n')\n",
        "    return [unicodeToAscii(line) for line in lines]\n",
        "\n",
        "for filename in glob.glob('../../content/drive/My Drive/data/names/*.txt'):\n",
        "    category = os.path.splitext(os.path.basename(filename))[0]\n",
        "    all_categories.append(category)\n",
        "    lines = readLines(filename)\n",
        "    nd = np.array(lines)\n",
        "    print(\"Category {:10} | #names :{:5} | #unique names : {:5} | #redundancy names : {:5} | Redundancy rate {:.2f}%\".format(category,len(lines),np.unique(nd).shape[0],\n",
        "                                                                                    len(lines)-np.unique(nd).shape[0],100* (len(lines)-np.unique(nd).shape[0])/len(lines)))\n",
        "    \n",
        "    # Delete duplicated names\n",
        "    lines = np.unique(nd).tolist()\n",
        "    random.shuffle(lines)  # shuffle before a simple slicing\n",
        "    train_category_lines[category] = lines[:int(len(lines)*0.9)] # Train data\n",
        "    test_category_lines[category] = lines[int(len(lines)*0.9 ):] # Test data\n",
        "\n",
        "n_categories = len(all_categories)"
      ],
      "execution_count": 4,
      "outputs": [
        {
          "output_type": "stream",
          "text": [
            "Category Irish      | #names :  232 | #unique names :   226 | #redundancy names :     6 | Redundancy rate 2.59%\n",
            "Category Portuguese | #names :   74 | #unique names :    74 | #redundancy names :     0 | Redundancy rate 0.00%\n",
            "Category Polish     | #names :  139 | #unique names :   138 | #redundancy names :     1 | Redundancy rate 0.72%\n",
            "Category Chinese    | #names :  268 | #unique names :   246 | #redundancy names :    22 | Redundancy rate 8.21%\n",
            "Category Italian    | #names :  709 | #unique names :   701 | #redundancy names :     8 | Redundancy rate 1.13%\n",
            "Category English    | #names : 3668 | #unique names :  3668 | #redundancy names :     0 | Redundancy rate 0.00%\n",
            "Category German     | #names :  724 | #unique names :   690 | #redundancy names :    34 | Redundancy rate 4.70%\n",
            "Category Scottish   | #names :  100 | #unique names :   100 | #redundancy names :     0 | Redundancy rate 0.00%\n",
            "Category French     | #names :  277 | #unique names :   273 | #redundancy names :     4 | Redundancy rate 1.44%\n",
            "Category Czech      | #names :  519 | #unique names :   502 | #redundancy names :    17 | Redundancy rate 3.28%\n",
            "Category Greek      | #names :  203 | #unique names :   193 | #redundancy names :    10 | Redundancy rate 4.93%\n",
            "Category Japanese   | #names :  991 | #unique names :   990 | #redundancy names :     1 | Redundancy rate 0.10%\n",
            "Category Arabic     | #names : 2000 | #unique names :   108 | #redundancy names :  1892 | Redundancy rate 94.60%\n",
            "Category Korean     | #names :   94 | #unique names :    94 | #redundancy names :     0 | Redundancy rate 0.00%\n",
            "Category Spanish    | #names :  298 | #unique names :   293 | #redundancy names :     5 | Redundancy rate 1.68%\n",
            "Category Russian    | #names : 9408 | #unique names :  9341 | #redundancy names :    67 | Redundancy rate 0.71%\n",
            "Category Vietnamese | #names :   73 | #unique names :    71 | #redundancy names :     2 | Redundancy rate 2.74%\n",
            "Category Dutch      | #names :  297 | #unique names :   286 | #redundancy names :    11 | Redundancy rate 3.70%\n"
          ],
          "name": "stdout"
        }
      ]
    },
    {
      "cell_type": "code",
      "metadata": {
        "id": "5HuJz6EO1i6L",
        "colab_type": "code",
        "outputId": "581721c4-d83e-44b3-ddb5-ad3b4e71cd22",
        "colab": {
          "base_uri": "https://localhost:8080/",
          "height": 91
        }
      },
      "source": [
        "print(all_categories)\n",
        "print(n_categories)\n",
        "print(train_category_lines['Italian'][:5])"
      ],
      "execution_count": 5,
      "outputs": [
        {
          "output_type": "stream",
          "text": [
            "['Irish', 'Portuguese', 'Polish', 'Chinese', 'Italian', 'English', 'German', 'Scottish', 'French', 'Czech', 'Greek', 'Japanese', 'Arabic', 'Korean', 'Spanish', 'Russian', 'Vietnamese', 'Dutch']\n",
            "18\n",
            "['Padovan', 'Vescovi', 'Abate', 'De rege', 'Romero']\n"
          ],
          "name": "stdout"
        }
      ]
    },
    {
      "cell_type": "code",
      "metadata": {
        "id": "jwgCMnbU1xPH",
        "colab_type": "code",
        "outputId": "08720e47-522b-44a5-c9a8-71594e4001c0",
        "colab": {
          "base_uri": "https://localhost:8080/",
          "height": 53
        }
      },
      "source": [
        "import torch\n",
        "\n",
        "def letterToIndex(letter):\n",
        "    return torch.tensor(all_letters.find(letter))\n",
        "\n",
        "def letterToTensor(letter):\n",
        "    tensor = torch.zeros(n_letters)\n",
        "    tensor = letterToIndex(letter)\n",
        "    return tensor\n",
        "\n",
        "def lineToTensor(line):\n",
        "    tensor = torch.zeros(len(line))\n",
        "    for li, letter in enumerate(line):\n",
        "        tensor[li]=letterToIndex(letter)\n",
        "    return tensor\n",
        "\n",
        "print(letterToTensor('J'))\n",
        "\n",
        "print(lineToTensor('Jones'))"
      ],
      "execution_count": 6,
      "outputs": [
        {
          "output_type": "stream",
          "text": [
            "tensor(36)\n",
            "tensor([36., 15., 14.,  5., 19.])\n"
          ],
          "name": "stdout"
        }
      ]
    },
    {
      "cell_type": "code",
      "metadata": {
        "id": "7s6EL7xqSkcf",
        "colab_type": "code",
        "outputId": "14b840e1-5373-4b08-e39f-3872d60db3f8",
        "colab": {
          "base_uri": "https://localhost:8080/",
          "height": 35
        }
      },
      "source": [
        "max_len = 0\n",
        "for country in train_category_lines:\n",
        "    for x in train_category_lines[country]:\n",
        "        if len(x) > max_len:\n",
        "            max_len = len(x)\n",
        "for country in test_category_lines:\n",
        "    for x in test_category_lines[country]:\n",
        "        if len(x) > max_len:\n",
        "            max_len = len(x)        \n",
        "print(max_len)"
      ],
      "execution_count": 7,
      "outputs": [
        {
          "output_type": "stream",
          "text": [
            "19\n"
          ],
          "name": "stdout"
        }
      ]
    },
    {
      "cell_type": "code",
      "metadata": {
        "id": "FlsBqSxE2LOs",
        "colab_type": "code",
        "colab": {}
      },
      "source": [
        "import torch.nn as nn\n",
        "from torch.nn.utils.rnn import pad_sequence,pack_padded_sequence,pad_packed_sequence\n",
        "class RNN(nn.Module):\n",
        "    def __init__(self, input_size, embedding_size,hidden_size, output_size):\n",
        "        super(RNN, self).__init__()\n",
        "        self.input_size = input_size\n",
        "        self.hidden_size = hidden_size\n",
        "        self.output_size = output_size\n",
        "        self.embedding_size = embedding_size\n",
        "        self.embedding = nn.Embedding(input_size,embedding_size)\n",
        "        self.gru = nn.GRU(embedding_size,hidden_size,1,batch_first=True)\n",
        "        self.logsoftmax = nn.LogSoftmax(dim=1)\n",
        "        self.linear = nn.Linear(hidden_size*19,output_size)\n",
        "        \n",
        "\n",
        "        \n",
        "\n",
        "    def forward(self, input, hidden):\n",
        "        x_padded = pad_sequence(input,batch_first=True,padding_value = 0).type(torch.LongTensor) # PAD FOR EMBEDDING\n",
        "        lengths = [len(seq) for seq in line_tensor]\n",
        "        output = self.embedding(x_padded)\n",
        "        x_packed = pack_padded_sequence(output, lengths, batch_first=True, enforce_sorted=False) #  PACKING FOR GRU\n",
        "        output,hidden = self.gru(x_packed,hidden)\n",
        "        output,output_lengths = pad_packed_sequence(output,batch_first=True,total_length=19)\n",
        "        output = self.linear(output.reshape(batch_size,-1))\n",
        "        output = self.logsoftmax(output)\n",
        "        return output, hidden\n",
        "\n",
        "    def initHidden(self):\n",
        "        return torch.zeros(1,batch_size, self.hidden_size)\n",
        "\n",
        "n_hidden = 128\n",
        "n_embedding = 50\n",
        "rnn = RNN(n_letters,n_embedding, n_hidden, n_categories)"
      ],
      "execution_count": 0,
      "outputs": []
    },
    {
      "cell_type": "code",
      "metadata": {
        "id": "T6oSOTZ82VcO",
        "colab_type": "code",
        "colab": {}
      },
      "source": [
        "def categoryFromOutput(output):\n",
        "    top_n, top_i = output.topk(1)\n",
        "    category_i = top_i[0].item()\n",
        "    return all_categories[category_i], category_i\n"
      ],
      "execution_count": 0,
      "outputs": []
    },
    {
      "cell_type": "code",
      "metadata": {
        "id": "R4gBFyVd2XYN",
        "colab_type": "code",
        "outputId": "3e235e17-2a1f-4064-f880-287a1d42ae94",
        "colab": {
          "base_uri": "https://localhost:8080/",
          "height": 197
        }
      },
      "source": [
        "\n",
        "def randomChoice(l):\n",
        "    return l[random.randint(0, len(l) - 1)]\n",
        "\n",
        "def randomExample(category_lines):\n",
        "    category = randomChoice(all_categories)\n",
        "    line = [randomChoice(category_lines[category]),randomChoice(category_lines[category])]\n",
        "    category_tensor = torch.tensor([all_categories.index(category)], dtype=torch.long)\n",
        "    line_tensor = [lineToTensor(line[0]),lineToTensor(line[1])]\n",
        "    return category, line, category_tensor, line_tensor\n",
        "\n",
        "for i in range(10):\n",
        "    category, line, category_tensor, line_tensor = randomExample(train_category_lines)\n",
        "    print('category =', category, '/ line =', line)"
      ],
      "execution_count": 58,
      "outputs": [
        {
          "output_type": "stream",
          "text": [
            "category = Spanish / line = ['Rendon', 'Chavarria']\n",
            "category = Spanish / line = ['Petit', 'Puerta']\n",
            "category = Arabic / line = ['Safar', 'Gerges']\n",
            "category = Vietnamese / line = ['an', 'Vu']\n",
            "category = Arabic / line = ['Nader', 'Gerges']\n",
            "category = Irish / line = ['Cleirigh', 'Mathghamhain']\n",
            "category = French / line = ['Descoteaux', 'Girard']\n",
            "category = Spanish / line = ['Oleastro', 'Sanchez']\n",
            "category = Spanish / line = ['Palomo', 'Barros']\n",
            "category = Dutch / line = ['Snell', 'Kolen']\n"
          ],
          "name": "stdout"
        }
      ]
    },
    {
      "cell_type": "code",
      "metadata": {
        "id": "7CelhmU-2YeU",
        "colab_type": "code",
        "colab": {}
      },
      "source": [
        "criterion = nn.NLLLoss()\n",
        "learning_rate = 0.005 # If you set this too high, it might explode. If too low, it might not learn\n",
        "\n",
        "def train(category_tensor, line_tensor):\n",
        "    hidden = rnn.initHidden()\n",
        "\n",
        "    rnn.zero_grad()\n",
        "    \n",
        "\n",
        "    output, hidden = rnn(line_tensor, hidden)\n",
        "    loss = criterion(output, category_tensor)\n",
        "\n",
        "    \n",
        "    loss.backward()\n",
        "\n",
        "    for p in rnn.parameters():\n",
        "        p.data.add_(-learning_rate, p.grad.data)\n",
        "\n",
        "    return output, loss.item()"
      ],
      "execution_count": 0,
      "outputs": []
    },
    {
      "cell_type": "code",
      "metadata": {
        "id": "vonawJeh2bQF",
        "colab_type": "code",
        "outputId": "c71aaf71-b0ea-4529-bff8-135de12c3d03",
        "colab": {
          "base_uri": "https://localhost:8080/",
          "height": 377
        }
      },
      "source": [
        "import time\n",
        "import math\n",
        "\n",
        "n_iters = 100000\n",
        "print_every = 5000\n",
        "plot_every = 1000\n",
        "\n",
        "batch_size = 2\n",
        "\n",
        "current_loss = 0\n",
        "all_losses = []\n",
        "\n",
        "def timeSince(since):\n",
        "    now = time.time()\n",
        "    s = now - since\n",
        "    m = math.floor(s / 60)\n",
        "    s -= m * 60\n",
        "    return '%dm %ds' % (m, s)\n",
        "\n",
        "start = time.time()\n",
        "\n",
        "for iter in range(1, n_iters + 1):\n",
        "    category, line, category_tensor, line_tensor = randomExample(train_category_lines)\n",
        "    output, loss = train(torch.cat([category_tensor,category_tensor]), line_tensor)\n",
        "    current_loss += loss\n",
        "\n",
        "    if iter % print_every == 0:\n",
        "        guess, guess_i = categoryFromOutput(output)\n",
        "        correct = '✓' if guess == category else '✗ (%s)' % category\n",
        "        print('%d %d%% (%s) %.4f %s / %s %s' % (iter, iter / n_iters * 100, timeSince(start), loss, line, guess, correct))\n",
        "\n",
        "    if iter % plot_every == 0:\n",
        "        all_losses.append(current_loss / plot_every)\n",
        "        current_loss = 0"
      ],
      "execution_count": 60,
      "outputs": [
        {
          "output_type": "stream",
          "text": [
            "5000 5% (0m 15s) 1.2890 ['Silva', 'Paredes'] / Portuguese ✓\n",
            "10000 10% (0m 30s) 1.2684 ['Sun', 'Miao'] / Korean ✗ (Chinese)\n",
            "15000 15% (0m 46s) 2.0840 ['Joubert', 'Herriot'] / French ✓\n",
            "20000 20% (1m 2s) 6.0765 ['Chieu', 'Hsiao'] / Arabic ✗ (Chinese)\n",
            "25000 25% (1m 17s) 1.4831 ['OuYang', 'Xiao'] / Irish ✗ (Chinese)\n",
            "30000 30% (1m 32s) 0.1407 ['Hideyoshi', 'Mizoguchi'] / Japanese ✓\n",
            "35000 35% (1m 48s) 0.4685 ['Wojewodka', 'Jagoda'] / Polish ✓\n",
            "40000 40% (2m 4s) 0.5524 ['Labelle', 'Daniau'] / French ✓\n",
            "45000 45% (2m 19s) 2.1107 ['Castro', 'Gebara'] / Portuguese ✗ (Spanish)\n",
            "50000 50% (2m 34s) 0.1641 ['Henderson', 'Thomson'] / Scottish ✓\n",
            "55000 55% (2m 50s) 0.3430 ['Mar', 'Zha'] / Chinese ✓\n",
            "60000 60% (3m 5s) 0.2896 ['Kawagishi', 'Ohba'] / Japanese ✓\n",
            "65000 65% (3m 21s) 0.2265 ['Lieu', 'Van'] / Vietnamese ✓\n",
            "70000 70% (3m 37s) 0.1087 ['Belesis', 'Polites'] / Greek ✓\n",
            "75000 75% (3m 52s) 0.0682 ['Medeiros', 'Costa'] / Portuguese ✓\n",
            "80000 80% (4m 7s) 0.2139 ['Hovanec', 'Piskach'] / Czech ✓\n",
            "85000 85% (4m 23s) 2.3918 ['Cohen', 'Ormston'] / Irish ✗ (English)\n",
            "90000 90% (4m 39s) 0.4769 ['Caro', 'Sepulveda'] / Italian ✗ (Spanish)\n",
            "95000 95% (4m 54s) 3.0180 ['Painter', 'Bellamy'] / French ✗ (English)\n",
            "100000 100% (5m 9s) 0.2804 ['Neville', 'Brannon'] / Irish ✓\n"
          ],
          "name": "stdout"
        }
      ]
    },
    {
      "cell_type": "markdown",
      "metadata": {
        "id": "-deQEByaHrQO",
        "colab_type": "text"
      },
      "source": [
        "# Plot the results"
      ]
    },
    {
      "cell_type": "code",
      "metadata": {
        "id": "SWkuksjb64y2",
        "colab_type": "code",
        "colab": {
          "base_uri": "https://localhost:8080/",
          "height": 283
        },
        "outputId": "be721cbe-8939-45e8-c504-3f93d0bcd26a"
      },
      "source": [
        "import matplotlib.pyplot as plt\n",
        "import matplotlib.ticker as ticker\n",
        "plt.style.use('dark_background')\n",
        "plt.figure()\n",
        "plt.plot(all_losses)"
      ],
      "execution_count": 61,
      "outputs": [
        {
          "output_type": "execute_result",
          "data": {
            "text/plain": [
              "[<matplotlib.lines.Line2D at 0x7f215e0872b0>]"
            ]
          },
          "metadata": {
            "tags": []
          },
          "execution_count": 61
        },
        {
          "output_type": "display_data",
          "data": {
            "image/png": "[encoded data removed]",
            "text/plain": [
              "<Figure size 432x288 with 1 Axes>"
            ]
          },
          "metadata": {
            "tags": []
          }
        }
      ]
    },
    {
      "cell_type": "code",
      "metadata": {
        "id": "ZeSo45eW2egB",
        "colab_type": "code",
        "outputId": "43fdd1d6-6ac7-446d-cf80-41d446130541",
        "colab": {
          "base_uri": "https://localhost:8080/",
          "height": 476
        }
      },
      "source": [
        "\n",
        "train_confusion = torch.zeros(n_categories, n_categories)\n",
        "test_confusion = torch.zeros(n_categories, n_categories)\n",
        "n_confusion = 10000\n",
        "def evaluate(line_tensor):\n",
        "    hidden= rnn.initHidden()\n",
        "\n",
        "    output, hidden = rnn(line_tensor, hidden)\n",
        "\n",
        "    return output\n",
        "\n",
        "\n",
        "fig = plt.figure(figsize=(16,32))\n",
        "ax = fig.add_subplot(121)\n",
        "ax2 = fig.add_subplot(122)\n",
        "for k,(ax,confusion,category_lines) in enumerate(zip([ax,ax2],[train_confusion,test_confusion],[train_category_lines,test_category_lines])):\n",
        "        \n",
        "    for i in range(n_confusion):\n",
        "        category, line, category_tensor, line_tensor = randomExample(category_lines)\n",
        "        output = evaluate(line_tensor)\n",
        "        guess, guess_i = categoryFromOutput(output)\n",
        "        category_i = all_categories.index(category)\n",
        "        confusion[category_i][guess_i] += 1\n",
        "\n",
        "    for i in range(n_categories):\n",
        "        confusion[i] = confusion[i] / confusion[i].sum()\n",
        "\n",
        "    cax = ax.matshow(confusion.numpy())\n",
        "    fig.colorbar(cax,ax=ax,fraction=0.046,pad=0.04)\n",
        "\n",
        "    ax.set_xticklabels([''] + all_categories, rotation=90)\n",
        "    ax.set_yticklabels([''] + all_categories)\n",
        "\n",
        "\n",
        "    ax.xaxis.set_major_locator(ticker.MultipleLocator(1))\n",
        "    ax.yaxis.set_major_locator(ticker.MultipleLocator(1))\n",
        "    ax.grid(False)\n",
        "\n",
        "    if k ==0:\n",
        "        ax.set_title(\"Train Data Heatmap\",position=(0.5,-0.1))\n",
        "    else:\n",
        "        ax.set_title(\"Test Data Heatmap\",position=(0.5,-0.1))\n",
        "plt.show()"
      ],
      "execution_count": 62,
      "outputs": [
        {
          "output_type": "display_data",
          "data": {
            "image/png": "[encoded data removed]",
            "text/plain": [
              "<Figure size 1152x2304 with 4 Axes>"
            ]
          },
          "metadata": {
            "tags": []
          }
        }
      ]
    }
  ]
}