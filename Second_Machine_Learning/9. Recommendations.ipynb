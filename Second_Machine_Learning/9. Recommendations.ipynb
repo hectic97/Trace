{
 "cells": [
  {
   "cell_type": "code",
   "execution_count": 3,
   "metadata": {},
   "outputs": [],
   "source": [
    "import numpy as np\n",
    "\n",
    "R=np.array([[4,np.NaN,np.NaN,2,np.NaN],\n",
    "             [np.NaN,5,np.NaN,3,1],\n",
    "             [np.NaN,np.NaN,3,4,4],\n",
    "             [5,2,1,2,np.NaN]])\n",
    "num_users,num_items=R.shape\n",
    "K=3\n",
    "\n",
    "np.random.seed(1)\n",
    "P=np.random.normal(scale=1./K,size=(num_users,K))\n",
    "Q=np.random.normal(scale=1./K,size=(num_items,K))             "
   ]
  },
  {
   "cell_type": "code",
   "execution_count": 4,
   "metadata": {},
   "outputs": [],
   "source": [
    "from sklearn.metrics import mean_squared_error\n",
    "\n",
    "def get_rmse(R,P,Q,non_zeros):\n",
    "    error=0\n",
    "    \n",
    "    full_pred_matrix=np.dot(P,Q.T)\n",
    "    \n",
    "    x_non_zero_ind=[non_zero[0] for non_zero in non_zeros]\n",
    "    y_non_zero_ind=[non_zero[1] for non_zero in non_zeros]\n",
    "    R_non_zeros=R[x_non_zero_ind,y_non_zero_ind]\n",
    "    full_pred_matrix_non_zeros=full_pred_matrix[x_non_zero_ind,y_non_zero_ind]\n",
    "    mse=mean_squared_error(R_non_zeros,full_pred_matrix_non_zeros)\n",
    "    rmse=np.sqrt(mse)\n",
    "    \n",
    "    return rmse\n"
   ]
  },
  {
   "cell_type": "code",
   "execution_count": 8,
   "metadata": {},
   "outputs": [
    {
     "name": "stdout",
     "output_type": "stream",
     "text": [
      "### iteration step : 0 rmse : 0.016326493769436592\n",
      "### iteration step : 50 rmse : 0.01628946907391542\n",
      "### iteration step : 100 rmse : 0.01625118644561044\n",
      "### iteration step : 150 rmse : 0.016211966345828437\n",
      "### iteration step : 200 rmse : 0.016172099816130634\n",
      "### iteration step : 250 rmse : 0.01613183961187999\n",
      "### iteration step : 300 rmse : 0.016091398951149288\n",
      "### iteration step : 350 rmse : 0.016050954016130718\n",
      "### iteration step : 400 rmse : 0.016010648074153127\n",
      "### iteration step : 450 rmse : 0.015970596067220517\n",
      "### iteration step : 500 rmse : 0.015930889075884927\n",
      "### iteration step : 550 rmse : 0.01589159837695399\n",
      "### iteration step : 600 rmse : 0.015852778988246913\n",
      "### iteration step : 650 rmse : 0.015814472686837135\n",
      "### iteration step : 700 rmse : 0.015776710534178725\n",
      "### iteration step : 750 rmse : 0.015739514962320594\n",
      "### iteration step : 800 rmse : 0.015702901481734373\n",
      "### iteration step : 850 rmse : 0.015666880069856125\n",
      "### iteration step : 900 rmse : 0.01563145629434261\n",
      "### iteration step : 950 rmse : 0.015596632218338763\n"
     ]
    }
   ],
   "source": [
    "non_zeros=[(i,j,R[i,j]) for i in range(num_users) for j in range(num_items) if R[i,j]>0]\n",
    "steps=1000\n",
    "learning_rate=0.01\n",
    "r_lambda=0.01\n",
    "\n",
    "for step in range(steps):\n",
    "    for i,j,r in non_zeros:\n",
    "        eij=r-np.dot(P[i,:],Q[j,:].T)\n",
    "        \n",
    "        P[i,:]=P[i,:]+learning_rate*(eij*Q[j,:]-r_lambda*P[i,:])\n",
    "        Q[j,:]=Q[j,:]+learning_rate*(eij*P[i,:]-r_lambda*Q[j,:])\n",
    "        rmse=get_rmse(R,P,Q,non_zeros)\n",
    "    if(step %50)==0:\n",
    "        print('### iteration step :',step,\"rmse :\",rmse)\n",
    "    "
   ]
  },
  {
   "cell_type": "code",
   "execution_count": 9,
   "metadata": {},
   "outputs": [
    {
     "name": "stdout",
     "output_type": "stream",
     "text": [
      "[[3.9912571  1.14616211 1.27402561 2.00016417 1.6636353 ]\n",
      " [6.22825783 4.97759492 0.89267777 2.98269821 1.00309742]\n",
      " [6.39853978 0.8766627  2.98707787 3.97791848 3.98584323]\n",
      " [4.96929116 2.00492129 1.00638672 2.01249342 1.26216292]]\n"
     ]
    }
   ],
   "source": [
    "pred_matrix=np.dot(P,Q.T)\n",
    "print(pred_matrix)"
   ]
  },
  {
   "cell_type": "code",
   "execution_count": null,
   "metadata": {},
   "outputs": [],
   "source": []
  }
 ],
 "metadata": {
  "kernelspec": {
   "display_name": "Python 3",
   "language": "python",
   "name": "python3"
  },
  "language_info": {
   "codemirror_mode": {
    "name": "ipython",
    "version": 3
   },
   "file_extension": ".py",
   "mimetype": "text/x-python",
   "name": "python",
   "nbconvert_exporter": "python",
   "pygments_lexer": "ipython3",
   "version": "3.7.6"
  }
 },
 "nbformat": 4,
 "nbformat_minor": 4
}
