{
 "cells": [
  {
   "cell_type": "code",
   "execution_count": 2,
   "metadata": {},
   "outputs": [
    {
     "data": {
      "text/html": [
       "<div>\n",
       "<style scoped>\n",
       "    .dataframe tbody tr th:only-of-type {\n",
       "        vertical-align: middle;\n",
       "    }\n",
       "\n",
       "    .dataframe tbody tr th {\n",
       "        vertical-align: top;\n",
       "    }\n",
       "\n",
       "    .dataframe thead th {\n",
       "        text-align: right;\n",
       "    }\n",
       "</style>\n",
       "<table border=\"1\" class=\"dataframe\">\n",
       "  <thead>\n",
       "    <tr style=\"text-align: right;\">\n",
       "      <th></th>\n",
       "      <th>sepal length (cm)</th>\n",
       "      <th>sepal width (cm)</th>\n",
       "      <th>petal length (cm)</th>\n",
       "      <th>petal width (cm)</th>\n",
       "      <th>target</th>\n",
       "    </tr>\n",
       "  </thead>\n",
       "  <tbody>\n",
       "    <tr>\n",
       "      <th>0</th>\n",
       "      <td>5.1</td>\n",
       "      <td>3.5</td>\n",
       "      <td>1.4</td>\n",
       "      <td>0.2</td>\n",
       "      <td>0</td>\n",
       "    </tr>\n",
       "    <tr>\n",
       "      <th>1</th>\n",
       "      <td>4.9</td>\n",
       "      <td>3.0</td>\n",
       "      <td>1.4</td>\n",
       "      <td>0.2</td>\n",
       "      <td>0</td>\n",
       "    </tr>\n",
       "    <tr>\n",
       "      <th>2</th>\n",
       "      <td>4.7</td>\n",
       "      <td>3.2</td>\n",
       "      <td>1.3</td>\n",
       "      <td>0.2</td>\n",
       "      <td>0</td>\n",
       "    </tr>\n",
       "  </tbody>\n",
       "</table>\n",
       "</div>"
      ],
      "text/plain": [
       "   sepal length (cm)  sepal width (cm)  petal length (cm)  petal width (cm)  \\\n",
       "0                5.1               3.5                1.4               0.2   \n",
       "1                4.9               3.0                1.4               0.2   \n",
       "2                4.7               3.2                1.3               0.2   \n",
       "\n",
       "   target  \n",
       "0       0  \n",
       "1       0  \n",
       "2       0  "
      ]
     },
     "execution_count": 2,
     "metadata": {},
     "output_type": "execute_result"
    }
   ],
   "source": [
    "from sklearn.datasets import load_iris\n",
    "import pandas as pd\n",
    "import matplotlib.pyplot as plt\n",
    "%matplotlib inline\n",
    "\n",
    "iris=load_iris()\n",
    "irisDF=pd.DataFrame(iris.data,columns=iris.feature_names)\n",
    "irisDF['target']=iris.target\n",
    "irisDF.head(3)"
   ]
  },
  {
   "cell_type": "code",
   "execution_count": 21,
   "metadata": {},
   "outputs": [
    {
     "data": {
      "image/png": "[encoded data removed]",
      "text/plain": [
       "<Figure size 432x288 with 1 Axes>"
      ]
     },
     "metadata": {
      "needs_background": "light"
     },
     "output_type": "display_data"
    }
   ],
   "source": [
    "markers=['^','s','o']\n",
    "for i,marker in enumerate(markers):\n",
    "    x_axis_data=irisDF[irisDF['target']==i]['sepal length (cm)']\n",
    "    y_axis_data=irisDF[irisDF['target']==i]['sepal width (cm)']\n",
    "    plt.scatter(x_axis_data,y_axis_data,label=iris.target_names[i])\n",
    "plt.legend()\n",
    "plt.xlabel('sepal length')\n",
    "plt.ylabel('sepal width')\n",
    "plt.show()"
   ]
  },
  {
   "cell_type": "code",
   "execution_count": 12,
   "metadata": {},
   "outputs": [],
   "source": [
    "from sklearn.preprocessing import StandardScaler\n",
    "from sklearn.decomposition import PCA\n",
    "\n",
    "iris_scaled=StandardScaler().fit_transform(irisDF)"
   ]
  },
  {
   "cell_type": "code",
   "execution_count": 16,
   "metadata": {},
   "outputs": [
    {
     "name": "stdout",
     "output_type": "stream",
     "text": [
      "(150, 2)\n"
     ]
    }
   ],
   "source": [
    "pca=PCA(n_components=2)\n",
    "pca.fit(iris_scaled)\n",
    "iris_pca=pca.transform(iris_scaled)\n",
    "print(iris_pca.shape)"
   ]
  },
  {
   "cell_type": "code",
   "execution_count": 17,
   "metadata": {},
   "outputs": [
    {
     "data": {
      "text/html": [
       "<div>\n",
       "<style scoped>\n",
       "    .dataframe tbody tr th:only-of-type {\n",
       "        vertical-align: middle;\n",
       "    }\n",
       "\n",
       "    .dataframe tbody tr th {\n",
       "        vertical-align: top;\n",
       "    }\n",
       "\n",
       "    .dataframe thead th {\n",
       "        text-align: right;\n",
       "    }\n",
       "</style>\n",
       "<table border=\"1\" class=\"dataframe\">\n",
       "  <thead>\n",
       "    <tr style=\"text-align: right;\">\n",
       "      <th></th>\n",
       "      <th>pca_component_1</th>\n",
       "      <th>pca_component_2</th>\n",
       "      <th>target</th>\n",
       "    </tr>\n",
       "  </thead>\n",
       "  <tbody>\n",
       "    <tr>\n",
       "      <th>0</th>\n",
       "      <td>-2.576120</td>\n",
       "      <td>0.474499</td>\n",
       "      <td>0</td>\n",
       "    </tr>\n",
       "    <tr>\n",
       "      <th>1</th>\n",
       "      <td>-2.415322</td>\n",
       "      <td>-0.678092</td>\n",
       "      <td>0</td>\n",
       "    </tr>\n",
       "    <tr>\n",
       "      <th>2</th>\n",
       "      <td>-2.659333</td>\n",
       "      <td>-0.348282</td>\n",
       "      <td>0</td>\n",
       "    </tr>\n",
       "    <tr>\n",
       "      <th>3</th>\n",
       "      <td>-2.601991</td>\n",
       "      <td>-0.603306</td>\n",
       "      <td>0</td>\n",
       "    </tr>\n",
       "    <tr>\n",
       "      <th>4</th>\n",
       "      <td>-2.683744</td>\n",
       "      <td>0.640220</td>\n",
       "      <td>0</td>\n",
       "    </tr>\n",
       "  </tbody>\n",
       "</table>\n",
       "</div>"
      ],
      "text/plain": [
       "   pca_component_1  pca_component_2  target\n",
       "0        -2.576120         0.474499       0\n",
       "1        -2.415322        -0.678092       0\n",
       "2        -2.659333        -0.348282       0\n",
       "3        -2.601991        -0.603306       0\n",
       "4        -2.683744         0.640220       0"
      ]
     },
     "execution_count": 17,
     "metadata": {},
     "output_type": "execute_result"
    }
   ],
   "source": [
    "pca_columns=['pca_component_1','pca_component_2']\n",
    "irisDF_pca=pd.DataFrame(iris_pca,columns=pca_columns)\n",
    "irisDF_pca['target']=iris.target\n",
    "irisDF_pca.head(5)"
   ]
  },
  {
   "cell_type": "code",
   "execution_count": 34,
   "metadata": {},
   "outputs": [
    {
     "name": "stderr",
     "output_type": "stream",
     "text": [
      "No handles with labels found to put in legend.\n"
     ]
    },
    {
     "data": {
      "text/plain": [
       "<matplotlib.legend.Legend at 0x178ed47b608>"
      ]
     },
     "execution_count": 34,
     "metadata": {},
     "output_type": "execute_result"
    },
    {
     "data": {
      "image/png": "[encoded data removed]",
      "text/plain": [
       "<Figure size 432x288 with 1 Axes>"
      ]
     },
     "metadata": {
      "needs_background": "light"
     },
     "output_type": "display_data"
    }
   ],
   "source": [
    "plt.scatter(irisDF_pca.iloc[:,0],irisDF_pca.iloc[:,1],c=irisDF_pca['target'])\n",
    "plt.xlabel('pca_component_1')\n",
    "plt.ylabel('pca_component_2')\n",
    "plt.legend()"
   ]
  },
  {
   "cell_type": "code",
   "execution_count": 36,
   "metadata": {},
   "outputs": [
    {
     "data": {
      "text/plain": [
       "array([0.76740358, 0.18282727])"
      ]
     },
     "execution_count": 36,
     "metadata": {},
     "output_type": "execute_result"
    }
   ],
   "source": [
    "pca.explained_variance_ratio_"
   ]
  },
  {
   "cell_type": "code",
   "execution_count": 38,
   "metadata": {},
   "outputs": [
    {
     "name": "stdout",
     "output_type": "stream",
     "text": [
      "[0.98 0.94 0.96]\n"
     ]
    }
   ],
   "source": [
    "from sklearn.ensemble import RandomForestClassifier\n",
    "from sklearn.model_selection import cross_val_score\n",
    "\n",
    "rcf=RandomForestClassifier(random_state=156)\n",
    "scores=cross_val_score(rcf,iris.data,iris.target,scoring='accuracy',cv=3)\n",
    "print(scores)"
   ]
  },
  {
   "cell_type": "code",
   "execution_count": 41,
   "metadata": {},
   "outputs": [
    {
     "name": "stdout",
     "output_type": "stream",
     "text": [
      "[0.98 0.98 1.  ]\n"
     ]
    }
   ],
   "source": [
    "\n",
    "pca_X=irisDF_pca.drop('target',axis=1,inplace=False)\n",
    "scores_pca=cross_val_score(rcf,pca_X,iris.target,scoring='accuracy',cv=3)\n",
    "print(scores_pca)"
   ]
  },
  {
   "cell_type": "code",
   "execution_count": 42,
   "metadata": {},
   "outputs": [],
   "source": [
    "from sklearn.discriminant_analysis import LinearDiscriminantAnalysis\n",
    "iris=load_iris()\n",
    "iris_scaled=StandardScaler().fit_transform(iris.data)"
   ]
  },
  {
   "cell_type": "code",
   "execution_count": 44,
   "metadata": {},
   "outputs": [
    {
     "name": "stdout",
     "output_type": "stream",
     "text": [
      "(150, 2)\n"
     ]
    }
   ],
   "source": [
    "lda=LinearDiscriminantAnalysis(n_components=2)\n",
    "lda.fit(iris_scaled,iris.target)\n",
    "iris_lda=lda.transform(iris_scaled)\n",
    "print(iris_lda.shape)"
   ]
  },
  {
   "cell_type": "code",
   "execution_count": 48,
   "metadata": {},
   "outputs": [
    {
     "name": "stderr",
     "output_type": "stream",
     "text": [
      "No handles with labels found to put in legend.\n"
     ]
    },
    {
     "data": {
      "text/plain": [
       "<matplotlib.legend.Legend at 0x178ee100948>"
      ]
     },
     "execution_count": 48,
     "metadata": {},
     "output_type": "execute_result"
    },
    {
     "data": {
      "image/png": "[encoded data removed]",
      "text/plain": [
       "<Figure size 432x288 with 1 Axes>"
      ]
     },
     "metadata": {
      "needs_background": "light"
     },
     "output_type": "display_data"
    }
   ],
   "source": [
    "plt.scatter(iris_lda[:,0],iris_lda[:,1],c=iris.target)\n",
    "plt.xlabel('lda_component_1')\n",
    "plt.ylabel('lda_component_2')\n",
    "plt.legend()"
   ]
  },
  {
   "cell_type": "code",
   "execution_count": 50,
   "metadata": {},
   "outputs": [
    {
     "name": "stdout",
     "output_type": "stream",
     "text": [
      "[[-0.21203317 -0.28492917 -0.57389821 -0.44031017]\n",
      " [-0.33011056  1.18369457  1.61537293  0.36706247]\n",
      " [-0.01411931  0.6296418   1.70964074 -1.32698736]\n",
      " [ 0.40187312 -0.19142667  1.40382596 -1.96876855]]\n"
     ]
    }
   ],
   "source": [
    "from numpy.linalg import svd\n",
    "import numpy as np\n",
    "np.random.seed(121)\n",
    "a=np.random.randn(4,4)\n",
    "print(a)"
   ]
  },
  {
   "cell_type": "code",
   "execution_count": 51,
   "metadata": {},
   "outputs": [
    {
     "name": "stdout",
     "output_type": "stream",
     "text": [
      "(4, 4) (4,) (4, 4)\n",
      "[[-0.07913928 -0.31822729  0.86653217  0.37628494]\n",
      " [ 0.38294523  0.78655287  0.12002097  0.46934262]\n",
      " [ 0.65640669  0.02243181  0.35668848 -0.66437971]\n",
      " [ 0.64515128 -0.52873697 -0.32785711  0.44353889]]\n",
      "[3.4229581  2.02287339 0.46263157 0.07935069]\n",
      "[[ 0.04100747  0.22367823  0.78643002 -0.57429458]\n",
      " [-0.20019867  0.56209596  0.37041464  0.71187191]\n",
      " [-0.77847455  0.3945136  -0.33259252 -0.3573774 ]\n",
      " [-0.5934781  -0.69164673  0.36565426  0.18895901]]\n"
     ]
    }
   ],
   "source": [
    "U,Sigma,Vt=svd(a)\n",
    "print(U.shape,Sigma.shape,Vt.shape)\n",
    "print(U)\n",
    "print(Sigma)\n",
    "print(Vt)"
   ]
  },
  {
   "cell_type": "code",
   "execution_count": 53,
   "metadata": {},
   "outputs": [
    {
     "name": "stdout",
     "output_type": "stream",
     "text": [
      "[[-0.21203317 -0.28492917 -0.57389821 -0.44031017]\n",
      " [-0.33011056  1.18369457  1.61537293  0.36706247]\n",
      " [-0.01411931  0.6296418   1.70964074 -1.32698736]\n",
      " [ 0.40187312 -0.19142667  1.40382596 -1.96876855]]\n"
     ]
    }
   ],
   "source": [
    "Sigma_mat=np.diag(Sigma)\n",
    "a=np.dot(np.dot(U,Sigma_mat),Vt)\n",
    "print(a)"
   ]
  },
  {
   "cell_type": "code",
   "execution_count": 54,
   "metadata": {},
   "outputs": [
    {
     "data": {
      "text/plain": [
       "array([[-0.21203317, -0.28492917, -0.57389821, -0.44031017],\n",
       "       [-0.33011056,  1.18369457,  1.61537293,  0.36706247],\n",
       "       [-0.54214372,  0.8987654 ,  1.04147472, -0.0732477 ],\n",
       "       [-0.21203317, -0.28492917, -0.57389821, -0.44031017]])"
      ]
     },
     "execution_count": 54,
     "metadata": {},
     "output_type": "execute_result"
    }
   ],
   "source": [
    "a[2]=a[0]+a[1]\n",
    "a[3]=a[0]\n",
    "a"
   ]
  },
  {
   "cell_type": "code",
   "execution_count": 56,
   "metadata": {},
   "outputs": [
    {
     "name": "stdout",
     "output_type": "stream",
     "text": [
      "(4, 4) (4,) (4, 4)\n",
      "[[ 0.24568427  0.58278576  0.74974581  0.19463098]\n",
      " [-0.77441642 -0.01670951  0.1048459   0.62370453]\n",
      " [-0.52873215  0.56607625 -0.1048459  -0.62370453]\n",
      " [ 0.24568427  0.58278576 -0.64489991  0.42907354]]\n",
      "[2.663 0.807 0.    0.   ]\n",
      "[[ 0.16449395 -0.57517122 -0.78233269 -0.17342252]\n",
      " [-0.67967123  0.19439734 -0.13178782 -0.69490191]\n",
      " [ 0.70577632  0.19755523  0.1502427  -0.66353511]\n",
      " [-0.11343957 -0.76964906  0.58992767 -0.21623397]]\n"
     ]
    }
   ],
   "source": [
    "U,Sigma,Vt=svd(a)\n",
    "print(U.shape,Sigma.shape,Vt.shape)\n",
    "print(U)\n",
    "print(np.round(Sigma,3))\n",
    "print(Vt)"
   ]
  },
  {
   "cell_type": "code",
   "execution_count": 59,
   "metadata": {},
   "outputs": [
    {
     "name": "stdout",
     "output_type": "stream",
     "text": [
      "(4, 2) (2, 2) (2, 4)\n",
      "[[-0.21203317 -0.28492917 -0.57389821 -0.44031017]\n",
      " [-0.33011056  1.18369457  1.61537293  0.36706247]\n",
      " [-0.54214372  0.8987654   1.04147472 -0.0732477 ]\n",
      " [-0.21203317 -0.28492917 -0.57389821 -0.44031017]]\n"
     ]
    }
   ],
   "source": [
    "U_=U[:,:2]\n",
    "Sigma_=np.diag(Sigma[:2])\n",
    "Vt_=Vt[:2]\n",
    "print(U_.shape,Sigma_.shape,Vt_.shape)\n",
    "a_=np.dot(np.dot(U_,Sigma_),Vt_)\n",
    "print(np.round(a,10))"
   ]
  },
  {
   "cell_type": "code",
   "execution_count": 63,
   "metadata": {},
   "outputs": [
    {
     "name": "stdout",
     "output_type": "stream",
     "text": [
      "[[0.11133083 0.21076757 0.23296249 0.15194456 0.83017814 0.40791941]\n",
      " [0.5557906  0.74552394 0.24849976 0.9686594  0.95268418 0.48984885]\n",
      " [0.01829731 0.85760612 0.40493829 0.62247394 0.29537149 0.92958852]\n",
      " [0.4056155  0.56730065 0.24575605 0.22573721 0.03827786 0.58098021]\n",
      " [0.82925331 0.77326256 0.94693849 0.73632338 0.67328275 0.74517176]\n",
      " [0.51161442 0.46920965 0.6439515  0.82081228 0.14548493 0.01806415]]\n",
      "(6, 6)\n",
      "(6,)\n",
      "(6, 6)\n",
      "[3.2535007  0.88116505 0.83865238 0.55463089 0.35834824 0.0349925 ]\n"
     ]
    }
   ],
   "source": [
    "from scipy.sparse.linalg import svds\n",
    "from scipy.linalg import svd\n",
    "\n",
    "np.random.seed(121)\n",
    "matrix=np.random.random((6,6))\n",
    "print(matrix)\n",
    "U,Sigma,Vt=svd(matrix,full_matrices=False)\n",
    "print(U.shape)\n",
    "print(Sigma.shape)\n",
    "print(Vt.shape)\n",
    "print(Sigma)"
   ]
  },
  {
   "cell_type": "code",
   "execution_count": 65,
   "metadata": {},
   "outputs": [
    {
     "name": "stdout",
     "output_type": "stream",
     "text": [
      "(6, 4)\n",
      "(4,)\n",
      "(4, 6)\n",
      "[0.55463089 0.83865238 0.88116505 3.2535007 ]\n"
     ]
    }
   ],
   "source": [
    "n_components=4\n",
    "U_tr,Sigma_tr,Vt_tr=svds(matrix,k=n_components)\n",
    "print(U_tr.shape)\n",
    "print(Sigma_tr.shape)\n",
    "print(Vt_tr.shape)\n",
    "print(Sigma_tr)"
   ]
  },
  {
   "cell_type": "code",
   "execution_count": 68,
   "metadata": {},
   "outputs": [
    {
     "name": "stdout",
     "output_type": "stream",
     "text": [
      "[[0.19222941 0.21792946 0.15951023 0.14084013 0.81641405 0.42533093]\n",
      " [0.44874275 0.72204422 0.34594106 0.99148577 0.96866325 0.4754868 ]\n",
      " [0.12656662 0.88860729 0.30625735 0.59517439 0.28036734 0.93961948]\n",
      " [0.23989012 0.51026588 0.39697353 0.27308905 0.05971563 0.57156395]\n",
      " [0.83806144 0.78847467 0.93868685 0.72673231 0.6740867  0.73812389]\n",
      " [0.59726589 0.47953891 0.56613544 0.80746028 0.13135039 0.03479656]]\n",
      "[[0.11133083 0.21076757 0.23296249 0.15194456 0.83017814 0.40791941]\n",
      " [0.5557906  0.74552394 0.24849976 0.9686594  0.95268418 0.48984885]\n",
      " [0.01829731 0.85760612 0.40493829 0.62247394 0.29537149 0.92958852]\n",
      " [0.4056155  0.56730065 0.24575605 0.22573721 0.03827786 0.58098021]\n",
      " [0.82925331 0.77326256 0.94693849 0.73632338 0.67328275 0.74517176]\n",
      " [0.51161442 0.46920965 0.6439515  0.82081228 0.14548493 0.01806415]]\n"
     ]
    }
   ],
   "source": [
    "matrix_tr=np.dot(np.dot(U_tr,np.diag(Sigma_tr)),Vt_tr)\n",
    "print(matrix_tr)\n",
    "print(matrix)"
   ]
  },
  {
   "cell_type": "code",
   "execution_count": null,
   "metadata": {},
   "outputs": [],
   "source": []
  }
 ],
 "metadata": {
  "kernelspec": {
   "display_name": "Python 3",
   "language": "python",
   "name": "python3"
  },
  "language_info": {
   "codemirror_mode": {
    "name": "ipython",
    "version": 3
   },
   "file_extension": ".py",
   "mimetype": "text/x-python",
   "name": "python",
   "nbconvert_exporter": "python",
   "pygments_lexer": "ipython3",
   "version": "3.7.6"
  }
 },
 "nbformat": 4,
 "nbformat_minor": 4
}
