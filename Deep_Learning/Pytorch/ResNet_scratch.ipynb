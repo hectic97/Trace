{
 "cells": [
  {
   "cell_type": "code",
   "execution_count": 3,
   "metadata": {},
   "outputs": [],
   "source": [
    "import torch\n",
    "import torch.nn as nn"
   ]
  },
  {
   "cell_type": "code",
   "execution_count": 4,
   "metadata": {},
   "outputs": [],
   "source": [
    "def conv_block_1(in_dim,out_dim,act_fn,stride=1):\n",
    "    model = nn.Sequential(nn.Conv2d(in_dim,out_dim,kernel_size=1,stride=stride),\n",
    "                         act_fn,)\n",
    "    return model\n",
    "\n",
    "def conv_block_3(in_dim,out_dim,act_fn):\n",
    "    model = nn.Sequential(nn.Conv2d(in_dim,out_dim,kernel_size=3,stride=1,padding=1),\n",
    "                         act_fn,)\n",
    "    return model"
   ]
  },
  {
   "cell_type": "code",
   "execution_count": 5,
   "metadata": {},
   "outputs": [],
   "source": [
    "class BottleNeck(nn.Module):\n",
    "    def __init__(self,in_dim,mid_dim,out_dim,act_fn,down=False):\n",
    "        super(BottleNeck,self).__init__()\n",
    "        self.act_fn = act_fn\n",
    "        self.down = down\n",
    "        \n",
    "        if self.down:\n",
    "            self.layer = nn.Sequential(conv_block_1(in_dim,mid_dim,act_fn,2),\n",
    "                                      conv_block_3(mid_dim,mid_dim,act_fn),\n",
    "                                      conv_block_1(mid_dim,out_dim,act_fn),)\n",
    "            self.downsample = nn.Conv2d(in_dim,out_dim,1,2)\n",
    "        else:\n",
    "            self.layer = nn.Sequential(conv_block_1(in_dim,mid_dim,act_fn),\n",
    "                                      conv_block_3(mid_dim,mid_dim,act_fn),\n",
    "                                      conv_block_1(mid_dim,out_dim,act_fn),)\n",
    "        self.dim_equalizer = nn.Conv2d(in_dim,out_dim,kernel_size=1)\n",
    "        \n",
    "    def forward(self,x):\n",
    "        if self.down:\n",
    "            downsample = self.downsample(x)\n",
    "            out = self.layer(x)\n",
    "            out = out + downsample\n",
    "        else:\n",
    "            out = self.layer(x)\n",
    "            if x.size() is not out.size():\n",
    "                x = self.dim_equalizer(x)\n",
    "            out = out + x\n",
    "        return out\n",
    "    "
   ]
  },
  {
   "cell_type": "code",
   "execution_count": 6,
   "metadata": {},
   "outputs": [],
   "source": [
    "class ResNet(nn.Module):\n",
    "    def __init__(self,base_dim,num_classes=2):\n",
    "        super(ResNet,self).__init__()\n",
    "        self.act_fn = nn.ReLU()\n",
    "        self.layer_1 = nn.Sequential(nn.Conv2d(3,base_dim,7,2,3),\n",
    "                                    nn.ReLU(),\n",
    "                                    nn.MaxPool2d(3,2,1))\n",
    "        self.layer_2 = nn.Sequential(BottleNeck(base_dim,base_dim,base_dim*4,self.act_fn),\n",
    "                                    BottleNeck(base_dim*4,base_dim,base_dim*4,self.act_fn),\n",
    "                                    BottleNeck(base_dim*4,base_dim,base_dim*4,self.act_fn,down=True),)\n",
    "        self.layer_3 = nn.Sequential(BottleNeck(base_dim*4,base_dim*2,base_dim*8,self.act_fn),\n",
    "                                    BottleNeck(base_dim*8,base_dim*2,base_dim*8,self.act_fn),\n",
    "                                    BottleNeck(base_dim*8,base_dim*2,base_dim*8,self.act_fn),\n",
    "                                    BottleNeck(base_dim*8,base_dim*2,base_dim*8,self.act_fn,down=True),)\n",
    "        self.layer_4 = nn.Sequential(BottleNeck(base_dim*8,base_dim*4,base_dim*16,self.act_fn),\n",
    "                                    BottleNeck(base_dim*16,base_dim*4,base_dim*16,self.act_fn),\n",
    "                                    BottleNeck(base_dim*16,base_dim*4,base_dim*16,self.act_fn),\n",
    "                                    BottleNeck(base_dim*16,base_dim*4,base_dim*16,self.act_fn),\n",
    "                                    BottleNeck(base_dim*16,base_dim*4,base_dim*16,self.act_fn),\n",
    "                                    BottleNeck(base_dim*16,base_dim*4,base_dim*16,self.act_fn,down=True),)\n",
    "        self.layer_5 = nn.Sequential(BottleNeck(base_dim*16,base_dim*8,base_dim*32,self.act_fn),\n",
    "                                    BottleNeck(base_dim*32,base_dim*8,base_dim*32,self.act_fn),\n",
    "                                    BottleNeck(base_dim*32,base_dim*8,base_dim*32,self.act_fn),)\n",
    "        self.avgpool = nn.AvgPool2d(7,1)\n",
    "        self.fc_layer = nn.Linear(base_dim*32,num_classes)\n",
    "        \n",
    "    def forward(self,x):\n",
    "        out = self.layer_1(x)\n",
    "        out = self.layer_2(out)\n",
    "        out = self.layer_3(out)\n",
    "        out = self.layer_4(out)\n",
    "        out = self.layer_5(out)\n",
    "        out = self.avgpool(out)\n",
    "        out = out.view(batch_size,-1)\n",
    "        out = self.fc_layer(out)\n",
    "        return out"
   ]
  }
 ],
 "metadata": {
  "kernelspec": {
   "display_name": "Python 3",
   "language": "python",
   "name": "python3"
  },
  "language_info": {
   "codemirror_mode": {
    "name": "ipython",
    "version": 3
   },
   "file_extension": ".py",
   "mimetype": "text/x-python",
   "name": "python",
   "nbconvert_exporter": "python",
   "pygments_lexer": "ipython3",
   "version": "3.7.6"
  }
 },
 "nbformat": 4,
 "nbformat_minor": 4
}
