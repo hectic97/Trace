{
 "cells": [
  {
   "cell_type": "code",
   "execution_count": 0,
   "metadata": {
    "colab": {
     "base_uri": "https://localhost:8080/",
     "height": 127
    },
    "colab_type": "code",
    "executionInfo": {
     "elapsed": 68862,
     "status": "ok",
     "timestamp": 1581787915433,
     "user": {
      "displayName": "성균관대학교정영준",
      "photoUrl": "",
      "userId": "16156467539761060813"
     },
     "user_tz": -540
    },
    "id": "2h4UWFX-8kvA",
    "outputId": "b6d361c2-8985-4ad7-a0e6-0c8d1b990aed"
   },
   "outputs": [
    {
     "name": "stdout",
     "output_type": "stream",
     "text": [
      "Go to this URL in a browser: https://accounts.google.com/o/oauth2/auth?client_id=947318989803-6bn6qk8qdgf4n4g3pfee6491hc0brc4i.apps.googleusercontent.com&redirect_uri=urn%3aietf%3awg%3aoauth%3a2.0%3aoob&response_type=code&scope=email%20https%3a%2f%2fwww.googleapis.com%2fauth%2fdocs.test%20https%3a%2f%2fwww.googleapis.com%2fauth%2fdrive%20https%3a%2f%2fwww.googleapis.com%2fauth%2fdrive.photos.readonly%20https%3a%2f%2fwww.googleapis.com%2fauth%2fpeopleapi.readonly\n",
      "\n",
      "Enter your authorization code:\n",
      "··········\n",
      "Mounted at /content/drive/\n"
     ]
    }
   ],
   "source": [
    "from google.colab import drive\n",
    "drive.mount('/content/drive/')\n"
   ]
  },
  {
   "cell_type": "code",
   "execution_count": 1,
   "metadata": {
    "colab": {
     "base_uri": "https://localhost:8080/",
     "height": 82
    },
    "colab_type": "code",
    "executionInfo": {
     "elapsed": 2209,
     "status": "ok",
     "timestamp": 1581831584318,
     "user": {
      "displayName": "성균관대학교정영준",
      "photoUrl": "",
      "userId": "16156467539761060813"
     },
     "user_tz": -540
    },
    "id": "c6wmvjMi9l8c",
    "outputId": "c8ede56c-d231-4970-e74c-60a7845f976f"
   },
   "outputs": [
    {
     "name": "stderr",
     "output_type": "stream",
     "text": [
      "Using TensorFlow backend.\n"
     ]
    },
    {
     "data": {
      "text/html": [
       "<p style=\"color: red;\">\n",
       "The default version of TensorFlow in Colab will soon switch to TensorFlow 2.x.<br>\n",
       "We recommend you <a href=\"https://www.tensorflow.org/guide/migrate\" target=\"_blank\">upgrade</a> now \n",
       "or ensure your notebook will continue to use TensorFlow 1.x via the <code>%tensorflow_version 1.x</code> magic:\n",
       "<a href=\"https://colab.research.google.com/notebooks/tensorflow_version.ipynb\" target=\"_blank\">more info</a>.</p>\n"
      ],
      "text/plain": [
       "<IPython.core.display.HTML object>"
      ]
     },
     "metadata": {
      "tags": []
     },
     "output_type": "display_data"
    }
   ],
   "source": [
    "import pandas as pd\n",
    "import numpy as np\n",
    "import matplotlib.pyplot as plt\n",
    "%matplotlib inline\n",
    "from keras import models\n",
    "from keras import layers\n",
    "import seaborn as sns"
   ]
  },
  {
   "cell_type": "code",
   "execution_count": 0,
   "metadata": {
    "colab": {},
    "colab_type": "code",
    "id": "HqOUSqArZOPH"
   },
   "outputs": [],
   "source": [
    "train = pd.read_csv('train.csv', index_col=0)\n",
    "test = pd.read_csv('test.csv', index_col=0)\n",
    "sample_submission = pd.read_csv('sample_submission.csv', index_col=0)\n",
    "column_number = {}\n",
    "for i, column in enumerate(sample_submission.columns):\n",
    "    column_number[column] = i\n",
    "    \n",
    "def to_number(x, dic):\n",
    "    return dic[x]\n",
    "\n",
    "train['type_num'] = train['type'].apply(lambda x: to_number(x, column_number))\n",
    "train_x = train.drop(columns=['type', 'type_num'], axis=1)\n",
    "train_y = train['type_num']\n",
    "test_x = test\n",
    "nohe_train_x=train_x.copy()\n",
    "nohe_test_x=test_x.copy()\n",
    "all_x=train_x.append(test_x)\n",
    "all_x_ohe=pd.get_dummies(all_x,columns=['fiberID'])\n",
    "test_x_ohe=all_x_ohe.loc[199990:]\n",
    "train_x_ohe=all_x_ohe.loc[:199990]\n"
   ]
  },
  {
   "cell_type": "code",
   "execution_count": 0,
   "metadata": {
    "colab": {},
    "colab_type": "code",
    "id": "XzclEYaagx1t"
   },
   "outputs": [],
   "source": [
    "# train_x_ohe.iloc[:,:20]\n",
    "mean=train_x_ohe.iloc[:,:20].mean()\n",
    "std=train_x_ohe.iloc[:,:20].std()"
   ]
  },
  {
   "cell_type": "code",
   "execution_count": 0,
   "metadata": {
    "colab": {},
    "colab_type": "code",
    "id": "wEnPxNQXkC82"
   },
   "outputs": [],
   "source": [
    "tanh_train_x=0.5*np.tanh(0.01*((train_x_ohe.iloc[:,:20]-mean)/std))+1\n",
    "tanh_test_x=0.5*np.tanh(0.01*((test_x_ohe.iloc[:,:20]-mean)/std))+1"
   ]
  },
  {
   "cell_type": "code",
   "execution_count": 0,
   "metadata": {
    "colab": {},
    "colab_type": "code",
    "id": "dJcrLHokkmnD"
   },
   "outputs": [],
   "source": [
    "from sklearn.model_selection import train_test_split\n",
    "part_tanh_train_x,tanh_val_x,partial_train_y,val_y=train_test_split(tanh_train_x,train_y,test_size=0.15)"
   ]
  },
  {
   "cell_type": "code",
   "execution_count": 25,
   "metadata": {
    "colab": {
     "base_uri": "https://localhost:8080/",
     "height": 35
    },
    "colab_type": "code",
    "executionInfo": {
     "elapsed": 656,
     "status": "ok",
     "timestamp": 1581832426572,
     "user": {
      "displayName": "성균관대학교정영준",
      "photoUrl": "",
      "userId": "16156467539761060813"
     },
     "user_tz": -540
    },
    "id": "QQoVr8gpj0us",
    "outputId": "8dd94844-5cb8-4bde-a94d-dc29bd10d249"
   },
   "outputs": [
    {
     "data": {
      "text/plain": [
       "-6.750146"
      ]
     },
     "execution_count": 25,
     "metadata": {
      "tags": []
     },
     "output_type": "execute_result"
    }
   ],
   "source": [
    "-6.750146e+00\t"
   ]
  },
  {
   "cell_type": "code",
   "execution_count": 0,
   "metadata": {
    "colab": {},
    "colab_type": "code",
    "id": "CSZ31yVkXkcp"
   },
   "outputs": [],
   "source": [
    "\n",
    "nohe_train_x=nohe_train_x.drop('fiberID',axis=1,inplace=False)\n",
    "nohe_test_x=nohe_test_x.drop('fiberID',axis=1,inplace=False)"
   ]
  },
  {
   "cell_type": "code",
   "execution_count": 0,
   "metadata": {
    "colab": {},
    "colab_type": "code",
    "id": "_PYP_27pXt8P"
   },
   "outputs": [],
   "source": []
  },
  {
   "cell_type": "code",
   "execution_count": 0,
   "metadata": {
    "colab": {},
    "colab_type": "code",
    "id": "Ygusn5CJJjfi"
   },
   "outputs": [],
   "source": [
    "from sklearn.preprocessing import StandardScaler,MinMaxScaler\n",
    "scaler=MinMaxScaler()\n",
    "scaler.fit(train_x.drop(train_x.loc[:,'fiberID_1':],axis=1))\n",
    "train_x_ohe_scaled=scaler.transform(train_ohe_x.drop(train_x.loc[:,'fiberID_1':],axis=1))\n",
    "test_x_ohe_scaled=scaler.transform(test_ohe_x.drop(test_x.loc[:,'fiberID_1':],axis=1))\n"
   ]
  },
  {
   "cell_type": "code",
   "execution_count": 0,
   "metadata": {
    "colab": {},
    "colab_type": "code",
    "id": "4G3XnRIONN7G"
   },
   "outputs": [],
   "source": [
    "train_x_scaled=pd.DataFrame(train_x_ohe_scaled,columns=train_x.columns[:20])\n",
    "test_x_scaled=pd.DataFrame(test_x_ohe_scaled,columns=test_x.columns[:20])"
   ]
  },
  {
   "cell_type": "code",
   "execution_count": 0,
   "metadata": {
    "colab": {},
    "colab_type": "code",
    "id": "TMDYFjgbMa0H"
   },
   "outputs": [],
   "source": [
    "train_x_final=pd.concat([train_x_ohe_scaled,train_x.loc[:,'fiberID_1':]],axis=1)\n",
    "test_x_final=pd.concat([test_x_ohe_scaled,test_x.loc[:,'fiberID_1':]],axis=1)\n"
   ]
  },
  {
   "cell_type": "code",
   "execution_count": 0,
   "metadata": {
    "colab": {
     "base_uri": "https://localhost:8080/",
     "height": 346
    },
    "colab_type": "code",
    "executionInfo": {
     "elapsed": 5225,
     "status": "ok",
     "timestamp": 1581794748829,
     "user": {
      "displayName": "성균관대학교정영준",
      "photoUrl": "",
      "userId": "16156467539761060813"
     },
     "user_tz": -540
    },
    "id": "PSu5OeTEAKPk",
    "outputId": "5e27fd02-ceff-4d20-d91c-62e59bf99c98"
   },
   "outputs": [
    {
     "data": {
      "text/html": [
       "<div>\n",
       "<style scoped>\n",
       "    .dataframe tbody tr th:only-of-type {\n",
       "        vertical-align: middle;\n",
       "    }\n",
       "\n",
       "    .dataframe tbody tr th {\n",
       "        vertical-align: top;\n",
       "    }\n",
       "\n",
       "    .dataframe thead th {\n",
       "        text-align: right;\n",
       "    }\n",
       "</style>\n",
       "<table border=\"1\" class=\"dataframe\">\n",
       "  <thead>\n",
       "    <tr style=\"text-align: right;\">\n",
       "      <th></th>\n",
       "      <th>psfMag_u</th>\n",
       "      <th>psfMag_g</th>\n",
       "      <th>psfMag_r</th>\n",
       "      <th>psfMag_i</th>\n",
       "      <th>psfMag_z</th>\n",
       "      <th>fiberMag_u</th>\n",
       "      <th>fiberMag_g</th>\n",
       "      <th>fiberMag_r</th>\n",
       "      <th>fiberMag_i</th>\n",
       "      <th>fiberMag_z</th>\n",
       "      <th>petroMag_u</th>\n",
       "      <th>petroMag_g</th>\n",
       "      <th>petroMag_r</th>\n",
       "      <th>petroMag_i</th>\n",
       "      <th>petroMag_z</th>\n",
       "      <th>modelMag_u</th>\n",
       "      <th>modelMag_g</th>\n",
       "      <th>modelMag_r</th>\n",
       "      <th>modelMag_i</th>\n",
       "      <th>modelMag_z</th>\n",
       "      <th>fiberID_1</th>\n",
       "      <th>fiberID_2</th>\n",
       "      <th>fiberID_3</th>\n",
       "      <th>fiberID_4</th>\n",
       "      <th>fiberID_5</th>\n",
       "      <th>fiberID_6</th>\n",
       "      <th>fiberID_7</th>\n",
       "      <th>fiberID_8</th>\n",
       "      <th>fiberID_9</th>\n",
       "      <th>fiberID_10</th>\n",
       "      <th>fiberID_11</th>\n",
       "      <th>fiberID_12</th>\n",
       "      <th>fiberID_13</th>\n",
       "      <th>fiberID_14</th>\n",
       "      <th>fiberID_15</th>\n",
       "      <th>fiberID_16</th>\n",
       "      <th>fiberID_17</th>\n",
       "      <th>fiberID_18</th>\n",
       "      <th>fiberID_19</th>\n",
       "      <th>fiberID_20</th>\n",
       "      <th>...</th>\n",
       "      <th>fiberID_961</th>\n",
       "      <th>fiberID_962</th>\n",
       "      <th>fiberID_963</th>\n",
       "      <th>fiberID_964</th>\n",
       "      <th>fiberID_965</th>\n",
       "      <th>fiberID_966</th>\n",
       "      <th>fiberID_967</th>\n",
       "      <th>fiberID_968</th>\n",
       "      <th>fiberID_969</th>\n",
       "      <th>fiberID_970</th>\n",
       "      <th>fiberID_971</th>\n",
       "      <th>fiberID_972</th>\n",
       "      <th>fiberID_973</th>\n",
       "      <th>fiberID_974</th>\n",
       "      <th>fiberID_975</th>\n",
       "      <th>fiberID_976</th>\n",
       "      <th>fiberID_977</th>\n",
       "      <th>fiberID_978</th>\n",
       "      <th>fiberID_979</th>\n",
       "      <th>fiberID_980</th>\n",
       "      <th>fiberID_981</th>\n",
       "      <th>fiberID_982</th>\n",
       "      <th>fiberID_983</th>\n",
       "      <th>fiberID_984</th>\n",
       "      <th>fiberID_985</th>\n",
       "      <th>fiberID_986</th>\n",
       "      <th>fiberID_987</th>\n",
       "      <th>fiberID_988</th>\n",
       "      <th>fiberID_989</th>\n",
       "      <th>fiberID_990</th>\n",
       "      <th>fiberID_991</th>\n",
       "      <th>fiberID_992</th>\n",
       "      <th>fiberID_993</th>\n",
       "      <th>fiberID_994</th>\n",
       "      <th>fiberID_995</th>\n",
       "      <th>fiberID_996</th>\n",
       "      <th>fiberID_997</th>\n",
       "      <th>fiberID_998</th>\n",
       "      <th>fiberID_999</th>\n",
       "      <th>fiberID_1000</th>\n",
       "    </tr>\n",
       "  </thead>\n",
       "  <tbody>\n",
       "    <tr>\n",
       "      <th>count</th>\n",
       "      <td>1.999910e+05</td>\n",
       "      <td>199991.000000</td>\n",
       "      <td>199991.000000</td>\n",
       "      <td>199991.000000</td>\n",
       "      <td>199991.000000</td>\n",
       "      <td>1.999910e+05</td>\n",
       "      <td>199991.000000</td>\n",
       "      <td>199991.000000</td>\n",
       "      <td>199991.000000</td>\n",
       "      <td>199991.000000</td>\n",
       "      <td>199991.000000</td>\n",
       "      <td>199991.000000</td>\n",
       "      <td>199991.000000</td>\n",
       "      <td>199991.000000</td>\n",
       "      <td>199991.000000</td>\n",
       "      <td>199991.000000</td>\n",
       "      <td>199991.000000</td>\n",
       "      <td>199991.000000</td>\n",
       "      <td>199991.000000</td>\n",
       "      <td>199991.000000</td>\n",
       "      <td>199991.000000</td>\n",
       "      <td>199991.000000</td>\n",
       "      <td>199991.000000</td>\n",
       "      <td>199991.000000</td>\n",
       "      <td>199991.000000</td>\n",
       "      <td>199991.00000</td>\n",
       "      <td>199991.000000</td>\n",
       "      <td>199991.000000</td>\n",
       "      <td>199991.000000</td>\n",
       "      <td>199991.000000</td>\n",
       "      <td>199991.000000</td>\n",
       "      <td>199991.000000</td>\n",
       "      <td>199991.000000</td>\n",
       "      <td>199991.000000</td>\n",
       "      <td>199991.000000</td>\n",
       "      <td>199991.000000</td>\n",
       "      <td>199991.000000</td>\n",
       "      <td>199991.000000</td>\n",
       "      <td>199991.000000</td>\n",
       "      <td>199991.000000</td>\n",
       "      <td>...</td>\n",
       "      <td>199991.000000</td>\n",
       "      <td>199991.000000</td>\n",
       "      <td>199991.000000</td>\n",
       "      <td>199991.000000</td>\n",
       "      <td>199991.000000</td>\n",
       "      <td>199991.000000</td>\n",
       "      <td>199991.000000</td>\n",
       "      <td>199991.000000</td>\n",
       "      <td>199991.000000</td>\n",
       "      <td>199991.000000</td>\n",
       "      <td>199991.0000</td>\n",
       "      <td>199991.000000</td>\n",
       "      <td>199991.000000</td>\n",
       "      <td>199991.000000</td>\n",
       "      <td>199991.000000</td>\n",
       "      <td>199991.000000</td>\n",
       "      <td>199991.0000</td>\n",
       "      <td>199991.000000</td>\n",
       "      <td>199991.000000</td>\n",
       "      <td>199991.000000</td>\n",
       "      <td>199991.000000</td>\n",
       "      <td>199991.000000</td>\n",
       "      <td>199991.000000</td>\n",
       "      <td>199991.000000</td>\n",
       "      <td>199991.000000</td>\n",
       "      <td>199991.000000</td>\n",
       "      <td>199991.000000</td>\n",
       "      <td>199991.000000</td>\n",
       "      <td>199991.000000</td>\n",
       "      <td>199991.000000</td>\n",
       "      <td>199991.000000</td>\n",
       "      <td>199991.000000</td>\n",
       "      <td>199991.000000</td>\n",
       "      <td>199991.000000</td>\n",
       "      <td>199991.000000</td>\n",
       "      <td>199991.000000</td>\n",
       "      <td>199991.000000</td>\n",
       "      <td>199991.000000</td>\n",
       "      <td>199991.000000</td>\n",
       "      <td>199991.000000</td>\n",
       "    </tr>\n",
       "    <tr>\n",
       "      <th>mean</th>\n",
       "      <td>-6.750146e+00</td>\n",
       "      <td>18.675373</td>\n",
       "      <td>18.401235</td>\n",
       "      <td>18.043495</td>\n",
       "      <td>17.663526</td>\n",
       "      <td>1.084986e+01</td>\n",
       "      <td>19.072693</td>\n",
       "      <td>19.134483</td>\n",
       "      <td>18.183331</td>\n",
       "      <td>18.000882</td>\n",
       "      <td>21.837903</td>\n",
       "      <td>18.454136</td>\n",
       "      <td>18.481525</td>\n",
       "      <td>17.686617</td>\n",
       "      <td>17.699207</td>\n",
       "      <td>20.110991</td>\n",
       "      <td>18.544375</td>\n",
       "      <td>18.181544</td>\n",
       "      <td>17.692395</td>\n",
       "      <td>17.189281</td>\n",
       "      <td>0.001480</td>\n",
       "      <td>0.001745</td>\n",
       "      <td>0.001385</td>\n",
       "      <td>0.001585</td>\n",
       "      <td>0.001315</td>\n",
       "      <td>0.00166</td>\n",
       "      <td>0.001465</td>\n",
       "      <td>0.001720</td>\n",
       "      <td>0.001380</td>\n",
       "      <td>0.001560</td>\n",
       "      <td>0.001480</td>\n",
       "      <td>0.001650</td>\n",
       "      <td>0.001450</td>\n",
       "      <td>0.001825</td>\n",
       "      <td>0.001335</td>\n",
       "      <td>0.001715</td>\n",
       "      <td>0.001405</td>\n",
       "      <td>0.001745</td>\n",
       "      <td>0.001580</td>\n",
       "      <td>0.001690</td>\n",
       "      <td>...</td>\n",
       "      <td>0.000085</td>\n",
       "      <td>0.000295</td>\n",
       "      <td>0.000115</td>\n",
       "      <td>0.000370</td>\n",
       "      <td>0.000080</td>\n",
       "      <td>0.000355</td>\n",
       "      <td>0.000110</td>\n",
       "      <td>0.000325</td>\n",
       "      <td>0.000080</td>\n",
       "      <td>0.000335</td>\n",
       "      <td>0.0001</td>\n",
       "      <td>0.000340</td>\n",
       "      <td>0.000105</td>\n",
       "      <td>0.000390</td>\n",
       "      <td>0.000115</td>\n",
       "      <td>0.000430</td>\n",
       "      <td>0.0001</td>\n",
       "      <td>0.000365</td>\n",
       "      <td>0.000105</td>\n",
       "      <td>0.000335</td>\n",
       "      <td>0.000095</td>\n",
       "      <td>0.000360</td>\n",
       "      <td>0.000140</td>\n",
       "      <td>0.000360</td>\n",
       "      <td>0.000075</td>\n",
       "      <td>0.000360</td>\n",
       "      <td>0.000125</td>\n",
       "      <td>0.000320</td>\n",
       "      <td>0.000140</td>\n",
       "      <td>0.000365</td>\n",
       "      <td>0.000050</td>\n",
       "      <td>0.000320</td>\n",
       "      <td>0.000085</td>\n",
       "      <td>0.000300</td>\n",
       "      <td>0.000140</td>\n",
       "      <td>0.000360</td>\n",
       "      <td>0.000070</td>\n",
       "      <td>0.000375</td>\n",
       "      <td>0.000135</td>\n",
       "      <td>0.000335</td>\n",
       "    </tr>\n",
       "    <tr>\n",
       "      <th>std</th>\n",
       "      <td>1.187678e+04</td>\n",
       "      <td>155.423024</td>\n",
       "      <td>127.128078</td>\n",
       "      <td>116.622194</td>\n",
       "      <td>123.735298</td>\n",
       "      <td>4.172116e+03</td>\n",
       "      <td>749.256162</td>\n",
       "      <td>90.049058</td>\n",
       "      <td>122.378972</td>\n",
       "      <td>145.862346</td>\n",
       "      <td>789.472333</td>\n",
       "      <td>154.376277</td>\n",
       "      <td>97.240448</td>\n",
       "      <td>145.730872</td>\n",
       "      <td>142.691880</td>\n",
       "      <td>122.299062</td>\n",
       "      <td>161.728183</td>\n",
       "      <td>133.984475</td>\n",
       "      <td>131.183416</td>\n",
       "      <td>133.685138</td>\n",
       "      <td>0.038443</td>\n",
       "      <td>0.041738</td>\n",
       "      <td>0.037191</td>\n",
       "      <td>0.039781</td>\n",
       "      <td>0.036240</td>\n",
       "      <td>0.04071</td>\n",
       "      <td>0.038248</td>\n",
       "      <td>0.041438</td>\n",
       "      <td>0.037124</td>\n",
       "      <td>0.039467</td>\n",
       "      <td>0.038443</td>\n",
       "      <td>0.040588</td>\n",
       "      <td>0.038052</td>\n",
       "      <td>0.042682</td>\n",
       "      <td>0.036514</td>\n",
       "      <td>0.041378</td>\n",
       "      <td>0.037458</td>\n",
       "      <td>0.041738</td>\n",
       "      <td>0.039719</td>\n",
       "      <td>0.041076</td>\n",
       "      <td>...</td>\n",
       "      <td>0.009219</td>\n",
       "      <td>0.017173</td>\n",
       "      <td>0.010723</td>\n",
       "      <td>0.019232</td>\n",
       "      <td>0.008944</td>\n",
       "      <td>0.018839</td>\n",
       "      <td>0.010488</td>\n",
       "      <td>0.018025</td>\n",
       "      <td>0.008944</td>\n",
       "      <td>0.018300</td>\n",
       "      <td>0.0100</td>\n",
       "      <td>0.018436</td>\n",
       "      <td>0.010247</td>\n",
       "      <td>0.019745</td>\n",
       "      <td>0.010723</td>\n",
       "      <td>0.020733</td>\n",
       "      <td>0.0100</td>\n",
       "      <td>0.019102</td>\n",
       "      <td>0.010247</td>\n",
       "      <td>0.018300</td>\n",
       "      <td>0.009747</td>\n",
       "      <td>0.018971</td>\n",
       "      <td>0.011832</td>\n",
       "      <td>0.018971</td>\n",
       "      <td>0.008660</td>\n",
       "      <td>0.018971</td>\n",
       "      <td>0.011180</td>\n",
       "      <td>0.017886</td>\n",
       "      <td>0.011832</td>\n",
       "      <td>0.019102</td>\n",
       "      <td>0.007071</td>\n",
       "      <td>0.017886</td>\n",
       "      <td>0.009219</td>\n",
       "      <td>0.017318</td>\n",
       "      <td>0.011832</td>\n",
       "      <td>0.018971</td>\n",
       "      <td>0.008367</td>\n",
       "      <td>0.019362</td>\n",
       "      <td>0.011618</td>\n",
       "      <td>0.018300</td>\n",
       "    </tr>\n",
       "    <tr>\n",
       "      <th>min</th>\n",
       "      <td>-5.310802e+06</td>\n",
       "      <td>-40022.466071</td>\n",
       "      <td>-27184.795793</td>\n",
       "      <td>-26566.310827</td>\n",
       "      <td>-24878.828280</td>\n",
       "      <td>-1.864766e+06</td>\n",
       "      <td>-215882.917191</td>\n",
       "      <td>-21802.656144</td>\n",
       "      <td>-20208.516262</td>\n",
       "      <td>-26505.602101</td>\n",
       "      <td>-24463.431833</td>\n",
       "      <td>-25958.752324</td>\n",
       "      <td>-23948.588523</td>\n",
       "      <td>-40438.184078</td>\n",
       "      <td>-30070.729379</td>\n",
       "      <td>-26236.578659</td>\n",
       "      <td>-36902.402336</td>\n",
       "      <td>-36439.638493</td>\n",
       "      <td>-38969.416822</td>\n",
       "      <td>-26050.710196</td>\n",
       "      <td>0.000000</td>\n",
       "      <td>0.000000</td>\n",
       "      <td>0.000000</td>\n",
       "      <td>0.000000</td>\n",
       "      <td>0.000000</td>\n",
       "      <td>0.00000</td>\n",
       "      <td>0.000000</td>\n",
       "      <td>0.000000</td>\n",
       "      <td>0.000000</td>\n",
       "      <td>0.000000</td>\n",
       "      <td>0.000000</td>\n",
       "      <td>0.000000</td>\n",
       "      <td>0.000000</td>\n",
       "      <td>0.000000</td>\n",
       "      <td>0.000000</td>\n",
       "      <td>0.000000</td>\n",
       "      <td>0.000000</td>\n",
       "      <td>0.000000</td>\n",
       "      <td>0.000000</td>\n",
       "      <td>0.000000</td>\n",
       "      <td>...</td>\n",
       "      <td>0.000000</td>\n",
       "      <td>0.000000</td>\n",
       "      <td>0.000000</td>\n",
       "      <td>0.000000</td>\n",
       "      <td>0.000000</td>\n",
       "      <td>0.000000</td>\n",
       "      <td>0.000000</td>\n",
       "      <td>0.000000</td>\n",
       "      <td>0.000000</td>\n",
       "      <td>0.000000</td>\n",
       "      <td>0.0000</td>\n",
       "      <td>0.000000</td>\n",
       "      <td>0.000000</td>\n",
       "      <td>0.000000</td>\n",
       "      <td>0.000000</td>\n",
       "      <td>0.000000</td>\n",
       "      <td>0.0000</td>\n",
       "      <td>0.000000</td>\n",
       "      <td>0.000000</td>\n",
       "      <td>0.000000</td>\n",
       "      <td>0.000000</td>\n",
       "      <td>0.000000</td>\n",
       "      <td>0.000000</td>\n",
       "      <td>0.000000</td>\n",
       "      <td>0.000000</td>\n",
       "      <td>0.000000</td>\n",
       "      <td>0.000000</td>\n",
       "      <td>0.000000</td>\n",
       "      <td>0.000000</td>\n",
       "      <td>0.000000</td>\n",
       "      <td>0.000000</td>\n",
       "      <td>0.000000</td>\n",
       "      <td>0.000000</td>\n",
       "      <td>0.000000</td>\n",
       "      <td>0.000000</td>\n",
       "      <td>0.000000</td>\n",
       "      <td>0.000000</td>\n",
       "      <td>0.000000</td>\n",
       "      <td>0.000000</td>\n",
       "      <td>0.000000</td>\n",
       "    </tr>\n",
       "    <tr>\n",
       "      <th>25%</th>\n",
       "      <td>1.965259e+01</td>\n",
       "      <td>18.701180</td>\n",
       "      <td>18.048572</td>\n",
       "      <td>17.747663</td>\n",
       "      <td>17.425523</td>\n",
       "      <td>1.994040e+01</td>\n",
       "      <td>18.902851</td>\n",
       "      <td>18.259352</td>\n",
       "      <td>17.903615</td>\n",
       "      <td>17.606148</td>\n",
       "      <td>19.247795</td>\n",
       "      <td>18.113933</td>\n",
       "      <td>17.479794</td>\n",
       "      <td>17.050294</td>\n",
       "      <td>16.804705</td>\n",
       "      <td>19.266214</td>\n",
       "      <td>18.076120</td>\n",
       "      <td>17.423425</td>\n",
       "      <td>16.977671</td>\n",
       "      <td>16.705774</td>\n",
       "      <td>0.000000</td>\n",
       "      <td>0.000000</td>\n",
       "      <td>0.000000</td>\n",
       "      <td>0.000000</td>\n",
       "      <td>0.000000</td>\n",
       "      <td>0.00000</td>\n",
       "      <td>0.000000</td>\n",
       "      <td>0.000000</td>\n",
       "      <td>0.000000</td>\n",
       "      <td>0.000000</td>\n",
       "      <td>0.000000</td>\n",
       "      <td>0.000000</td>\n",
       "      <td>0.000000</td>\n",
       "      <td>0.000000</td>\n",
       "      <td>0.000000</td>\n",
       "      <td>0.000000</td>\n",
       "      <td>0.000000</td>\n",
       "      <td>0.000000</td>\n",
       "      <td>0.000000</td>\n",
       "      <td>0.000000</td>\n",
       "      <td>...</td>\n",
       "      <td>0.000000</td>\n",
       "      <td>0.000000</td>\n",
       "      <td>0.000000</td>\n",
       "      <td>0.000000</td>\n",
       "      <td>0.000000</td>\n",
       "      <td>0.000000</td>\n",
       "      <td>0.000000</td>\n",
       "      <td>0.000000</td>\n",
       "      <td>0.000000</td>\n",
       "      <td>0.000000</td>\n",
       "      <td>0.0000</td>\n",
       "      <td>0.000000</td>\n",
       "      <td>0.000000</td>\n",
       "      <td>0.000000</td>\n",
       "      <td>0.000000</td>\n",
       "      <td>0.000000</td>\n",
       "      <td>0.0000</td>\n",
       "      <td>0.000000</td>\n",
       "      <td>0.000000</td>\n",
       "      <td>0.000000</td>\n",
       "      <td>0.000000</td>\n",
       "      <td>0.000000</td>\n",
       "      <td>0.000000</td>\n",
       "      <td>0.000000</td>\n",
       "      <td>0.000000</td>\n",
       "      <td>0.000000</td>\n",
       "      <td>0.000000</td>\n",
       "      <td>0.000000</td>\n",
       "      <td>0.000000</td>\n",
       "      <td>0.000000</td>\n",
       "      <td>0.000000</td>\n",
       "      <td>0.000000</td>\n",
       "      <td>0.000000</td>\n",
       "      <td>0.000000</td>\n",
       "      <td>0.000000</td>\n",
       "      <td>0.000000</td>\n",
       "      <td>0.000000</td>\n",
       "      <td>0.000000</td>\n",
       "      <td>0.000000</td>\n",
       "      <td>0.000000</td>\n",
       "    </tr>\n",
       "    <tr>\n",
       "      <th>50%</th>\n",
       "      <td>2.087136e+01</td>\n",
       "      <td>19.904235</td>\n",
       "      <td>19.454492</td>\n",
       "      <td>19.043895</td>\n",
       "      <td>18.611799</td>\n",
       "      <td>2.104910e+01</td>\n",
       "      <td>20.069038</td>\n",
       "      <td>19.631419</td>\n",
       "      <td>19.188763</td>\n",
       "      <td>18.710967</td>\n",
       "      <td>20.366848</td>\n",
       "      <td>19.586559</td>\n",
       "      <td>19.182789</td>\n",
       "      <td>18.693370</td>\n",
       "      <td>18.174592</td>\n",
       "      <td>20.406840</td>\n",
       "      <td>19.547674</td>\n",
       "      <td>19.143156</td>\n",
       "      <td>18.641756</td>\n",
       "      <td>18.100997</td>\n",
       "      <td>0.000000</td>\n",
       "      <td>0.000000</td>\n",
       "      <td>0.000000</td>\n",
       "      <td>0.000000</td>\n",
       "      <td>0.000000</td>\n",
       "      <td>0.00000</td>\n",
       "      <td>0.000000</td>\n",
       "      <td>0.000000</td>\n",
       "      <td>0.000000</td>\n",
       "      <td>0.000000</td>\n",
       "      <td>0.000000</td>\n",
       "      <td>0.000000</td>\n",
       "      <td>0.000000</td>\n",
       "      <td>0.000000</td>\n",
       "      <td>0.000000</td>\n",
       "      <td>0.000000</td>\n",
       "      <td>0.000000</td>\n",
       "      <td>0.000000</td>\n",
       "      <td>0.000000</td>\n",
       "      <td>0.000000</td>\n",
       "      <td>...</td>\n",
       "      <td>0.000000</td>\n",
       "      <td>0.000000</td>\n",
       "      <td>0.000000</td>\n",
       "      <td>0.000000</td>\n",
       "      <td>0.000000</td>\n",
       "      <td>0.000000</td>\n",
       "      <td>0.000000</td>\n",
       "      <td>0.000000</td>\n",
       "      <td>0.000000</td>\n",
       "      <td>0.000000</td>\n",
       "      <td>0.0000</td>\n",
       "      <td>0.000000</td>\n",
       "      <td>0.000000</td>\n",
       "      <td>0.000000</td>\n",
       "      <td>0.000000</td>\n",
       "      <td>0.000000</td>\n",
       "      <td>0.0000</td>\n",
       "      <td>0.000000</td>\n",
       "      <td>0.000000</td>\n",
       "      <td>0.000000</td>\n",
       "      <td>0.000000</td>\n",
       "      <td>0.000000</td>\n",
       "      <td>0.000000</td>\n",
       "      <td>0.000000</td>\n",
       "      <td>0.000000</td>\n",
       "      <td>0.000000</td>\n",
       "      <td>0.000000</td>\n",
       "      <td>0.000000</td>\n",
       "      <td>0.000000</td>\n",
       "      <td>0.000000</td>\n",
       "      <td>0.000000</td>\n",
       "      <td>0.000000</td>\n",
       "      <td>0.000000</td>\n",
       "      <td>0.000000</td>\n",
       "      <td>0.000000</td>\n",
       "      <td>0.000000</td>\n",
       "      <td>0.000000</td>\n",
       "      <td>0.000000</td>\n",
       "      <td>0.000000</td>\n",
       "      <td>0.000000</td>\n",
       "    </tr>\n",
       "    <tr>\n",
       "      <th>75%</th>\n",
       "      <td>2.216043e+01</td>\n",
       "      <td>21.150297</td>\n",
       "      <td>20.515936</td>\n",
       "      <td>20.073528</td>\n",
       "      <td>19.883760</td>\n",
       "      <td>2.233754e+01</td>\n",
       "      <td>21.385830</td>\n",
       "      <td>20.773911</td>\n",
       "      <td>20.331419</td>\n",
       "      <td>20.133179</td>\n",
       "      <td>21.797480</td>\n",
       "      <td>21.004397</td>\n",
       "      <td>20.457491</td>\n",
       "      <td>20.019112</td>\n",
       "      <td>19.807652</td>\n",
       "      <td>21.992898</td>\n",
       "      <td>20.962386</td>\n",
       "      <td>20.408140</td>\n",
       "      <td>19.968846</td>\n",
       "      <td>19.819554</td>\n",
       "      <td>0.000000</td>\n",
       "      <td>0.000000</td>\n",
       "      <td>0.000000</td>\n",
       "      <td>0.000000</td>\n",
       "      <td>0.000000</td>\n",
       "      <td>0.00000</td>\n",
       "      <td>0.000000</td>\n",
       "      <td>0.000000</td>\n",
       "      <td>0.000000</td>\n",
       "      <td>0.000000</td>\n",
       "      <td>0.000000</td>\n",
       "      <td>0.000000</td>\n",
       "      <td>0.000000</td>\n",
       "      <td>0.000000</td>\n",
       "      <td>0.000000</td>\n",
       "      <td>0.000000</td>\n",
       "      <td>0.000000</td>\n",
       "      <td>0.000000</td>\n",
       "      <td>0.000000</td>\n",
       "      <td>0.000000</td>\n",
       "      <td>...</td>\n",
       "      <td>0.000000</td>\n",
       "      <td>0.000000</td>\n",
       "      <td>0.000000</td>\n",
       "      <td>0.000000</td>\n",
       "      <td>0.000000</td>\n",
       "      <td>0.000000</td>\n",
       "      <td>0.000000</td>\n",
       "      <td>0.000000</td>\n",
       "      <td>0.000000</td>\n",
       "      <td>0.000000</td>\n",
       "      <td>0.0000</td>\n",
       "      <td>0.000000</td>\n",
       "      <td>0.000000</td>\n",
       "      <td>0.000000</td>\n",
       "      <td>0.000000</td>\n",
       "      <td>0.000000</td>\n",
       "      <td>0.0000</td>\n",
       "      <td>0.000000</td>\n",
       "      <td>0.000000</td>\n",
       "      <td>0.000000</td>\n",
       "      <td>0.000000</td>\n",
       "      <td>0.000000</td>\n",
       "      <td>0.000000</td>\n",
       "      <td>0.000000</td>\n",
       "      <td>0.000000</td>\n",
       "      <td>0.000000</td>\n",
       "      <td>0.000000</td>\n",
       "      <td>0.000000</td>\n",
       "      <td>0.000000</td>\n",
       "      <td>0.000000</td>\n",
       "      <td>0.000000</td>\n",
       "      <td>0.000000</td>\n",
       "      <td>0.000000</td>\n",
       "      <td>0.000000</td>\n",
       "      <td>0.000000</td>\n",
       "      <td>0.000000</td>\n",
       "      <td>0.000000</td>\n",
       "      <td>0.000000</td>\n",
       "      <td>0.000000</td>\n",
       "      <td>0.000000</td>\n",
       "    </tr>\n",
       "    <tr>\n",
       "      <th>max</th>\n",
       "      <td>1.877392e+04</td>\n",
       "      <td>3538.984910</td>\n",
       "      <td>3048.110913</td>\n",
       "      <td>4835.218639</td>\n",
       "      <td>9823.740407</td>\n",
       "      <td>4.870154e+03</td>\n",
       "      <td>248077.513380</td>\n",
       "      <td>12084.735440</td>\n",
       "      <td>8059.638535</td>\n",
       "      <td>18358.921741</td>\n",
       "      <td>298771.019041</td>\n",
       "      <td>12139.815877</td>\n",
       "      <td>7003.136546</td>\n",
       "      <td>9772.190537</td>\n",
       "      <td>17403.789263</td>\n",
       "      <td>14488.251976</td>\n",
       "      <td>10582.058590</td>\n",
       "      <td>12237.951703</td>\n",
       "      <td>4062.499371</td>\n",
       "      <td>7420.534172</td>\n",
       "      <td>1.000000</td>\n",
       "      <td>1.000000</td>\n",
       "      <td>1.000000</td>\n",
       "      <td>1.000000</td>\n",
       "      <td>1.000000</td>\n",
       "      <td>1.00000</td>\n",
       "      <td>1.000000</td>\n",
       "      <td>1.000000</td>\n",
       "      <td>1.000000</td>\n",
       "      <td>1.000000</td>\n",
       "      <td>1.000000</td>\n",
       "      <td>1.000000</td>\n",
       "      <td>1.000000</td>\n",
       "      <td>1.000000</td>\n",
       "      <td>1.000000</td>\n",
       "      <td>1.000000</td>\n",
       "      <td>1.000000</td>\n",
       "      <td>1.000000</td>\n",
       "      <td>1.000000</td>\n",
       "      <td>1.000000</td>\n",
       "      <td>...</td>\n",
       "      <td>1.000000</td>\n",
       "      <td>1.000000</td>\n",
       "      <td>1.000000</td>\n",
       "      <td>1.000000</td>\n",
       "      <td>1.000000</td>\n",
       "      <td>1.000000</td>\n",
       "      <td>1.000000</td>\n",
       "      <td>1.000000</td>\n",
       "      <td>1.000000</td>\n",
       "      <td>1.000000</td>\n",
       "      <td>1.0000</td>\n",
       "      <td>1.000000</td>\n",
       "      <td>1.000000</td>\n",
       "      <td>1.000000</td>\n",
       "      <td>1.000000</td>\n",
       "      <td>1.000000</td>\n",
       "      <td>1.0000</td>\n",
       "      <td>1.000000</td>\n",
       "      <td>1.000000</td>\n",
       "      <td>1.000000</td>\n",
       "      <td>1.000000</td>\n",
       "      <td>1.000000</td>\n",
       "      <td>1.000000</td>\n",
       "      <td>1.000000</td>\n",
       "      <td>1.000000</td>\n",
       "      <td>1.000000</td>\n",
       "      <td>1.000000</td>\n",
       "      <td>1.000000</td>\n",
       "      <td>1.000000</td>\n",
       "      <td>1.000000</td>\n",
       "      <td>1.000000</td>\n",
       "      <td>1.000000</td>\n",
       "      <td>1.000000</td>\n",
       "      <td>1.000000</td>\n",
       "      <td>1.000000</td>\n",
       "      <td>1.000000</td>\n",
       "      <td>1.000000</td>\n",
       "      <td>1.000000</td>\n",
       "      <td>1.000000</td>\n",
       "      <td>1.000000</td>\n",
       "    </tr>\n",
       "  </tbody>\n",
       "</table>\n",
       "<p>8 rows × 1020 columns</p>\n",
       "</div>"
      ],
      "text/plain": [
       "           psfMag_u       psfMag_g  ...    fiberID_999   fiberID_1000\n",
       "count  1.999910e+05  199991.000000  ...  199991.000000  199991.000000\n",
       "mean  -6.750146e+00      18.675373  ...       0.000135       0.000335\n",
       "std    1.187678e+04     155.423024  ...       0.011618       0.018300\n",
       "min   -5.310802e+06  -40022.466071  ...       0.000000       0.000000\n",
       "25%    1.965259e+01      18.701180  ...       0.000000       0.000000\n",
       "50%    2.087136e+01      19.904235  ...       0.000000       0.000000\n",
       "75%    2.216043e+01      21.150297  ...       0.000000       0.000000\n",
       "max    1.877392e+04    3538.984910  ...       1.000000       1.000000\n",
       "\n",
       "[8 rows x 1020 columns]"
      ]
     },
     "execution_count": 8,
     "metadata": {
      "tags": []
     },
     "output_type": "execute_result"
    }
   ],
   "source": [
    "train_x.describe()"
   ]
  },
  {
   "cell_type": "code",
   "execution_count": 0,
   "metadata": {
    "colab": {},
    "colab_type": "code",
    "id": "IRwhmsrXHf4z"
   },
   "outputs": [],
   "source": [
    "from sklearn.model_selection import train_test_split\n",
    "partial_X_train,X_val,partial_y_train,y_val=train_test_split(train_x_final,train_y,test_size=.1)\n",
    "partial_X_org_train,X_org_val,partial_y_org_train,y_org_val=train_test_split(train_x,train_y,test_size=0.15)\n",
    "partial_X_nohe_train,X_nohe_val,partial_y_nohe_train,y_nohe_val=train_test_split(nohe_train_x,train_y)"
   ]
  },
  {
   "cell_type": "code",
   "execution_count": 0,
   "metadata": {
    "colab": {
     "base_uri": "https://localhost:8080/",
     "height": 439
    },
    "colab_type": "code",
    "executionInfo": {
     "elapsed": 633,
     "status": "ok",
     "timestamp": 1581796862489,
     "user": {
      "displayName": "성균관대학교정영준",
      "photoUrl": "",
      "userId": "16156467539761060813"
     },
     "user_tz": -540
    },
    "id": "Q9RBdDl8cD8c",
    "outputId": "000b6283-5621-4bec-d835-a4a0db51ae07"
   },
   "outputs": [
    {
     "data": {
      "text/html": [
       "<div>\n",
       "<style scoped>\n",
       "    .dataframe tbody tr th:only-of-type {\n",
       "        vertical-align: middle;\n",
       "    }\n",
       "\n",
       "    .dataframe tbody tr th {\n",
       "        vertical-align: top;\n",
       "    }\n",
       "\n",
       "    .dataframe thead th {\n",
       "        text-align: right;\n",
       "    }\n",
       "</style>\n",
       "<table border=\"1\" class=\"dataframe\">\n",
       "  <thead>\n",
       "    <tr style=\"text-align: right;\">\n",
       "      <th></th>\n",
       "      <th>psfMag_u</th>\n",
       "      <th>psfMag_g</th>\n",
       "      <th>psfMag_r</th>\n",
       "      <th>psfMag_i</th>\n",
       "      <th>psfMag_z</th>\n",
       "      <th>fiberMag_u</th>\n",
       "      <th>fiberMag_g</th>\n",
       "      <th>fiberMag_r</th>\n",
       "      <th>fiberMag_i</th>\n",
       "      <th>fiberMag_z</th>\n",
       "      <th>petroMag_u</th>\n",
       "      <th>petroMag_g</th>\n",
       "      <th>petroMag_r</th>\n",
       "      <th>petroMag_i</th>\n",
       "      <th>petroMag_z</th>\n",
       "      <th>modelMag_u</th>\n",
       "      <th>modelMag_g</th>\n",
       "      <th>modelMag_r</th>\n",
       "      <th>modelMag_i</th>\n",
       "      <th>modelMag_z</th>\n",
       "    </tr>\n",
       "  </thead>\n",
       "  <tbody>\n",
       "    <tr>\n",
       "      <th>147690</th>\n",
       "      <td>0.996481</td>\n",
       "      <td>0.919216</td>\n",
       "      <td>0.899830</td>\n",
       "      <td>0.846642</td>\n",
       "      <td>0.717476</td>\n",
       "      <td>0.997406</td>\n",
       "      <td>0.465348</td>\n",
       "      <td>0.643973</td>\n",
       "      <td>0.715588</td>\n",
       "      <td>0.591229</td>\n",
       "      <td>0.075747</td>\n",
       "      <td>0.681883</td>\n",
       "      <td>0.774377</td>\n",
       "      <td>0.805765</td>\n",
       "      <td>0.633822</td>\n",
       "      <td>0.644741</td>\n",
       "      <td>0.777567</td>\n",
       "      <td>0.748996</td>\n",
       "      <td>0.906046</td>\n",
       "      <td>0.778881</td>\n",
       "    </tr>\n",
       "    <tr>\n",
       "      <th>50189</th>\n",
       "      <td>0.996481</td>\n",
       "      <td>0.919247</td>\n",
       "      <td>0.899865</td>\n",
       "      <td>0.846680</td>\n",
       "      <td>0.717519</td>\n",
       "      <td>0.997407</td>\n",
       "      <td>0.465351</td>\n",
       "      <td>0.644004</td>\n",
       "      <td>0.715632</td>\n",
       "      <td>0.591253</td>\n",
       "      <td>0.075748</td>\n",
       "      <td>0.681914</td>\n",
       "      <td>0.774405</td>\n",
       "      <td>0.805790</td>\n",
       "      <td>0.633832</td>\n",
       "      <td>0.644760</td>\n",
       "      <td>0.777596</td>\n",
       "      <td>0.749016</td>\n",
       "      <td>0.906072</td>\n",
       "      <td>0.778923</td>\n",
       "    </tr>\n",
       "    <tr>\n",
       "      <th>75544</th>\n",
       "      <td>0.996482</td>\n",
       "      <td>0.919218</td>\n",
       "      <td>0.899793</td>\n",
       "      <td>0.846597</td>\n",
       "      <td>0.717429</td>\n",
       "      <td>0.997408</td>\n",
       "      <td>0.465348</td>\n",
       "      <td>0.643940</td>\n",
       "      <td>0.715531</td>\n",
       "      <td>0.591190</td>\n",
       "      <td>0.075747</td>\n",
       "      <td>0.681855</td>\n",
       "      <td>0.774310</td>\n",
       "      <td>0.805717</td>\n",
       "      <td>0.633761</td>\n",
       "      <td>0.644779</td>\n",
       "      <td>0.777545</td>\n",
       "      <td>0.748953</td>\n",
       "      <td>0.905990</td>\n",
       "      <td>0.778798</td>\n",
       "    </tr>\n",
       "    <tr>\n",
       "      <th>111344</th>\n",
       "      <td>0.996481</td>\n",
       "      <td>0.919229</td>\n",
       "      <td>0.899845</td>\n",
       "      <td>0.846662</td>\n",
       "      <td>0.717493</td>\n",
       "      <td>0.997406</td>\n",
       "      <td>0.465350</td>\n",
       "      <td>0.643988</td>\n",
       "      <td>0.715611</td>\n",
       "      <td>0.591249</td>\n",
       "      <td>0.075746</td>\n",
       "      <td>0.681895</td>\n",
       "      <td>0.774393</td>\n",
       "      <td>0.805774</td>\n",
       "      <td>0.633821</td>\n",
       "      <td>0.644737</td>\n",
       "      <td>0.777578</td>\n",
       "      <td>0.749003</td>\n",
       "      <td>0.906059</td>\n",
       "      <td>0.778895</td>\n",
       "    </tr>\n",
       "    <tr>\n",
       "      <th>29264</th>\n",
       "      <td>0.996481</td>\n",
       "      <td>0.919204</td>\n",
       "      <td>0.899811</td>\n",
       "      <td>0.846625</td>\n",
       "      <td>0.717461</td>\n",
       "      <td>0.997406</td>\n",
       "      <td>0.465347</td>\n",
       "      <td>0.643958</td>\n",
       "      <td>0.715571</td>\n",
       "      <td>0.591220</td>\n",
       "      <td>0.075745</td>\n",
       "      <td>0.681868</td>\n",
       "      <td>0.774360</td>\n",
       "      <td>0.805754</td>\n",
       "      <td>0.633810</td>\n",
       "      <td>0.644736</td>\n",
       "      <td>0.777555</td>\n",
       "      <td>0.748984</td>\n",
       "      <td>0.906035</td>\n",
       "      <td>0.778868</td>\n",
       "    </tr>\n",
       "    <tr>\n",
       "      <th>...</th>\n",
       "      <td>...</td>\n",
       "      <td>...</td>\n",
       "      <td>...</td>\n",
       "      <td>...</td>\n",
       "      <td>...</td>\n",
       "      <td>...</td>\n",
       "      <td>...</td>\n",
       "      <td>...</td>\n",
       "      <td>...</td>\n",
       "      <td>...</td>\n",
       "      <td>...</td>\n",
       "      <td>...</td>\n",
       "      <td>...</td>\n",
       "      <td>...</td>\n",
       "      <td>...</td>\n",
       "      <td>...</td>\n",
       "      <td>...</td>\n",
       "      <td>...</td>\n",
       "      <td>...</td>\n",
       "      <td>...</td>\n",
       "    </tr>\n",
       "    <tr>\n",
       "      <th>15497</th>\n",
       "      <td>0.996481</td>\n",
       "      <td>0.919218</td>\n",
       "      <td>0.899840</td>\n",
       "      <td>0.846645</td>\n",
       "      <td>0.717485</td>\n",
       "      <td>0.997406</td>\n",
       "      <td>0.465348</td>\n",
       "      <td>0.643982</td>\n",
       "      <td>0.715591</td>\n",
       "      <td>0.591236</td>\n",
       "      <td>0.075745</td>\n",
       "      <td>0.681882</td>\n",
       "      <td>0.774385</td>\n",
       "      <td>0.805769</td>\n",
       "      <td>0.633824</td>\n",
       "      <td>0.644730</td>\n",
       "      <td>0.777567</td>\n",
       "      <td>0.749001</td>\n",
       "      <td>0.906050</td>\n",
       "      <td>0.778886</td>\n",
       "    </tr>\n",
       "    <tr>\n",
       "      <th>51567</th>\n",
       "      <td>0.996481</td>\n",
       "      <td>0.919122</td>\n",
       "      <td>0.899692</td>\n",
       "      <td>0.846508</td>\n",
       "      <td>0.717359</td>\n",
       "      <td>0.997404</td>\n",
       "      <td>0.465339</td>\n",
       "      <td>0.643853</td>\n",
       "      <td>0.715442</td>\n",
       "      <td>0.591142</td>\n",
       "      <td>0.075735</td>\n",
       "      <td>0.681775</td>\n",
       "      <td>0.774242</td>\n",
       "      <td>0.805682</td>\n",
       "      <td>0.633732</td>\n",
       "      <td>0.644652</td>\n",
       "      <td>0.777481</td>\n",
       "      <td>0.748910</td>\n",
       "      <td>0.905950</td>\n",
       "      <td>0.778760</td>\n",
       "    </tr>\n",
       "    <tr>\n",
       "      <th>145268</th>\n",
       "      <td>0.996481</td>\n",
       "      <td>0.919179</td>\n",
       "      <td>0.899769</td>\n",
       "      <td>0.846582</td>\n",
       "      <td>0.717422</td>\n",
       "      <td>0.997406</td>\n",
       "      <td>0.465345</td>\n",
       "      <td>0.643921</td>\n",
       "      <td>0.715523</td>\n",
       "      <td>0.591190</td>\n",
       "      <td>0.075743</td>\n",
       "      <td>0.681838</td>\n",
       "      <td>0.774317</td>\n",
       "      <td>0.805728</td>\n",
       "      <td>0.633778</td>\n",
       "      <td>0.644716</td>\n",
       "      <td>0.777532</td>\n",
       "      <td>0.748957</td>\n",
       "      <td>0.906004</td>\n",
       "      <td>0.778827</td>\n",
       "    </tr>\n",
       "    <tr>\n",
       "      <th>160687</th>\n",
       "      <td>0.996481</td>\n",
       "      <td>0.919176</td>\n",
       "      <td>0.899769</td>\n",
       "      <td>0.846583</td>\n",
       "      <td>0.717425</td>\n",
       "      <td>0.997406</td>\n",
       "      <td>0.465344</td>\n",
       "      <td>0.643921</td>\n",
       "      <td>0.715524</td>\n",
       "      <td>0.591193</td>\n",
       "      <td>0.075743</td>\n",
       "      <td>0.681834</td>\n",
       "      <td>0.774317</td>\n",
       "      <td>0.805729</td>\n",
       "      <td>0.633781</td>\n",
       "      <td>0.644709</td>\n",
       "      <td>0.777529</td>\n",
       "      <td>0.748958</td>\n",
       "      <td>0.906005</td>\n",
       "      <td>0.778827</td>\n",
       "    </tr>\n",
       "    <tr>\n",
       "      <th>135944</th>\n",
       "      <td>0.996481</td>\n",
       "      <td>0.919208</td>\n",
       "      <td>0.899821</td>\n",
       "      <td>0.846634</td>\n",
       "      <td>0.717460</td>\n",
       "      <td>0.997406</td>\n",
       "      <td>0.465347</td>\n",
       "      <td>0.643966</td>\n",
       "      <td>0.715574</td>\n",
       "      <td>0.591219</td>\n",
       "      <td>0.075746</td>\n",
       "      <td>0.681869</td>\n",
       "      <td>0.774361</td>\n",
       "      <td>0.805753</td>\n",
       "      <td>0.633801</td>\n",
       "      <td>0.644741</td>\n",
       "      <td>0.777556</td>\n",
       "      <td>0.748987</td>\n",
       "      <td>0.906036</td>\n",
       "      <td>0.778860</td>\n",
       "    </tr>\n",
       "  </tbody>\n",
       "</table>\n",
       "<p>179991 rows × 20 columns</p>\n",
       "</div>"
      ],
      "text/plain": [
       "        psfMag_u  psfMag_g  psfMag_r  ...  modelMag_r  modelMag_i  modelMag_z\n",
       "147690  0.996481  0.919216  0.899830  ...    0.748996    0.906046    0.778881\n",
       "50189   0.996481  0.919247  0.899865  ...    0.749016    0.906072    0.778923\n",
       "75544   0.996482  0.919218  0.899793  ...    0.748953    0.905990    0.778798\n",
       "111344  0.996481  0.919229  0.899845  ...    0.749003    0.906059    0.778895\n",
       "29264   0.996481  0.919204  0.899811  ...    0.748984    0.906035    0.778868\n",
       "...          ...       ...       ...  ...         ...         ...         ...\n",
       "15497   0.996481  0.919218  0.899840  ...    0.749001    0.906050    0.778886\n",
       "51567   0.996481  0.919122  0.899692  ...    0.748910    0.905950    0.778760\n",
       "145268  0.996481  0.919179  0.899769  ...    0.748957    0.906004    0.778827\n",
       "160687  0.996481  0.919176  0.899769  ...    0.748958    0.906005    0.778827\n",
       "135944  0.996481  0.919208  0.899821  ...    0.748987    0.906036    0.778860\n",
       "\n",
       "[179991 rows x 20 columns]"
      ]
     },
     "execution_count": 63,
     "metadata": {
      "tags": []
     },
     "output_type": "execute_result"
    }
   ],
   "source": [
    "partial_X_train.iloc[:,:20]"
   ]
  },
  {
   "cell_type": "code",
   "execution_count": 35,
   "metadata": {
    "colab": {
     "base_uri": "https://localhost:8080/",
     "height": 576
    },
    "colab_type": "code",
    "executionInfo": {
     "elapsed": 96405,
     "status": "error",
     "timestamp": 1581833239888,
     "user": {
      "displayName": "성균관대학교정영준",
      "photoUrl": "",
      "userId": "16156467539761060813"
     },
     "user_tz": -540
    },
    "id": "inSGQm_vIIwf",
    "outputId": "393712e5-e8a9-46a6-cb4d-fded504c4fba"
   },
   "outputs": [
    {
     "name": "stdout",
     "output_type": "stream",
     "text": [
      "Train on 169992 samples, validate on 29999 samples\n",
      "Epoch 1/50\n",
      "169992/169992 [==============================] - 22s 130us/step - loss: 2.3116 - acc: 0.2481 - val_loss: 2.3054 - val_acc: 0.2477\n",
      "Epoch 2/50\n",
      "169992/169992 [==============================] - 22s 130us/step - loss: 2.3074 - acc: 0.2485 - val_loss: 2.3008 - val_acc: 0.2477\n",
      "Epoch 3/50\n",
      "169992/169992 [==============================] - 22s 129us/step - loss: 2.3070 - acc: 0.2485 - val_loss: 2.3013 - val_acc: 0.2477\n",
      "Epoch 4/50\n",
      "169992/169992 [==============================] - 22s 127us/step - loss: 2.3068 - acc: 0.2485 - val_loss: 2.3017 - val_acc: 0.2477\n",
      "Epoch 5/50\n",
      " 62976/169992 [==========>...................] - ETA: 13s - loss: 2.3027 - acc: 0.2492"
     ]
    },
    {
     "ename": "KeyboardInterrupt",
     "evalue": "ignored",
     "output_type": "error",
     "traceback": [
      "\u001b[0;31m---------------------------------------------------------------------------\u001b[0m",
      "\u001b[0;31mKeyboardInterrupt\u001b[0m                         Traceback (most recent call last)",
      "\u001b[0;32m<ipython-input-35-35c2f2f2fb86>\u001b[0m in \u001b[0;36m<module>\u001b[0;34m()\u001b[0m\n\u001b[1;32m      6\u001b[0m \u001b[0mmodel\u001b[0m\u001b[0;34m.\u001b[0m\u001b[0madd\u001b[0m\u001b[0;34m(\u001b[0m\u001b[0mlayers\u001b[0m\u001b[0;34m.\u001b[0m\u001b[0mDense\u001b[0m\u001b[0;34m(\u001b[0m\u001b[0;36m19\u001b[0m\u001b[0;34m,\u001b[0m\u001b[0mactivation\u001b[0m\u001b[0;34m=\u001b[0m\u001b[0;34m'softmax'\u001b[0m\u001b[0;34m)\u001b[0m\u001b[0;34m)\u001b[0m\u001b[0;34m\u001b[0m\u001b[0;34m\u001b[0m\u001b[0m\n\u001b[1;32m      7\u001b[0m \u001b[0mmodel\u001b[0m\u001b[0;34m.\u001b[0m\u001b[0mcompile\u001b[0m\u001b[0;34m(\u001b[0m\u001b[0moptimizer\u001b[0m\u001b[0;34m=\u001b[0m\u001b[0;34m'rmsprop'\u001b[0m\u001b[0;34m,\u001b[0m\u001b[0mloss\u001b[0m\u001b[0;34m=\u001b[0m\u001b[0;34m'sparse_categorical_crossentropy'\u001b[0m\u001b[0;34m,\u001b[0m\u001b[0mmetrics\u001b[0m\u001b[0;34m=\u001b[0m\u001b[0;34m[\u001b[0m\u001b[0;34m'acc'\u001b[0m\u001b[0;34m]\u001b[0m\u001b[0;34m)\u001b[0m\u001b[0;34m\u001b[0m\u001b[0;34m\u001b[0m\u001b[0m\n\u001b[0;32m----> 8\u001b[0;31m \u001b[0mhistory\u001b[0m\u001b[0;34m=\u001b[0m\u001b[0mmodel\u001b[0m\u001b[0;34m.\u001b[0m\u001b[0mfit\u001b[0m\u001b[0;34m(\u001b[0m\u001b[0mpart_tanh_train_x\u001b[0m\u001b[0;34m,\u001b[0m\u001b[0mpartial_train_y\u001b[0m\u001b[0;34m,\u001b[0m\u001b[0mepochs\u001b[0m\u001b[0;34m=\u001b[0m\u001b[0;36m50\u001b[0m\u001b[0;34m,\u001b[0m\u001b[0mbatch_size\u001b[0m\u001b[0;34m=\u001b[0m\u001b[0;36m32\u001b[0m\u001b[0;34m,\u001b[0m\u001b[0mvalidation_data\u001b[0m\u001b[0;34m=\u001b[0m\u001b[0;34m(\u001b[0m\u001b[0mtanh_val_x\u001b[0m\u001b[0;34m,\u001b[0m\u001b[0mval_y\u001b[0m\u001b[0;34m)\u001b[0m\u001b[0;34m)\u001b[0m\u001b[0;34m\u001b[0m\u001b[0;34m\u001b[0m\u001b[0m\n\u001b[0m",
      "\u001b[0;32m/usr/local/lib/python3.6/dist-packages/keras/engine/training.py\u001b[0m in \u001b[0;36mfit\u001b[0;34m(self, x, y, batch_size, epochs, verbose, callbacks, validation_split, validation_data, shuffle, class_weight, sample_weight, initial_epoch, steps_per_epoch, validation_steps, validation_freq, max_queue_size, workers, use_multiprocessing, **kwargs)\u001b[0m\n\u001b[1;32m   1176\u001b[0m                                         \u001b[0msteps_per_epoch\u001b[0m\u001b[0;34m=\u001b[0m\u001b[0msteps_per_epoch\u001b[0m\u001b[0;34m,\u001b[0m\u001b[0;34m\u001b[0m\u001b[0;34m\u001b[0m\u001b[0m\n\u001b[1;32m   1177\u001b[0m                                         \u001b[0mvalidation_steps\u001b[0m\u001b[0;34m=\u001b[0m\u001b[0mvalidation_steps\u001b[0m\u001b[0;34m,\u001b[0m\u001b[0;34m\u001b[0m\u001b[0;34m\u001b[0m\u001b[0m\n\u001b[0;32m-> 1178\u001b[0;31m                                         validation_freq=validation_freq)\n\u001b[0m\u001b[1;32m   1179\u001b[0m \u001b[0;34m\u001b[0m\u001b[0m\n\u001b[1;32m   1180\u001b[0m     def evaluate(self,\n",
      "\u001b[0;32m/usr/local/lib/python3.6/dist-packages/keras/engine/training_arrays.py\u001b[0m in \u001b[0;36mfit_loop\u001b[0;34m(model, fit_function, fit_inputs, out_labels, batch_size, epochs, verbose, callbacks, val_function, val_inputs, shuffle, callback_metrics, initial_epoch, steps_per_epoch, validation_steps, validation_freq)\u001b[0m\n\u001b[1;32m    203\u001b[0m \u001b[0;34m\u001b[0m\u001b[0m\n\u001b[1;32m    204\u001b[0m                 \u001b[0mouts\u001b[0m \u001b[0;34m=\u001b[0m \u001b[0mfit_function\u001b[0m\u001b[0;34m(\u001b[0m\u001b[0mins_batch\u001b[0m\u001b[0;34m)\u001b[0m\u001b[0;34m\u001b[0m\u001b[0;34m\u001b[0m\u001b[0m\n\u001b[0;32m--> 205\u001b[0;31m                 \u001b[0mouts\u001b[0m \u001b[0;34m=\u001b[0m \u001b[0mto_list\u001b[0m\u001b[0;34m(\u001b[0m\u001b[0mouts\u001b[0m\u001b[0;34m)\u001b[0m\u001b[0;34m\u001b[0m\u001b[0;34m\u001b[0m\u001b[0m\n\u001b[0m\u001b[1;32m    206\u001b[0m                 \u001b[0;32mfor\u001b[0m \u001b[0ml\u001b[0m\u001b[0;34m,\u001b[0m \u001b[0mo\u001b[0m \u001b[0;32min\u001b[0m \u001b[0mzip\u001b[0m\u001b[0;34m(\u001b[0m\u001b[0mout_labels\u001b[0m\u001b[0;34m,\u001b[0m \u001b[0mouts\u001b[0m\u001b[0;34m)\u001b[0m\u001b[0;34m:\u001b[0m\u001b[0;34m\u001b[0m\u001b[0;34m\u001b[0m\u001b[0m\n\u001b[1;32m    207\u001b[0m                     \u001b[0mbatch_logs\u001b[0m\u001b[0;34m[\u001b[0m\u001b[0ml\u001b[0m\u001b[0;34m]\u001b[0m \u001b[0;34m=\u001b[0m \u001b[0mo\u001b[0m\u001b[0;34m\u001b[0m\u001b[0;34m\u001b[0m\u001b[0m\n",
      "\u001b[0;31mKeyboardInterrupt\u001b[0m: "
     ]
    }
   ],
   "source": [
    "from keras import optimizers\n",
    "model=models.Sequential()\n",
    "model.add(layers.Dense(1024,activation='relu',input_shape=(20,)))\n",
    "model.add(layers.Dense(1024,activation='relu'))\n",
    "model.add(layers.Dense(1024,activation='relu'))\n",
    "model.add(layers.Dense(19,activation='softmax'))\n",
    "model.compile(optimizer='rmsprop',loss='sparse_categorical_crossentropy',metrics=['acc'])\n",
    "history=model.fit(part_tanh_train_x,partial_train_y,epochs=50,batch_size=32,validation_data=(tanh_val_x,val_y))\n"
   ]
  },
  {
   "cell_type": "code",
   "execution_count": 57,
   "metadata": {
    "colab": {
     "base_uri": "https://localhost:8080/",
     "height": 35
    },
    "colab_type": "code",
    "executionInfo": {
     "elapsed": 205953,
     "status": "ok",
     "timestamp": 1581834401293,
     "user": {
      "displayName": "성균관대학교정영준",
      "photoUrl": "",
      "userId": "16156467539761060813"
     },
     "user_tz": -540
    },
    "id": "HrepEs_Ym8-l",
    "outputId": "2db5e6e8-0e16-4b09-9a77-c8cba5840dd5"
   },
   "outputs": [
    {
     "data": {
      "text/plain": [
       "0.8771625720857362"
      ]
     },
     "execution_count": 57,
     "metadata": {
      "tags": []
     },
     "output_type": "execute_result"
    }
   ],
   "source": [
    "from sklearn.ensemble import RandomForestClassifier\n",
    "rf_train_x,rf_val_x,rf_train_y,rf_val_y=train_test_split(train_x,train_y,test_size=0.15,stratify=train_y)\n",
    "rf=RandomForestClassifier(n_jobs=-1,n_estimators=200,max_depth=50)\n",
    "rf.fit(rf_train_x,rf_train_y)\n",
    "rf.score(rf_val_x,rf_val_y)"
   ]
  },
  {
   "cell_type": "code",
   "execution_count": 63,
   "metadata": {
    "colab": {
     "base_uri": "https://localhost:8080/",
     "height": 359
    },
    "colab_type": "code",
    "executionInfo": {
     "elapsed": 1287,
     "status": "ok",
     "timestamp": 1581834818907,
     "user": {
      "displayName": "성균관대학교정영준",
      "photoUrl": "",
      "userId": "16156467539761060813"
     },
     "user_tz": -540
    },
    "id": "dbrpqbbds8H5",
    "outputId": "0febb713-75f3-48e2-bd85-b53fa257df0d"
   },
   "outputs": [
    {
     "data": {
      "text/plain": [
       "{'bootstrap': True,\n",
       " 'ccp_alpha': 0.0,\n",
       " 'class_weight': None,\n",
       " 'criterion': 'gini',\n",
       " 'max_depth': 50,\n",
       " 'max_features': 'auto',\n",
       " 'max_leaf_nodes': None,\n",
       " 'max_samples': None,\n",
       " 'min_impurity_decrease': 0.0,\n",
       " 'min_impurity_split': None,\n",
       " 'min_samples_leaf': 1,\n",
       " 'min_samples_split': 2,\n",
       " 'min_weight_fraction_leaf': 0.0,\n",
       " 'n_estimators': 200,\n",
       " 'n_jobs': -1,\n",
       " 'oob_score': False,\n",
       " 'random_state': None,\n",
       " 'verbose': 0,\n",
       " 'warm_start': False}"
      ]
     },
     "execution_count": 63,
     "metadata": {
      "tags": []
     },
     "output_type": "execute_result"
    }
   ],
   "source": [
    "rf.get_params()"
   ]
  },
  {
   "cell_type": "code",
   "execution_count": 0,
   "metadata": {
    "colab": {},
    "colab_type": "code",
    "id": "cSe3YVO_r0Sx"
   },
   "outputs": [],
   "source": [
    "from sklearn.model_selection import GridSearchCV\n",
    "from sklearn.pipeline import Pipeline\n",
    "RandomForestClassifier()\n",
    "param_grid={'n_estimators':[300],'max_depth':[30,50,70],'min_samples_split':[2,3,4]}\n",
    "grid=GridSearchCV(rf,param_grid=param_grid,scoring='neg_log_loss',n_jobs=-1,cv=5)"
   ]
  },
  {
   "cell_type": "code",
   "execution_count": 0,
   "metadata": {
    "colab": {
     "base_uri": "https://localhost:8080/",
     "height": 0
    },
    "colab_type": "code",
    "id": "Dw_940HDtgVb",
    "outputId": "fe1e4768-8617-4a13-de9b-3144f85d5410"
   },
   "outputs": [
    {
     "name": "stderr",
     "output_type": "stream",
     "text": [
      "/usr/local/lib/python3.6/dist-packages/joblib/externals/loky/process_executor.py:706: UserWarning: A worker stopped while some jobs were given to the executor. This can be caused by a too short worker timeout or by a memory leak.\n",
      "  \"timeout or by a memory leak.\", UserWarning\n"
     ]
    }
   ],
   "source": [
    "grid.fit(train_x,train_y)"
   ]
  },
  {
   "cell_type": "code",
   "execution_count": 0,
   "metadata": {
    "colab": {},
    "colab_type": "code",
    "id": "i3pimo_mo5vM"
   },
   "outputs": [],
   "source": [
    "from sklearn.metrics import log_loss\n",
    "val_pred=rf.predict(rf_val_x( )"
   ]
  },
  {
   "cell_type": "code",
   "execution_count": 60,
   "metadata": {
    "colab": {
     "base_uri": "https://localhost:8080/",
     "height": 448
    },
    "colab_type": "code",
    "executionInfo": {
     "elapsed": 700,
     "status": "error",
     "timestamp": 1581834495142,
     "user": {
      "displayName": "성균관대학교정영준",
      "photoUrl": "",
      "userId": "16156467539761060813"
     },
     "user_tz": -540
    },
    "id": "RPSjgrFVnhgD",
    "outputId": "bf0d32d2-af92-4318-dfa8-e22f3886f500"
   },
   "outputs": [
    {
     "ename": "ValueError",
     "evalue": "ignored",
     "output_type": "error",
     "traceback": [
      "\u001b[0;31m---------------------------------------------------------------------------\u001b[0m",
      "\u001b[0;31mValueError\u001b[0m                                Traceback (most recent call last)",
      "\u001b[0;32m/usr/local/lib/python3.6/dist-packages/pandas/core/internals/managers.py\u001b[0m in \u001b[0;36mcreate_block_manager_from_blocks\u001b[0;34m(blocks, axes)\u001b[0m\n\u001b[1;32m   1677\u001b[0m                 blocks = [\n\u001b[0;32m-> 1678\u001b[0;31m                     \u001b[0mmake_block\u001b[0m\u001b[0;34m(\u001b[0m\u001b[0mvalues\u001b[0m\u001b[0;34m=\u001b[0m\u001b[0mblocks\u001b[0m\u001b[0;34m[\u001b[0m\u001b[0;36m0\u001b[0m\u001b[0;34m]\u001b[0m\u001b[0;34m,\u001b[0m \u001b[0mplacement\u001b[0m\u001b[0;34m=\u001b[0m\u001b[0mslice\u001b[0m\u001b[0;34m(\u001b[0m\u001b[0;36m0\u001b[0m\u001b[0;34m,\u001b[0m \u001b[0mlen\u001b[0m\u001b[0;34m(\u001b[0m\u001b[0maxes\u001b[0m\u001b[0;34m[\u001b[0m\u001b[0;36m0\u001b[0m\u001b[0;34m]\u001b[0m\u001b[0;34m)\u001b[0m\u001b[0;34m)\u001b[0m\u001b[0;34m)\u001b[0m\u001b[0;34m\u001b[0m\u001b[0;34m\u001b[0m\u001b[0m\n\u001b[0m\u001b[1;32m   1679\u001b[0m                 ]\n",
      "\u001b[0;32m/usr/local/lib/python3.6/dist-packages/pandas/core/internals/blocks.py\u001b[0m in \u001b[0;36mmake_block\u001b[0;34m(values, placement, klass, ndim, dtype, fastpath)\u001b[0m\n\u001b[1;32m   3283\u001b[0m \u001b[0;34m\u001b[0m\u001b[0m\n\u001b[0;32m-> 3284\u001b[0;31m     \u001b[0;32mreturn\u001b[0m \u001b[0mklass\u001b[0m\u001b[0;34m(\u001b[0m\u001b[0mvalues\u001b[0m\u001b[0;34m,\u001b[0m \u001b[0mndim\u001b[0m\u001b[0;34m=\u001b[0m\u001b[0mndim\u001b[0m\u001b[0;34m,\u001b[0m \u001b[0mplacement\u001b[0m\u001b[0;34m=\u001b[0m\u001b[0mplacement\u001b[0m\u001b[0;34m)\u001b[0m\u001b[0;34m\u001b[0m\u001b[0;34m\u001b[0m\u001b[0m\n\u001b[0m\u001b[1;32m   3285\u001b[0m \u001b[0;34m\u001b[0m\u001b[0m\n",
      "\u001b[0;32m/usr/local/lib/python3.6/dist-packages/pandas/core/internals/blocks.py\u001b[0m in \u001b[0;36m__init__\u001b[0;34m(self, values, placement, ndim)\u001b[0m\n\u001b[1;32m    127\u001b[0m                 \u001b[0;34m\"Wrong number of items passed {val}, placement implies \"\u001b[0m\u001b[0;34m\u001b[0m\u001b[0;34m\u001b[0m\u001b[0m\n\u001b[0;32m--> 128\u001b[0;31m                 \u001b[0;34m\"{mgr}\"\u001b[0m\u001b[0;34m.\u001b[0m\u001b[0mformat\u001b[0m\u001b[0;34m(\u001b[0m\u001b[0mval\u001b[0m\u001b[0;34m=\u001b[0m\u001b[0mlen\u001b[0m\u001b[0;34m(\u001b[0m\u001b[0mself\u001b[0m\u001b[0;34m.\u001b[0m\u001b[0mvalues\u001b[0m\u001b[0;34m)\u001b[0m\u001b[0;34m,\u001b[0m \u001b[0mmgr\u001b[0m\u001b[0;34m=\u001b[0m\u001b[0mlen\u001b[0m\u001b[0;34m(\u001b[0m\u001b[0mself\u001b[0m\u001b[0;34m.\u001b[0m\u001b[0mmgr_locs\u001b[0m\u001b[0;34m)\u001b[0m\u001b[0;34m)\u001b[0m\u001b[0;34m\u001b[0m\u001b[0;34m\u001b[0m\u001b[0m\n\u001b[0m\u001b[1;32m    129\u001b[0m             )\n",
      "\u001b[0;31mValueError\u001b[0m: Wrong number of items passed 1, placement implies 19",
      "\nDuring handling of the above exception, another exception occurred:\n",
      "\u001b[0;31mValueError\u001b[0m                                Traceback (most recent call last)",
      "\u001b[0;32m<ipython-input-60-64c9d273cffc>\u001b[0m in \u001b[0;36m<module>\u001b[0;34m()\u001b[0m\n\u001b[0;32m----> 1\u001b[0;31m \u001b[0msubmission\u001b[0m \u001b[0;34m=\u001b[0m \u001b[0mpd\u001b[0m\u001b[0;34m.\u001b[0m\u001b[0mDataFrame\u001b[0m\u001b[0;34m(\u001b[0m\u001b[0mdata\u001b[0m\u001b[0;34m=\u001b[0m\u001b[0mval_pred\u001b[0m\u001b[0;34m,\u001b[0m \u001b[0mcolumns\u001b[0m\u001b[0;34m=\u001b[0m\u001b[0msample_submission\u001b[0m\u001b[0;34m.\u001b[0m\u001b[0mcolumns\u001b[0m\u001b[0;34m,\u001b[0m \u001b[0mindex\u001b[0m\u001b[0;34m=\u001b[0m\u001b[0msample_submission\u001b[0m\u001b[0;34m.\u001b[0m\u001b[0mindex\u001b[0m\u001b[0;34m)\u001b[0m\u001b[0;34m\u001b[0m\u001b[0;34m\u001b[0m\u001b[0m\n\u001b[0m\u001b[1;32m      2\u001b[0m \u001b[0msubmission\u001b[0m\u001b[0;34m.\u001b[0m\u001b[0mto_csv\u001b[0m\u001b[0;34m(\u001b[0m\u001b[0;34m'submissionrf.csv'\u001b[0m\u001b[0;34m,\u001b[0m \u001b[0mindex\u001b[0m\u001b[0;34m=\u001b[0m\u001b[0;32mTrue\u001b[0m\u001b[0;34m)\u001b[0m\u001b[0;34m\u001b[0m\u001b[0;34m\u001b[0m\u001b[0m\n",
      "\u001b[0;32m/usr/local/lib/python3.6/dist-packages/pandas/core/frame.py\u001b[0m in \u001b[0;36m__init__\u001b[0;34m(self, data, index, columns, dtype, copy)\u001b[0m\n\u001b[1;32m    438\u001b[0m                 \u001b[0mmgr\u001b[0m \u001b[0;34m=\u001b[0m \u001b[0minit_dict\u001b[0m\u001b[0;34m(\u001b[0m\u001b[0;34m{\u001b[0m\u001b[0mdata\u001b[0m\u001b[0;34m.\u001b[0m\u001b[0mname\u001b[0m\u001b[0;34m:\u001b[0m \u001b[0mdata\u001b[0m\u001b[0;34m}\u001b[0m\u001b[0;34m,\u001b[0m \u001b[0mindex\u001b[0m\u001b[0;34m,\u001b[0m \u001b[0mcolumns\u001b[0m\u001b[0;34m,\u001b[0m \u001b[0mdtype\u001b[0m\u001b[0;34m=\u001b[0m\u001b[0mdtype\u001b[0m\u001b[0;34m)\u001b[0m\u001b[0;34m\u001b[0m\u001b[0;34m\u001b[0m\u001b[0m\n\u001b[1;32m    439\u001b[0m             \u001b[0;32melse\u001b[0m\u001b[0;34m:\u001b[0m\u001b[0;34m\u001b[0m\u001b[0;34m\u001b[0m\u001b[0m\n\u001b[0;32m--> 440\u001b[0;31m                 \u001b[0mmgr\u001b[0m \u001b[0;34m=\u001b[0m \u001b[0minit_ndarray\u001b[0m\u001b[0;34m(\u001b[0m\u001b[0mdata\u001b[0m\u001b[0;34m,\u001b[0m \u001b[0mindex\u001b[0m\u001b[0;34m,\u001b[0m \u001b[0mcolumns\u001b[0m\u001b[0;34m,\u001b[0m \u001b[0mdtype\u001b[0m\u001b[0;34m=\u001b[0m\u001b[0mdtype\u001b[0m\u001b[0;34m,\u001b[0m \u001b[0mcopy\u001b[0m\u001b[0;34m=\u001b[0m\u001b[0mcopy\u001b[0m\u001b[0;34m)\u001b[0m\u001b[0;34m\u001b[0m\u001b[0;34m\u001b[0m\u001b[0m\n\u001b[0m\u001b[1;32m    441\u001b[0m \u001b[0;34m\u001b[0m\u001b[0m\n\u001b[1;32m    442\u001b[0m         \u001b[0;31m# For data is list-like, or Iterable (will consume into list)\u001b[0m\u001b[0;34m\u001b[0m\u001b[0;34m\u001b[0m\u001b[0;34m\u001b[0m\u001b[0m\n",
      "\u001b[0;32m/usr/local/lib/python3.6/dist-packages/pandas/core/internals/construction.py\u001b[0m in \u001b[0;36minit_ndarray\u001b[0;34m(values, index, columns, dtype, copy)\u001b[0m\n\u001b[1;32m    211\u001b[0m         \u001b[0mblock_values\u001b[0m \u001b[0;34m=\u001b[0m \u001b[0;34m[\u001b[0m\u001b[0mvalues\u001b[0m\u001b[0;34m]\u001b[0m\u001b[0;34m\u001b[0m\u001b[0;34m\u001b[0m\u001b[0m\n\u001b[1;32m    212\u001b[0m \u001b[0;34m\u001b[0m\u001b[0m\n\u001b[0;32m--> 213\u001b[0;31m     \u001b[0;32mreturn\u001b[0m \u001b[0mcreate_block_manager_from_blocks\u001b[0m\u001b[0;34m(\u001b[0m\u001b[0mblock_values\u001b[0m\u001b[0;34m,\u001b[0m \u001b[0;34m[\u001b[0m\u001b[0mcolumns\u001b[0m\u001b[0;34m,\u001b[0m \u001b[0mindex\u001b[0m\u001b[0;34m]\u001b[0m\u001b[0;34m)\u001b[0m\u001b[0;34m\u001b[0m\u001b[0;34m\u001b[0m\u001b[0m\n\u001b[0m\u001b[1;32m    214\u001b[0m \u001b[0;34m\u001b[0m\u001b[0m\n\u001b[1;32m    215\u001b[0m \u001b[0;34m\u001b[0m\u001b[0m\n",
      "\u001b[0;32m/usr/local/lib/python3.6/dist-packages/pandas/core/internals/managers.py\u001b[0m in \u001b[0;36mcreate_block_manager_from_blocks\u001b[0;34m(blocks, axes)\u001b[0m\n\u001b[1;32m   1686\u001b[0m         \u001b[0mblocks\u001b[0m \u001b[0;34m=\u001b[0m \u001b[0;34m[\u001b[0m\u001b[0mgetattr\u001b[0m\u001b[0;34m(\u001b[0m\u001b[0mb\u001b[0m\u001b[0;34m,\u001b[0m \u001b[0;34m\"values\"\u001b[0m\u001b[0;34m,\u001b[0m \u001b[0mb\u001b[0m\u001b[0;34m)\u001b[0m \u001b[0;32mfor\u001b[0m \u001b[0mb\u001b[0m \u001b[0;32min\u001b[0m \u001b[0mblocks\u001b[0m\u001b[0;34m]\u001b[0m\u001b[0;34m\u001b[0m\u001b[0;34m\u001b[0m\u001b[0m\n\u001b[1;32m   1687\u001b[0m         \u001b[0mtot_items\u001b[0m \u001b[0;34m=\u001b[0m \u001b[0msum\u001b[0m\u001b[0;34m(\u001b[0m\u001b[0mb\u001b[0m\u001b[0;34m.\u001b[0m\u001b[0mshape\u001b[0m\u001b[0;34m[\u001b[0m\u001b[0;36m0\u001b[0m\u001b[0;34m]\u001b[0m \u001b[0;32mfor\u001b[0m \u001b[0mb\u001b[0m \u001b[0;32min\u001b[0m \u001b[0mblocks\u001b[0m\u001b[0;34m)\u001b[0m\u001b[0;34m\u001b[0m\u001b[0;34m\u001b[0m\u001b[0m\n\u001b[0;32m-> 1688\u001b[0;31m         \u001b[0mconstruction_error\u001b[0m\u001b[0;34m(\u001b[0m\u001b[0mtot_items\u001b[0m\u001b[0;34m,\u001b[0m \u001b[0mblocks\u001b[0m\u001b[0;34m[\u001b[0m\u001b[0;36m0\u001b[0m\u001b[0;34m]\u001b[0m\u001b[0;34m.\u001b[0m\u001b[0mshape\u001b[0m\u001b[0;34m[\u001b[0m\u001b[0;36m1\u001b[0m\u001b[0;34m:\u001b[0m\u001b[0;34m]\u001b[0m\u001b[0;34m,\u001b[0m \u001b[0maxes\u001b[0m\u001b[0;34m,\u001b[0m \u001b[0me\u001b[0m\u001b[0;34m)\u001b[0m\u001b[0;34m\u001b[0m\u001b[0;34m\u001b[0m\u001b[0m\n\u001b[0m\u001b[1;32m   1689\u001b[0m \u001b[0;34m\u001b[0m\u001b[0m\n\u001b[1;32m   1690\u001b[0m \u001b[0;34m\u001b[0m\u001b[0m\n",
      "\u001b[0;32m/usr/local/lib/python3.6/dist-packages/pandas/core/internals/managers.py\u001b[0m in \u001b[0;36mconstruction_error\u001b[0;34m(tot_items, block_shape, axes, e)\u001b[0m\n\u001b[1;32m   1717\u001b[0m         \u001b[0;32mraise\u001b[0m \u001b[0mValueError\u001b[0m\u001b[0;34m(\u001b[0m\u001b[0;34m\"Empty data passed with indices specified.\"\u001b[0m\u001b[0;34m)\u001b[0m\u001b[0;34m\u001b[0m\u001b[0;34m\u001b[0m\u001b[0m\n\u001b[1;32m   1718\u001b[0m     raise ValueError(\n\u001b[0;32m-> 1719\u001b[0;31m         \u001b[0;34m\"Shape of passed values is {0}, indices imply {1}\"\u001b[0m\u001b[0;34m.\u001b[0m\u001b[0mformat\u001b[0m\u001b[0;34m(\u001b[0m\u001b[0mpassed\u001b[0m\u001b[0;34m,\u001b[0m \u001b[0mimplied\u001b[0m\u001b[0;34m)\u001b[0m\u001b[0;34m\u001b[0m\u001b[0;34m\u001b[0m\u001b[0m\n\u001b[0m\u001b[1;32m   1720\u001b[0m     )\n\u001b[1;32m   1721\u001b[0m \u001b[0;34m\u001b[0m\u001b[0m\n",
      "\u001b[0;31mValueError\u001b[0m: Shape of passed values is (29999, 1), indices imply (10009, 19)"
     ]
    }
   ],
   "source": [
    "submission = pd.DataFrame(data=val_pred, columns=sample_submission.columns, index=sample_submission.index)\n",
    "submission.to_csv('submissionrf.csv', index=True)"
   ]
  },
  {
   "cell_type": "code",
   "execution_count": 56,
   "metadata": {
    "colab": {
     "base_uri": "https://localhost:8080/",
     "height": 35
    },
    "colab_type": "code",
    "executionInfo": {
     "elapsed": 670,
     "status": "ok",
     "timestamp": 1581834148835,
     "user": {
      "displayName": "성균관대학교정영준",
      "photoUrl": "",
      "userId": "16156467539761060813"
     },
     "user_tz": -540
    },
    "id": "0SIzn1wwqLFW",
    "outputId": "fd4a7ab5-adcd-40f9-b8e3-88f6f53d2bc5"
   },
   "outputs": [
    {
     "data": {
      "text/plain": [
       "array([ 0,  1,  2,  3,  4,  5,  6,  7,  8,  9, 10, 11, 13, 14, 15, 16, 18])"
      ]
     },
     "execution_count": 56,
     "metadata": {
      "tags": []
     },
     "output_type": "execute_result"
    }
   ],
   "source": [
    "np.unique(val_pred)"
   ]
  },
  {
   "cell_type": "code",
   "execution_count": 0,
   "metadata": {
    "colab": {
     "base_uri": "https://localhost:8080/",
     "height": 1000
    },
    "colab_type": "code",
    "executionInfo": {
     "elapsed": 566347,
     "status": "ok",
     "timestamp": 1581802149141,
     "user": {
      "displayName": "성균관대학교정영준",
      "photoUrl": "",
      "userId": "16156467539761060813"
     },
     "user_tz": -540
    },
    "id": "aFIfB2egr3EJ",
    "outputId": "e3dfe5cf-a543-428a-8641-66a7edfc4810"
   },
   "outputs": [
    {
     "name": "stdout",
     "output_type": "stream",
     "text": [
      "Epoch 1/50\n",
      "199991/199991 [==============================] - 13s 63us/step - loss: 1.0807 - sparse_categorical_crossentropy: 1.0807\n",
      "Epoch 2/50\n",
      "199991/199991 [==============================] - 12s 59us/step - loss: 0.7899 - sparse_categorical_crossentropy: 0.7899\n",
      "Epoch 3/50\n",
      "199991/199991 [==============================] - 12s 58us/step - loss: 0.6882 - sparse_categorical_crossentropy: 0.6882\n",
      "Epoch 4/50\n",
      "199991/199991 [==============================] - 12s 59us/step - loss: 0.6269 - sparse_categorical_crossentropy: 0.6269\n",
      "Epoch 5/50\n",
      "199991/199991 [==============================] - 12s 59us/step - loss: 0.6032 - sparse_categorical_crossentropy: 0.6032\n",
      "Epoch 6/50\n",
      "199991/199991 [==============================] - 12s 58us/step - loss: 0.5827 - sparse_categorical_crossentropy: 0.5827\n",
      "Epoch 7/50\n",
      "199991/199991 [==============================] - 12s 58us/step - loss: 0.5706 - sparse_categorical_crossentropy: 0.5706\n",
      "Epoch 8/50\n",
      "199991/199991 [==============================] - 12s 58us/step - loss: 0.5628 - sparse_categorical_crossentropy: 0.5628\n",
      "Epoch 9/50\n",
      "199991/199991 [==============================] - 12s 59us/step - loss: 0.5513 - sparse_categorical_crossentropy: 0.5513\n",
      "Epoch 10/50\n",
      "199991/199991 [==============================] - 11s 57us/step - loss: 0.5499 - sparse_categorical_crossentropy: 0.5499\n",
      "Epoch 11/50\n",
      "199991/199991 [==============================] - 12s 58us/step - loss: 0.5361 - sparse_categorical_crossentropy: 0.5361\n",
      "Epoch 12/50\n",
      "199991/199991 [==============================] - 11s 57us/step - loss: 0.5328 - sparse_categorical_crossentropy: 0.5328\n",
      "Epoch 13/50\n",
      "199991/199991 [==============================] - 12s 58us/step - loss: 0.5303 - sparse_categorical_crossentropy: 0.5303\n",
      "Epoch 14/50\n",
      "199991/199991 [==============================] - 11s 57us/step - loss: 0.5248 - sparse_categorical_crossentropy: 0.5248\n",
      "Epoch 15/50\n",
      "199991/199991 [==============================] - 12s 59us/step - loss: 0.5258 - sparse_categorical_crossentropy: 0.5258\n",
      "Epoch 16/50\n",
      "199991/199991 [==============================] - 12s 61us/step - loss: 0.5238 - sparse_categorical_crossentropy: 0.5238\n",
      "Epoch 17/50\n",
      "199991/199991 [==============================] - 12s 58us/step - loss: 0.5187 - sparse_categorical_crossentropy: 0.5187\n",
      "Epoch 18/50\n",
      "199991/199991 [==============================] - 12s 58us/step - loss: 0.5163 - sparse_categorical_crossentropy: 0.5163\n",
      "Epoch 19/50\n",
      "199991/199991 [==============================] - 11s 57us/step - loss: 0.5083 - sparse_categorical_crossentropy: 0.5083\n",
      "Epoch 20/50\n",
      "199991/199991 [==============================] - 11s 55us/step - loss: 0.5068 - sparse_categorical_crossentropy: 0.5068\n",
      "Epoch 21/50\n",
      "199991/199991 [==============================] - 12s 58us/step - loss: 0.5038 - sparse_categorical_crossentropy: 0.5038\n",
      "Epoch 22/50\n",
      "199991/199991 [==============================] - 11s 56us/step - loss: 0.5052 - sparse_categorical_crossentropy: 0.5052\n",
      "Epoch 23/50\n",
      "199991/199991 [==============================] - 11s 57us/step - loss: 0.5017 - sparse_categorical_crossentropy: 0.5017\n",
      "Epoch 24/50\n",
      "199991/199991 [==============================] - 11s 56us/step - loss: 0.5015 - sparse_categorical_crossentropy: 0.5015\n",
      "Epoch 25/50\n",
      "199991/199991 [==============================] - 11s 56us/step - loss: 0.4957 - sparse_categorical_crossentropy: 0.4957\n",
      "Epoch 26/50\n",
      "199991/199991 [==============================] - 11s 56us/step - loss: 0.4932 - sparse_categorical_crossentropy: 0.4932\n",
      "Epoch 27/50\n",
      "199991/199991 [==============================] - 11s 56us/step - loss: 0.4968 - sparse_categorical_crossentropy: 0.4968\n",
      "Epoch 28/50\n",
      "199991/199991 [==============================] - 11s 56us/step - loss: 0.4958 - sparse_categorical_crossentropy: 0.4958\n",
      "Epoch 29/50\n",
      "199991/199991 [==============================] - 11s 55us/step - loss: 0.4915 - sparse_categorical_crossentropy: 0.4915\n",
      "Epoch 30/50\n",
      "199991/199991 [==============================] - 11s 55us/step - loss: 0.4912 - sparse_categorical_crossentropy: 0.4912\n",
      "Epoch 31/50\n",
      "199991/199991 [==============================] - 11s 55us/step - loss: 0.4880 - sparse_categorical_crossentropy: 0.4880\n",
      "Epoch 32/50\n",
      "199991/199991 [==============================] - 11s 55us/step - loss: 0.4857 - sparse_categorical_crossentropy: 0.4857\n",
      "Epoch 33/50\n",
      "199991/199991 [==============================] - 11s 55us/step - loss: 0.4873 - sparse_categorical_crossentropy: 0.4873\n",
      "Epoch 34/50\n",
      "199991/199991 [==============================] - 11s 55us/step - loss: 0.4864 - sparse_categorical_crossentropy: 0.4864\n",
      "Epoch 35/50\n",
      "199991/199991 [==============================] - 11s 55us/step - loss: 0.4847 - sparse_categorical_crossentropy: 0.4847\n",
      "Epoch 36/50\n",
      "199991/199991 [==============================] - 11s 54us/step - loss: 0.4812 - sparse_categorical_crossentropy: 0.4812\n",
      "Epoch 37/50\n",
      "199991/199991 [==============================] - 11s 55us/step - loss: 0.4825 - sparse_categorical_crossentropy: 0.4825\n",
      "Epoch 38/50\n",
      "199991/199991 [==============================] - 11s 55us/step - loss: 0.4800 - sparse_categorical_crossentropy: 0.4800\n",
      "Epoch 39/50\n",
      "199991/199991 [==============================] - 11s 56us/step - loss: 0.4785 - sparse_categorical_crossentropy: 0.4785\n",
      "Epoch 40/50\n",
      "199991/199991 [==============================] - 11s 54us/step - loss: 0.4805 - sparse_categorical_crossentropy: 0.4805\n",
      "Epoch 41/50\n",
      "199991/199991 [==============================] - 11s 54us/step - loss: 0.4804 - sparse_categorical_crossentropy: 0.4804\n",
      "Epoch 42/50\n",
      "199991/199991 [==============================] - 11s 55us/step - loss: 0.4776 - sparse_categorical_crossentropy: 0.4776\n",
      "Epoch 43/50\n",
      "199991/199991 [==============================] - 11s 56us/step - loss: 0.4744 - sparse_categorical_crossentropy: 0.4744\n",
      "Epoch 44/50\n",
      "199991/199991 [==============================] - 11s 57us/step - loss: 0.4751 - sparse_categorical_crossentropy: 0.4751\n",
      "Epoch 45/50\n",
      "199991/199991 [==============================] - 11s 55us/step - loss: 0.4730 - sparse_categorical_crossentropy: 0.4730\n",
      "Epoch 46/50\n",
      "199991/199991 [==============================] - 11s 54us/step - loss: 0.4752 - sparse_categorical_crossentropy: 0.4752\n",
      "Epoch 47/50\n",
      "199991/199991 [==============================] - 11s 54us/step - loss: 0.4765 - sparse_categorical_crossentropy: 0.4765\n",
      "Epoch 48/50\n",
      "199991/199991 [==============================] - 11s 56us/step - loss: 0.4710 - sparse_categorical_crossentropy: 0.4710\n",
      "Epoch 49/50\n",
      "199991/199991 [==============================] - 11s 55us/step - loss: 0.4715 - sparse_categorical_crossentropy: 0.4715\n",
      "Epoch 50/50\n",
      "199991/199991 [==============================] - 11s 55us/step - loss: 0.4728 - sparse_categorical_crossentropy: 0.4728\n"
     ]
    }
   ],
   "source": [
    "from keras import optimizers\n",
    "model=models.Sequential()\n",
    "model.add(layers.Dense(512,activation='relu',input_shape=(20,)))\n",
    "model.add(layers.Dense(512,activation='relu'))\n",
    "model.add(layers.Dense(512,activation='relu'))\n",
    "model.add(layers.Dense(19,activation='softmax'))\n",
    "model.compile(optimizer=optimizers.adam(lr=0.001),loss='sparse_categorical_crossentropy',metrics=['sparse_categorical_crossentropy'])\n",
    "history=model.fit(nohe_train_x,train_y,epochs=50,batch_size=64)"
   ]
  },
  {
   "cell_type": "code",
   "execution_count": 0,
   "metadata": {
    "colab": {},
    "colab_type": "code",
    "id": "7iqEHGsTISbF"
   },
   "outputs": [],
   "source": [
    "def plot_loss(history):\n",
    "  #50 epochs #64 batchsize 64~512\n",
    "  train_categorical_crossentropy=history.history['loss'] \n",
    "  validation_categorical_crossentropy=history.history['val_loss']\n",
    "  xlimit=range(1,len(validation_categorical_crossentropy)+1)\n",
    "  plt.plot(xlimit,train_categorical_crossentropy,'r',label='Training Categorical CrossEntropy')\n",
    "  plt.plot(xlimit,validation_categorical_crossentropy,'b',label='Validation Categorical CrossEntropy')\n",
    "  plt.title('Losses Graph')\n",
    "  plt.xlabel('Epochs')\n",
    "  plt.ylabel('Loss == Metrics')\n",
    "  plt.legend()\n",
    "  plt.show()\n",
    "  print('batch_size :', history.params['batch_size'])\n",
    "  print('metrics : ',history.params['metrics'])"
   ]
  },
  {
   "cell_type": "code",
   "execution_count": 0,
   "metadata": {
    "colab": {
     "base_uri": "https://localhost:8080/",
     "height": 331
    },
    "colab_type": "code",
    "executionInfo": {
     "elapsed": 839,
     "status": "ok",
     "timestamp": 1581797632565,
     "user": {
      "displayName": "성균관대학교정영준",
      "photoUrl": "",
      "userId": "16156467539761060813"
     },
     "user_tz": -540
    },
    "id": "6eKgJMdwfGGP",
    "outputId": "f067e632-5717-4a8d-d2cc-23d4c063b11c"
   },
   "outputs": [
    {
     "data": {
      "image/png": "[encoded data removed]",
      "text/plain": [
       "<Figure size 432x288 with 1 Axes>"
      ]
     },
     "metadata": {
      "tags": []
     },
     "output_type": "display_data"
    },
    {
     "name": "stdout",
     "output_type": "stream",
     "text": [
      "batch_size : 256\n",
      "metrics :  ['loss', 'sparse_categorical_crossentropy', 'val_loss', 'val_sparse_categorical_crossentropy']\n"
     ]
    }
   ],
   "source": [
    "plot_loss(history)"
   ]
  },
  {
   "cell_type": "code",
   "execution_count": 0,
   "metadata": {
    "colab": {
     "base_uri": "https://localhost:8080/",
     "height": 331
    },
    "colab_type": "code",
    "executionInfo": {
     "elapsed": 1008,
     "status": "ok",
     "timestamp": 1581800781565,
     "user": {
      "displayName": "성균관대학교정영준",
      "photoUrl": "",
      "userId": "16156467539761060813"
     },
     "user_tz": -540
    },
    "id": "GgNN8z8wrGjf",
    "outputId": "64aff892-ca55-4f4a-8e00-7beb81962b3e"
   },
   "outputs": [
    {
     "data": {
      "image/png": "[encoded data removed]",
      "text/plain": [
       "<Figure size 432x288 with 1 Axes>"
      ]
     },
     "metadata": {
      "tags": []
     },
     "output_type": "display_data"
    },
    {
     "name": "stdout",
     "output_type": "stream",
     "text": [
      "batch_size : 32\n",
      "metrics :  ['loss', 'sparse_categorical_crossentropy', 'val_loss', 'val_sparse_categorical_crossentropy']\n"
     ]
    }
   ],
   "source": [
    "plot_loss(history)"
   ]
  },
  {
   "cell_type": "code",
   "execution_count": 0,
   "metadata": {
    "colab": {
     "base_uri": "https://localhost:8080/",
     "height": 331
    },
    "colab_type": "code",
    "executionInfo": {
     "elapsed": 835,
     "status": "ok",
     "timestamp": 1581798358644,
     "user": {
      "displayName": "성균관대학교정영준",
      "photoUrl": "",
      "userId": "16156467539761060813"
     },
     "user_tz": -540
    },
    "id": "Upmnry9Ph2t3",
    "outputId": "510a3c68-82c9-4529-a301-6fb7657e193a"
   },
   "outputs": [
    {
     "data": {
      "image/png": "[encoded data removed]",
      "text/plain": [
       "<Figure size 432x288 with 1 Axes>"
      ]
     },
     "metadata": {
      "tags": []
     },
     "output_type": "display_data"
    },
    {
     "name": "stdout",
     "output_type": "stream",
     "text": [
      "batch_size : 32\n",
      "metrics :  ['loss', 'sparse_categorical_crossentropy', 'val_loss', 'val_sparse_categorical_crossentropy']\n"
     ]
    }
   ],
   "source": [
    "plot_loss(history)"
   ]
  },
  {
   "cell_type": "code",
   "execution_count": 0,
   "metadata": {
    "colab": {
     "base_uri": "https://localhost:8080/",
     "height": 331
    },
    "colab_type": "code",
    "executionInfo": {
     "elapsed": 838,
     "status": "ok",
     "timestamp": 1581801064765,
     "user": {
      "displayName": "성균관대학교정영준",
      "photoUrl": "",
      "userId": "16156467539761060813"
     },
     "user_tz": -540
    },
    "id": "6LB4X-10XEvB",
    "outputId": "82fb2ccf-8e90-4ef0-8406-6056f5658766"
   },
   "outputs": [
    {
     "data": {
      "image/png": "[encoded data removed]",
      "text/plain": [
       "<Figure size 432x288 with 1 Axes>"
      ]
     },
     "metadata": {
      "tags": []
     },
     "output_type": "display_data"
    },
    {
     "name": "stdout",
     "output_type": "stream",
     "text": [
      "batch_size : 32\n",
      "metrics :  ['loss', 'sparse_categorical_crossentropy', 'val_loss', 'val_sparse_categorical_crossentropy']\n"
     ]
    }
   ],
   "source": [
    "plot_loss(history)"
   ]
  },
  {
   "cell_type": "code",
   "execution_count": 0,
   "metadata": {
    "colab": {
     "base_uri": "https://localhost:8080/",
     "height": 331
    },
    "colab_type": "code",
    "executionInfo": {
     "elapsed": 812,
     "status": "ok",
     "timestamp": 1581797392242,
     "user": {
      "displayName": "성균관대학교정영준",
      "photoUrl": "",
      "userId": "16156467539761060813"
     },
     "user_tz": -540
    },
    "id": "4-DC-JxYeLCl",
    "outputId": "734ad621-264e-45d6-99cd-a4cd7e9c1eb5"
   },
   "outputs": [
    {
     "data": {
      "image/png": "[encoded data removed]",
      "text/plain": [
       "<Figure size 432x288 with 1 Axes>"
      ]
     },
     "metadata": {
      "tags": []
     },
     "output_type": "display_data"
    },
    {
     "name": "stdout",
     "output_type": "stream",
     "text": [
      "batch_size : 64\n",
      "metrics :  ['loss', 'sparse_categorical_crossentropy', 'val_loss', 'val_sparse_categorical_crossentropy']\n"
     ]
    }
   ],
   "source": [
    "plot_loss(history)"
   ]
  },
  {
   "cell_type": "code",
   "execution_count": 0,
   "metadata": {
    "colab": {
     "base_uri": "https://localhost:8080/",
     "height": 331
    },
    "colab_type": "code",
    "executionInfo": {
     "elapsed": 822,
     "status": "ok",
     "timestamp": 1581795412903,
     "user": {
      "displayName": "성균관대학교정영준",
      "photoUrl": "",
      "userId": "16156467539761060813"
     },
     "user_tz": -540
    },
    "id": "BFw4xCi3U325",
    "outputId": "bfa94f5e-56fc-43fa-b2c2-7b2c55c6e3dc"
   },
   "outputs": [
    {
     "data": {
      "image/png": "[encoded data removed]",
      "text/plain": [
       "<Figure size 432x288 with 1 Axes>"
      ]
     },
     "metadata": {
      "tags": []
     },
     "output_type": "display_data"
    },
    {
     "name": "stdout",
     "output_type": "stream",
     "text": [
      "batch_size : 128\n",
      "metrics :  ['loss', 'sparse_categorical_crossentropy', 'val_loss', 'val_sparse_categorical_crossentropy']\n"
     ]
    }
   ],
   "source": [
    "plot_loss(history)"
   ]
  },
  {
   "cell_type": "code",
   "execution_count": 0,
   "metadata": {
    "colab": {
     "base_uri": "https://localhost:8080/",
     "height": 197
    },
    "colab_type": "code",
    "executionInfo": {
     "elapsed": 691,
     "status": "ok",
     "timestamp": 1581795120590,
     "user": {
      "displayName": "성균관대학교정영준",
      "photoUrl": "",
      "userId": "16156467539761060813"
     },
     "user_tz": -540
    },
    "id": "ef2LYmsGVOnv",
    "outputId": "44d12204-d584-42db-b352-cccb70cbb6b0"
   },
   "outputs": [
    {
     "data": {
      "text/plain": [
       "{'batch_size': 128,\n",
       " 'do_validation': True,\n",
       " 'epochs': 20,\n",
       " 'metrics': ['loss',\n",
       "  'sparse_categorical_crossentropy',\n",
       "  'val_loss',\n",
       "  'val_sparse_categorical_crossentropy'],\n",
       " 'samples': 169992,\n",
       " 'steps': None,\n",
       " 'verbose': 1}"
      ]
     },
     "execution_count": 23,
     "metadata": {
      "tags": []
     },
     "output_type": "execute_result"
    }
   ],
   "source": [
    "history.params"
   ]
  },
  {
   "cell_type": "code",
   "execution_count": 0,
   "metadata": {
    "colab": {
     "base_uri": "https://localhost:8080/",
     "height": 295
    },
    "colab_type": "code",
    "executionInfo": {
     "elapsed": 812,
     "status": "ok",
     "timestamp": 1581694093769,
     "user": {
      "displayName": "성균관대학교정영준",
      "photoUrl": "",
      "userId": "16156467539761060813"
     },
     "user_tz": -540
    },
    "id": "Mkx8u9z_UGpH",
    "outputId": "6b23527a-90b9-4dc2-f7b8-8824635c26e7"
   },
   "outputs": [
    {
     "data": {
      "image/png": "[encoded data removed]",
      "text/plain": [
       "<Figure size 432x288 with 1 Axes>"
      ]
     },
     "metadata": {
      "tags": []
     },
     "output_type": "display_data"
    }
   ],
   "source": [
    "\n",
    "train_categorical_crossentropy=history.history['loss'] #100 epochs #32 batchsize\n",
    "validation_categorical_crossentropy=history.history['val_loss']\n",
    "xlimit=range(1,len(validation_categorical_crossentropy)+1)\n",
    "plt.plot(xlimit,train_categorical_crossentropy,'r',label='Training Categorical CrossEntropy')\n",
    "plt.plot(xlimit,validation_categorical_crossentropy,'b',label='Validation Categorical CrossEntropy')\n",
    "plt.title('Losses Graph')\n",
    "plt.xlabel('Epochs')\n",
    "plt.ylabel('Loss == Metrics')\n",
    "plt.legend()\n",
    "plt.show()"
   ]
  },
  {
   "cell_type": "code",
   "execution_count": 0,
   "metadata": {
    "colab": {
     "base_uri": "https://localhost:8080/",
     "height": 295
    },
    "colab_type": "code",
    "executionInfo": {
     "elapsed": 891,
     "status": "ok",
     "timestamp": 1581692779717,
     "user": {
      "displayName": "성균관대학교정영준",
      "photoUrl": "",
      "userId": "16156467539761060813"
     },
     "user_tz": -540
    },
    "id": "BGpBTFy6PGoO",
    "outputId": "f51ecde1-0e60-480a-90ab-8deb98805337"
   },
   "outputs": [
    {
     "data": {
      "image/png": "[encoded data removed]",
      "text/plain": [
       "<Figure size 432x288 with 1 Axes>"
      ]
     },
     "metadata": {
      "tags": []
     },
     "output_type": "display_data"
    }
   ],
   "source": [
    "train_categorical_crossentropy=history.history['loss'] #100 epochs #256 batchsize\n",
    "validation_categorical_crossentropy=history.history['val_loss']\n",
    "xlimit=range(1,len(validation_categorical_crossentropy)+1)\n",
    "plt.plot(xlimit,train_categorical_crossentropy,'r',label='Training Categorical CrossEntropy')\n",
    "plt.plot(xlimit,validation_categorical_crossentropy,'b',label='Validation Categorical CrossEntropy')\n",
    "plt.title('Losses Graph')\n",
    "plt.xlabel('Epochs')\n",
    "plt.ylabel('Loss == Metrics')\n",
    "plt.legend()\n",
    "plt.show()"
   ]
  },
  {
   "cell_type": "code",
   "execution_count": 0,
   "metadata": {
    "colab": {
     "base_uri": "https://localhost:8080/",
     "height": 295
    },
    "colab_type": "code",
    "executionInfo": {
     "elapsed": 829,
     "status": "ok",
     "timestamp": 1581692955986,
     "user": {
      "displayName": "성균관대학교정영준",
      "photoUrl": "",
      "userId": "16156467539761060813"
     },
     "user_tz": -540
    },
    "id": "_Uoo-pQ4Pwi0",
    "outputId": "dcd17392-3329-4199-f4d5-1cef2f29823e"
   },
   "outputs": [
    {
     "data": {
      "image/png": "[encoded data removed]",
      "text/plain": [
       "<Figure size 432x288 with 1 Axes>"
      ]
     },
     "metadata": {
      "tags": []
     },
     "output_type": "display_data"
    }
   ],
   "source": [
    "train_categorical_crossentropy=history.history['loss'] #20 epochs #256 batchsize\n",
    "validation_categorical_crossentropy=history.history['val_loss']\n",
    "xlimit=range(1,len(validation_categorical_crossentropy)+1)\n",
    "plt.plot(xlimit,train_categorical_crossentropy,'r',label='Training Categorical CrossEntropy')\n",
    "plt.plot(xlimit,validation_categorical_crossentropy,'b',label='Validation Categorical CrossEntropy')\n",
    "plt.title('Losses Graph')\n",
    "plt.xlabel('Epochs')\n",
    "plt.ylabel('Loss == Metrics')\n",
    "plt.legend()\n",
    "plt.show()"
   ]
  },
  {
   "cell_type": "code",
   "execution_count": 0,
   "metadata": {
    "colab": {},
    "colab_type": "code",
    "id": "zugSeuLVXxPQ"
   },
   "outputs": [],
   "source": [
    "pred=model.predict(test.drop('fiberID',axis=1))"
   ]
  },
  {
   "cell_type": "code",
   "execution_count": 0,
   "metadata": {
    "colab": {},
    "colab_type": "code",
    "id": "h67jC0NxYdkq"
   },
   "outputs": [],
   "source": [
    "submission = pd.DataFrame(data=pred, columns=sample_submission.columns, index=sample_submission.index)\n",
    "submission.to_csv('submission.csv', index=True)"
   ]
  }
 ],
 "metadata": {
  "accelerator": "GPU",
  "colab": {
   "authorship_tag": "ABX9TyM/zihsKPC7tjN25eXzX/HU",
   "collapsed_sections": [],
   "name": "0.53.ipynb",
   "provenance": []
  },
  "kernelspec": {
   "display_name": "Python 3",
   "language": "python",
   "name": "python3"
  },
  "language_info": {
   "codemirror_mode": {
    "name": "ipython",
    "version": 3
   },
   "file_extension": ".py",
   "mimetype": "text/x-python",
   "name": "python",
   "nbconvert_exporter": "python",
   "pygments_lexer": "ipython3",
   "version": "3.7.5"
  }
 },
 "nbformat": 4,
 "nbformat_minor": 1
}
