{
 "cells": [
  {
   "cell_type": "code",
   "execution_count": 1,
   "metadata": {},
   "outputs": [],
   "source": [
    "import tensorflow as tf\n",
    "import numpy as np"
   ]
  },
  {
   "cell_type": "code",
   "execution_count": 2,
   "metadata": {},
   "outputs": [],
   "source": [
    "x_data = np.array([[0, 0], [0, 1], [1, 0], [1, 1]], dtype=np.float32)\n",
    "y_data = np.array([[0], [1], [1], [0]], dtype=np.float32)"
   ]
  },
  {
   "cell_type": "code",
   "execution_count": 13,
   "metadata": {},
   "outputs": [],
   "source": [
    "tf.model=tf.keras.Sequential()\n",
    "model2=tf.keras.Sequential()\n",
    "model3=tf.keras.models.Sequential()\n",
    "# CHOOSE ONE #"
   ]
  },
  {
   "cell_type": "code",
   "execution_count": 14,
   "metadata": {},
   "outputs": [],
   "source": [
    "models=[tf.model,model2,model3]"
   ]
  },
  {
   "cell_type": "code",
   "execution_count": 20,
   "metadata": {},
   "outputs": [
    {
     "name": "stdout",
     "output_type": "stream",
     "text": [
      "Model: \"sequential_6\"\n",
      "_________________________________________________________________\n",
      "Layer (type)                 Output Shape              Param #   \n",
      "=================================================================\n",
      "dense (Dense)                (None, 1)                 3         \n",
      "_________________________________________________________________\n",
      "dense_1 (Dense)              (None, 1)                 2         \n",
      "_________________________________________________________________\n",
      "dense_2 (Dense)              (None, 1)                 2         \n",
      "_________________________________________________________________\n",
      "dense_5 (Dense)              (None, 1)                 2         \n",
      "=================================================================\n",
      "Total params: 9\n",
      "Trainable params: 9\n",
      "Non-trainable params: 0\n",
      "_________________________________________________________________\n",
      "Predictions :  [[0.50340575]\n",
      " [0.50338596]\n",
      " [0.50303656]\n",
      " [0.5030221 ]]\n",
      "4/1 [========================================================================================================================] - 0s 93ms/sample - loss: 0.6932 - accuracy: 0.5000\n",
      "Accuracy :  [0.6931705474853516, 0.5]\n",
      "Model: \"sequential_7\"\n",
      "_________________________________________________________________\n",
      "Layer (type)                 Output Shape              Param #   \n",
      "=================================================================\n",
      "dense_3 (Dense)              (None, 1)                 3         \n",
      "_________________________________________________________________\n",
      "dense_6 (Dense)              (None, 1)                 2         \n",
      "=================================================================\n",
      "Total params: 5\n",
      "Trainable params: 5\n",
      "Non-trainable params: 0\n",
      "_________________________________________________________________\n",
      "Predictions :  [[0.5053934 ]\n",
      " [0.48375875]\n",
      " [0.52507687]\n",
      " [0.5027995 ]]\n",
      "4/1 [========================================================================================================================] - 0s 60ms/sample - loss: 0.6933 - accuracy: 0.2500\n",
      "Accuracy :  [0.6932835578918457, 0.25]\n",
      "Model: \"sequential_8\"\n",
      "_________________________________________________________________\n",
      "Layer (type)                 Output Shape              Param #   \n",
      "=================================================================\n",
      "dense_4 (Dense)              (None, 1)                 3         \n",
      "_________________________________________________________________\n",
      "dense_7 (Dense)              (None, 1)                 2         \n",
      "=================================================================\n",
      "Total params: 5\n",
      "Trainable params: 5\n",
      "Non-trainable params: 0\n",
      "_________________________________________________________________\n",
      "Predictions :  [[0.531882  ]\n",
      " [0.51964265]\n",
      " [0.4926296 ]\n",
      " [0.48075998]]\n",
      "4/1 [========================================================================================================================] - 0s 67ms/sample - loss: 0.6943 - accuracy: 0.5000\n",
      "Accuracy :  [0.6942589282989502, 0.5]\n"
     ]
    }
   ],
   "source": [
    "for model in models:\n",
    "    model.add(tf.keras.layers.Dense(units=1,input_dim=2,activation='sigmoid'))\n",
    "    model.compile(loss='binary_crossentropy',optimizer=tf.optimizers.SGD(lr=0.01),metrics=['accuracy'])\n",
    "    model.summary()\n",
    "    history=model.fit(x_data,y_data,epochs=1000,verbose=0)\n",
    "    predictions=model.predict(x_data)\n",
    "    print('Predictions : ',predictions)\n",
    "    score=model.evaluate(x_data,y_data)\n",
    "    print('Accuracy : ',score)"
   ]
  }
 ],
 "metadata": {
  "kernelspec": {
   "display_name": "Python 3",
   "language": "python",
   "name": "python3"
  },
  "language_info": {
   "codemirror_mode": {
    "name": "ipython",
    "version": 3
   },
   "file_extension": ".py",
   "mimetype": "text/x-python",
   "name": "python",
   "nbconvert_exporter": "python",
   "pygments_lexer": "ipython3",
   "version": "3.7.5"
  }
 },
 "nbformat": 4,
 "nbformat_minor": 4
}
