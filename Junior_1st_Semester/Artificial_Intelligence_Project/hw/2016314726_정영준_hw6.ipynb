{
  "nbformat": 4,
  "nbformat_minor": 0,
  "metadata": {
    "colab": {
      "name": "Untitled6.ipynb",
      "provenance": [],
      "collapsed_sections": []
    },
    "kernelspec": {
      "name": "python3",
      "display_name": "Python 3"
    },
    "accelerator": "GPU"
  },
  "cells": [
    {
      "cell_type": "code",
      "metadata": {
        "id": "-AllK5D6VjZG",
        "colab_type": "code",
        "colab": {}
      },
      "source": [
        "import torch\n",
        "import torchvision\n",
        "import torch.nn as nn\n",
        "import torch.optim as optim\n",
        "from torchvision import transforms\n",
        "import numpy as np\n",
        "import matplotlib.pyplot as plt\n"
      ],
      "execution_count": 0,
      "outputs": []
    },
    {
      "cell_type": "code",
      "metadata": {
        "id": "IKd1DG9bbrWW",
        "colab_type": "code",
        "colab": {}
      },
      "source": [
        "transform_train = transforms.Compose([\n",
        "                                transforms.RandomCrop(size=(32,32),padding_mode='edge'),\n",
        "                                transforms.RandomHorizontalFlip(0.5),\n",
        "                                transforms.ToTensor(),\n",
        "                                transforms.Normalize((0.5,0.5,0.5),(0.5,0.5,0.5)),\n",
        "                                ])\n",
        "transform_test = transforms.Compose([transforms.ToTensor(),transforms.Normalize((0.5,0.5,0.5),(0.5,0.5,0.5))])"
      ],
      "execution_count": 0,
      "outputs": []
    },
    {
      "cell_type": "code",
      "metadata": {
        "id": "orXh4npGVujQ",
        "colab_type": "code",
        "outputId": "b68dc002-cf40-4599-ad4d-c0d4fe3da478",
        "colab": {
          "base_uri": "https://localhost:8080/",
          "height": 53
        }
      },
      "source": [
        "train_set = torchvision.datasets.CIFAR10(root='./',train=True,download=True,transform=transform_train)\n",
        "test_set = torchvision.datasets.CIFAR10(root='./',train=False,download=True,transform=transform_test)"
      ],
      "execution_count": 66,
      "outputs": [
        {
          "output_type": "stream",
          "text": [
            "Files already downloaded and verified\n",
            "Files already downloaded and verified\n"
          ],
          "name": "stdout"
        }
      ]
    },
    {
      "cell_type": "code",
      "metadata": {
        "id": "53ftKc9NWXtE",
        "colab_type": "code",
        "outputId": "03ae38fb-fa5d-4e3f-b824-71bc1c61e6d6",
        "colab": {
          "base_uri": "https://localhost:8080/",
          "height": 35
        }
      },
      "source": [
        "train_set.data.shape"
      ],
      "execution_count": 67,
      "outputs": [
        {
          "output_type": "execute_result",
          "data": {
            "text/plain": [
              "(50000, 32, 32, 3)"
            ]
          },
          "metadata": {
            "tags": []
          },
          "execution_count": 67
        }
      ]
    },
    {
      "cell_type": "code",
      "metadata": {
        "id": "fRZEN9LsPf2r",
        "colab_type": "code",
        "colab": {}
      },
      "source": [
        "train_set, val_set = torch.utils.data.random_split(train_set,[int(len(train_set)*0.9),int(len(train_set)*0.1)])"
      ],
      "execution_count": 0,
      "outputs": []
    },
    {
      "cell_type": "code",
      "metadata": {
        "id": "54OfNHBmjgSN",
        "colab_type": "code",
        "colab": {}
      },
      "source": [
        "batch_size = 128 \n",
        "\n",
        "train_loader=torch.utils.data.DataLoader(train_set,batch_size=batch_size,shuffle=True,drop_last=True)\n",
        "val_loader =torch.utils.data.DataLoader(val_set,batch_size = batch_size,shuffle=True,drop_last = True)\n",
        "test_loader =torch.utils.data.DataLoader(test_set,batch_size=batch_size,drop_last=True)"
      ],
      "execution_count": 0,
      "outputs": []
    },
    {
      "cell_type": "code",
      "metadata": {
        "id": "O57IlicolIot",
        "colab_type": "code",
        "outputId": "f768c3d1-a043-4edf-bb11-43d3d56b9087",
        "colab": {
          "base_uri": "https://localhost:8080/",
          "height": 35
        }
      },
      "source": [
        "iter(train_loader).next()[0].shape # Check the shape of loaded data"
      ],
      "execution_count": 83,
      "outputs": [
        {
          "output_type": "execute_result",
          "data": {
            "text/plain": [
              "torch.Size([128, 3, 32, 32])"
            ]
          },
          "metadata": {
            "tags": []
          },
          "execution_count": 83
        }
      ]
    },
    {
      "cell_type": "code",
      "metadata": {
        "id": "1CAG2jBldzWs",
        "colab_type": "code",
        "colab": {}
      },
      "source": [
        "class CNN(nn.Module):\n",
        "    def __init__(self):\n",
        "        super(CNN,self).__init__()\n",
        "        self.cnn_layer = nn.Sequential(nn.Conv2d(3,32,3,1,1),\n",
        "                                   nn.BatchNorm2d(32),\n",
        "                                   nn.ReLU(),\n",
        "                                   nn.Conv2d(32,32,3,1,1),\n",
        "                                   nn.BatchNorm2d(32),\n",
        "                                   nn.ReLU(),\n",
        "                                   nn.MaxPool2d(2),\n",
        "                                   nn.Dropout2d(0.3),\n",
        "                                   nn.Conv2d(32,64,3,1,1),\n",
        "                                   nn.BatchNorm2d(64),\n",
        "                                   nn.ReLU(),\n",
        "                                   nn.Conv2d(64,64,3,1,1),\n",
        "                                   nn.BatchNorm2d(64),\n",
        "                                   nn.ReLU(),\n",
        "                                   nn.MaxPool2d(2),\n",
        "                                   nn.Conv2d(64,128,3,1,1),\n",
        "                                   nn.BatchNorm2d(128),\n",
        "                                   nn.ReLU(),\n",
        "                                   nn.Conv2d(128,128,3,1,1),\n",
        "                                   nn.BatchNorm2d(128),\n",
        "                                   nn.ReLU(),\n",
        "                                   nn.Dropout2d(0.4)\n",
        "                                   )\n",
        "        self.dnn_layer = nn.Sequential(nn.Linear(128*8*8,512),\n",
        "                                       nn.ReLU(),\n",
        "                                       nn.Linear(512,10),)\n",
        "                                       \n",
        "        \n",
        "    def forward(self,x):\n",
        "        out = self.cnn_layer(x)\n",
        "        out = out.view(-1,128*8*8)\n",
        "        out = self.dnn_layer(out)\n",
        "        return out"
      ],
      "execution_count": 0,
      "outputs": []
    },
    {
      "cell_type": "code",
      "metadata": {
        "id": "cT9VWnwQeGIC",
        "colab_type": "code",
        "outputId": "25c22c96-a2fc-4c6d-eeab-3b67a7d33e40",
        "colab": {
          "base_uri": "https://localhost:8080/",
          "height": 35
        }
      },
      "source": [
        "device = torch.device(\"cuda:0\" if torch.cuda.is_available() else \"cpu\")\n",
        "print(device)\n",
        "model = CNN().to(device)\n",
        "loss_func = nn.CrossEntropyLoss()\n",
        "optimizer = optim.Adam(model.parameters(),weight_decay=0.0001,)\n",
        "lr_scheduler = optim.lr_scheduler.StepLR(optimizer,step_size=20,)"
      ],
      "execution_count": 99,
      "outputs": [
        {
          "output_type": "stream",
          "text": [
            "cuda:0\n"
          ],
          "name": "stdout"
        }
      ]
    },
    {
      "cell_type": "code",
      "metadata": {
        "id": "yNcMgirlfpc4",
        "colab_type": "code",
        "outputId": "a05b0b9f-1e45-474b-fea5-6f4b21666173",
        "colab": {
          "base_uri": "https://localhost:8080/",
          "height": 827
        }
      },
      "source": [
        "loss_arr =[]\n",
        "val_loss_arr=[]\n",
        "best_val_acc = 0\n",
        "epochs = 200\n",
        "patience_epoch = 10\n",
        "for i in range(epochs):\n",
        "    model.train()\n",
        "    correct = 0\n",
        "    total = 0\n",
        "    for j,[img,label] in enumerate(train_loader):\n",
        "        x = img.to(device)\n",
        "        y = label.to(device)\n",
        "\n",
        "        optimizer.zero_grad()\n",
        "        output = model.forward(x)\n",
        "        _,output_index = torch.max(output,1)\n",
        "        loss = loss_func(output,y)\n",
        "        loss.backward()\n",
        "        optimizer.step()\n",
        "        total += y.size()[0]\n",
        "        correct += (output_index == y).sum().float()\n",
        "        loss_arr.append(loss)\n",
        "    \n",
        "    lr_scheduler.step()    \n",
        "    with torch.no_grad():\n",
        "        val_correct = 0\n",
        "        val_total = 0\n",
        "        for k,[val_img,val_label] in enumerate(val_loader):\n",
        "            val_x = val_img.to(device)\n",
        "            val_y = val_label.to(device)\n",
        "            val_output = model.forward(val_x)\n",
        "            _,val_output_index = torch.max(val_output,1)\n",
        "            val_loss = loss_func(val_output,val_y)\n",
        "            val_loss_arr.append(val_loss)\n",
        "            val_total += val_y.size()[0]\n",
        "            val_correct += (val_output_index==val_y).sum().float()\n",
        "    if best_val_acc <= 100*val_correct/val_total:\n",
        "        best_val_acc = 100*val_correct/val_total\n",
        "        patience = patience_epoch\n",
        "    elif patience == 0:\n",
        "        print('No improvement on val_acc : Stop training')\n",
        "        break\n",
        "    else:\n",
        "        patience -= 1\n",
        "    print('EPOCHS {:>3d}/{} | train_loss : {:.4f} | val_acc : {:.4f}'\\\n",
        "            .format(i+1,epochs,loss,100*val_correct/val_total))  \n",
        "print('Best Validation Accuracy : {:.4f}'.format(best_val_acc))"
      ],
      "execution_count": 100,
      "outputs": [
        {
          "output_type": "stream",
          "text": [
            "EPOCHS   1/200 | train_loss : 1.0736 | val_acc : 57.2716\n",
            "EPOCHS   2/200 | train_loss : 0.9802 | val_acc : 64.6635\n",
            "EPOCHS   3/200 | train_loss : 0.7983 | val_acc : 71.3341\n",
            "EPOCHS   4/200 | train_loss : 0.5995 | val_acc : 71.9151\n",
            "EPOCHS   5/200 | train_loss : 0.6238 | val_acc : 74.6194\n",
            "EPOCHS   6/200 | train_loss : 0.7360 | val_acc : 75.0000\n",
            "EPOCHS   7/200 | train_loss : 0.6441 | val_acc : 76.3822\n",
            "EPOCHS   8/200 | train_loss : 0.5597 | val_acc : 77.4239\n",
            "EPOCHS   9/200 | train_loss : 0.5288 | val_acc : 78.3053\n",
            "EPOCHS  10/200 | train_loss : 0.4242 | val_acc : 80.1082\n",
            "EPOCHS  11/200 | train_loss : 0.5956 | val_acc : 80.0080\n",
            "EPOCHS  12/200 | train_loss : 0.4918 | val_acc : 80.3285\n",
            "EPOCHS  13/200 | train_loss : 0.3710 | val_acc : 80.5288\n",
            "EPOCHS  14/200 | train_loss : 0.5380 | val_acc : 80.0080\n",
            "EPOCHS  15/200 | train_loss : 0.3096 | val_acc : 80.5489\n",
            "EPOCHS  16/200 | train_loss : 0.6202 | val_acc : 80.2484\n",
            "EPOCHS  17/200 | train_loss : 0.3325 | val_acc : 80.6691\n",
            "EPOCHS  18/200 | train_loss : 0.3871 | val_acc : 81.8910\n",
            "EPOCHS  19/200 | train_loss : 0.3879 | val_acc : 81.5505\n",
            "EPOCHS  20/200 | train_loss : 0.3298 | val_acc : 81.6907\n",
            "EPOCHS  21/200 | train_loss : 0.2134 | val_acc : 83.6138\n",
            "EPOCHS  22/200 | train_loss : 0.3079 | val_acc : 83.1530\n",
            "EPOCHS  23/200 | train_loss : 0.2873 | val_acc : 84.0745\n",
            "EPOCHS  24/200 | train_loss : 0.1994 | val_acc : 84.2949\n",
            "EPOCHS  25/200 | train_loss : 0.2049 | val_acc : 83.4736\n",
            "EPOCHS  26/200 | train_loss : 0.1843 | val_acc : 83.9543\n",
            "EPOCHS  27/200 | train_loss : 0.2598 | val_acc : 84.2949\n",
            "EPOCHS  28/200 | train_loss : 0.1531 | val_acc : 84.5152\n",
            "EPOCHS  29/200 | train_loss : 0.1795 | val_acc : 84.7356\n",
            "EPOCHS  30/200 | train_loss : 0.1288 | val_acc : 84.2748\n",
            "EPOCHS  31/200 | train_loss : 0.1909 | val_acc : 84.2348\n",
            "EPOCHS  32/200 | train_loss : 0.1756 | val_acc : 84.3750\n",
            "EPOCHS  33/200 | train_loss : 0.1445 | val_acc : 84.9559\n",
            "EPOCHS  34/200 | train_loss : 0.1467 | val_acc : 84.1546\n",
            "EPOCHS  35/200 | train_loss : 0.1604 | val_acc : 83.9343\n",
            "EPOCHS  36/200 | train_loss : 0.1157 | val_acc : 84.1146\n",
            "EPOCHS  37/200 | train_loss : 0.1497 | val_acc : 84.2949\n",
            "EPOCHS  38/200 | train_loss : 0.1436 | val_acc : 84.6354\n",
            "EPOCHS  39/200 | train_loss : 0.0979 | val_acc : 84.0745\n",
            "EPOCHS  40/200 | train_loss : 0.1129 | val_acc : 84.2548\n",
            "EPOCHS  41/200 | train_loss : 0.1434 | val_acc : 84.1346\n",
            "EPOCHS  42/200 | train_loss : 0.1212 | val_acc : 84.6955\n",
            "EPOCHS  43/200 | train_loss : 0.1747 | val_acc : 84.3550\n",
            "No improvement on val_acc : Stop training\n",
            "Best Validation Accuracy : 84.9559\n"
          ],
          "name": "stdout"
        }
      ]
    },
    {
      "cell_type": "code",
      "metadata": {
        "id": "LtNLE0hvhq-Q",
        "colab_type": "code",
        "outputId": "990375b0-5416-42b5-e454-f48339d2632e",
        "colab": {
          "base_uri": "https://localhost:8080/",
          "height": 35
        }
      },
      "source": [
        "correct = 0\n",
        "total = 0\n",
        "with torch.no_grad():\n",
        "    for image,label in test_loader:\n",
        "        x = image.to(device)\n",
        "        y = label.to(device)\n",
        "\n",
        "        output = model.forward(x)\n",
        "        _,output_index = torch.max(output,1)\n",
        "        total += label.size(0)\n",
        "        correct += (output_index == y).sum().float()\n",
        "\n",
        "    print('Accuracy of Testset : {:.4f}'.format(100*correct/total))"
      ],
      "execution_count": 101,
      "outputs": [
        {
          "output_type": "stream",
          "text": [
            "Accuracy of Testset : 83.3133\n"
          ],
          "name": "stdout"
        }
      ]
    }
  ]
}