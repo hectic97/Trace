{
 "cells": [
  {
   "cell_type": "raw",
   "metadata": {},
   "source": [
    "num_validation_samples=10000\n",
    "np.random.shuffle(data)\n",
    "\n",
    "validation_data=data[:num_validation_samples]\n",
    "data=data[num_validation_samples:]\n",
    "\n",
    "training_data=data[:]\n",
    "\n",
    "model=get_model()\n",
    "model.train(training_data)\n",
    "validation_score=model.evaluate(validation_data)\n",
    "\n",
    "model=get_model()\n",
    "model.train(np.concatenate([training_data,validation_data]))\n",
    "test_score=model.evaludate(test_data)"
   ]
  },
  {
   "cell_type": "raw",
   "metadata": {},
   "source": [
    "k=4\n",
    "num_validation_samples=len(data)//k\n",
    "\n",
    "np.random.shuffle(data)\n",
    "validation_scores=[]\n",
    "\n",
    "for fold in range(k):\n",
    "    validation_data=data[num_validation_samples*fold: num_validation_samples*(fold+1)]\n",
    "    training_data=data[:num_validation_samples*fold]+data[num_validation_samples*(fold+1):]\n",
    "    model=get_model()\n",
    "    model.train(training_data)\n",
    "    validation_score=model.evaluate(validation_data)\n",
    "    validation_scores.append(validation_score)\n",
    "    \n",
    "validation_scores.append(validation_score)\n",
    "\n",
    "model=get_model()\n",
    "model.train(data)\n",
    "test_score=model.evaluate(test_data)"
   ]
  },
  {
   "cell_type": "code",
   "execution_count": null,
   "metadata": {},
   "outputs": [],
   "source": []
  }
 ],
 "metadata": {
  "kernelspec": {
   "display_name": "Python 3",
   "language": "python",
   "name": "python3"
  },
  "language_info": {
   "codemirror_mode": {
    "name": "ipython",
    "version": 3
   },
   "file_extension": ".py",
   "mimetype": "text/x-python",
   "name": "python",
   "nbconvert_exporter": "python",
   "pygments_lexer": "ipython3",
   "version": "3.7.6"
  }
 },
 "nbformat": 4,
 "nbformat_minor": 4
}
