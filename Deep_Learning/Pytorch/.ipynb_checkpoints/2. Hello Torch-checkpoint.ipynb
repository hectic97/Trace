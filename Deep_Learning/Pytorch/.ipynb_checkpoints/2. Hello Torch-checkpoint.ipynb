{
 "cells": [
  {
   "cell_type": "code",
   "execution_count": 1,
   "metadata": {},
   "outputs": [
    {
     "data": {
      "text/plain": [
       "'1.3.1'"
      ]
     },
     "execution_count": 1,
     "metadata": {},
     "output_type": "execute_result"
    }
   ],
   "source": [
    "import torch\n",
    "torch.__version__"
   ]
  },
  {
   "cell_type": "code",
   "execution_count": 2,
   "metadata": {},
   "outputs": [
    {
     "name": "stdout",
     "output_type": "stream",
     "text": [
      "tensor([[1., 1.],\n",
      "        [1., 1.]], requires_grad=True)\n"
     ]
    }
   ],
   "source": [
    "x = torch.ones(2,2,requires_grad=True) # requires_grad default == FALSE\n",
    "print(x)"
   ]
  },
  {
   "cell_type": "code",
   "execution_count": 3,
   "metadata": {},
   "outputs": [
    {
     "data": {
      "text/plain": [
       "tensor([[3., 3.],\n",
       "        [3., 3.]], grad_fn=<AddBackward0>)"
      ]
     },
     "execution_count": 3,
     "metadata": {},
     "output_type": "execute_result"
    }
   ],
   "source": [
    "y = x+2\n",
    "y"
   ]
  },
  {
   "cell_type": "code",
   "execution_count": 4,
   "metadata": {},
   "outputs": [
    {
     "name": "stdout",
     "output_type": "stream",
     "text": [
      "<AddBackward0 object at 0x0000028D2B876188>\n"
     ]
    }
   ],
   "source": [
    "print(y.grad_fn)"
   ]
  },
  {
   "cell_type": "code",
   "execution_count": 9,
   "metadata": {},
   "outputs": [
    {
     "name": "stdout",
     "output_type": "stream",
     "text": [
      "tensor([[27., 27.],\n",
      "        [27., 27.]], grad_fn=<MulBackward0>) tensor(27., grad_fn=<MeanBackward0>)\n"
     ]
    }
   ],
   "source": [
    "z= y*y*3\n",
    "out = z.mean()\n",
    "print(z, out)"
   ]
  },
  {
   "cell_type": "code",
   "execution_count": 12,
   "metadata": {},
   "outputs": [
    {
     "name": "stdout",
     "output_type": "stream",
     "text": [
      "False\n",
      "True\n",
      "<SumBackward0 object at 0x0000028D2E2F52C8>\n"
     ]
    }
   ],
   "source": [
    "a = torch.randn(2,2)\n",
    "a = ((a*3)/(a-1))\n",
    "print(a.requires_grad)\n",
    "a.requires_grad_(True)\n",
    "print(a.requires_grad)\n",
    "b=(a*a).sum()\n",
    "print(b.grad_fn)   # if a's requires_grad == FLASE  output == NONE"
   ]
  },
  {
   "cell_type": "code",
   "execution_count": 13,
   "metadata": {},
   "outputs": [],
   "source": [
    "out.backward()"
   ]
  },
  {
   "cell_type": "code",
   "execution_count": 14,
   "metadata": {},
   "outputs": [
    {
     "name": "stdout",
     "output_type": "stream",
     "text": [
      "tensor([[4.5000, 4.5000],\n",
      "        [4.5000, 4.5000]])\n"
     ]
    }
   ],
   "source": [
    "print(x.grad)"
   ]
  },
  {
   "cell_type": "code",
   "execution_count": 15,
   "metadata": {},
   "outputs": [
    {
     "name": "stdout",
     "output_type": "stream",
     "text": [
      "tensor([-429.5266,  323.9552, 1381.0570], grad_fn=<MulBackward0>)\n"
     ]
    }
   ],
   "source": [
    "x=torch.randn(3,requires_grad=True)\n",
    "y=x*2\n",
    "while y.data.norm()<1000:\n",
    "    y=y*2\n",
    "print(y)"
   ]
  },
  {
   "cell_type": "code",
   "execution_count": 26,
   "metadata": {},
   "outputs": [
    {
     "name": "stdout",
     "output_type": "stream",
     "text": [
      "tensor([2.0480e+02, 2.0480e+03, 2.0480e-01])\n"
     ]
    }
   ],
   "source": [
    "v = torch.tensor([0.1,1.0,0.0001],dtype=torch.float)\n",
    "y.backward(v)\n",
    "print(x.grad)"
   ]
  },
  {
   "cell_type": "code",
   "execution_count": 27,
   "metadata": {},
   "outputs": [
    {
     "name": "stdout",
     "output_type": "stream",
     "text": [
      "True\n",
      "True\n",
      "False\n"
     ]
    }
   ],
   "source": [
    "print(x.requires_grad)\n",
    "print((x**2).requires_grad)\n",
    "\n",
    "with torch.no_grad():\n",
    "    print((x**2).requires_grad)"
   ]
  },
  {
   "cell_type": "code",
   "execution_count": 28,
   "metadata": {},
   "outputs": [
    {
     "name": "stdout",
     "output_type": "stream",
     "text": [
      "True\n",
      "False\n",
      "tensor(True)\n"
     ]
    }
   ],
   "source": [
    "print(x.requires_grad)\n",
    "y = x.detach()\n",
    "print(y.requires_grad)\n",
    "print(x.eq(y).all())"
   ]
  },
  {
   "cell_type": "code",
   "execution_count": 33,
   "metadata": {},
   "outputs": [],
   "source": [
    "import numpy as np\n",
    "import torch.nn as nn\n",
    "import torch.optim as optim\n",
    "import torch.nn.init as init\n",
    "from torch.autograd import Variable"
   ]
  },
  {
   "cell_type": "code",
   "execution_count": 56,
   "metadata": {},
   "outputs": [],
   "source": [
    "num_data = 1000\n",
    "num_epoch = 1000\n",
    "\n",
    "noise = init.normal_(torch.FloatTensor(num_data,1),std=1)\n",
    "x = init.uniform_(torch.Tensor(num_data,1),-10,10)\n",
    "\n",
    "y= 2*x+3\n",
    "y_noise =y+noise "
   ]
  },
  {
   "cell_type": "code",
   "execution_count": 57,
   "metadata": {},
   "outputs": [
    {
     "data": {
      "text/plain": [
       "torch.Tensor"
      ]
     },
     "execution_count": 57,
     "metadata": {},
     "output_type": "execute_result"
    }
   ],
   "source": [
    "type(x)"
   ]
  },
  {
   "cell_type": "code",
   "execution_count": 58,
   "metadata": {},
   "outputs": [],
   "source": [
    "model = nn.Linear(1,1) # input output size\n",
    "output = model(Variable(x))\n",
    "\n",
    "loss_func = nn.MSELoss()\n",
    "optimizer = optim.SGD(model.parameters(),lr=0.01)"
   ]
  },
  {
   "cell_type": "code",
   "execution_count": 59,
   "metadata": {},
   "outputs": [
    {
     "data": {
      "text/plain": [
       "torch.Tensor"
      ]
     },
     "execution_count": 59,
     "metadata": {},
     "output_type": "execute_result"
    }
   ],
   "source": [
    "type(label)"
   ]
  },
  {
   "cell_type": "code",
   "execution_count": 67,
   "metadata": {},
   "outputs": [
    {
     "name": "stdout",
     "output_type": "stream",
     "text": [
      "tensor(809.0229, grad_fn=<L1LossBackward>)\n",
      "tensor(809.0229, grad_fn=<L1LossBackward>)\n",
      "tensor(809.0229, grad_fn=<L1LossBackward>)\n",
      "tensor(809.0229, grad_fn=<L1LossBackward>)\n",
      "tensor(809.0229, grad_fn=<L1LossBackward>)\n",
      "tensor(809.0229, grad_fn=<L1LossBackward>)\n",
      "tensor(809.0229, grad_fn=<L1LossBackward>)\n",
      "tensor(809.0229, grad_fn=<L1LossBackward>)\n",
      "tensor(809.0229, grad_fn=<L1LossBackward>)\n",
      "tensor(809.0229, grad_fn=<L1LossBackward>)\n"
     ]
    }
   ],
   "source": [
    "loss_arr=[]\n",
    "label = Variable(y_noise) #variable too\n",
    "for i in range(num_epoch):\n",
    "    optimizer.zero_grad() # gradient erasing\n",
    "    output = model(Variable(x))\n",
    "    loss = loss_func(output,label)\n",
    "    loss.backward()\n",
    "    optimizer.step()\n",
    "    \n",
    "    if i %100 ==0:\n",
    "        print(loss)\n",
    "        \n",
    "    loss_arr.append(loss.data.numpy())"
   ]
  },
  {
   "cell_type": "code",
   "execution_count": 61,
   "metadata": {},
   "outputs": [],
   "source": [
    "param_list = list(model.parameters())"
   ]
  },
  {
   "cell_type": "code",
   "execution_count": 62,
   "metadata": {},
   "outputs": [
    {
     "data": {
      "text/plain": [
       "[Parameter containing:\n",
       " tensor([[1.9972]], requires_grad=True),\n",
       " Parameter containing:\n",
       " tensor([3.0279], requires_grad=True)]"
      ]
     },
     "execution_count": 62,
     "metadata": {},
     "output_type": "execute_result"
    }
   ],
   "source": [
    "param_list"
   ]
  },
  {
   "cell_type": "code",
   "execution_count": 162,
   "metadata": {},
   "outputs": [],
   "source": [
    "num_data = 1000\n",
    "num_epoch = 1000\n",
    "\n",
    "noise = init.normal_(torch.FloatTensor(num_data,1),std=1)\n",
    "x = init.uniform_(torch.Tensor(num_data,1),-10,10)\n",
    "\n",
    "y= x+ np.cos(x)-np.sin(x)*(-x+10)\n",
    "y_noise =y+noise "
   ]
  },
  {
   "cell_type": "code",
   "execution_count": 163,
   "metadata": {},
   "outputs": [],
   "source": [
    "model = nn.Sequential(\n",
    "                    nn.Linear(1,6),\n",
    "    nn.ReLU(),\n",
    "    nn.Linear(6,10),\n",
    "    nn.ReLU(),\n",
    "    nn.Linear(10,6),\n",
    "    nn.ReLU(),\n",
    "    nn.Linear(6,1))\n"
   ]
  },
  {
   "cell_type": "code",
   "execution_count": 164,
   "metadata": {},
   "outputs": [],
   "source": [
    "loss_func = nn.L1Loss()\n",
    "optimizer =optim.SGD(model.parameters(),lr=0.001)"
   ]
  },
  {
   "cell_type": "code",
   "execution_count": 165,
   "metadata": {},
   "outputs": [
    {
     "name": "stdout",
     "output_type": "stream",
     "text": [
      "tensor(7.7874, grad_fn=<L1LossBackward>)\n",
      "tensor(7.7588, grad_fn=<L1LossBackward>)\n",
      "tensor(7.7298, grad_fn=<L1LossBackward>)\n",
      "tensor(7.6942, grad_fn=<L1LossBackward>)\n",
      "tensor(7.6438, grad_fn=<L1LossBackward>)\n",
      "tensor(7.5680, grad_fn=<L1LossBackward>)\n",
      "tensor(7.4438, grad_fn=<L1LossBackward>)\n",
      "tensor(7.2196, grad_fn=<L1LossBackward>)\n",
      "tensor(6.7687, grad_fn=<L1LossBackward>)\n",
      "tensor(6.3629, grad_fn=<L1LossBackward>)\n"
     ]
    }
   ],
   "source": [
    "label = y_noise\n",
    "loss_arr=[]\n",
    "for i in range(num_epoch):\n",
    "    optimizer.zero_grad()\n",
    "    output = model(x)\n",
    "    loss = loss_func(output,label)\n",
    "    loss.backward()\n",
    "    optimizer.step()\n",
    "    loss_arr.append(loss)\n",
    "    \n",
    "    if i %100 ==0:\n",
    "        print(loss)\n",
    "        "
   ]
  },
  {
   "cell_type": "code",
   "execution_count": 170,
   "metadata": {},
   "outputs": [
    {
     "data": {
      "text/plain": [
       "[Parameter containing:\n",
       " tensor([[ 0.5772],\n",
       "         [ 0.6130],\n",
       "         [ 1.1080],\n",
       "         [ 0.6867],\n",
       "         [-0.0842],\n",
       "         [ 0.6162]], requires_grad=True),\n",
       " Parameter containing:\n",
       " tensor([-0.4916, -0.0565, -0.8048, -0.5063,  0.2647,  0.9109],\n",
       "        requires_grad=True),\n",
       " Parameter containing:\n",
       " tensor([[ 0.1017,  0.1307,  0.4484,  0.3370, -0.2797, -0.1304],\n",
       "         [-0.0483, -0.4047,  0.0958, -0.3149, -0.2535, -0.0508],\n",
       "         [ 0.3069, -0.0908, -0.2416, -0.2484, -0.2237,  0.2809],\n",
       "         [-0.0154, -0.0037, -0.1045,  0.4197, -0.3524,  0.2150],\n",
       "         [ 0.0344,  0.0711,  0.5264,  0.1223,  0.2687,  0.5358],\n",
       "         [-0.0021, -0.2686, -0.4047, -0.2219,  0.0283,  0.2186],\n",
       "         [-0.0212, -0.2142, -0.2298,  0.1412, -0.2814, -0.2888],\n",
       "         [-0.1188, -0.2426, -0.3301,  0.2106,  0.2404,  0.3893],\n",
       "         [-0.3014, -0.3268,  0.3194, -0.4058,  0.1243, -0.3402],\n",
       "         [-0.4018,  0.3022, -0.0132, -0.0050,  0.0118, -0.1488]],\n",
       "        requires_grad=True),\n",
       " Parameter containing:\n",
       " tensor([ 0.3560, -0.0108, -0.2004,  0.3791, -0.1783,  0.1147,  0.1998, -0.4144,\n",
       "          0.2818, -0.2908], requires_grad=True),\n",
       " Parameter containing:\n",
       " tensor([[-0.2618,  0.0530, -0.1535, -0.2679,  0.0319,  0.2346, -0.2940, -0.2413,\n",
       "           0.3065,  0.1728],\n",
       "         [ 0.3019,  0.2882, -0.2336,  0.2128,  0.0137, -0.2027,  0.2000, -0.0648,\n",
       "           0.3148,  0.1057],\n",
       "         [-0.2084,  0.0052,  0.0374, -0.1036,  0.0482, -0.1484, -0.0839, -0.2663,\n",
       "           0.2443, -0.2327],\n",
       "         [-0.0095,  0.0424,  0.0608, -0.1897, -0.0540, -0.1786, -0.1485, -0.0308,\n",
       "          -0.2002, -0.0635],\n",
       "         [ 0.3856,  0.1072,  0.2464,  0.2634,  0.6334,  0.0131, -0.2520,  0.2302,\n",
       "           0.1042, -0.1236],\n",
       "         [ 0.0212,  0.0570,  0.1736,  0.1683,  0.2463,  0.1618, -0.2461, -0.0133,\n",
       "           0.0666,  0.0772]], requires_grad=True),\n",
       " Parameter containing:\n",
       " tensor([ 0.2259, -0.2249,  0.3058,  0.1782,  0.0734,  0.2069],\n",
       "        requires_grad=True),\n",
       " Parameter containing:\n",
       " tensor([[-0.0704,  0.2041, -0.3251, -0.1872,  0.7088,  0.1630]],\n",
       "        requires_grad=True),\n",
       " Parameter containing:\n",
       " tensor([0.2844], requires_grad=True)]"
      ]
     },
     "execution_count": 170,
     "metadata": {},
     "output_type": "execute_result"
    }
   ],
   "source": [
    "list(model.parameters())"
   ]
  },
  {
   "cell_type": "code",
   "execution_count": 166,
   "metadata": {},
   "outputs": [
    {
     "data": {
      "text/plain": [
       "[<matplotlib.lines.Line2D at 0x28d32cdd308>]"
      ]
     },
     "execution_count": 166,
     "metadata": {},
     "output_type": "execute_result"
    },
    {
     "data": {
      "image/png": "[encoded data removed]",
      "text/plain": [
       "<Figure size 432x288 with 1 Axes>"
      ]
     },
     "metadata": {
      "needs_background": "light"
     },
     "output_type": "display_data"
    }
   ],
   "source": [
    "import matplotlib.pyplot as plt\n",
    "a=np.linspace(-15,15,100)\n",
    "plt.plot(x,y_noise,'bo')"
   ]
  },
  {
   "cell_type": "code",
   "execution_count": 113,
   "metadata": {},
   "outputs": [
    {
     "data": {
      "text/plain": [
       "2744"
      ]
     },
     "execution_count": 113,
     "metadata": {},
     "output_type": "execute_result"
    }
   ],
   "source": []
  }
 ],
 "metadata": {
  "kernelspec": {
   "display_name": "Python 3",
   "language": "python",
   "name": "python3"
  },
  "language_info": {
   "codemirror_mode": {
    "name": "ipython",
    "version": 3
   },
   "file_extension": ".py",
   "mimetype": "text/x-python",
   "name": "python",
   "nbconvert_exporter": "python",
   "pygments_lexer": "ipython3",
   "version": "3.7.6"
  }
 },
 "nbformat": 4,
 "nbformat_minor": 4
}
