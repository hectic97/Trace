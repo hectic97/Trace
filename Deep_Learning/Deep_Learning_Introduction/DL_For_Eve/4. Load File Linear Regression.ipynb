{
 "cells": [
  {
   "cell_type": "code",
   "execution_count": 29,
   "metadata": {},
   "outputs": [],
   "source": [
    "import numpy as np\n",
    "import tensorflow as tf\n",
    "import os\n",
    "\n",
    "xy=np.loadtxt('data/data-01-test-score.csv.txt',delimiter=',', dtype=np.float32)\n",
    "x_data=xy[:,:-1]\n",
    "y_data=xy[:,[-1]] # xy[:,-1].shape == (25, )"
   ]
  },
  {
   "cell_type": "code",
   "execution_count": 30,
   "metadata": {},
   "outputs": [
    {
     "name": "stdout",
     "output_type": "stream",
     "text": [
      "(25, 3)\n",
      "(25, 1)\n"
     ]
    }
   ],
   "source": [
    "print(x_data.shape)\n",
    "print(y_data.shape)"
   ]
  },
  {
   "cell_type": "code",
   "execution_count": 35,
   "metadata": {},
   "outputs": [
    {
     "name": "stdout",
     "output_type": "stream",
     "text": [
      "Model: \"sequential_4\"\n",
      "_________________________________________________________________\n",
      "Layer (type)                 Output Shape              Param #   \n",
      "=================================================================\n",
      "dense_4 (Dense)              (None, 1)                 4         \n",
      "=================================================================\n",
      "Total params: 4\n",
      "Trainable params: 4\n",
      "Non-trainable params: 0\n",
      "_________________________________________________________________\n"
     ]
    }
   ],
   "source": [
    "tf.model=tf.keras.Sequential()\n",
    "tf.model.add(tf.keras.layers.Dense(units=1,input_dim=3,activation='linear'))\n",
    "tf.model.summary()\n",
    "tf.model.compile(loss='mse',optimizer=tf.keras.optimizers.SGD(lr=1e-5))\n",
    "history=tf.model.fit(x_data,y_data,epochs=2000,verbose=0)"
   ]
  },
  {
   "cell_type": "code",
   "execution_count": 37,
   "metadata": {},
   "outputs": [
    {
     "name": "stdout",
     "output_type": "stream",
     "text": [
      "Your score will be\n",
      " [[181.61781]]\n",
      "Others scores will be\n",
      " [[171.11781]\n",
      " [180.58142]]\n"
     ]
    }
   ],
   "source": [
    "print(\"Your score will be\\n\",tf.model.predict([[100,70,101]]))\n",
    "print(\"Others scores will be\\n\",tf.model.predict([[60,70,111],[90,100,80]]))"
   ]
  }
 ],
 "metadata": {
  "kernelspec": {
   "display_name": "Python 3",
   "language": "python",
   "name": "python3"
  },
  "language_info": {
   "codemirror_mode": {
    "name": "ipython",
    "version": 3
   },
   "file_extension": ".py",
   "mimetype": "text/x-python",
   "name": "python",
   "nbconvert_exporter": "python",
   "pygments_lexer": "ipython3",
   "version": "3.7.5"
  }
 },
 "nbformat": 4,
 "nbformat_minor": 2
}
