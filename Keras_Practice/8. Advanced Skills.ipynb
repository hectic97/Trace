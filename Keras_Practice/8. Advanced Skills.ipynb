{
 "cells": [
  {
   "cell_type": "code",
   "execution_count": 1,
   "metadata": {},
   "outputs": [
    {
     "name": "stderr",
     "output_type": "stream",
     "text": [
      "Using TensorFlow backend.\n"
     ]
    },
    {
     "name": "stdout",
     "output_type": "stream",
     "text": [
      "WARNING:tensorflow:From C:\\Anaconda\\lib\\site-packages\\keras\\backend\\tensorflow_backend.py:74: The name tf.get_default_graph is deprecated. Please use tf.compat.v1.get_default_graph instead.\n",
      "\n",
      "WARNING:tensorflow:From C:\\Anaconda\\lib\\site-packages\\keras\\backend\\tensorflow_backend.py:517: The name tf.placeholder is deprecated. Please use tf.compat.v1.placeholder instead.\n",
      "\n",
      "WARNING:tensorflow:From C:\\Anaconda\\lib\\site-packages\\keras\\backend\\tensorflow_backend.py:4138: The name tf.random_uniform is deprecated. Please use tf.random.uniform instead.\n",
      "\n"
     ]
    }
   ],
   "source": [
    "from keras import Input,layers\n",
    "input_tensor = Input(shape=(32,))  # Tensor\n",
    "dense = layers.Dense(32,activation = 'relu') # Layers\n",
    "output_tensor = dense(input_tensor) # 텐서와 함께 층을 호출 하면 텐서를 반환\n",
    "\n"
   ]
  },
  {
   "cell_type": "code",
   "execution_count": 2,
   "metadata": {},
   "outputs": [
    {
     "name": "stdout",
     "output_type": "stream",
     "text": [
      "_________________________________________________________________\n",
      "Layer (type)                 Output Shape              Param #   \n",
      "=================================================================\n",
      "input_2 (InputLayer)         (None, 64)                0         \n",
      "_________________________________________________________________\n",
      "dense_5 (Dense)              (None, 32)                2080      \n",
      "_________________________________________________________________\n",
      "dense_6 (Dense)              (None, 32)                1056      \n",
      "_________________________________________________________________\n",
      "dense_7 (Dense)              (None, 10)                330       \n",
      "=================================================================\n",
      "Total params: 3,466\n",
      "Trainable params: 3,466\n",
      "Non-trainable params: 0\n",
      "_________________________________________________________________\n"
     ]
    }
   ],
   "source": [
    "from keras.models import Sequential, Model\n",
    "from keras import layers\n",
    "from keras import Input\n",
    "\n",
    "seq_model = Sequential()\n",
    "seq_model.add(layers.Dense(32,activation='relu',input_shape = (64,)))\n",
    "seq_model.add(layers.Dense(32,activation='relu'))\n",
    "seq_model.add(layers.Dense(10,activation='softmax'))\n",
    "\n",
    "input_tensor = Input(shape=(64,))\n",
    "x=layers.Dense(32,activation='relu')(input_tensor)\n",
    "x=layers.Dense(32,activation='relu')(x)\n",
    "output_tensor = layers.Dense(10,activation='softmax')(x)\n",
    "\n",
    "model=Model(input_tensor,output_tensor) # input & output\n",
    "model.summary()"
   ]
  },
  {
   "cell_type": "code",
   "execution_count": 3,
   "metadata": {},
   "outputs": [
    {
     "name": "stdout",
     "output_type": "stream",
     "text": [
      "WARNING:tensorflow:From C:\\Anaconda\\lib\\site-packages\\keras\\optimizers.py:790: The name tf.train.Optimizer is deprecated. Please use tf.compat.v1.train.Optimizer instead.\n",
      "\n",
      "WARNING:tensorflow:From C:\\Anaconda\\lib\\site-packages\\keras\\backend\\tensorflow_backend.py:3295: The name tf.log is deprecated. Please use tf.math.log instead.\n",
      "\n"
     ]
    }
   ],
   "source": [
    "model.compile(optimizer='rmsprop',loss='categorical_crossentropy',metrics=['acc'])\n",
    "import numpy as np\n",
    "x_train=np.random.random((1000,64))\n",
    "y_train = np.random.random((1000,10))"
   ]
  },
  {
   "cell_type": "code",
   "execution_count": 6,
   "metadata": {},
   "outputs": [
    {
     "name": "stdout",
     "output_type": "stream",
     "text": [
      "Epoch 1/10\n",
      "1000/1000 [==============================] - 0s 25us/step - loss: 11.5774 - acc: 0.1340\n",
      "Epoch 2/10\n",
      "1000/1000 [==============================] - 0s 20us/step - loss: 11.5752 - acc: 0.1360\n",
      "Epoch 3/10\n",
      "1000/1000 [==============================] - 0s 24us/step - loss: 11.5736 - acc: 0.1410\n",
      "Epoch 4/10\n",
      "1000/1000 [==============================] - 0s 23us/step - loss: 11.5717 - acc: 0.1450\n",
      "Epoch 5/10\n",
      "1000/1000 [==============================] - 0s 22us/step - loss: 11.5705 - acc: 0.1420\n",
      "Epoch 6/10\n",
      "1000/1000 [==============================] - 0s 23us/step - loss: 11.5686 - acc: 0.1430\n",
      "Epoch 7/10\n",
      "1000/1000 [==============================] - 0s 23us/step - loss: 11.5667 - acc: 0.1460\n",
      "Epoch 8/10\n",
      "1000/1000 [==============================] - 0s 23us/step - loss: 11.5650 - acc: 0.1590\n",
      "Epoch 9/10\n",
      "1000/1000 [==============================] - 0s 21us/step - loss: 11.5640 - acc: 0.1500\n",
      "Epoch 10/10\n",
      "1000/1000 [==============================] - 0s 23us/step - loss: 11.5623 - acc: 0.1640\n",
      "1000/1000 [==============================] - 0s 65us/step\n"
     ]
    }
   ],
   "source": [
    "model.fit(x_train,y_train,epochs=10,batch_size=128)\n",
    "score=model.evaluate(x_train,y_train)"
   ]
  },
  {
   "cell_type": "code",
   "execution_count": 7,
   "metadata": {},
   "outputs": [
    {
     "data": {
      "text/plain": [
       "[11.559618453979493, 0.163]"
      ]
     },
     "execution_count": 7,
     "metadata": {},
     "output_type": "execute_result"
    }
   ],
   "source": [
    "score"
   ]
  },
  {
   "cell_type": "code",
   "execution_count": 11,
   "metadata": {},
   "outputs": [],
   "source": [
    "from keras.models import Model\n",
    "from keras import layers\n",
    "from keras import Input\n",
    "\n",
    "text_vocabulary_size= 10000\n",
    "question_vocabulary_size = 1000\n",
    "answer_vocabulary_size = 500\n",
    "\n",
    "text_input = Input(shape=(None,),dtype='int32',name ='text')\n",
    "embedded_text = layers.Embedding(text_vocabulary_size , 64)(text_input)\n",
    "encoded_text = layers.LSTM(32)(embedded_text)\n",
    "question_input = Input(shape=(None,),dtype='int32',name='question')\n",
    "embedded_question = layers.Embedding(question_vocabulary_size,32)(question_input)\n",
    "encoded_question = layers.LSTM(16)(embedded_question)\n",
    "\n",
    "concatenated = layers.concatenate([encoded_text,encoded_question],axis=-1)\n",
    "answer = layers.Dense(answer_vocabulary_size,activation='softmax')(concatenated)\n",
    "\n",
    "model=Model([text_input,question_input],answer) # two inputs\n",
    "model.compile(optimizer='rmsprop',loss='binary_crossentropy',metrics=['acc'])   "
   ]
  },
  {
   "cell_type": "code",
   "execution_count": 12,
   "metadata": {},
   "outputs": [
    {
     "name": "stdout",
     "output_type": "stream",
     "text": [
      "Epoch 1/10\n",
      "1000/1000 [==============================] - 3s 3ms/step - loss: 0.0144 - acc: 0.9980\n",
      "Epoch 2/10\n",
      "1000/1000 [==============================] - 2s 2ms/step - loss: 0.0144 - acc: 0.9980\n",
      "Epoch 3/10\n",
      "1000/1000 [==============================] - 2s 2ms/step - loss: 0.0144 - acc: 0.9980\n",
      "Epoch 4/10\n",
      "1000/1000 [==============================] - 1s 1ms/step - loss: 0.0144 - acc: 0.9980\n",
      "Epoch 5/10\n",
      "1000/1000 [==============================] - 2s 2ms/step - loss: 0.0144 - acc: 0.9980\n",
      "Epoch 6/10\n",
      "1000/1000 [==============================] - 2s 2ms/step - loss: 0.0143 - acc: 0.9980\n",
      "Epoch 7/10\n",
      "1000/1000 [==============================] - 2s 2ms/step - loss: 0.0141 - acc: 0.9980\n",
      "Epoch 8/10\n",
      "1000/1000 [==============================] - 2s 2ms/step - loss: 0.0140 - acc: 0.9980\n",
      "Epoch 9/10\n",
      "1000/1000 [==============================] - 2s 2ms/step - loss: 0.0140 - acc: 0.9980\n",
      "Epoch 10/10\n",
      "1000/1000 [==============================] - 2s 2ms/step - loss: 0.0139 - acc: 0.9980\n"
     ]
    },
    {
     "data": {
      "text/plain": [
       "<keras.callbacks.History at 0x1ae0318bc08>"
      ]
     },
     "execution_count": 12,
     "metadata": {},
     "output_type": "execute_result"
    }
   ],
   "source": [
    "import numpy as np\n",
    "from keras.utils import to_categorical\n",
    "\n",
    "num_samples = 1000\n",
    "max_length = 100\n",
    "text = np.random.randint(1,text_vocabulary_size,size=(num_samples,max_length))\n",
    "question = np.random.randint(1,question_vocabulary_size,size=(num_samples,max_length))\n",
    "answers = np.random.randint(0,answer_vocabulary_size,size=num_samples)\n",
    "answers = to_categorical(answers)\n",
    "# model.fit([text,question],answers,epochs=100,batch_size=128)\n",
    "\n",
    "model.fit({'text':text,'question':question},answers,epochs=10,batch_size=128)"
   ]
  },
  {
   "cell_type": "code",
   "execution_count": 15,
   "metadata": {},
   "outputs": [],
   "source": [
    "from keras import layers\n",
    "from keras import Input\n",
    "from keras.models import Model\n",
    "vocabulary_size=50000\n",
    "num_income_groups=10\n",
    "\n",
    "posts_input = Input(shape = (None,), dtype='int32',name='posts')\n",
    "embedded_posts = layers.Embedding(vocabulary_size,256)(posts_input)\n",
    "x=layers.Conv1D(128,5,activation = 'relu')(embedded_posts)\n",
    "x=layers.MaxPooling1D(5)(x)\n",
    "x=layers.Conv1D(256,5,activation = 'relu')(x)\n",
    "x=layers.Conv1D(256,5,activation = 'relu')(x)\n",
    "x=layers.MaxPooling1D(5)(x)\n",
    "x=layers.Conv1D(256,5,activation = 'relu')(x)\n",
    "x=layers.Conv1D(256,5,activation = 'relu')(x)\n",
    "x=layers.GlobalMaxPooling1D()(x)\n",
    "x=layers.Dense(128,activation='relu')(x)\n",
    "\n",
    "age_prediction = layers.Dense(1,name='age')(x)\n",
    "income_prediction = layers.Dense(num_income_groups,activation = 'softmax',name = 'income')(x)\n",
    "gender_prediction = layers.Dense(1,activation = 'sigmoid',name='gender')(x)\n",
    "\n",
    "model=Model(posts_input,[age_prediction,income_prediction,gender_prediction])"
   ]
  },
  {
   "cell_type": "code",
   "execution_count": 16,
   "metadata": {},
   "outputs": [],
   "source": [
    "model.compile(optimizer='rmsprop',loss=['mse','categorical_crossentropy','binary_crossentropy'])\n",
    "# model.compile(optimizer='rmsprop',loss={'age':'mse','income':'categorical_crossentropy','gender':'binary_crossentropy'})\n"
   ]
  },
  {
   "cell_type": "code",
   "execution_count": 17,
   "metadata": {},
   "outputs": [],
   "source": [
    "model.compile(optimizer='rmsprop',loss=['mse','categorical_crossentropy','binary_crossentropy'],\n",
    "             loss_weights=[0.25,1.,10.])\n",
    "# model.compile(optimizer='rmsprop',loss={'age':'mse','income':'categorical_crossentropy','gender':'binary_crossentropy'},\n",
    "# loss_weights={'age':0.25,'income':1.,'gender':10.})\n"
   ]
  },
  {
   "cell_type": "code",
   "execution_count": null,
   "metadata": {},
   "outputs": [],
   "source": [
    "model.fit(posts,[age_targets,income_targets,gender_targets],epochs=10,batch_size=64)"
   ]
  },
  {
   "cell_type": "code",
   "execution_count": null,
   "metadata": {},
   "outputs": [],
   "source": [
    "layers.Conv2D()"
   ]
  }
 ],
 "metadata": {
  "kernelspec": {
   "display_name": "Python 3",
   "language": "python",
   "name": "python3"
  },
  "language_info": {
   "codemirror_mode": {
    "name": "ipython",
    "version": 3
   },
   "file_extension": ".py",
   "mimetype": "text/x-python",
   "name": "python",
   "nbconvert_exporter": "python",
   "pygments_lexer": "ipython3",
   "version": "3.7.6"
  }
 },
 "nbformat": 4,
 "nbformat_minor": 4
}
