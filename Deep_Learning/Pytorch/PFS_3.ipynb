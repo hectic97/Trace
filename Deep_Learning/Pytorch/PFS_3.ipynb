{
 "cells": [
  {
   "cell_type": "code",
   "execution_count": 3,
   "metadata": {},
   "outputs": [],
   "source": [
    "import torch\n",
    "import torch.nn as nn\n",
    "import torch.optim as optim\n",
    "import torch.nn.init as init\n",
    "import torchvision.datasets as dset\n",
    "import torchvision.transforms as transforms\n",
    "from torch.utils.data import DataLoader\n",
    "\n",
    "batch_size = 256\n",
    "learning_rate = 0.0002\n",
    "num_epoch = 10"
   ]
  },
  {
   "cell_type": "code",
   "execution_count": 4,
   "metadata": {},
   "outputs": [],
   "source": [
    "mnist_train = dset.MNIST(\"./\",train=True,transform = transforms.ToTensor(),target_transform=None,download=False)\n",
    "mnist_test = dset.MNIST(\"./\",train=False,transform = transforms.ToTensor(),target_transform=None,download=False)"
   ]
  },
  {
   "cell_type": "code",
   "execution_count": 5,
   "metadata": {},
   "outputs": [],
   "source": [
    "train_loader = torch.utils.data.DataLoader(mnist_train,batch_size=batch_size,shuffle=True,num_workers=2,\n",
    "                                          drop_last=True)\n",
    "test_loader = torch.utils.data.DataLoader(mnist_test,batch_size=batch_size,shuffle=False,num_workers=2,\n",
    "                                          drop_last=True)"
   ]
  },
  {
   "cell_type": "code",
   "execution_count": 6,
   "metadata": {},
   "outputs": [],
   "source": [
    "class CNN(nn.Module):\n",
    "    def __init__(self):\n",
    "        super(CNN,self).__init__()\n",
    "        self.layer = nn.Sequential(nn.Conv2d(1,16,5),# Conv2d in  out kernel stride padding\n",
    "                                  nn.ReLU(),\n",
    "                                  nn.Conv2d(16,32,5),\n",
    "                                  nn.ReLU(),\n",
    "                                  nn.MaxPool2d(2,2), # MaxPool2d kernelsize,stride\n",
    "                                  nn.Conv2d(32,64,5),\n",
    "                                  nn.ReLU(),\n",
    "                                  nn.MaxPool2d(2,2))\n",
    "        self.fc_layer = nn.Sequential(nn.Linear(64*3*3,100),\n",
    "                                     nn.ReLU(),\n",
    "                                     nn.Linear(100,10))\n",
    "    \n",
    "    def forward(self,x):\n",
    "        out = self.layer(x)\n",
    "        out = out.view(batch_size,-1)\n",
    "        out = self.fc_layer(out)\n",
    "        return out\n",
    "        "
   ]
  },
  {
   "cell_type": "code",
   "execution_count": 10,
   "metadata": {},
   "outputs": [],
   "source": [
    "model = CNN()\n",
    "loss_func = nn.CrossEntropyLoss()\n",
    "optimizer = optim.Adam(model.parameters(),lr=learning_rate)"
   ]
  },
  {
   "cell_type": "code",
   "execution_count": 17,
   "metadata": {},
   "outputs": [
    {
     "name": "stdout",
     "output_type": "stream",
     "text": [
      "tensor(0.7180, grad_fn=<NllLossBackward>)\n",
      "tensor(0.4699, grad_fn=<NllLossBackward>)\n",
      "tensor(0.4067, grad_fn=<NllLossBackward>)\n",
      "tensor(0.3238, grad_fn=<NllLossBackward>)\n",
      "tensor(0.4260, grad_fn=<NllLossBackward>)\n",
      "tensor(0.2620, grad_fn=<NllLossBackward>)\n",
      "tensor(0.3056, grad_fn=<NllLossBackward>)\n",
      "tensor(0.2137, grad_fn=<NllLossBackward>)\n",
      "tensor(0.2049, grad_fn=<NllLossBackward>)\n",
      "tensor(0.1990, grad_fn=<NllLossBackward>)\n"
     ]
    }
   ],
   "source": [
    "loss_arr=[]\n",
    "for i in range(num_epoch):\n",
    "    for j,[image,label] in enumerate(train_loader):\n",
    "        x = image\n",
    "        y = label\n",
    "        \n",
    "        optimizer.zero_grad()\n",
    "        output = model.forward(x)\n",
    "        loss = loss_func(output,y)\n",
    "        loss.backward()\n",
    "        optimizer.step()\n",
    "        if j == 30 :\n",
    "            break\n",
    "        if j % 100 == 0 :\n",
    "            print(loss)\n",
    "            loss_arr.append(loss.detach().numpy())"
   ]
  },
  {
   "cell_type": "code",
   "execution_count": 48,
   "metadata": {},
   "outputs": [
    {
     "name": "stdout",
     "output_type": "stream",
     "text": [
      "Accuracy of Test Data: 95.00200653076172\n"
     ]
    }
   ],
   "source": [
    "correct = 0\n",
    "total = 0\n",
    "\n",
    "with torch.no_grad():\n",
    "    for image,label in test_loader:\n",
    "        x = image\n",
    "        y = label\n",
    "        output = model.forward(x)\n",
    "        _,output_index = torch.max(output,1) #torch.max (output, dim) output == output_val , output_index(class)\n",
    "        \n",
    "        total += label.size(0) # == label.size()[0]\n",
    "        correct += (output_index == y).sum().float()\n",
    "    \n",
    "    print(\"Accuracy of Test Data: {}\".format(100*correct/total))"
   ]
  },
  {
   "cell_type": "code",
   "execution_count": 46,
   "metadata": {},
   "outputs": [
    {
     "data": {
      "text/plain": [
       "28"
      ]
     },
     "execution_count": 46,
     "metadata": {},
     "output_type": "execute_result"
    }
   ],
   "source": [
    "sample[0][0].size(2)"
   ]
  },
  {
   "cell_type": "code",
   "execution_count": 22,
   "metadata": {},
   "outputs": [
    {
     "data": {
      "text/plain": [
       "torch.Size([1, 28, 28])"
      ]
     },
     "execution_count": 22,
     "metadata": {},
     "output_type": "execute_result"
    }
   ],
   "source": [
    "sample[0][0].size()"
   ]
  }
 ],
 "metadata": {
  "kernelspec": {
   "display_name": "Python 3",
   "language": "python",
   "name": "python3"
  },
  "language_info": {
   "codemirror_mode": {
    "name": "ipython",
    "version": 3
   },
   "file_extension": ".py",
   "mimetype": "text/x-python",
   "name": "python",
   "nbconvert_exporter": "python",
   "pygments_lexer": "ipython3",
   "version": "3.7.6"
  }
 },
 "nbformat": 4,
 "nbformat_minor": 4
}
