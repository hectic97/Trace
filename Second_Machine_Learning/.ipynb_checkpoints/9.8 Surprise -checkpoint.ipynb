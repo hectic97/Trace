{
 "cells": [
  {
   "cell_type": "code",
   "execution_count": 1,
   "metadata": {},
   "outputs": [],
   "source": [
    "from surprise import SVD\n",
    "from surprise import Dataset\n",
    "from surprise import accuracy\n",
    "from surprise.model_selection import train_test_split"
   ]
  },
  {
   "cell_type": "code",
   "execution_count": 2,
   "metadata": {},
   "outputs": [
    {
     "name": "stdout",
     "output_type": "stream",
     "text": [
      "Dataset ml-100k could not be found. Do you want to download it? [Y/n] y\n",
      "Trying to download dataset from http://files.grouplens.org/datasets/movielens/ml-100k.zip...\n",
      "Done! Dataset ml-100k has been saved to C:\\Users\\집/.surprise_data/ml-100k\n"
     ]
    }
   ],
   "source": [
    "data=Dataset.load_builtin('ml-100k')"
   ]
  },
  {
   "cell_type": "code",
   "execution_count": 3,
   "metadata": {},
   "outputs": [],
   "source": [
    "trainset,testset=train_test_split(data,test_size=.25,random_state=0)"
   ]
  },
  {
   "cell_type": "code",
   "execution_count": 4,
   "metadata": {},
   "outputs": [
    {
     "data": {
      "text/plain": [
       "<surprise.prediction_algorithms.matrix_factorization.SVD at 0x233abd97208>"
      ]
     },
     "execution_count": 4,
     "metadata": {},
     "output_type": "execute_result"
    }
   ],
   "source": [
    "algo=SVD()\n",
    "algo.fit(trainset)"
   ]
  },
  {
   "cell_type": "code",
   "execution_count": 9,
   "metadata": {},
   "outputs": [
    {
     "name": "stdout",
     "output_type": "stream",
     "text": [
      "prediction type : <class 'list'> size: 25000\n",
      "Precede 5 \n",
      " [Prediction(uid='120', iid='282', r_ui=4.0, est=3.527450187105002, details={'was_impossible': False}), Prediction(uid='882', iid='291', r_ui=4.0, est=3.7092038003292718, details={'was_impossible': False}), Prediction(uid='535', iid='507', r_ui=5.0, est=4.343963702179069, details={'was_impossible': False}), Prediction(uid='697', iid='244', r_ui=5.0, est=3.2760702293290906, details={'was_impossible': False}), Prediction(uid='751', iid='385', r_ui=4.0, est=3.289423544742187, details={'was_impossible': False})]\n"
     ]
    }
   ],
   "source": [
    "predictions=algo.test(testset)\n",
    "print('prediction type :',type(predictions),'size:',len(predictions))\n",
    "print('Precede 5 \\n',predictions[:5])\n",
    "# Prediction object - Surprise's python list\n",
    "# uid == userid , iid == itemid, r_ui == rating, est == estimated rating, detail {was_im--} == if true can't predict"
   ]
  },
  {
   "cell_type": "code",
   "execution_count": 10,
   "metadata": {},
   "outputs": [
    {
     "data": {
      "text/plain": [
       "[('120', '282', 3.527450187105002),\n",
       " ('882', '291', 3.7092038003292718),\n",
       " ('535', '507', 4.343963702179069)]"
      ]
     },
     "execution_count": 10,
     "metadata": {},
     "output_type": "execute_result"
    }
   ],
   "source": [
    "[(pred.uid,pred.iid,pred.est) for pred in predictions[:3]]"
   ]
  },
  {
   "cell_type": "code",
   "execution_count": 11,
   "metadata": {},
   "outputs": [
    {
     "name": "stdout",
     "output_type": "stream",
     "text": [
      "user: 196        item: 302        r_ui = None   est = 4.07   {'was_impossible': False}\n"
     ]
    }
   ],
   "source": [
    "uid=str(196)\n",
    "iid=str(302)\n",
    "pred=algo.predict(uid,iid)\n",
    "print(pred)"
   ]
  },
  {
   "cell_type": "code",
   "execution_count": 12,
   "metadata": {},
   "outputs": [
    {
     "name": "stdout",
     "output_type": "stream",
     "text": [
      "RMSE: 0.9475\n"
     ]
    },
    {
     "data": {
      "text/plain": [
       "0.9475012906373043"
      ]
     },
     "execution_count": 12,
     "metadata": {},
     "output_type": "execute_result"
    }
   ],
   "source": [
    "accuracy.rmse(predictions)"
   ]
  },
  {
   "cell_type": "code",
   "execution_count": 14,
   "metadata": {},
   "outputs": [],
   "source": [
    "import pandas as pd\n",
    "ratings= pd.read_csv('../../data/ml-latest-small/ml-latest-small/ratings.csv')\n"
   ]
  },
  {
   "cell_type": "code",
   "execution_count": 17,
   "metadata": {},
   "outputs": [],
   "source": [
    "ratings.to_csv('../../data/ml-latest-small/ml-latest-small/ratings_noh.csv',index=False,header=False)"
   ]
  },
  {
   "cell_type": "code",
   "execution_count": 18,
   "metadata": {},
   "outputs": [],
   "source": [
    "from surprise import Reader\n",
    "\n",
    "reader=Reader(line_format='user item rating timestamp',sep=',',rating_scale=(0.5,5))\n",
    "data=Dataset.load_from_file('../../data/ml-latest-small/ml-latest-small/ratings_noh.csv',reader=reader)"
   ]
  },
  {
   "cell_type": "code",
   "execution_count": 20,
   "metadata": {},
   "outputs": [
    {
     "name": "stdout",
     "output_type": "stream",
     "text": [
      "RMSE: 0.8682\n"
     ]
    },
    {
     "data": {
      "text/plain": [
       "0.8681952927143516"
      ]
     },
     "execution_count": 20,
     "metadata": {},
     "output_type": "execute_result"
    }
   ],
   "source": [
    "trainset,testset = train_test_split(data, test_size=.25,random_state=0)\n",
    "\n",
    "algo=SVD(n_factors=50,random_state=0)\n",
    "algo.fit(trainset)\n",
    "predictions=algo.test(testset)\n",
    "accuracy.rmse(predictions)"
   ]
  },
  {
   "cell_type": "code",
   "execution_count": 22,
   "metadata": {},
   "outputs": [
    {
     "name": "stdout",
     "output_type": "stream",
     "text": [
      "RMSE: 0.8682\n"
     ]
    },
    {
     "data": {
      "text/plain": [
       "0.8681952927143516"
      ]
     },
     "execution_count": 22,
     "metadata": {},
     "output_type": "execute_result"
    }
   ],
   "source": [
    "ratings=pd.read_csv('../../data/ml-latest-small/ml-latest-small/ratings.csv')\n",
    "reader=Reader(rating_scale=(0.5,5))\n",
    "\n",
    "data=Dataset.load_from_df(ratings[['userId','movieId','rating']],reader)\n",
    "trainset,testset=train_test_split(data,test_size=0.25,random_state=0)\n",
    "\n",
    "algo=SVD(n_factors=50,random_state=0)\n",
    "algo.fit(trainset)\n",
    "predictions = algo.test(testset)\n",
    "accuracy.rmse(predictions)"
   ]
  },
  {
   "cell_type": "code",
   "execution_count": 24,
   "metadata": {},
   "outputs": [
    {
     "name": "stdout",
     "output_type": "stream",
     "text": [
      "Evaluating RMSE, MAE of algorithm SVD on 5 split(s).\n",
      "\n",
      "                  Fold 1  Fold 2  Fold 3  Fold 4  Fold 5  Mean    Std     \n",
      "RMSE (testset)    0.8725  0.8793  0.8707  0.8731  0.8714  0.8734  0.0031  \n",
      "MAE (testset)     0.6688  0.6765  0.6677  0.6695  0.6730  0.6711  0.0032  \n",
      "Fit time          6.58    6.59    6.58    6.54    6.63    6.58    0.03    \n",
      "Test time         0.25    0.24    0.16    0.22    0.27    0.23    0.04    \n"
     ]
    },
    {
     "data": {
      "text/plain": [
       "{'test_rmse': array([0.87250088, 0.87933808, 0.8706915 , 0.87314737, 0.87138623]),\n",
       " 'test_mae': array([0.66882694, 0.67646047, 0.66773788, 0.66951973, 0.67299742]),\n",
       " 'fit_time': (6.582957744598389,\n",
       "  6.59051775932312,\n",
       "  6.5755534172058105,\n",
       "  6.542913913726807,\n",
       "  6.625675916671753),\n",
       " 'test_time': (0.2459099292755127,\n",
       "  0.23898100852966309,\n",
       "  0.16292667388916016,\n",
       "  0.21892023086547852,\n",
       "  0.26643943786621094)}"
      ]
     },
     "execution_count": 24,
     "metadata": {},
     "output_type": "execute_result"
    }
   ],
   "source": [
    "from surprise.model_selection import cross_validate\n",
    "\n",
    "ratings=pd.read_csv('../../data/ml-latest-small/ml-latest-small/ratings.csv')\n",
    "reader=Reader(rating_scale=(0.5,5.0))\n",
    "data=Dataset.load_from_df(ratings[['userId','movieId','rating']],reader)\n",
    "\n",
    "algo=SVD(random_state=0)\n",
    "cross_validate(algo,data,measures=['RMSE','MAE'],cv=5,verbose=True)\n"
   ]
  },
  {
   "cell_type": "code",
   "execution_count": null,
   "metadata": {},
   "outputs": [],
   "source": [
    "from surprise.model_selection import GridSearchCV\n",
    "\n",
    "param_grid = {'n_epochs':[20,40,60],'n_factors':[50,100,200]}\n",
    "gs=GridSearchCV(SVD,param_grid,measures=['rmse','mae'],cv=3)\n",
    "gs.fit(data)\n"
   ]
  },
  {
   "cell_type": "code",
   "execution_count": 29,
   "metadata": {},
   "outputs": [
    {
     "name": "stdout",
     "output_type": "stream",
     "text": [
      "0.8771237018114008\n",
      "{'n_epochs': 20, 'n_factors': 50}\n"
     ]
    }
   ],
   "source": [
    "print(gs.best_score['rmse'])\n",
    "print(gs.best_params['rmse'])"
   ]
  },
  {
   "cell_type": "code",
   "execution_count": 30,
   "metadata": {},
   "outputs": [],
   "source": [
    "from surprise.dataset import DatasetAutoFolds\n",
    "\n",
    "reader=Reader(line_format='user item rating timestamp',sep=',',rating_scale=(0.5,5))\n",
    "data_folds = DatasetAutoFolds(ratings_file='../../data/ml-latest-small/ml-latest-small/ratings_noh.csv',reader=reader)\n",
    "\n",
    "trainset=data_folds.build_full_trainset()"
   ]
  },
  {
   "cell_type": "code",
   "execution_count": 31,
   "metadata": {},
   "outputs": [
    {
     "data": {
      "text/plain": [
       "<surprise.prediction_algorithms.matrix_factorization.SVD at 0x233ac8eb448>"
      ]
     },
     "execution_count": 31,
     "metadata": {},
     "output_type": "execute_result"
    }
   ],
   "source": [
    "algo=SVD(n_epochs=20,n_factors=50,random_state=0)\n",
    "algo.fit(trainset)"
   ]
  },
  {
   "cell_type": "code",
   "execution_count": 32,
   "metadata": {},
   "outputs": [],
   "source": [
    "movies=pd.read_csv('../../data/ml-latest-small/ml-latest-small/movies.csv')\n",
    "movieIds = ratings[ratings['userId']==9]['movieId']"
   ]
  },
  {
   "cell_type": "code",
   "execution_count": 34,
   "metadata": {},
   "outputs": [
    {
     "name": "stdout",
     "output_type": "stream",
     "text": [
      "No Rate\n",
      "    movieId                   title              genres\n",
      "38       42  Dead Presidents (1995)  Action|Crime|Drama\n"
     ]
    }
   ],
   "source": [
    "if movieIds[movieIds==42].count() == 0:\n",
    "    print('No Rate')\n",
    "print(movies[movies['movieId']==42])"
   ]
  },
  {
   "cell_type": "code",
   "execution_count": 35,
   "metadata": {},
   "outputs": [
    {
     "name": "stdout",
     "output_type": "stream",
     "text": [
      "user: 9          item: 42         r_ui = None   est = 3.13   {'was_impossible': False}\n"
     ]
    }
   ],
   "source": [
    "uid=str(9)\n",
    "iid=str(42)\n",
    "pred=algo.predict(uid,iid,verbose=True)"
   ]
  },
  {
   "cell_type": "code",
   "execution_count": 36,
   "metadata": {},
   "outputs": [
    {
     "name": "stdout",
     "output_type": "stream",
     "text": [
      "Number of Rating Movies : 46 Number of Recommendation Movie : 9696 Number of Total Movies : 9742\n"
     ]
    }
   ],
   "source": [
    "def get_unseen_surprise(ratings,movies,userId):\n",
    "    seen_movies=ratings[ratings['userId']==userId]['movieId'].tolist()\n",
    "    total_movies=movies['movieId'].tolist()\n",
    "    \n",
    "    unseen_movies = [movie for movie in total_movies if movie not in seen_movies]\n",
    "    print('Number of Rating Movies :',len(seen_movies),'Number of Recommendation Movie :',len(unseen_movies),\n",
    "         'Number of Total Movies :',len(total_movies))\n",
    "    return unseen_movies\n",
    "unseen_movies=get_unseen_surprise(ratings,movies,9)"
   ]
  },
  {
   "cell_type": "code",
   "execution_count": 41,
   "metadata": {},
   "outputs": [],
   "source": [
    "import numpy as np"
   ]
  },
  {
   "cell_type": "code",
   "execution_count": 79,
   "metadata": {},
   "outputs": [
    {
     "name": "stdout",
     "output_type": "stream",
     "text": [
      "Number of Rating Movies : 46 Number of Recommendation Movie : 9696 Number of Total Movies : 9742\n",
      "                ########## TOP - 10 Movies For You ##########\n",
      "Usual Suspects, The (1995)                            :4.3\n",
      "Star Wars: Episode IV - A New Hope (1977)             :4.3\n",
      "Pulp Fiction (1994)                                   :4.3\n",
      "Silence of the Lambs, The (1991)                      :4.2\n",
      "Godfather, The (1972)                                 :4.2\n",
      "Streetcar Named Desire, A (1951)                      :4.2\n",
      "Star Wars: Episode V - The Empire Strikes Back (1980) :4.1\n",
      "Star Wars: Episode VI - Return of the Jedi (1983)     :4.1\n",
      "Goodfellas (1990)                                     :4.1\n",
      "Glory (1989)                                          :4.1\n"
     ]
    }
   ],
   "source": [
    "def recomm_movie_by_surprise(algo,userId,unseen_movies,top_n=10):\n",
    "    predictions = [algo.predict(str(userId),str(movieId)) for movieId in unseen_movies]\n",
    "    #[prediction(uid iid est),prediction(uid iid est),,,,,,]\n",
    "    # sort by est \n",
    "    \n",
    "    def sorted_est(pred): #sort() function's attribute\n",
    "        return pred.est\n",
    "    \n",
    "    predictions.sort(key=sorted_est,reverse=True)\n",
    "    top_predictions = predictions[:top_n]\n",
    "    \n",
    "    top_movie_ids=[int(pred.iid) for pred in top_predictions]\n",
    "    top_movie_rating = [pred.est for pred in top_predictions]\n",
    "    top_movie_titles = movies[movies.movieId.isin(top_movie_ids)]['title']\n",
    "    \n",
    "    top_movie_preds = [(id,title,rating) for id, title, rating in zip(top_movie_ids,top_movie_titles,top_movie_rating)]\n",
    "    return top_movie_preds\n",
    "\n",
    "unseen_movies=get_unseen_surprise(ratings,movies,9)\n",
    "top_movies_preds=recomm_movie_by_surprise(algo,9,unseen_movies,top_n = 10)\n",
    "longest=len(top_movies_preds[0][1])\n",
    "for i in range(1,10):\n",
    "    longest=longest if longest>len(top_movies_preds[i][1])\\\n",
    "    else (len(top_movies_preds[i][1]))\n",
    "    \n",
    "print('                ########## TOP - 10 Movies For You ##########')\n",
    "for top_movie in top_movies_preds:\n",
    "    print('{:{}}:{}'.format(top_movie[1],longest+1,np.round(top_movie[2],1)))"
   ]
  }
 ],
 "metadata": {
  "kernelspec": {
   "display_name": "Python 3",
   "language": "python",
   "name": "python3"
  },
  "language_info": {
   "codemirror_mode": {
    "name": "ipython",
    "version": 3
   },
   "file_extension": ".py",
   "mimetype": "text/x-python",
   "name": "python",
   "nbconvert_exporter": "python",
   "pygments_lexer": "ipython3",
   "version": "3.7.6"
  }
 },
 "nbformat": 4,
 "nbformat_minor": 4
}
