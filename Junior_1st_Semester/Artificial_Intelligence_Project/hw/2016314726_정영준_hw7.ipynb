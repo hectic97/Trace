{
  "nbformat": 4,
  "nbformat_minor": 0,
  "metadata": {
    "colab": {
      "name": "Deep Residual Learning for Image Recognition.ipynb",
      "provenance": [],
      "collapsed_sections": []
    },
    "kernelspec": {
      "name": "python3",
      "display_name": "Python 3"
    },
    "accelerator": "GPU"
  },
  "cells": [
    {
      "cell_type": "code",
      "metadata": {
        "id": "59QiiOWVrg30",
        "colab_type": "code",
        "colab": {}
      },
      "source": [
        "import torch\n",
        "import torchvision\n",
        "import torch.nn as nn\n",
        "import torch.optim as optim\n",
        "from torchvision import transforms\n",
        "import numpy as np\n",
        "import matplotlib.pyplot as plt"
      ],
      "execution_count": 0,
      "outputs": []
    },
    {
      "cell_type": "code",
      "metadata": {
        "id": "3g1X26Ivrq6N",
        "colab_type": "code",
        "colab": {}
      },
      "source": [
        "class LayerBlock(nn.Module):\n",
        "    def __init__(self,in_dim,out_dim,down=False):\n",
        "        super(LayerBlock,self).__init__()\n",
        "  \n",
        "        self.bn1 = nn.BatchNorm2d(out_dim)  \n",
        "        self.bn2 = nn.BatchNorm2d(out_dim)\n",
        "        self.bn3 = nn.BatchNorm2d(out_dim)\n",
        "        self.relu = nn.ReLU(inplace=True)\n",
        "        self.conv2 = nn.Conv2d(out_dim,out_dim,3,1,1)\n",
        "        self.down = down\n",
        "        self.in_dim = in_dim\n",
        "        self.out_dim =out_dim\n",
        "        self.match_size=nn.Conv2d(self.in_dim,self.out_dim,1)\n",
        "\n",
        "        if self.down:\n",
        "            self.conv1 = nn.Conv2d(in_dim,out_dim,3,2,1)\n",
        "            self.layer = nn.Sequential(\n",
        "                self.conv1,\n",
        "                self.bn1,\n",
        "                self.relu,\n",
        "                self.conv2,\n",
        "                self.bn2\n",
        "\n",
        "            )\n",
        "            self.downsampler = nn.Conv2d(in_dim,out_dim,1,2)\n",
        "        else:\n",
        "            self.conv1 = nn.Conv2d(in_dim,out_dim,3,1,1)\n",
        "            self.layer = nn.Sequential(\n",
        "                self.conv1,\n",
        "                self.bn1,\n",
        "                self.relu,\n",
        "                self.conv2,\n",
        "                self.bn2\n",
        "\n",
        "            )\n",
        "    \n",
        "    def forward(self,x):\n",
        "        if self.down:\n",
        "            down_x = self.downsampler(x)\n",
        "            down_x = self.bn3(down_x)\n",
        "            out = self.layer(x)\n",
        "            out = out + down_x\n",
        "        else:\n",
        "            out = self.layer(x)\n",
        "            if x.size() is not out.size():\n",
        "                x = self.match_size(x)\n",
        "                x = self.bn3(x)\n",
        "\n",
        "            out = out+x\n",
        "        out = self.relu(out)\n",
        "        return out\n",
        "\n",
        "\n",
        "\n",
        "\n",
        "\n",
        "\n",
        "class MyResNet(nn.Module):\n",
        "    def __init__(self):\n",
        "        super(MyResNet,self).__init__()\n",
        "        self.conv1 = nn.Conv2d(3,64,7,2,3)\n",
        "        self.bn = nn.BatchNorm2d(64)\n",
        "        self.relu = nn.ReLU(inplace=True)\n",
        "        self.maxpool = nn.MaxPool2d(3,2)\n",
        "        self.layer1 = nn.Sequential(\n",
        "            LayerBlock(64,64),\n",
        "            LayerBlock(64,64),)\n",
        "        self.layer2 = nn.Sequential(\n",
        "            LayerBlock(64,128,True),\n",
        "            LayerBlock(128,128)\n",
        "        )\n",
        "        self.layer3 = nn.Sequential(\n",
        "            LayerBlock(128,256,True),\n",
        "            LayerBlock(256,256)\n",
        "        )\n",
        "        self.layer4 = nn.Sequential(\n",
        "            LayerBlock(256,512,True),\n",
        "            LayerBlock(512,512)\n",
        "        )\n",
        "        self.avgpool = nn.AdaptiveAvgPool2d((1,1))\n",
        "        self.dense = nn.Linear(512,10)\n",
        "\n",
        "    def forward(self,x):\n",
        "        x = self.conv1(x)\n",
        "        x = self.bn(x)\n",
        "        x = self.relu(x)\n",
        "        x = self.maxpool(x)\n",
        "        x = self.layer1(x)\n",
        "        x = self.layer2(x)\n",
        "        x = self.layer3(x)\n",
        "        x = self.layer4(x)\n",
        "        x = self.avgpool(x)\n",
        "        x = x.view(x.size()[0],-1)\n",
        "        x = self.dense(x)\n",
        "\n",
        "        return x\n"
      ],
      "execution_count": 0,
      "outputs": []
    },
    {
      "cell_type": "code",
      "metadata": {
        "id": "mq1gESJ9Fx9i",
        "colab_type": "code",
        "outputId": "658b55e1-d43b-4062-ca04-8ba4eeb83b22",
        "colab": {
          "base_uri": "https://localhost:8080/",
          "height": 53
        }
      },
      "source": [
        "transform_train = transforms.Compose([\n",
        "                               \n",
        "                                transforms.RandomHorizontalFlip(),\n",
        "                                transforms.RandomCrop(size=(32,32),padding=4),\n",
        "                                transforms.ToTensor(),\n",
        "                                transforms.Normalize( (0.4914, 0.4822, 0.4465), (0.247, 0.243, 0.261)),\n",
        "                                ])\n",
        "transform_test = transforms.Compose([transforms.ToTensor(),transforms.Normalize((0.4914, 0.4822, 0.4465), (0.247, 0.243, 0.261))])\n",
        "train_set = torchvision.datasets.CIFAR10(root='./',train=True,download=True,transform=transform_train)\n",
        "test_set = torchvision.datasets.CIFAR10(root='./',train=False,download=True,transform=transform_test)\n"
      ],
      "execution_count": 34,
      "outputs": [
        {
          "output_type": "stream",
          "text": [
            "Files already downloaded and verified\n",
            "Files already downloaded and verified\n"
          ],
          "name": "stdout"
        }
      ]
    },
    {
      "cell_type": "code",
      "metadata": {
        "id": "vsu53jdLKddz",
        "colab_type": "code",
        "colab": {}
      },
      "source": [
        "train_set, val_set = torch.utils.data.random_split(train_set,[int(len(train_set)*0.9),int(len(train_set)*0.1)])"
      ],
      "execution_count": 0,
      "outputs": []
    },
    {
      "cell_type": "code",
      "metadata": {
        "id": "qV3U4QrwKLHo",
        "colab_type": "code",
        "colab": {}
      },
      "source": [
        "batch_size = 128 \n",
        "\n",
        "train_loader=torch.utils.data.DataLoader(train_set,batch_size=batch_size,shuffle=True,drop_last=True)\n",
        "val_loader =torch.utils.data.DataLoader(val_set,batch_size = batch_size,shuffle=True,drop_last = True)\n",
        "test_loader =torch.utils.data.DataLoader(test_set,batch_size=batch_size,drop_last=True)"
      ],
      "execution_count": 0,
      "outputs": []
    },
    {
      "cell_type": "code",
      "metadata": {
        "id": "6l_3kCNGKiBT",
        "colab_type": "code",
        "outputId": "6ca608ee-d597-4d2e-8a30-9f4e7e90af43",
        "colab": {
          "base_uri": "https://localhost:8080/",
          "height": 35
        }
      },
      "source": [
        "device = torch.device(\"cuda:0\" if torch.cuda.is_available() else \"cpu\")\n",
        "print(device)\n",
        "model = MyResNet().to(device)\n",
        "loss_func = nn.CrossEntropyLoss()\n",
        "optimizer = optim.SGD(model.parameters(),weight_decay=0.0001,lr=0.1,momentum=0.9)\n",
        "lr_scheduler = optim.lr_scheduler.MultiStepLR(optimizer,[80,120],gamma=0.1)"
      ],
      "execution_count": 38,
      "outputs": [
        {
          "output_type": "stream",
          "text": [
            "cuda:0\n"
          ],
          "name": "stdout"
        }
      ]
    },
    {
      "cell_type": "code",
      "metadata": {
        "id": "u50_IoGGKnCk",
        "colab_type": "code",
        "outputId": "ef885cea-9aa4-4aa7-d171-530c51df35e6",
        "colab": {
          "base_uri": "https://localhost:8080/",
          "height": 197
        }
      },
      "source": [
        "# best_val_acc = 0\n",
        "epochs = 160\n",
        "# patience_epoch = 100\n",
        "for i in range(epochs):\n",
        "    model.train()\n",
        "    correct = 0\n",
        "    total = 0\n",
        "    for j,[img,label] in enumerate(train_loader):\n",
        "        x = img.to(device)\n",
        "        y = label.to(device)\n",
        "\n",
        "        optimizer.zero_grad()\n",
        "        output = model.forward(x)\n",
        "        _,output_index = torch.max(output,1)\n",
        "        loss = loss_func(output,y)\n",
        "        loss.backward()\n",
        "        optimizer.step()\n",
        "        total += y.size()[0]\n",
        "        correct += (output_index == y).sum().float()\n",
        "     \n",
        "    \n",
        "    \n",
        "    \n",
        "    \n",
        "    lr_scheduler.step() \n",
        "    # if best_val_acc <= 100*val_correct/val_total:\n",
        "    #     best_val_acc = 100*val_correct/val_total\n",
        "    #     patience = patience_epoch\n",
        "    # elif patience == 0:\n",
        "    #     print('No improvement on val_acc : Stop training')\n",
        "    #     break\n",
        "    # else:\n",
        "    #     patience -= 1\n",
        "    if i % (epochs/10) == 0:\n",
        "        with torch.no_grad():\n",
        "            val_correct = 0\n",
        "            val_total = 0\n",
        "            for k,[val_img,val_label] in enumerate(val_loader):\n",
        "                val_x = val_img.to(device)\n",
        "                val_y = val_label.to(device)\n",
        "                val_output = model.forward(val_x)\n",
        "                _,val_output_index = torch.max(val_output,1)\n",
        "                val_loss = loss_func(val_output,val_y)\n",
        "                val_total += val_y.size()[0]\n",
        "                val_correct += (val_output_index==val_y).sum().float()\n",
        "        print('EPOCHS {:>3d}/{} | train_loss : {:.4f} | train_acc : {:.4f} | val_loss : {:.4f} | val_acc : {:.4f}'\\\n",
        "            .format(i+1,epochs,loss,correct*100/total,val_loss,100*val_correct/val_total))  \n",
        "# print('Best Validation Accuracy : {:.4f}'.format(best_val_acc))"
      ],
      "execution_count": 39,
      "outputs": [
        {
          "output_type": "stream",
          "text": [
            "EPOCHS   1/160 | train_loss : 1.5901 | train_acc : 30.9095 | val_loss : 1.6264 | val_acc : 37.8005\n",
            "EPOCHS  17/160 | train_loss : 0.6255 | train_acc : 78.0315 | val_loss : 0.6371 | val_acc : 77.6242\n",
            "EPOCHS  33/160 | train_loss : 0.7292 | train_acc : 83.3200 | val_loss : 0.6141 | val_acc : 80.2684\n",
            "EPOCHS  49/160 | train_loss : 0.4444 | train_acc : 85.0294 | val_loss : 0.6500 | val_acc : 80.6891\n",
            "EPOCHS  65/160 | train_loss : 0.5930 | train_acc : 86.3938 | val_loss : 0.4417 | val_acc : 80.8093\n",
            "EPOCHS  81/160 | train_loss : 0.2003 | train_acc : 91.3328 | val_loss : 0.4007 | val_acc : 84.8958\n",
            "EPOCHS  97/160 | train_loss : 0.0648 | train_acc : 95.8845 | val_loss : 0.6385 | val_acc : 86.2380\n",
            "EPOCHS 113/160 | train_loss : 0.1873 | train_acc : 96.8327 | val_loss : 0.5304 | val_acc : 85.9175\n",
            "EPOCHS 129/160 | train_loss : 0.0723 | train_acc : 98.0547 | val_loss : 0.5539 | val_acc : 86.4383\n",
            "EPOCHS 145/160 | train_loss : 0.0396 | train_acc : 98.2261 | val_loss : 0.3567 | val_acc : 86.5986\n"
          ],
          "name": "stdout"
        }
      ]
    },
    {
      "cell_type": "code",
      "metadata": {
        "id": "ay7Lv1wBKsIo",
        "colab_type": "code",
        "outputId": "62b6424d-985f-4cea-972e-f2e6d42a107c",
        "colab": {
          "base_uri": "https://localhost:8080/",
          "height": 35
        }
      },
      "source": [
        "model.eval()\n",
        "correct = 0\n",
        "total = 0\n",
        "with torch.no_grad():\n",
        "    \n",
        "    for image,label in test_loader:\n",
        "        x = image.to(device)\n",
        "        y = label.to(device)\n",
        "\n",
        "        output = model.forward(x)\n",
        "        _,output_index = torch.max(output,1)\n",
        "        total += label.size(0)\n",
        "        correct += (output_index == y).sum().float()\n",
        "\n",
        "    print('Accuracy of Testset : {:.4f}'.format(100*correct/total))"
      ],
      "execution_count": 40,
      "outputs": [
        {
          "output_type": "stream",
          "text": [
            "Accuracy of Testset : 87.4199\n"
          ],
          "name": "stdout"
        }
      ]
    }
  ]
}