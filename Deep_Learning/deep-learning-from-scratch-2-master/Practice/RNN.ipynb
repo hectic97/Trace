{
 "cells": [
  {
   "cell_type": "code",
   "execution_count": 1,
   "metadata": {},
   "outputs": [],
   "source": [
    "import numpy as np"
   ]
  },
  {
   "cell_type": "code",
   "execution_count": 6,
   "metadata": {},
   "outputs": [],
   "source": [
    "class RNN:\n",
    "    def __init__(self,Wx,Wh,b):\n",
    "        self.params=[Wx,Wh,b]\n",
    "        self.grads = [np.zeros_like(Wx),np.zeros_like(Wh),np.zeros_like(b)]\n",
    "        self.cache = None\n",
    "        \n",
    "    def forward(self,x,h_prev):\n",
    "        Wx,Wh,b = self.params\n",
    "        t = np.matmul(h_prev,Wh)+np.matmul(x,Wx)+b\n",
    "        h_next = np.tanh(t)\n",
    "        \n",
    "        self.cache = (x,h_prev,h_next)\n",
    "        return h_next\n",
    "    \n",
    "    def backward(self,dh_next):\n",
    "        Wx,Wh,b = self.params\n",
    "        x,h_prev,h_next = self.cache\n",
    "\n",
    "        dt = dh_next * (1-h_next**2)\n",
    "        db = np.sum(dt,axis=0)\n",
    "        dWh = np.matmul(h_prev.T,dt)\n",
    "        dh_prev = np.matmul(dt,Wh.T)\n",
    "        dWx = np.matmul(x.T,dt)\n",
    "        dx = np.matmul(dt,Wx.T)\n",
    "\n",
    "        self.grads[0][...] = dWx\n",
    "        self.grads[1][...] = dWh\n",
    "        self.grads[2][...] = db\n",
    "\n",
    "        return dx,dh_prev"
   ]
  },
  {
   "cell_type": "code",
   "execution_count": 8,
   "metadata": {},
   "outputs": [],
   "source": [
    "class TimeRNN:\n",
    "    def __init__(self,Wx,Wh,b,stateful=False):\n",
    "        self.params = [Wx,Wh,b]\n",
    "        self.grads = [np.zeros_like(Wx),np.zeros_like(Wh),np.zeros_like(b)]\n",
    "        self.layers = None\n",
    "        \n",
    "        self.h, self.dh = None,None\n",
    "        self.stateful = stateful\n",
    "        \n",
    "    def set_state(self,h):\n",
    "        self.h = h\n",
    "    \n",
    "    def reset_state(self):\n",
    "        self.h = None\n",
    "        \n",
    "    def forward(self,xs):\n",
    "        Wx,Wh,b = self.params\n",
    "        N,T,D = xs,shape\n",
    "        D, H = Wx.shape\n",
    "        \n",
    "        self.layers = []\n",
    "        hs = np.empty((N,T,H),dtype='f')\n",
    "        \n",
    "        if not self.stateful or self.h is None:\n",
    "            self.h = np.zeros((N,H),dtype='f')\n",
    "        \n",
    "        for t in range(T):\n",
    "            layer = RNN(*self.params)\n",
    "            self.h = layer.forward(xs[:,t,:],self.h)\n",
    "            hs[:,t,:] = self.h\n",
    "            self.layers.append(layer)\n",
    "        return hs\n",
    "    \n",
    "    def backward(self,dhs):\n",
    "        Wx,Wh,b = self.params\n",
    "        N,T,H = dhs.shape\n",
    "        D,H = Wx.shape\n",
    "        \n",
    "        dxs = np.empty((N,T,D),dtype='f')\n",
    "        dh = 0\n",
    "        grads = [0,0,0]\n",
    "        for t in reversed(range(T)):\n",
    "            layer = self.layers[t]\n",
    "            dx,dh = layer.backward(dhs[:,t,:]+dh)\n",
    "            dxs[:,t,:] = dx\n",
    "            \n",
    "            for i ,grad in enumerate(layer.grads):\n",
    "                grads[i] += grad\n",
    "            \n",
    "        for i,grad in enumerate(grads):\n",
    "            self.grads[i][...] = grad\n",
    "        self.dh = dh\n",
    "        \n",
    "        return dxs"
   ]
  },
  {
   "cell_type": "markdown",
   "metadata": {},
   "source": [
    "Gradient"
   ]
  },
  {
   "cell_type": "code",
   "execution_count": 1,
   "metadata": {},
   "outputs": [],
   "source": [
    "import numpy as np\n",
    "import matplotlib.pyplot as plt\n",
    "\n",
    "N = 2\n",
    "H = 3\n",
    "T = 20\n",
    "\n",
    "dh = np.ones((N,H))\n",
    "np.random.seed(3)\n",
    "Wh = np.random.randn(H,H)\n",
    "\n",
    "norm_list =[]\n",
    "for t in range(T):\n",
    "    dh = np.matmul(dh,Wh.T)\n",
    "    norm = np.sqrt(np.sum(dh**2))/N\n",
    "    norm_list.append(norm)"
   ]
  },
  {
   "cell_type": "code",
   "execution_count": 4,
   "metadata": {},
   "outputs": [
    {
     "data": {
      "text/plain": [
       "[<matplotlib.lines.Line2D at 0x23bd5150c08>]"
      ]
     },
     "execution_count": 4,
     "metadata": {},
     "output_type": "execute_result"
    },
    {
     "data": {
      "image/png": "[encoded data removed]",
      "text/plain": [
       "<Figure size 432x288 with 1 Axes>"
      ]
     },
     "metadata": {
      "needs_background": "light"
     },
     "output_type": "display_data"
    }
   ],
   "source": [
    "plt.plot(norm_list)"
   ]
  },
  {
   "cell_type": "code",
   "execution_count": 5,
   "metadata": {},
   "outputs": [],
   "source": [
    "import numpy as np\n",
    "import matplotlib.pyplot as plt\n",
    "\n",
    "N = 2\n",
    "H = 3\n",
    "T = 20\n",
    "\n",
    "dh = np.ones((N,H))\n",
    "np.random.seed(3)\n",
    "Wh = np.random.randn(H,H)*0.5\n",
    "\n",
    "norm_list =[]\n",
    "for t in range(T):\n",
    "    dh = np.matmul(dh,Wh.T)\n",
    "    norm = np.sqrt(np.sum(dh**2))/N\n",
    "    norm_list.append(norm)"
   ]
  },
  {
   "cell_type": "code",
   "execution_count": 6,
   "metadata": {},
   "outputs": [
    {
     "data": {
      "text/plain": [
       "[<matplotlib.lines.Line2D at 0x23bd89ea348>]"
      ]
     },
     "execution_count": 6,
     "metadata": {},
     "output_type": "execute_result"
    },
    {
     "data": {
      "image/png": "[encoded data removed]",
      "text/plain": [
       "<Figure size 432x288 with 1 Axes>"
      ]
     },
     "metadata": {
      "needs_background": "light"
     },
     "output_type": "display_data"
    }
   ],
   "source": [
    "plt.plot(norm_list)"
   ]
  },
  {
   "cell_type": "code",
   "execution_count": 28,
   "metadata": {},
   "outputs": [],
   "source": [
    "dW1 = np.random.randn(3,3)*10\n",
    "dW2 = np.random.randn(3,3)*10\n",
    "grads = [dW1,dW2]\n",
    "max_norm = 5.0\n",
    "\n",
    "def clip_grads(grads,max_norm):\n",
    "    total_norm = 0\n",
    "    for grad in grads:\n",
    "        total_norm += np.sum(grad**2)\n",
    "    total_norm = np.sqrt(total_norm)\n",
    "    print(total_norm)\n",
    "    \n",
    "    rate = max_norm/(total_norm + 1e-6)\n",
    "    if total_norm >= max_norm:\n",
    "    \n",
    "        for grad in grads:\n",
    "            grad *= rate\n",
    "    \n",
    "    return grads"
   ]
  },
  {
   "cell_type": "code",
   "execution_count": 34,
   "metadata": {},
   "outputs": [
    {
     "name": "stdout",
     "output_type": "stream",
     "text": [
      "2.449489742783178\n",
      "2.449489742783178\n",
      "2.449489742783178\n",
      "2.449489742783178\n",
      "2.449489742783178\n",
      "2.449489742783178\n",
      "2.449489742783178\n",
      "2.449489742783178\n",
      "2.449489742783178\n",
      "2.449489742783178\n",
      "2.449489742783178\n",
      "2.449489742783178\n",
      "2.449489742783178\n",
      "2.449489742783178\n",
      "2.449489742783178\n",
      "2.449489742783178\n",
      "2.449489742783178\n",
      "2.449489742783178\n",
      "2.449489742783178\n",
      "2.449489742783178\n"
     ]
    }
   ],
   "source": [
    "import numpy as np\n",
    "import matplotlib.pyplot as plt\n",
    "\n",
    "N = 2\n",
    "H = 3\n",
    "T = 20\n",
    "\n",
    "dh = np.ones((N,H))\n",
    "dh2 = np.ones((N,H))\n",
    "grads = [dh2]\n",
    "np.random.seed(3)\n",
    "Wh = np.random.randn(H,H)\n",
    "clip_norm_list = []\n",
    "norm_list =[]\n",
    "for t in range(T):\n",
    "    dh = np.matmul(dh,Wh.T)\n",
    "    norm = np.sqrt(np.sum(dh**2))/N\n",
    "    norm_list.append(norm)\n",
    "    dh2 = np.matmul(dh2,Wh.T)\n",
    "    \n",
    "    c_norm = np.sqrt(np.sum(dh2**2))/N\n",
    "    clip_grads(grads,5.0)\n",
    "    clip_norm_list.append(c_norm)"
   ]
  },
  {
   "cell_type": "code",
   "execution_count": 35,
   "metadata": {},
   "outputs": [
    {
     "data": {
      "text/plain": [
       "[<matplotlib.lines.Line2D at 0x23bda5adfc8>]"
      ]
     },
     "execution_count": 35,
     "metadata": {},
     "output_type": "execute_result"
    },
    {
     "data": {
      "image/png": "[encoded data removed]",
      "text/plain": [
       "<Figure size 432x288 with 1 Axes>"
      ]
     },
     "metadata": {
      "needs_background": "light"
     },
     "output_type": "display_data"
    }
   ],
   "source": [
    "plt.plot(clip_norm_list)"
   ]
  },
  {
   "cell_type": "code",
   "execution_count": 36,
   "metadata": {},
   "outputs": [
    {
     "data": {
      "text/plain": [
       "[<matplotlib.lines.Line2D at 0x23bda207288>]"
      ]
     },
     "execution_count": 36,
     "metadata": {},
     "output_type": "execute_result"
    },
    {
     "data": {
      "image/png": "[encoded data removed]",
      "text/plain": [
       "<Figure size 432x288 with 1 Axes>"
      ]
     },
     "metadata": {
      "needs_background": "light"
     },
     "output_type": "display_data"
    }
   ],
   "source": [
    "plt.plot(norm_list)"
   ]
  },
  {
   "cell_type": "code",
   "execution_count": 38,
   "metadata": {},
   "outputs": [],
   "source": [
    "class LSTM:\n",
    "    def __init__(self,Wx,Wh,b):\n",
    "        self.params = [Wx,Wh,b]\n",
    "        self.grads = [np.zeros_like(Wx),np.zeros_like(Wh).np.zeros_like(b)]\n",
    "        self.cache = None\n",
    "    \n",
    "    def forward(self,x,h_prev,c_prev):\n",
    "        Wx,Wh,b = self.params\n",
    "        N,H = h_prev.shape\n",
    "        \n",
    "        A = np.matmul(x,Wx) + np.matmul(h_prev,Wh)+b\n",
    "        \n",
    "        f = A[:,:H]\n",
    "        g = A[:,H:2*H]\n",
    "        i = A[:,2*H:3*H]\n",
    "        o = A[:,3*H:]\n",
    "        \n",
    "        f = 1/(1+np.exp(-f))\n",
    "        g = np.tanh(g)\n",
    "        i = 1/(1+np.exp(-i))\n",
    "        o = 1/(1+np.exp(-o))\n",
    "        \n",
    "        c_next = f*c_prev + g*i\n",
    "        h_next = o*np.tanh(c_next)\n",
    "        \n",
    "        self.cache = (x,h_prev,c_prev,i,f,g,o,c_next)\n",
    "        return h_next,c_next"
   ]
  },
  {
   "cell_type": "code",
   "execution_count": 40,
   "metadata": {},
   "outputs": [],
   "source": [
    "class TimeLSTM:\n",
    "    def __init__(self,Wx,Wh,b,stateful =True):\n",
    "        self.params = [Wx,Wh,b]\n",
    "        self.grads = [np.zeros_like(Wx),np.zeros_like(Wh),np.zeros_like(b)]\n",
    "        self.layers = None\n",
    "        self.h , self.c = None,None\n",
    "        self.dh = None\n",
    "        self.stateful = stateful\n",
    "        \n",
    "    def forward(self,xs):\n",
    "        Wx,Wh,b = self.params\n",
    "        N, T, D = xs.shape\n",
    "        H = Wh.shape[0]\n",
    "        \n",
    "        self.layers = []\n",
    "        hs = np.empty((N,T,H),dtype='f')\n",
    "        \n",
    "        if not self.stateful or self.h is None:\n",
    "            self.h = np.zeros((N,H),dtype='f')\n",
    "        if not self.stateful or self.c is None:\n",
    "            self.c = np.zeros((N,H),dtype='f')\n",
    "            \n",
    "        for t in range(T):\n",
    "            layer = LSTM(*self.parmas)\n",
    "            self.h , self.c = layer.forward(xs[:,t,:],self.h,self.c)\n",
    "            hs[:,t,:] = self.h\n",
    "            \n",
    "            self.layers.append(layer)\n",
    "        return hs\n",
    "    \n",
    "    def backwrad(self,dhs):\n",
    "        Wx,Wh,b = self.params\n",
    "        N, T, H = dhs.shape\n",
    "        D = Wx.shape[0]\n",
    "        \n",
    "        dxs = np.empty((N,T,D),dtype='f')\n",
    "        dh,dc = 0, 0\n",
    "        \n",
    "        grads = [0, 0, 0]\n",
    "        for t in reversed(range(T)):\n",
    "            layer = self.layers[t]\n",
    "            dx,dh,dc = layer.backward(dhs[:,t,:]+dh,dc)\n",
    "            dxs[:,t,:] =dx\n",
    "            for i, grad in enumerate(layers.grads):\n",
    "                grads[i] += grad\n",
    "            \n",
    "        for i, grad in enumerate(grads):\n",
    "            self.grads[i][...] = grad\n",
    "            self.dh = dh\n",
    "            return dxs\n",
    "    \n",
    "    def set_state(self,h,c=None):\n",
    "        self.h,self.c = h,c\n",
    "    \n",
    "    def reset_state(self):\n",
    "        self.h,self.c = None,None"
   ]
  },
  {
   "cell_type": "code",
   "execution_count": null,
   "metadata": {},
   "outputs": [],
   "source": []
  }
 ],
 "metadata": {
  "kernelspec": {
   "display_name": "Python 3",
   "language": "python",
   "name": "python3"
  },
  "language_info": {
   "codemirror_mode": {
    "name": "ipython",
    "version": 3
   },
   "file_extension": ".py",
   "mimetype": "text/x-python",
   "name": "python",
   "nbconvert_exporter": "python",
   "pygments_lexer": "ipython3",
   "version": "3.7.6"
  }
 },
 "nbformat": 4,
 "nbformat_minor": 4
}
