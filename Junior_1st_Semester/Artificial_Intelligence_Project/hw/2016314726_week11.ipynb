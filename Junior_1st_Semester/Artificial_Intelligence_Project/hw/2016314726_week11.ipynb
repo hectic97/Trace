{
  "nbformat": 4,
  "nbformat_minor": 0,
  "metadata": {
    "colab": {
      "name": "char_rnn_classification_pytorch.ipynb",
      "provenance": [],
      "collapsed_sections": []
    },
    "kernelspec": {
      "name": "python3",
      "display_name": "Python 3"
    },
    "accelerator": "GPU"
  },
  "cells": [
    {
      "cell_type": "code",
      "metadata": {
        "id": "gjzUqYi_1KBm",
        "colab_type": "code",
        "colab": {
          "base_uri": "https://localhost:8080/",
          "height": 341
        },
        "outputId": "1b196336-8df3-46f7-efbf-088faef5f571"
      },
      "source": [
        "from __future__ import unicode_literals, print_function, division\n",
        "from io import open\n",
        "import glob\n",
        "import os\n",
        "import unicodedata\n",
        "import string\n",
        "import numpy as np\n",
        "import random\n",
        "\n",
        "all_letters = string.ascii_letters + \" .,;'\"\n",
        "n_letters = len(all_letters)\n",
        "\n",
        "def unicodeToAscii(s):\n",
        "    return ''.join(\n",
        "        c for c in unicodedata.normalize('NFD', s)\n",
        "        if unicodedata.category(c) != 'Mn'\n",
        "        and c in all_letters\n",
        "    )\n",
        "\n",
        "\n",
        "train_category_lines = {}\n",
        "test_category_lines = {}\n",
        "all_categories = []\n",
        "\n",
        "def readLines(filename):\n",
        "    lines = open(filename, encoding='utf-8').read().strip().split('\\n')\n",
        "    return [unicodeToAscii(line) for line in lines]\n",
        "\n",
        "for filename in glob.glob('../../content/drive/My Drive/data/names/*.txt'):\n",
        "    category = os.path.splitext(os.path.basename(filename))[0]\n",
        "    all_categories.append(category)\n",
        "    lines = readLines(filename)\n",
        "    nd = np.array(lines)\n",
        "    print(\"Category {:10} | #names :{:5} | #unique names : {:5} | #redundancy names : {:5} | Redundancy rate {:.2f}%\".format(category,len(lines),np.unique(nd).shape[0],\n",
        "                                                                                    len(lines)-np.unique(nd).shape[0],100* (len(lines)-np.unique(nd).shape[0])/len(lines)))\n",
        "    \n",
        "    # Delete duplicated names\n",
        "    lines = np.unique(nd).tolist()\n",
        "    random.shuffle(lines)  # shuffle before a simple slicing\n",
        "    train_category_lines[category] = lines[:int(len(lines)*0.9)] # Train data\n",
        "    test_category_lines[category] = lines[int(len(lines)*0.9 ):] # Test data\n",
        "\n",
        "n_categories = len(all_categories)"
      ],
      "execution_count": 1,
      "outputs": [
        {
          "output_type": "stream",
          "text": [
            "Category Irish      | #names :  232 | #unique names :   226 | #redundancy names :     6 | Redundancy rate 2.59%\n",
            "Category Portuguese | #names :   74 | #unique names :    74 | #redundancy names :     0 | Redundancy rate 0.00%\n",
            "Category Polish     | #names :  139 | #unique names :   138 | #redundancy names :     1 | Redundancy rate 0.72%\n",
            "Category Chinese    | #names :  268 | #unique names :   246 | #redundancy names :    22 | Redundancy rate 8.21%\n",
            "Category Italian    | #names :  709 | #unique names :   701 | #redundancy names :     8 | Redundancy rate 1.13%\n",
            "Category English    | #names : 3668 | #unique names :  3668 | #redundancy names :     0 | Redundancy rate 0.00%\n",
            "Category German     | #names :  724 | #unique names :   690 | #redundancy names :    34 | Redundancy rate 4.70%\n",
            "Category Scottish   | #names :  100 | #unique names :   100 | #redundancy names :     0 | Redundancy rate 0.00%\n",
            "Category French     | #names :  277 | #unique names :   273 | #redundancy names :     4 | Redundancy rate 1.44%\n",
            "Category Czech      | #names :  519 | #unique names :   502 | #redundancy names :    17 | Redundancy rate 3.28%\n",
            "Category Greek      | #names :  203 | #unique names :   193 | #redundancy names :    10 | Redundancy rate 4.93%\n",
            "Category Japanese   | #names :  991 | #unique names :   990 | #redundancy names :     1 | Redundancy rate 0.10%\n",
            "Category Arabic     | #names : 2000 | #unique names :   108 | #redundancy names :  1892 | Redundancy rate 94.60%\n",
            "Category Korean     | #names :   94 | #unique names :    94 | #redundancy names :     0 | Redundancy rate 0.00%\n",
            "Category Spanish    | #names :  298 | #unique names :   293 | #redundancy names :     5 | Redundancy rate 1.68%\n",
            "Category Russian    | #names : 9408 | #unique names :  9341 | #redundancy names :    67 | Redundancy rate 0.71%\n",
            "Category Vietnamese | #names :   73 | #unique names :    71 | #redundancy names :     2 | Redundancy rate 2.74%\n",
            "Category Dutch      | #names :  297 | #unique names :   286 | #redundancy names :    11 | Redundancy rate 3.70%\n"
          ],
          "name": "stdout"
        }
      ]
    },
    {
      "cell_type": "code",
      "metadata": {
        "id": "vacO9Wv92HwK",
        "colab_type": "code",
        "outputId": "dd1706a7-8ace-40ee-9508-5f9c267293cc",
        "colab": {
          "base_uri": "https://localhost:8080/",
          "height": 91
        }
      },
      "source": [
        "print(all_categories)\n",
        "print(n_categories)\n",
        "print(train_category_lines['Italian'][:5])"
      ],
      "execution_count": 2,
      "outputs": [
        {
          "output_type": "stream",
          "text": [
            "['Irish', 'Portuguese', 'Polish', 'Chinese', 'Italian', 'English', 'German', 'Scottish', 'French', 'Czech', 'Greek', 'Japanese', 'Arabic', 'Korean', 'Spanish', 'Russian', 'Vietnamese', 'Dutch']\n",
            "18\n",
            "['Benenati', 'Abbadelli', 'Boveri', 'Maria', 'Landi']\n"
          ],
          "name": "stdout"
        }
      ]
    },
    {
      "cell_type": "code",
      "metadata": {
        "id": "B87i7ro94Zfu",
        "colab_type": "code",
        "outputId": "37e21c68-73ed-4e76-ef22-116b90cb400d",
        "colab": {
          "base_uri": "https://localhost:8080/",
          "height": 107
        }
      },
      "source": [
        "import torch\n",
        "\n",
        "def letterToIndex(letter):\n",
        "    return all_letters.find(letter)\n",
        "\n",
        "\n",
        "def letterToTensor(letter):\n",
        "    tensor = torch.zeros(1, n_letters)\n",
        "    tensor[0][letterToIndex(letter)] = 1\n",
        "    return tensor\n",
        "\n",
        "def lineToTensor(line):\n",
        "    tensor = torch.zeros(len(line), 1, n_letters)\n",
        "    for li, letter in enumerate(line):\n",
        "        tensor[li][0][letterToIndex(letter)] = 1\n",
        "    return tensor\n",
        "# OneHot Encoding Function Set\n",
        "print(letterToTensor('J'))\n",
        "print(lineToTensor('Jones').size())"
      ],
      "execution_count": 3,
      "outputs": [
        {
          "output_type": "stream",
          "text": [
            "tensor([[0., 0., 0., 0., 0., 0., 0., 0., 0., 0., 0., 0., 0., 0., 0., 0., 0., 0.,\n",
            "         0., 0., 0., 0., 0., 0., 0., 0., 0., 0., 0., 0., 0., 0., 0., 0., 0., 1.,\n",
            "         0., 0., 0., 0., 0., 0., 0., 0., 0., 0., 0., 0., 0., 0., 0., 0., 0., 0.,\n",
            "         0., 0., 0.]])\n",
            "torch.Size([5, 1, 57])\n"
          ],
          "name": "stdout"
        }
      ]
    },
    {
      "cell_type": "code",
      "metadata": {
        "id": "H6v-BKZO47sz",
        "colab_type": "code",
        "colab": {}
      },
      "source": [
        "import torch.nn as nn\n",
        "\n",
        "class LSTM(nn.Module):\n",
        "    def __init__(self,input_size, hidden_size, output_size):\n",
        "        super(LSTM, self).__init__()\n",
        "\n",
        "        self.hidden_size = hidden_size\n",
        "        self.input_size = input_size\n",
        "        self.output_size = output_size\n",
        "\n",
        "        self.lstm = nn.LSTM(input_size,hidden_size,1)\n",
        "        self.decoder = nn.Linear(hidden_size, output_size)\n",
        "        self.softmax = nn.LogSoftmax(dim=2)\n",
        "\n",
        "    def forward(self, input, hidden,cell):\n",
        "       \n",
        "        input = input.expand(1,1,self.input_size)\n",
        "        output,(hidden,cell) = self.lstm(input,(hidden,cell))\n",
        "        output = self.decoder(output)\n",
        "        output = self.softmax(output)\n",
        "        output = output.view(1,-1)\n",
        "        return output, hidden, cell\n",
        "\n",
        "    def initHidden(self):\n",
        "        \n",
        "        return torch.zeros(1,1, self.hidden_size),torch.zeros(1,1,self.hidden_size)\n",
        "\n",
        "n_hidden = 128\n",
        "lstm = LSTM(n_letters, n_hidden, n_categories)"
      ],
      "execution_count": 0,
      "outputs": []
    },
    {
      "cell_type": "code",
      "metadata": {
        "id": "FZFrIYXO_P8L",
        "colab_type": "code",
        "colab": {}
      },
      "source": [
        "input = letterToTensor('A')\n",
        "hidden =torch.zeros(1,1, n_hidden)\n",
        "cell = torch.zeros(1,1,n_hidden)\n",
        "output, next_hidden,next_cell = lstm(input, hidden,cell)"
      ],
      "execution_count": 0,
      "outputs": []
    },
    {
      "cell_type": "code",
      "metadata": {
        "id": "YPKNLlx-KPe9",
        "colab_type": "code",
        "colab": {
          "base_uri": "https://localhost:8080/",
          "height": 71
        },
        "outputId": "cbeec4f6-b953-45e4-cb9b-1564e46f9136"
      },
      "source": [
        "input = lineToTensor('Albert')\n",
        "hidden = torch.zeros(1,1, n_hidden)\n",
        "cell = torch.zeros(1,1, n_hidden)\n",
        "\n",
        "output, next_hidden,next_cell = lstm(input[0], hidden,cell)\n",
        "print(output)"
      ],
      "execution_count": 6,
      "outputs": [
        {
          "output_type": "stream",
          "text": [
            "tensor([[-2.8382, -2.9572, -2.8515, -2.8511, -2.9558, -2.8685, -2.9303, -2.9500,\n",
            "         -2.8067, -2.8963, -2.8377, -2.9654, -2.8585, -2.9439, -2.8636, -2.8684,\n",
            "         -2.9704, -2.8378]], grad_fn=<ViewBackward>)\n"
          ],
          "name": "stdout"
        }
      ]
    },
    {
      "cell_type": "code",
      "metadata": {
        "id": "KAlCBzmTKR_Y",
        "colab_type": "code",
        "colab": {
          "base_uri": "https://localhost:8080/",
          "height": 35
        },
        "outputId": "e7a88222-f428-4106-b285-123975d1ed32"
      },
      "source": [
        "def categoryFromOutput(output):\n",
        "    top_n, top_i = output.topk(1)\n",
        "    category_i = top_i[0].item()\n",
        "    return all_categories[category_i], category_i\n",
        "\n",
        "print(categoryFromOutput(output))"
      ],
      "execution_count": 7,
      "outputs": [
        {
          "output_type": "stream",
          "text": [
            "('French', 8)\n"
          ],
          "name": "stdout"
        }
      ]
    },
    {
      "cell_type": "code",
      "metadata": {
        "id": "e9twa2HpMoGF",
        "colab_type": "code",
        "colab": {
          "base_uri": "https://localhost:8080/",
          "height": 197
        },
        "outputId": "a474c8a9-1a2c-4e2d-d488-52b703198a38"
      },
      "source": [
        "import random\n",
        "\n",
        "def randomChoice(l):\n",
        "    return l[random.randint(0, len(l) - 1)]\n",
        "\n",
        "def randomExample(category_lines):\n",
        "    category = randomChoice(all_categories)\n",
        "    line = randomChoice(category_lines[category])\n",
        "    category_tensor = torch.tensor([all_categories.index(category)], dtype=torch.long)\n",
        "    line_tensor = lineToTensor(line)\n",
        "    return category, line, category_tensor, line_tensor\n",
        "\n",
        "for i in range(10):\n",
        "    category, line, category_tensor, line_tensor = randomExample(train_category_lines)\n",
        "    print('category =', category, '/ line =', line)"
      ],
      "execution_count": 8,
      "outputs": [
        {
          "output_type": "stream",
          "text": [
            "category = Portuguese / line = Duarte\n",
            "category = Scottish / line = Mckenzie\n",
            "category = Scottish / line = Maclean\n",
            "category = Czech / line = Ritchie\n",
            "category = Japanese / line = Yasujiro\n",
            "category = Russian / line = Halaev\n",
            "category = Greek / line = Kouros\n",
            "category = Vietnamese / line = Nguyen\n",
            "category = Vietnamese / line = Ton\n",
            "category = Scottish / line = Wilson\n"
          ],
          "name": "stdout"
        }
      ]
    },
    {
      "cell_type": "code",
      "metadata": {
        "id": "CDoYPGpVMpt9",
        "colab_type": "code",
        "colab": {}
      },
      "source": [
        "criterion = nn.NLLLoss()"
      ],
      "execution_count": 0,
      "outputs": []
    },
    {
      "cell_type": "code",
      "metadata": {
        "id": "UeeHkSSeMsEL",
        "colab_type": "code",
        "colab": {}
      },
      "source": [
        "learning_rate = 0.005 \n",
        "\n",
        "def train(category_tensor, line_tensor):\n",
        "    hidden,cell = lstm.initHidden()\n",
        "\n",
        "    lstm.zero_grad()\n",
        "\n",
        "    for i in range(line_tensor.size()[0]):\n",
        "        output, hidden,cell = lstm(line_tensor[i], hidden,cell)\n",
        "\n",
        "    loss = criterion(output, category_tensor)\n",
        "    loss.backward()\n",
        "\n",
        "    \n",
        "    for p in lstm.parameters():\n",
        "        p.data.add_(-learning_rate, p.grad.data)\n",
        "\n",
        "    return output, loss.item()"
      ],
      "execution_count": 0,
      "outputs": []
    },
    {
      "cell_type": "code",
      "metadata": {
        "id": "1rtrpNW7MvOs",
        "colab_type": "code",
        "colab": {
          "base_uri": "https://localhost:8080/",
          "height": 449
        },
        "outputId": "991212b2-ec89-4d4f-b1d0-88d3d45e8b0d"
      },
      "source": [
        "import time\n",
        "import math\n",
        "\n",
        "n_iters = 100000\n",
        "print_every = 5000\n",
        "plot_every = 1000\n",
        "\n",
        "\n",
        "\n",
        "current_loss = 0\n",
        "all_losses = []\n",
        "\n",
        "def timeSince(since):\n",
        "    now = time.time()\n",
        "    s = now - since\n",
        "    m = math.floor(s / 60)\n",
        "    s -= m * 60\n",
        "    return '%dm %ds' % (m, s)\n",
        "\n",
        "start = time.time()\n",
        "\n",
        "for iter in range(1, n_iters + 1):\n",
        "    category, line, category_tensor, line_tensor = randomExample(train_category_lines)\n",
        "    output, loss = train(category_tensor, line_tensor)\n",
        "    current_loss += loss\n",
        "\n",
        "    if iter % print_every == 0:\n",
        "        guess, guess_i = categoryFromOutput(output)\n",
        "        correct = '✓' if guess == category else '✗ (%s)' % category\n",
        "        print('%d %d%% (%s) %.4f %s / %s %s' % (iter, iter / n_iters * 100, timeSince(start), loss, line, guess, correct))\n",
        "    if iter % plot_every == 0:\n",
        "        all_losses.append(current_loss / plot_every)\n",
        "        current_loss = 0"
      ],
      "execution_count": 11,
      "outputs": [
        {
          "output_type": "stream",
          "text": [
            "/pytorch/torch/csrc/utils/python_arg_parser.cpp:756: UserWarning: This overload of add_ is deprecated:\n",
            "\tadd_(Number alpha, Tensor other)\n",
            "Consider using one of the following signatures instead:\n",
            "\tadd_(Tensor other, *, Number alpha)\n"
          ],
          "name": "stderr"
        },
        {
          "output_type": "stream",
          "text": [
            "5000 5% (0m 16s) 2.8035 Gwozdek / Polish ✓\n",
            "10000 10% (0m 33s) 2.8276 Ma / Chinese ✗ (Vietnamese)\n",
            "15000 15% (0m 49s) 2.8749 Vann / Irish ✗ (German)\n",
            "20000 20% (1m 6s) 2.3935 Chepelyanov / Russian ✓\n",
            "25000 25% (1m 22s) 2.0117 Lian / Korean ✗ (Chinese)\n",
            "30000 30% (1m 39s) 3.3648 Lyon / Vietnamese ✗ (Dutch)\n",
            "35000 35% (1m 56s) 1.7513 Peter / German ✓\n",
            "40000 40% (2m 12s) 0.8259 Kringos / Greek ✓\n",
            "45000 45% (2m 29s) 2.6569 Lomax / Arabic ✗ (English)\n",
            "50000 50% (2m 45s) 2.7833 Ritchie / Irish ✗ (Czech)\n",
            "55000 55% (3m 2s) 1.9601 Espinoza / Polish ✗ (Spanish)\n",
            "60000 60% (3m 19s) 2.4586 Diaz / Arabic ✗ (Spanish)\n",
            "65000 65% (3m 35s) 0.6783 Vistchinsky / Russian ✓\n",
            "70000 70% (3m 52s) 0.0171 Makhankov / Russian ✓\n",
            "75000 75% (4m 9s) 3.6069 Albert / French ✗ (Spanish)\n",
            "80000 80% (4m 25s) 3.8045 Ba / Vietnamese ✗ (Arabic)\n",
            "85000 85% (4m 42s) 1.5004 Gaertner / French ✗ (German)\n",
            "90000 90% (4m 59s) 1.7957 Moulin / Irish ✗ (French)\n",
            "95000 95% (5m 16s) 0.9203 Bei / Chinese ✓\n",
            "100000 100% (5m 32s) 4.4699 See / Chinese ✗ (Dutch)\n"
          ],
          "name": "stdout"
        }
      ]
    },
    {
      "cell_type": "code",
      "metadata": {
        "id": "PZSF3IhGMw73",
        "colab_type": "code",
        "colab": {
          "base_uri": "https://localhost:8080/",
          "height": 283
        },
        "outputId": "55ca8926-97ab-47d7-add2-6a9f546ed516"
      },
      "source": [
        "import matplotlib.pyplot as plt\n",
        "import matplotlib.ticker as ticker\n",
        "plt.style.use('dark_background')\n",
        "plt.figure()\n",
        "plt.plot(all_losses)"
      ],
      "execution_count": 19,
      "outputs": [
        {
          "output_type": "execute_result",
          "data": {
            "text/plain": [
              "[<matplotlib.lines.Line2D at 0x7fbd11b5ecc0>]"
            ]
          },
          "metadata": {
            "tags": []
          },
          "execution_count": 19
        },
        {
          "output_type": "display_data",
          "data": {
            "image/png": "[encoded data removed]",
            "text/plain": [
              "<Figure size 432x288 with 1 Axes>"
            ]
          },
          "metadata": {
            "tags": []
          }
        }
      ]
    },
    {
      "cell_type": "code",
      "metadata": {
        "id": "3nG5o0Z-Rk-R",
        "colab_type": "code",
        "colab": {
          "base_uri": "https://localhost:8080/",
          "height": 502
        },
        "outputId": "170a2be7-f921-4305-8914-8487695f9784"
      },
      "source": [
        "\n",
        "train_confusion = torch.zeros(n_categories, n_categories)\n",
        "test_confusion = torch.zeros(n_categories, n_categories)\n",
        "n_confusion = 10000\n",
        "\n",
        "def evaluate(line_tensor):\n",
        "    hidden,cell = lstm.initHidden()\n",
        "\n",
        "    for i in range(line_tensor.size()[0]):\n",
        "        output, hidden,cell = lstm(line_tensor[i], hidden,cell)\n",
        "\n",
        "    return output\n",
        "\n",
        "\n",
        "fig = plt.figure(figsize=(16,32))\n",
        "ax = fig.add_subplot(121)\n",
        "ax2 = fig.add_subplot(122)\n",
        "for k,(ax,confusion,category_lines) in enumerate(zip([ax,ax2],[train_confusion,test_confusion],[train_category_lines,test_category_lines])):\n",
        "        \n",
        "    for i in range(n_confusion):\n",
        "        category, line, category_tensor, line_tensor = randomExample(category_lines)\n",
        "        output = evaluate(line_tensor)\n",
        "        guess, guess_i = categoryFromOutput(output)\n",
        "        category_i = all_categories.index(category)\n",
        "        confusion[category_i][guess_i] += 1\n",
        "\n",
        "    for i in range(n_categories):\n",
        "        confusion[i] = confusion[i] / confusion[i].sum()\n",
        "\n",
        "    cax = ax.matshow(confusion.numpy())\n",
        "    fig.colorbar(cax,ax=ax,fraction=0.046,pad=0.04)\n",
        "\n",
        "    ax.set_xticklabels([''] + all_categories, rotation=90)\n",
        "    ax.set_yticklabels([''] + all_categories)\n",
        "\n",
        "\n",
        "    ax.xaxis.set_major_locator(ticker.MultipleLocator(1))\n",
        "    ax.yaxis.set_major_locator(ticker.MultipleLocator(1))\n",
        "    ax.grid(False)\n",
        "\n",
        "    if k ==0:\n",
        "        ax.set_title(\"Train Data Heatmap\",position=(0.5,-0.1))\n",
        "    else:\n",
        "        ax.set_title(\"Test Data Heatmap\",position=(0.5,-0.1))\n",
        "plt.show()"
      ],
      "execution_count": 22,
      "outputs": [
        {
          "output_type": "display_data",
          "data": {
            "image/png": "[encoded data removed]",
            "text/plain": [
              "<Figure size 1152x2304 with 4 Axes>"
            ]
          },
          "metadata": {
            "tags": []
          }
        }
      ]
    },
    {
      "cell_type": "code",
      "metadata": {
        "id": "0fJiHFXeRpxQ",
        "colab_type": "code",
        "colab": {
          "base_uri": "https://localhost:8080/",
          "height": 287
        },
        "outputId": "590eb73d-2caf-4e8a-b0c1-f46ddf5d9bf8"
      },
      "source": [
        "def predict(input_line, n_predictions=3):\n",
        "    print('\\n> %s' % input_line)\n",
        "    with torch.no_grad():\n",
        "        output = evaluate(lineToTensor(input_line))\n",
        "\n",
        "    \n",
        "        topv, topi = output.topk(n_predictions, 1, True)\n",
        "        predictions = []\n",
        "\n",
        "        for i in range(n_predictions):\n",
        "            value = topv[0][i].item()\n",
        "            category_index = topi[0][i].item()\n",
        "            print('(%.2f) %s' % (value, all_categories[category_index]))\n",
        "            predictions.append([value, all_categories[category_index]])\n",
        "\n",
        "predict('James')\n",
        "predict('Kuro')\n",
        "predict('Hong')"
      ],
      "execution_count": 25,
      "outputs": [
        {
          "output_type": "stream",
          "text": [
            "\n",
            "> James\n",
            "(-1.24) Dutch\n",
            "(-1.90) English\n",
            "(-2.09) German\n",
            "\n",
            "> Kuro\n",
            "(-0.62) Japanese\n",
            "(-2.68) Korean\n",
            "(-2.94) Arabic\n",
            "\n",
            "> Hong\n",
            "(-0.39) Korean\n",
            "(-1.52) Chinese\n",
            "(-2.97) Vietnamese\n"
          ],
          "name": "stdout"
        }
      ]
    }
  ]
}