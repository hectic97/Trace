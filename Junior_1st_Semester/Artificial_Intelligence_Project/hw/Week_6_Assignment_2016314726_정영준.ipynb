{
  "nbformat": 4,
  "nbformat_minor": 0,
  "metadata": {
    "colab": {
      "name": "Week_6_Assignment_2016314726_정영준.ipynb",
      "provenance": [],
      "collapsed_sections": []
    },
    "kernelspec": {
      "name": "python3",
      "display_name": "Python 3"
    },
    "accelerator": "GPU"
  },
  "cells": [
    {
      "cell_type": "code",
      "metadata": {
        "id": "lsz0iFZ9vT4B",
        "colab_type": "code",
        "colab": {}
      },
      "source": [
        "import torch\n",
        "import torchvision\n",
        "import torchvision.transforms as transforms\n",
        "import torch.nn as nn\n",
        "import torch.nn.init as init\n",
        "import torch.optim as optim\n",
        "\n",
        "transform = transforms.Compose([transforms.ToTensor(),\n",
        "                                transforms.Normalize((0.5,),(0.5,))])\n",
        "\n",
        "\n",
        "\n",
        "mnist_train = torchvision.datasets.MNIST('./data',\n",
        "                                         train=True,\n",
        "                                         download=True,\n",
        "                                         transform=transform)\n",
        "\n",
        "mnist_test = torchvision.datasets.MNIST('./data',\n",
        "                                        train=False,\n",
        "                                        download=True,\n",
        "                                        transform=transform)\n",
        "\n",
        "train_loader = torch.utils.data.DataLoader(mnist_train,\n",
        "                                           batch_size=4,\n",
        "                                           shuffle=True)\n",
        "\n",
        "test_loader = torch.utils.data.DataLoader(mnist_test,\n",
        "                                          batch_size=4,\n",
        "                                          shuffle=False)\n"
      ],
      "execution_count": 0,
      "outputs": []
    },
    {
      "cell_type": "code",
      "metadata": {
        "id": "Nak0Gc46rSyE",
        "colab_type": "code",
        "outputId": "161dc532-b531-4ddd-a755-e7061dd95f28",
        "colab": {
          "base_uri": "https://localhost:8080/",
          "height": 53
        }
      },
      "source": [
        "print(len(train_loader))\n",
        "print(len(test_loader))"
      ],
      "execution_count": 35,
      "outputs": [
        {
          "output_type": "stream",
          "text": [
            "15000\n",
            "2500\n"
          ],
          "name": "stdout"
        }
      ]
    },
    {
      "cell_type": "code",
      "metadata": {
        "id": "lN-hW0nh-vz6",
        "colab_type": "code",
        "colab": {
          "base_uri": "https://localhost:8080/",
          "height": 35
        },
        "outputId": "2c876165-7555-4105-9410-12412b73afe1"
      },
      "source": [
        "mnist_train[0][0].size()"
      ],
      "execution_count": 45,
      "outputs": [
        {
          "output_type": "execute_result",
          "data": {
            "text/plain": [
              "torch.Size([1, 28, 28])"
            ]
          },
          "metadata": {
            "tags": []
          },
          "execution_count": 45
        }
      ]
    },
    {
      "cell_type": "code",
      "metadata": {
        "id": "DSaYUpbSuMRa",
        "colab_type": "code",
        "colab": {}
      },
      "source": [
        "class DNN(nn.Module):\n",
        "    def __init__(self):\n",
        "        super(DNN,self).__init__()\n",
        "        self.layer = nn.Sequential(\n",
        "            nn.Linear(28*28,256),\n",
        "            nn.ReLU(),\n",
        "            nn.Linear(256,10),\n",
        "            \n",
        "        )\n",
        "    def forward(self,x):\n",
        "        # x.view(-1,28*28)\n",
        "        out = self.layer(x)\n",
        "\n",
        "        return out\n",
        "\n"
      ],
      "execution_count": 0,
      "outputs": []
    },
    {
      "cell_type": "code",
      "metadata": {
        "id": "T1fOZlV_uMYe",
        "colab_type": "code",
        "colab": {}
      },
      "source": [
        "model = DNN()"
      ],
      "execution_count": 0,
      "outputs": []
    },
    {
      "cell_type": "code",
      "metadata": {
        "id": "aZz6RzkpuMdJ",
        "colab_type": "code",
        "colab": {}
      },
      "source": [
        "loss_func = nn.CrossEntropyLoss()\n",
        "optimizer = optim.Adam(model.parameters())"
      ],
      "execution_count": 0,
      "outputs": []
    },
    {
      "cell_type": "code",
      "metadata": {
        "id": "uHT_FJc0v0R2",
        "colab_type": "code",
        "outputId": "538fdbd5-d372-453f-d850-07177aa07920",
        "colab": {
          "base_uri": "https://localhost:8080/",
          "height": 197
        }
      },
      "source": [
        "epochs = 10\n",
        "total = 0\n",
        "correct = 0\n",
        "for i in range(epochs):\n",
        "    for j,[image,label] in enumerate(train_loader):\n",
        "        x = image\n",
        "        y = label\n",
        "        x = x.view(-1,28*28)\n",
        "        optimizer.zero_grad()\n",
        "        output = model.forward(x)\n",
        "        _,output_index = torch.max(output,1)\n",
        "        loss = loss_func(output,y)\n",
        "        loss.backward()\n",
        "        optimizer.step()\n",
        "        total += label.size(0)\n",
        "        correct += (output_index == y).sum().float()\n",
        "\n",
        "    if i % (epochs/10) == 0: \n",
        "            print(\"Epoch {}/{} : Accuracy {:.4f}\".format(i+1,epochs,100*correct/total))\n",
        "\n"
      ],
      "execution_count": 59,
      "outputs": [
        {
          "output_type": "stream",
          "text": [
            "Epoch 1/10 : Accuracy 90.7050\n",
            "Epoch 2/10 : Accuracy 92.7025\n",
            "Epoch 3/10 : Accuracy 93.6367\n",
            "Epoch 4/10 : Accuracy 94.2117\n",
            "Epoch 5/10 : Accuracy 94.6127\n",
            "Epoch 6/10 : Accuracy 94.9194\n",
            "Epoch 7/10 : Accuracy 95.1802\n",
            "Epoch 8/10 : Accuracy 95.3869\n",
            "Epoch 9/10 : Accuracy 95.5607\n",
            "Epoch 10/10 : Accuracy 95.7168\n"
          ],
          "name": "stdout"
        }
      ]
    },
    {
      "cell_type": "code",
      "metadata": {
        "id": "6ow0UWgp-4ns",
        "colab_type": "code",
        "colab": {
          "base_uri": "https://localhost:8080/",
          "height": 35
        },
        "outputId": "ab35f5fe-b8c4-409b-838c-595576c19d03"
      },
      "source": [
        "total = 0\n",
        "correct =0\n",
        "with torch.no_grad():\n",
        "    for image,label in test_loader:\n",
        "        x=image\n",
        "        y=label\n",
        "        x = x.view(-1,28*28)\n",
        "        output = model.forward(x)\n",
        "        _,output_index = torch.max(output,1)\n",
        "        total += label.size(0)\n",
        "        correct += (output_index == y ).sum().float()\n",
        "\n",
        "    print(\"Test Accuracy : {:.4f}\".format(100*correct/total))"
      ],
      "execution_count": 64,
      "outputs": [
        {
          "output_type": "stream",
          "text": [
            "Test Accuracy : 95.7600\n"
          ],
          "name": "stdout"
        }
      ]
    }
  ]
}