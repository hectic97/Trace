{
 "cells": [
  {
   "cell_type": "markdown",
   "metadata": {},
   "source": [
    "# KERAS"
   ]
  },
  {
   "cell_type": "code",
   "execution_count": 1,
   "metadata": {},
   "outputs": [
    {
     "name": "stderr",
     "output_type": "stream",
     "text": [
      "Using TensorFlow backend.\n"
     ]
    },
    {
     "name": "stdout",
     "output_type": "stream",
     "text": [
      "WARNING:tensorflow:From C:\\Anaconda\\lib\\site-packages\\keras\\backend\\tensorflow_backend.py:74: The name tf.get_default_graph is deprecated. Please use tf.compat.v1.get_default_graph instead.\n",
      "\n",
      "WARNING:tensorflow:From C:\\Anaconda\\lib\\site-packages\\keras\\backend\\tensorflow_backend.py:517: The name tf.placeholder is deprecated. Please use tf.compat.v1.placeholder instead.\n",
      "\n",
      "WARNING:tensorflow:From C:\\Anaconda\\lib\\site-packages\\keras\\backend\\tensorflow_backend.py:4138: The name tf.random_uniform is deprecated. Please use tf.random.uniform instead.\n",
      "\n"
     ]
    }
   ],
   "source": [
    "from keras import layers\n",
    "from keras import models\n",
    "\n",
    "model=models.Sequential()\n",
    "model.add(layers.Dense(32,activation='relu',input_shape=(784,)))\n",
    "model.add(layers.Dense(10,activation='softmax'))"
   ]
  },
  {
   "cell_type": "code",
   "execution_count": 2,
   "metadata": {},
   "outputs": [],
   "source": [
    "#SAME MODEL BY FUNCTION API\n",
    "input_tensor=layers.Input(shape=(784,))\n",
    "x=layers.Dense(32,activation='relu')(input_tensor)\n",
    "output_tensor=layers.Dense(10,activation='softmax')(x)\n",
    "\n",
    "model=models.Model(inputs=input_tensor,outputs=output_tensor)"
   ]
  },
  {
   "cell_type": "raw",
   "metadata": {},
   "source": [
    "from keras import optimizers\n",
    "\n",
    "model.compile(optimizer=optimizers.RMSprop(lr=0.001),loss='mse',metrics=['accuracy'])\n",
    "model.fit(input_tensor,target_tensor,batch_size=128,epochs=10)"
   ]
  },
  {
   "cell_type": "markdown",
   "metadata": {},
   "source": [
    "# IMDB DATASET"
   ]
  },
  {
   "cell_type": "code",
   "execution_count": 3,
   "metadata": {},
   "outputs": [],
   "source": [
    "from keras.datasets import imdb\n",
    "(train_data,train_labels),(test_data,test_labels)=imdb.load_data(num_words=10000)"
   ]
  },
  {
   "cell_type": "code",
   "execution_count": 4,
   "metadata": {},
   "outputs": [
    {
     "data": {
      "text/plain": [
       "'1.16.2'"
      ]
     },
     "execution_count": 4,
     "metadata": {},
     "output_type": "execute_result"
    }
   ],
   "source": [
    "import numpy as np\n",
    "np.__version__"
   ]
  },
  {
   "cell_type": "code",
   "execution_count": 5,
   "metadata": {},
   "outputs": [
    {
     "data": {
      "text/plain": [
       "'1.15.0'"
      ]
     },
     "execution_count": 5,
     "metadata": {},
     "output_type": "execute_result"
    }
   ],
   "source": [
    "import tensorflow as tf\n",
    "tf.__version__"
   ]
  },
  {
   "cell_type": "code",
   "execution_count": 10,
   "metadata": {},
   "outputs": [],
   "source": [
    "word_index=imdb.get_word_index()\n",
    "reverse_word_index=dict([(value,key) for (key,value) in word_index.items()])\n",
    "decoded_review=' '.join([reverse_word_index.get(i-3,'?') for i in train_data[0]])"
   ]
  },
  {
   "cell_type": "code",
   "execution_count": 11,
   "metadata": {},
   "outputs": [
    {
     "data": {
      "text/plain": [
       "\"? this film was just brilliant casting location scenery story direction everyone's really suited the part they played and you could just imagine being there robert ? is an amazing actor and now the same being director ? father came from the same scottish island as myself so i loved the fact there was a real connection with this film the witty remarks throughout the film were great it was just brilliant so much that i bought the film as soon as it was released for ? and would recommend it to everyone to watch and the fly fishing was amazing really cried at the end it was so sad and you know what they say if you cry at a film it must have been good and this definitely was also ? to the two little boy's that played the ? of norman and paul they were just brilliant children are often left out of the ? list i think because the stars that play them all grown up are such a big profile for the whole film but these children are amazing and should be praised for what they have done don't you think the whole story was so lovely because it was true and was someone's life after all that was shared with us all\""
      ]
     },
     "execution_count": 11,
     "metadata": {},
     "output_type": "execute_result"
    }
   ],
   "source": [
    "decoded_review"
   ]
  },
  {
   "cell_type": "code",
   "execution_count": 15,
   "metadata": {},
   "outputs": [],
   "source": [
    "import numpy as np\n",
    "# To Sparse Matrix\n",
    "def vectorize_sequences(sequences,dimension=10000):\n",
    "    results=np.zeros((len(sequences),dimension))\n",
    "    for i,sequence in enumerate(sequences):\n",
    "        results[i,sequence]=1.\n",
    "    return results\n",
    "\n",
    "x_train=vectorize_sequences(train_data)\n",
    "x_test=vectorize_sequences(test_data)"
   ]
  },
  {
   "cell_type": "code",
   "execution_count": 24,
   "metadata": {},
   "outputs": [],
   "source": [
    "y_train=np.asarray(train_labels).astype('float32')\n",
    "y_test=np.asarray(test_labels).astype('float32')"
   ]
  },
  {
   "cell_type": "code",
   "execution_count": 27,
   "metadata": {},
   "outputs": [
    {
     "name": "stdout",
     "output_type": "stream",
     "text": [
      "WARNING:tensorflow:From C:\\Anaconda\\lib\\site-packages\\keras\\optimizers.py:790: The name tf.train.Optimizer is deprecated. Please use tf.compat.v1.train.Optimizer instead.\n",
      "\n",
      "WARNING:tensorflow:From C:\\Anaconda\\lib\\site-packages\\keras\\backend\\tensorflow_backend.py:3376: The name tf.log is deprecated. Please use tf.math.log instead.\n",
      "\n",
      "WARNING:tensorflow:From C:\\Anaconda\\lib\\site-packages\\tensorflow_core\\python\\ops\\nn_impl.py:183: where (from tensorflow.python.ops.array_ops) is deprecated and will be removed in a future version.\n",
      "Instructions for updating:\n",
      "Use tf.where in 2.0, which has the same broadcast rule as np.where\n"
     ]
    }
   ],
   "source": [
    "from keras import models\n",
    "from keras import layers\n",
    "\n",
    "model=models.Sequential()\n",
    "model.add(layers.Dense(16,activation='relu',input_shape=(10000,)))\n",
    "model.add(layers.Dense(16,activation='relu'))\n",
    "model.add(layers.Dense(1,activation='sigmoid'))\n",
    "\n",
    "model.compile(optimizer='rmsprop',loss='binary_crossentropy',metrics=['accuracy'])"
   ]
  },
  {
   "cell_type": "code",
   "execution_count": 28,
   "metadata": {},
   "outputs": [],
   "source": [
    "from keras import optimizers\n",
    "\n",
    "model.compile(optimizer=optimizers.RMSprop(lr=0.001),loss='binary_crossentropy',metrics=['accuracy'])"
   ]
  },
  {
   "cell_type": "code",
   "execution_count": 30,
   "metadata": {},
   "outputs": [],
   "source": [
    "from keras import losses\n",
    "from keras import metrics\n",
    "\n",
    "model.compile(optimizer=optimizers.RMSprop(lr=0.001),loss=losses.binary_crossentropy,\n",
    "              metrics=[metrics.binary_accuracy])"
   ]
  },
  {
   "cell_type": "code",
   "execution_count": 31,
   "metadata": {},
   "outputs": [],
   "source": [
    "x_val=x_train[:10000]\n",
    "partial_x_train=x_train[10000:]\n",
    "y_val=y_train[:10000]\n",
    "partial_y_train=y_train[10000:]"
   ]
  },
  {
   "cell_type": "code",
   "execution_count": 34,
   "metadata": {},
   "outputs": [
    {
     "name": "stdout",
     "output_type": "stream",
     "text": [
      "WARNING:tensorflow:From C:\\Anaconda\\lib\\site-packages\\keras\\backend\\tensorflow_backend.py:986: The name tf.assign_add is deprecated. Please use tf.compat.v1.assign_add instead.\n",
      "\n",
      "WARNING:tensorflow:From C:\\Anaconda\\lib\\site-packages\\keras\\backend\\tensorflow_backend.py:973: The name tf.assign is deprecated. Please use tf.compat.v1.assign instead.\n",
      "\n",
      "WARNING:tensorflow:From C:\\Anaconda\\lib\\site-packages\\keras\\backend\\tensorflow_backend.py:2741: The name tf.Session is deprecated. Please use tf.compat.v1.Session instead.\n",
      "\n",
      "Train on 15000 samples, validate on 10000 samples\n",
      "Epoch 1/20\n",
      "WARNING:tensorflow:From C:\\Anaconda\\lib\\site-packages\\keras\\backend\\tensorflow_backend.py:174: The name tf.get_default_session is deprecated. Please use tf.compat.v1.get_default_session instead.\n",
      "\n",
      "WARNING:tensorflow:From C:\\Anaconda\\lib\\site-packages\\keras\\backend\\tensorflow_backend.py:181: The name tf.ConfigProto is deprecated. Please use tf.compat.v1.ConfigProto instead.\n",
      "\n",
      "WARNING:tensorflow:From C:\\Anaconda\\lib\\site-packages\\keras\\backend\\tensorflow_backend.py:190: The name tf.global_variables is deprecated. Please use tf.compat.v1.global_variables instead.\n",
      "\n",
      "WARNING:tensorflow:From C:\\Anaconda\\lib\\site-packages\\keras\\backend\\tensorflow_backend.py:199: The name tf.is_variable_initialized is deprecated. Please use tf.compat.v1.is_variable_initialized instead.\n",
      "\n",
      "WARNING:tensorflow:From C:\\Anaconda\\lib\\site-packages\\keras\\backend\\tensorflow_backend.py:206: The name tf.variables_initializer is deprecated. Please use tf.compat.v1.variables_initializer instead.\n",
      "\n",
      "15000/15000 [==============================] - 12s 792us/step - loss: 0.5343 - acc: 0.7746 - val_loss: 0.3942 - val_acc: 0.8688\n",
      "Epoch 2/20\n",
      "15000/15000 [==============================] - 8s 506us/step - loss: 0.3181 - acc: 0.8972 - val_loss: 0.3274 - val_acc: 0.8714\n",
      "Epoch 3/20\n",
      "15000/15000 [==============================] - 3s 203us/step - loss: 0.2342 - acc: 0.9240 - val_loss: 0.2862 - val_acc: 0.8879\n",
      "Epoch 4/20\n",
      "15000/15000 [==============================] - 3s 198us/step - loss: 0.1844 - acc: 0.9400 - val_loss: 0.2746 - val_acc: 0.8907\n",
      "Epoch 5/20\n",
      "15000/15000 [==============================] - 3s 195us/step - loss: 0.1527 - acc: 0.9510 - val_loss: 0.2998 - val_acc: 0.8808\n",
      "Epoch 6/20\n",
      "15000/15000 [==============================] - 3s 197us/step - loss: 0.1226 - acc: 0.9625 - val_loss: 0.2883 - val_acc: 0.8867\n",
      "Epoch 7/20\n",
      "15000/15000 [==============================] - 3s 191us/step - loss: 0.1069 - acc: 0.9659 - val_loss: 0.3040 - val_acc: 0.8842\n",
      "Epoch 8/20\n",
      "15000/15000 [==============================] - 3s 209us/step - loss: 0.0855 - acc: 0.9752 - val_loss: 0.3232 - val_acc: 0.8804\n",
      "Epoch 9/20\n",
      "15000/15000 [==============================] - 3s 207us/step - loss: 0.0691 - acc: 0.9822 - val_loss: 0.3453 - val_acc: 0.8794\n",
      "Epoch 10/20\n",
      "15000/15000 [==============================] - 3s 193us/step - loss: 0.0575 - acc: 0.9859 - val_loss: 0.4018 - val_acc: 0.8724\n",
      "Epoch 11/20\n",
      "15000/15000 [==============================] - 3s 192us/step - loss: 0.0469 - acc: 0.9897 - val_loss: 0.3947 - val_acc: 0.8753\n",
      "Epoch 12/20\n",
      "15000/15000 [==============================] - 3s 194us/step - loss: 0.0374 - acc: 0.9926 - val_loss: 0.4192 - val_acc: 0.8754\n",
      "Epoch 13/20\n",
      "15000/15000 [==============================] - 3s 193us/step - loss: 0.0308 - acc: 0.9944 - val_loss: 0.5418 - val_acc: 0.8626\n",
      "Epoch 14/20\n",
      "15000/15000 [==============================] - 3s 193us/step - loss: 0.0247 - acc: 0.9951 - val_loss: 0.4798 - val_acc: 0.8723\n",
      "Epoch 15/20\n",
      "15000/15000 [==============================] - 3s 198us/step - loss: 0.0175 - acc: 0.9971 - val_loss: 0.5086 - val_acc: 0.8700\n",
      "Epoch 16/20\n",
      "15000/15000 [==============================] - 3s 220us/step - loss: 0.0148 - acc: 0.9983 - val_loss: 0.5407 - val_acc: 0.8681\n",
      "Epoch 17/20\n",
      "15000/15000 [==============================] - 3s 211us/step - loss: 0.0119 - acc: 0.9985 - val_loss: 0.5736 - val_acc: 0.8671\n",
      "Epoch 18/20\n",
      "15000/15000 [==============================] - 3s 199us/step - loss: 0.0091 - acc: 0.9993 - val_loss: 0.6011 - val_acc: 0.8652\n",
      "Epoch 19/20\n",
      "15000/15000 [==============================] - 3s 203us/step - loss: 0.0057 - acc: 0.9997 - val_loss: 0.6322 - val_acc: 0.8660\n",
      "Epoch 20/20\n",
      "15000/15000 [==============================] - 3s 197us/step - loss: 0.0065 - acc: 0.9991 - val_loss: 0.6620 - val_acc: 0.8659\n"
     ]
    }
   ],
   "source": [
    "model.compile(optimizer='rmsprop',loss='binary_crossentropy',metrics=['acc'])\n",
    "history=model.fit(partial_x_train,partial_y_train,epochs=20,batch_size=512,validation_data=(x_val,y_val))"
   ]
  },
  {
   "cell_type": "code",
   "execution_count": 35,
   "metadata": {},
   "outputs": [
    {
     "data": {
      "text/plain": [
       "dict_keys(['val_loss', 'val_acc', 'loss', 'acc'])"
      ]
     },
     "execution_count": 35,
     "metadata": {},
     "output_type": "execute_result"
    }
   ],
   "source": [
    "history_dict=history.history\n",
    "history_dict.keys()"
   ]
  },
  {
   "cell_type": "code",
   "execution_count": 43,
   "metadata": {},
   "outputs": [
    {
     "data": {
      "text/plain": [
       "<matplotlib.legend.Legend at 0x21b68f5ba08>"
      ]
     },
     "execution_count": 43,
     "metadata": {},
     "output_type": "execute_result"
    },
    {
     "data": {
      "image/png": "[encoded data removed]",
      "text/plain": [
       "<Figure size 432x288 with 1 Axes>"
      ]
     },
     "metadata": {},
     "output_type": "display_data"
    }
   ],
   "source": [
    "import matplotlib.pyplot as plt\n",
    "\n",
    "history_dict=history.history\n",
    "loss=history_dict['loss']\n",
    "val_loss=history_dict['val_loss']\n",
    "\n",
    "epochs=range(1, len(loss)+1)\n",
    "\n",
    "plt.plot(epochs,loss,'bo',label='Training loss')\n",
    "plt.plot(epochs,val_loss,'b',label='Validation loss')\n",
    "plt.title('Training and validation loss')\n",
    "plt.xlabel('Epochs')\n",
    "plt.ylabel('Loss')\n",
    "plt.style.use('ggplot')\n",
    "plt.legend()"
   ]
  },
  {
   "cell_type": "code",
   "execution_count": 45,
   "metadata": {},
   "outputs": [
    {
     "data": {
      "image/png": "[encoded data removed]",
      "text/plain": [
       "<Figure size 432x288 with 1 Axes>"
      ]
     },
     "metadata": {},
     "output_type": "display_data"
    }
   ],
   "source": [
    "plt.clf()\n",
    "acc=history_dict['acc']\n",
    "val_acc=history_dict['val_acc']\n",
    "\n",
    "plt.plot(epochs,acc,'bo',label='Training acc')\n",
    "plt.plot(epochs,val_acc,'b',label='Validation acc')\n",
    "plt.title('Training and validation accuracy')\n",
    "plt.xlabel('Epochs')\n",
    "plt.ylabel('Accuracy')\n",
    "plt.legend()\n",
    "plt.show()"
   ]
  },
  {
   "cell_type": "code",
   "execution_count": 47,
   "metadata": {},
   "outputs": [
    {
     "name": "stdout",
     "output_type": "stream",
     "text": [
      "Epoch 1/4\n",
      "25000/25000 [==============================] - 15s 586us/step - loss: 0.4750 - acc: 0.8218\n",
      "Epoch 2/4\n",
      "25000/25000 [==============================] - 4s 150us/step - loss: 0.2668 - acc: 0.9098\n",
      "Epoch 3/4\n",
      "25000/25000 [==============================] - 3s 131us/step - loss: 0.1987 - acc: 0.9287\n",
      "Epoch 4/4\n",
      "25000/25000 [==============================] - 3s 129us/step - loss: 0.1681 - acc: 0.9396\n",
      "25000/25000 [==============================] - 18s 710us/step\n"
     ]
    }
   ],
   "source": [
    "model=models.Sequential()\n",
    "model.add(layers.Dense(16,activation='relu',input_shape=(10000,)))\n",
    "model.add(layers.Dense(16,activation='relu'))\n",
    "model.add(layers.Dense(1,activation='sigmoid'))\n",
    "\n",
    "model.compile(optimizer='rmsprop',loss='binary_crossentropy',metrics=['accuracy'])\n",
    "model.fit(x_train,y_train,epochs=4,batch_size=512)\n",
    "results=model.evaluate(x_test,y_test)"
   ]
  },
  {
   "cell_type": "code",
   "execution_count": 48,
   "metadata": {},
   "outputs": [
    {
     "name": "stdout",
     "output_type": "stream",
     "text": [
      "Test Set Acc [0.3234383964061737, 0.87288]\n"
     ]
    }
   ],
   "source": [
    "print('Test Set Acc',results)"
   ]
  },
  {
   "cell_type": "code",
   "execution_count": 49,
   "metadata": {},
   "outputs": [
    {
     "data": {
      "text/plain": [
       "array([[0.13810307],\n",
       "       [0.99972034],\n",
       "       [0.29855746],\n",
       "       ...,\n",
       "       [0.07326642],\n",
       "       [0.0426091 ],\n",
       "       [0.4744229 ]], dtype=float32)"
      ]
     },
     "execution_count": 49,
     "metadata": {},
     "output_type": "execute_result"
    }
   ],
   "source": [
    "model.predict(x_test)"
   ]
  },
  {
   "cell_type": "code",
   "execution_count": 52,
   "metadata": {},
   "outputs": [
    {
     "name": "stdout",
     "output_type": "stream",
     "text": [
      "Train on 15000 samples, validate on 10000 samples\n",
      "Epoch 1/20\n",
      "15000/15000 [==============================] - 12s 828us/step - loss: 0.1422 - acc: 0.9512 - val_loss: 0.1408 - val_acc: 0.9521\n",
      "Epoch 2/20\n",
      "15000/15000 [==============================] - 3s 216us/step - loss: 0.1166 - acc: 0.9617 - val_loss: 0.1771 - val_acc: 0.9304\n",
      "Epoch 3/20\n",
      "15000/15000 [==============================] - 3s 195us/step - loss: 0.0975 - acc: 0.9692 - val_loss: 0.1701 - val_acc: 0.9377\n",
      "Epoch 4/20\n",
      "15000/15000 [==============================] - 3s 216us/step - loss: 0.0797 - acc: 0.9776 - val_loss: 0.1852 - val_acc: 0.9311\n",
      "Epoch 5/20\n",
      "15000/15000 [==============================] - 3s 192us/step - loss: 0.0686 - acc: 0.9801 - val_loss: 0.2069 - val_acc: 0.9242\n",
      "Epoch 6/20\n",
      "15000/15000 [==============================] - 3s 194us/step - loss: 0.0542 - acc: 0.9864 - val_loss: 0.2281 - val_acc: 0.9200\n",
      "Epoch 7/20\n",
      "15000/15000 [==============================] - 3s 194us/step - loss: 0.0458 - acc: 0.9879 - val_loss: 0.2592 - val_acc: 0.9140\n",
      "Epoch 8/20\n",
      "15000/15000 [==============================] - 3s 198us/step - loss: 0.0346 - acc: 0.9926 - val_loss: 0.2814 - val_acc: 0.9109\n",
      "Epoch 9/20\n",
      "15000/15000 [==============================] - 3s 194us/step - loss: 0.0290 - acc: 0.9936 - val_loss: 0.3150 - val_acc: 0.9042\n",
      "Epoch 10/20\n",
      "15000/15000 [==============================] - 3s 194us/step - loss: 0.0212 - acc: 0.9965 - val_loss: 0.3333 - val_acc: 0.9035\n",
      "Epoch 11/20\n",
      "15000/15000 [==============================] - 3s 193us/step - loss: 0.0167 - acc: 0.9976 - val_loss: 0.4335 - val_acc: 0.8913\n",
      "Epoch 12/20\n",
      "15000/15000 [==============================] - 3s 199us/step - loss: 0.0123 - acc: 0.9987 - val_loss: 0.3934 - val_acc: 0.8996\n",
      "Epoch 13/20\n",
      "15000/15000 [==============================] - 3s 192us/step - loss: 0.0111 - acc: 0.9981 - val_loss: 0.4234 - val_acc: 0.8983\n",
      "Epoch 14/20\n",
      "15000/15000 [==============================] - 3s 196us/step - loss: 0.0113 - acc: 0.9973 - val_loss: 0.4502 - val_acc: 0.8962\n",
      "Epoch 15/20\n",
      "15000/15000 [==============================] - 3s 198us/step - loss: 0.0042 - acc: 0.9998 - val_loss: 0.4747 - val_acc: 0.8940\n",
      "Epoch 16/20\n",
      "15000/15000 [==============================] - 3s 201us/step - loss: 0.0064 - acc: 0.9991 - val_loss: 0.5039 - val_acc: 0.8936\n",
      "Epoch 17/20\n",
      "15000/15000 [==============================] - 3s 194us/step - loss: 0.0026 - acc: 0.9999 - val_loss: 0.5342 - val_acc: 0.8912\n",
      "Epoch 18/20\n",
      "15000/15000 [==============================] - 3s 195us/step - loss: 0.0041 - acc: 0.9992 - val_loss: 0.5661 - val_acc: 0.8883\n",
      "Epoch 19/20\n",
      "15000/15000 [==============================] - 3s 193us/step - loss: 0.0014 - acc: 0.9999 - val_loss: 0.5991 - val_acc: 0.8860\n",
      "Epoch 20/20\n",
      "15000/15000 [==============================] - 3s 192us/step - loss: 0.0062 - acc: 0.9982 - val_loss: 0.6284 - val_acc: 0.8854\n"
     ]
    }
   ],
   "source": [
    "twolayermodel=models.Sequential()\n",
    "twolayermodel.add(layers.Dense(32,activation='tanh',input_shape=(10000,)))\n",
    "twolayermodel.add(layers.Dense(1,activation='sigmoid'))\n",
    "\n",
    "twolayermodel.compile(optimizer='rmsprop',loss='mse',metrics=['acc'])\n",
    "history=model.fit(partial_x_train,partial_y_train,epochs=20,batch_size=512,validation_data=(x_val,y_val))\n"
   ]
  },
  {
   "cell_type": "code",
   "execution_count": 67,
   "metadata": {},
   "outputs": [
    {
     "data": {
      "image/png": "[encoded data removed]",
      "text/plain": [
       "<Figure size 1152x576 with 2 Axes>"
      ]
     },
     "metadata": {},
     "output_type": "display_data"
    }
   ],
   "source": [
    "history_dict=history.history\n",
    "loss=history_dict['loss']\n",
    "val_loss=history_dict['val_loss']\n",
    "acc=history_dict['acc']\n",
    "val_acc=history_dict['val_acc']\n",
    "epochs=range(1,len(loss)+1)\n",
    "\n",
    "fig,axes=plt.subplots(1,2,figsize=(16,8))\n",
    "\n",
    "axes[0].plot(epochs,loss,'bo',label='Training loss')\n",
    "axes[0].plot(epochs,val_loss,'b',label='Validation loss')\n",
    "axes[1].plot(epochs,acc,'bo',label='Training acc')\n",
    "axes[1].plot(epochs,val_acc,'b',label='Validation loss')\n",
    "axes[0].set_title('Training and validation loss')\n",
    "axes[1].set_title('Training and validation accuracy')\n",
    "axes[0].set_ylabel('Loss')\n",
    "axes[1].set_ylabel('Acc')\n",
    "plt.legend()\n",
    "    \n",
    "for ax in axes:\n",
    "    ax.set_xlabel('Epochs')"
   ]
  },
  {
   "cell_type": "code",
   "execution_count": 68,
   "metadata": {},
   "outputs": [
    {
     "name": "stdout",
     "output_type": "stream",
     "text": [
      "Train on 15000 samples, validate on 10000 samples\n",
      "Epoch 1/3\n",
      "15000/15000 [==============================] - 12s 802us/step - loss: 7.4668e-04 - acc: 1.0000 - val_loss: 0.6428 - val_acc: 0.8844\n",
      "Epoch 2/3\n",
      "15000/15000 [==============================] - 8s 541us/step - loss: 6.1652e-04 - acc: 1.0000 - val_loss: 0.6771 - val_acc: 0.8835\n",
      "Epoch 3/3\n",
      "15000/15000 [==============================] - 3s 212us/step - loss: 0.0047 - acc: 0.9987 - val_loss: 0.7124 - val_acc: 0.8827\n",
      "25000/25000 [==============================] - 15s 612us/step\n",
      "############ Test Set Accuracy : [1.0027652532887459, 0.8484]  #############\n"
     ]
    }
   ],
   "source": [
    "twolayermodel=models.Sequential()\n",
    "twolayermodel.add(layers.Dense(32,activation='tanh',input_shape=(10000,)))\n",
    "twolayermodel.add(layers.Dense(1,activation='sigmoid'))\n",
    "\n",
    "twolayermodel.compile(optimizer='rmsprop',loss='mse',metrics=['acc'])\n",
    "history=model.fit(partial_x_train,partial_y_train,epochs=3,batch_size=512,validation_data=(x_val,y_val))\n",
    "results=model.evaluate(x_test,y_test)\n",
    "print('############ Test Set Accuracy :',results,' #############')"
   ]
  },
  {
   "cell_type": "code",
   "execution_count": 2,
   "metadata": {},
   "outputs": [
    {
     "name": "stderr",
     "output_type": "stream",
     "text": [
      "Using TensorFlow backend.\n"
     ]
    },
    {
     "name": "stdout",
     "output_type": "stream",
     "text": [
      "Downloading data from https://s3.amazonaws.com/text-datasets/reuters.npz\n",
      "2113536/2110848 [==============================] - 2s 1us/step\n"
     ]
    }
   ],
   "source": [
    "from keras.datasets import reuters\n",
    "(train_data,train_labels),(test_data,test_labels)=reuters.load_data(num_words=10000)"
   ]
  },
  {
   "cell_type": "code",
   "execution_count": 3,
   "metadata": {},
   "outputs": [
    {
     "name": "stdout",
     "output_type": "stream",
     "text": [
      "Downloading data from https://s3.amazonaws.com/text-datasets/reuters_word_index.json\n",
      "557056/550378 [==============================] - 1s 2us/step\n"
     ]
    }
   ],
   "source": [
    "word_index=reuters.get_word_index()\n",
    "reverse_word_index=dict([(value,key) for (key,value) in word_index.items()])\n",
    "decoded_newswire=' '.join([reverse_word_index.get(i-3,'?') for i in train_data[0]])"
   ]
  },
  {
   "cell_type": "code",
   "execution_count": 7,
   "metadata": {},
   "outputs": [
    {
     "data": {
      "text/plain": [
       "'? ? ? said as a result of its december acquisition of space co it expects earnings per share in 1987 of 1 15 to 1 30 dlrs per share up from 70 cts in 1986 the company said pretax net should rise to nine to 10 mln dlrs from six mln dlrs in 1986 and rental operation revenues to 19 to 22 mln dlrs from 12 5 mln dlrs it said cash flow per share this year should be 2 50 to three dlrs reuter 3'"
      ]
     },
     "execution_count": 7,
     "metadata": {},
     "output_type": "execute_result"
    }
   ],
   "source": [
    "decoded_newswire"
   ]
  },
  {
   "cell_type": "code",
   "execution_count": 9,
   "metadata": {},
   "outputs": [],
   "source": [
    "import numpy as np\n",
    "\n",
    "def vectorize_sequences(sequences,dimension=10000):\n",
    "    results=np.zeros((len(sequences),dimension))\n",
    "    for i,sequence in enumerate(sequences):\n",
    "        results[i,sequence]=1.\n",
    "    return results\n",
    "\n",
    "x_train=vectorize_sequences(train_data)\n",
    "x_test=vectorize_sequences(test_data)"
   ]
  },
  {
   "cell_type": "code",
   "execution_count": 10,
   "metadata": {},
   "outputs": [],
   "source": [
    "from keras.utils.np_utils import  to_categorical\n",
    "one_hot_train_labels=to_categorical(train_labels)\n",
    "one_hot_test_labels=to_categorical(test_labels)"
   ]
  },
  {
   "cell_type": "code",
   "execution_count": 11,
   "metadata": {},
   "outputs": [
    {
     "name": "stdout",
     "output_type": "stream",
     "text": [
      "WARNING:tensorflow:From C:\\Anaconda\\lib\\site-packages\\keras\\backend\\tensorflow_backend.py:74: The name tf.get_default_graph is deprecated. Please use tf.compat.v1.get_default_graph instead.\n",
      "\n",
      "WARNING:tensorflow:From C:\\Anaconda\\lib\\site-packages\\keras\\backend\\tensorflow_backend.py:517: The name tf.placeholder is deprecated. Please use tf.compat.v1.placeholder instead.\n",
      "\n",
      "WARNING:tensorflow:From C:\\Anaconda\\lib\\site-packages\\keras\\backend\\tensorflow_backend.py:4138: The name tf.random_uniform is deprecated. Please use tf.random.uniform instead.\n",
      "\n",
      "WARNING:tensorflow:From C:\\Anaconda\\lib\\site-packages\\keras\\optimizers.py:790: The name tf.train.Optimizer is deprecated. Please use tf.compat.v1.train.Optimizer instead.\n",
      "\n",
      "WARNING:tensorflow:From C:\\Anaconda\\lib\\site-packages\\keras\\backend\\tensorflow_backend.py:3295: The name tf.log is deprecated. Please use tf.math.log instead.\n",
      "\n"
     ]
    }
   ],
   "source": [
    "from keras import models\n",
    "from keras import layers\n",
    "\n",
    "model=models.Sequential()\n",
    "model.add(layers.Dense(64,activation='relu',input_shape=(10000,)))\n",
    "model.add(layers.Dense(64,activation='relu'))\n",
    "model.add(layers.Dense(46,activation='softmax'))\n",
    "\n",
    "model.compile(optimizer='rmsprop',loss='categorical_crossentropy',metrics=['accuracy'])"
   ]
  },
  {
   "cell_type": "code",
   "execution_count": 13,
   "metadata": {},
   "outputs": [],
   "source": [
    "x_val=x_train[:1000]\n",
    "partial_x_train=x_train[1000:]\n",
    "\n",
    "y_val=one_hot_train_labels[:1000]\n",
    "partial_y_train=one_hot_train_labels[1000:]"
   ]
  },
  {
   "cell_type": "code",
   "execution_count": 14,
   "metadata": {},
   "outputs": [
    {
     "name": "stdout",
     "output_type": "stream",
     "text": [
      "WARNING:tensorflow:From C:\\Anaconda\\lib\\site-packages\\tensorflow_core\\python\\ops\\math_grad.py:1424: where (from tensorflow.python.ops.array_ops) is deprecated and will be removed in a future version.\n",
      "Instructions for updating:\n",
      "Use tf.where in 2.0, which has the same broadcast rule as np.where\n",
      "WARNING:tensorflow:From C:\\Anaconda\\lib\\site-packages\\keras\\backend\\tensorflow_backend.py:986: The name tf.assign_add is deprecated. Please use tf.compat.v1.assign_add instead.\n",
      "\n",
      "WARNING:tensorflow:From C:\\Anaconda\\lib\\site-packages\\keras\\backend\\tensorflow_backend.py:973: The name tf.assign is deprecated. Please use tf.compat.v1.assign instead.\n",
      "\n",
      "WARNING:tensorflow:From C:\\Anaconda\\lib\\site-packages\\keras\\backend\\tensorflow_backend.py:2741: The name tf.Session is deprecated. Please use tf.compat.v1.Session instead.\n",
      "\n",
      "Train on 7982 samples, validate on 1000 samples\n",
      "Epoch 1/20\n",
      "WARNING:tensorflow:From C:\\Anaconda\\lib\\site-packages\\keras\\backend\\tensorflow_backend.py:174: The name tf.get_default_session is deprecated. Please use tf.compat.v1.get_default_session instead.\n",
      "\n",
      "WARNING:tensorflow:From C:\\Anaconda\\lib\\site-packages\\keras\\backend\\tensorflow_backend.py:181: The name tf.ConfigProto is deprecated. Please use tf.compat.v1.ConfigProto instead.\n",
      "\n",
      "WARNING:tensorflow:From C:\\Anaconda\\lib\\site-packages\\keras\\backend\\tensorflow_backend.py:190: The name tf.global_variables is deprecated. Please use tf.compat.v1.global_variables instead.\n",
      "\n",
      "WARNING:tensorflow:From C:\\Anaconda\\lib\\site-packages\\keras\\backend\\tensorflow_backend.py:199: The name tf.is_variable_initialized is deprecated. Please use tf.compat.v1.is_variable_initialized instead.\n",
      "\n",
      "WARNING:tensorflow:From C:\\Anaconda\\lib\\site-packages\\keras\\backend\\tensorflow_backend.py:206: The name tf.variables_initializer is deprecated. Please use tf.compat.v1.variables_initializer instead.\n",
      "\n",
      "7982/7982 [==============================] - 2s 289us/step - loss: 2.5322 - acc: 0.4955 - val_loss: 1.7208 - val_acc: 0.6120\n",
      "Epoch 2/20\n",
      "7982/7982 [==============================] - 2s 219us/step - loss: 1.4452 - acc: 0.6879 - val_loss: 1.3459 - val_acc: 0.7060\n",
      "Epoch 3/20\n",
      "7982/7982 [==============================] - 2s 201us/step - loss: 1.0953 - acc: 0.7651 - val_loss: 1.1708 - val_acc: 0.7430\n",
      "Epoch 4/20\n",
      "7982/7982 [==============================] - 1s 177us/step - loss: 0.8697 - acc: 0.8165 - val_loss: 1.0793 - val_acc: 0.7590\n",
      "Epoch 5/20\n",
      "7982/7982 [==============================] - 2s 190us/step - loss: 0.7034 - acc: 0.8472 - val_loss: 0.9844 - val_acc: 0.7810\n",
      "Epoch 6/20\n",
      "7982/7982 [==============================] - 1s 177us/step - loss: 0.5667 - acc: 0.8802 - val_loss: 0.9411 - val_acc: 0.8040\n",
      "Epoch 7/20\n",
      "7982/7982 [==============================] - 2s 204us/step - loss: 0.4581 - acc: 0.9048 - val_loss: 0.9083 - val_acc: 0.8020\n",
      "Epoch 8/20\n",
      "7982/7982 [==============================] - 1s 182us/step - loss: 0.3695 - acc: 0.9231 - val_loss: 0.9363 - val_acc: 0.7890\n",
      "Epoch 9/20\n",
      "7982/7982 [==============================] - 1s 179us/step - loss: 0.3032 - acc: 0.9315 - val_loss: 0.8917 - val_acc: 0.8090\n",
      "Epoch 10/20\n",
      "7982/7982 [==============================] - 1s 179us/step - loss: 0.2537 - acc: 0.9414 - val_loss: 0.9071 - val_acc: 0.8110\n",
      "Epoch 11/20\n",
      "7982/7982 [==============================] - 1s 181us/step - loss: 0.2187 - acc: 0.9471 - val_loss: 0.9177 - val_acc: 0.8130\n",
      "Epoch 12/20\n",
      "7982/7982 [==============================] - 1s 179us/step - loss: 0.1873 - acc: 0.9508 - val_loss: 0.9027 - val_acc: 0.8130\n",
      "Epoch 13/20\n",
      "7982/7982 [==============================] - 1s 177us/step - loss: 0.1703 - acc: 0.9521 - val_loss: 0.9323 - val_acc: 0.8110\n",
      "Epoch 14/20\n",
      "7982/7982 [==============================] - 1s 183us/step - loss: 0.1536 - acc: 0.9554 - val_loss: 0.9689 - val_acc: 0.8050\n",
      "Epoch 15/20\n",
      "7982/7982 [==============================] - 2s 189us/step - loss: 0.1390 - acc: 0.9560 - val_loss: 0.9686 - val_acc: 0.8150\n",
      "Epoch 16/20\n",
      "7982/7982 [==============================] - 1s 183us/step - loss: 0.1313 - acc: 0.9560 - val_loss: 1.0220 - val_acc: 0.8060\n",
      "Epoch 17/20\n",
      "7982/7982 [==============================] - 1s 179us/step - loss: 0.1217 - acc: 0.9579 - val_loss: 1.0254 - val_acc: 0.7970\n",
      "Epoch 18/20\n",
      "7982/7982 [==============================] - 2s 207us/step - loss: 0.1198 - acc: 0.9582 - val_loss: 1.0430 - val_acc: 0.8060\n",
      "Epoch 19/20\n",
      "7982/7982 [==============================] - 2s 196us/step - loss: 0.1138 - acc: 0.9597 - val_loss: 1.0955 - val_acc: 0.7970\n",
      "Epoch 20/20\n",
      "7982/7982 [==============================] - 2s 200us/step - loss: 0.1111 - acc: 0.9593 - val_loss: 1.0674 - val_acc: 0.8020\n"
     ]
    }
   ],
   "source": [
    "history=model.fit(partial_x_train,partial_y_train,epochs=20,batch_size=512,validation_data=(x_val,y_val))"
   ]
  },
  {
   "cell_type": "code",
   "execution_count": 15,
   "metadata": {},
   "outputs": [
    {
     "data": {
      "image/png": "[encoded data removed]",
      "text/plain": [
       "<Figure size 432x288 with 1 Axes>"
      ]
     },
     "metadata": {
      "needs_background": "light"
     },
     "output_type": "display_data"
    }
   ],
   "source": [
    "import matplotlib.pyplot as plt\n",
    "\n",
    "loss=history.history['loss']\n",
    "val_loss=history.history['val_loss']\n",
    "\n",
    "epochs=range(1,len(loss)+1)\n",
    "\n",
    "plt.plot(epochs,loss,'bo',label='Training loss')\n",
    "plt.plot(epochs,val_loss,'b',label='Validation loss')\n",
    "plt.title('Training and validation loss')\n",
    "plt.xlabel('Epochs')\n",
    "plt.ylabel('Loss')\n",
    "plt.legend()\n",
    "plt.show()"
   ]
  },
  {
   "cell_type": "code",
   "execution_count": 16,
   "metadata": {},
   "outputs": [
    {
     "data": {
      "image/png": "[encoded data removed]",
      "text/plain": [
       "<Figure size 432x288 with 1 Axes>"
      ]
     },
     "metadata": {
      "needs_background": "light"
     },
     "output_type": "display_data"
    }
   ],
   "source": [
    "acc=history.history['acc']\n",
    "val_acc=history.history['val_acc']\n",
    "\n",
    "epochs=range(1,len(loss)+1)\n",
    "\n",
    "plt.plot(epochs,acc,'bo',label='Training acc')\n",
    "plt.plot(epochs,val_acc,'b',label='Validation acc')\n",
    "plt.title('Training and validation acc')\n",
    "plt.xlabel('Epochs')\n",
    "plt.ylabel('Accuracy')\n",
    "plt.legend()\n",
    "plt.show()"
   ]
  },
  {
   "cell_type": "code",
   "execution_count": 17,
   "metadata": {},
   "outputs": [
    {
     "name": "stdout",
     "output_type": "stream",
     "text": [
      "Train on 7982 samples, validate on 1000 samples\n",
      "Epoch 1/9\n",
      "7982/7982 [==============================] - 2s 221us/step - loss: 2.5398 - acc: 0.5226 - val_loss: 1.6733 - val_acc: 0.6570\n",
      "Epoch 2/9\n",
      "7982/7982 [==============================] - 1s 177us/step - loss: 1.3712 - acc: 0.7121 - val_loss: 1.2758 - val_acc: 0.7210\n",
      "Epoch 3/9\n",
      "7982/7982 [==============================] - 2s 194us/step - loss: 1.0136 - acc: 0.7781 - val_loss: 1.1303 - val_acc: 0.7530\n",
      "Epoch 4/9\n",
      "7982/7982 [==============================] - 1s 175us/step - loss: 0.7976 - acc: 0.8251 - val_loss: 1.0539 - val_acc: 0.7590\n",
      "Epoch 5/9\n",
      "7982/7982 [==============================] - 1s 179us/step - loss: 0.6393 - acc: 0.8624 - val_loss: 0.9754 - val_acc: 0.7920\n",
      "Epoch 6/9\n",
      "7982/7982 [==============================] - 1s 177us/step - loss: 0.5124 - acc: 0.8923 - val_loss: 0.9102 - val_acc: 0.8140\n",
      "Epoch 7/9\n",
      "7982/7982 [==============================] - 1s 178us/step - loss: 0.4123 - acc: 0.9137 - val_loss: 0.8932 - val_acc: 0.8210\n",
      "Epoch 8/9\n",
      "7982/7982 [==============================] - 1s 177us/step - loss: 0.3354 - acc: 0.9288 - val_loss: 0.8732 - val_acc: 0.8260\n",
      "Epoch 9/9\n",
      "7982/7982 [==============================] - 1s 180us/step - loss: 0.2782 - acc: 0.9371 - val_loss: 0.9337 - val_acc: 0.8010\n",
      "2246/2246 [==============================] - 0s 209us/step\n"
     ]
    }
   ],
   "source": [
    "model=models.Sequential()\n",
    "model.add(layers.Dense(64,activation='relu',input_shape=(10000,)))\n",
    "model.add(layers.Dense(64,activation='relu'))\n",
    "model.add(layers.Dense(46,activation='softmax'))\n",
    "\n",
    "model.compile(optimizer='rmsprop',loss='categorical_crossentropy',metrics=['accuracy'])\n",
    "model.fit(partial_x_train,partial_y_train,epochs=9,batch_size=512,validation_data=(x_val,y_val))\n",
    "result=model.evaluate(x_test,one_hot_test_labels)\n"
   ]
  },
  {
   "cell_type": "code",
   "execution_count": 19,
   "metadata": {},
   "outputs": [
    {
     "data": {
      "text/plain": [
       "[1.0222080012887902, 0.7756010686194165]"
      ]
     },
     "execution_count": 19,
     "metadata": {},
     "output_type": "execute_result"
    }
   ],
   "source": [
    "result"
   ]
  },
  {
   "cell_type": "code",
   "execution_count": 21,
   "metadata": {},
   "outputs": [
    {
     "name": "stdout",
     "output_type": "stream",
     "text": [
      "(46,)\n",
      "0.9999998\n",
      "3\n"
     ]
    }
   ],
   "source": [
    "predictions=model.predict(x_test)\n",
    "print(predictions[0].shape)\n",
    "print(np.sum(predictions[0]))\n",
    "print(np.argmax(predictions[0]))"
   ]
  },
  {
   "cell_type": "code",
   "execution_count": 35,
   "metadata": {},
   "outputs": [],
   "source": [
    "y_train=np.array(train_labels)\n",
    "y_test=np.array(test_labels)"
   ]
  },
  {
   "cell_type": "code",
   "execution_count": 36,
   "metadata": {},
   "outputs": [
    {
     "name": "stdout",
     "output_type": "stream",
     "text": [
      "Train on 7982 samples, validate on 1000 samples\n",
      "Epoch 1/20\n",
      "7982/7982 [==============================] - 2s 309us/step - loss: 3.1703 - acc: 0.2428 - val_loss: 2.6196 - val_acc: 0.2730\n",
      "Epoch 2/20\n",
      "7982/7982 [==============================] - 2s 249us/step - loss: 2.0641 - acc: 0.5432 - val_loss: 1.7029 - val_acc: 0.5850\n",
      "Epoch 3/20\n",
      "7982/7982 [==============================] - 2s 250us/step - loss: 1.5028 - acc: 0.6218 - val_loss: 1.5115 - val_acc: 0.6380\n",
      "Epoch 4/20\n",
      "7982/7982 [==============================] - 2s 252us/step - loss: 1.2897 - acc: 0.6906 - val_loss: 1.4152 - val_acc: 0.6740\n",
      "Epoch 5/20\n",
      "7982/7982 [==============================] - 2s 250us/step - loss: 1.1462 - acc: 0.7154 - val_loss: 1.3649 - val_acc: 0.6830\n",
      "Epoch 6/20\n",
      "7982/7982 [==============================] - 2s 250us/step - loss: 1.0404 - acc: 0.7305 - val_loss: 1.3420 - val_acc: 0.6980\n",
      "Epoch 7/20\n",
      "7982/7982 [==============================] - 2s 252us/step - loss: 0.9582 - acc: 0.7425 - val_loss: 1.3416 - val_acc: 0.7000\n",
      "Epoch 8/20\n",
      "7982/7982 [==============================] - 2s 254us/step - loss: 0.8894 - acc: 0.7522 - val_loss: 1.3394 - val_acc: 0.7050\n",
      "Epoch 9/20\n",
      "7982/7982 [==============================] - 2s 253us/step - loss: 0.8278 - acc: 0.7662 - val_loss: 1.3599 - val_acc: 0.7130\n",
      "Epoch 10/20\n",
      "7982/7982 [==============================] - 2s 254us/step - loss: 0.7703 - acc: 0.7850 - val_loss: 1.3860 - val_acc: 0.7060\n",
      "Epoch 11/20\n",
      "7982/7982 [==============================] - 2s 261us/step - loss: 0.7187 - acc: 0.8001 - val_loss: 1.4102 - val_acc: 0.7150\n",
      "Epoch 12/20\n",
      "7982/7982 [==============================] - 2s 258us/step - loss: 0.6738 - acc: 0.8137 - val_loss: 1.4095 - val_acc: 0.7250\n",
      "Epoch 13/20\n",
      "7982/7982 [==============================] - 2s 259us/step - loss: 0.6306 - acc: 0.8279 - val_loss: 1.4549 - val_acc: 0.7100\n",
      "Epoch 14/20\n",
      "7982/7982 [==============================] - 2s 257us/step - loss: 0.5929 - acc: 0.8354 - val_loss: 1.4743 - val_acc: 0.7140\n",
      "Epoch 15/20\n",
      "7982/7982 [==============================] - 2s 258us/step - loss: 0.5585 - acc: 0.8460 - val_loss: 1.5226 - val_acc: 0.7210\n",
      "Epoch 16/20\n",
      "7982/7982 [==============================] - 2s 260us/step - loss: 0.5274 - acc: 0.8562 - val_loss: 1.5631 - val_acc: 0.7250\n",
      "Epoch 17/20\n",
      "7982/7982 [==============================] - 2s 259us/step - loss: 0.4984 - acc: 0.8654 - val_loss: 1.5912 - val_acc: 0.7160\n",
      "Epoch 18/20\n",
      "7982/7982 [==============================] - 2s 263us/step - loss: 0.4733 - acc: 0.8797 - val_loss: 1.6515 - val_acc: 0.7200\n",
      "Epoch 19/20\n",
      "7982/7982 [==============================] - 2s 254us/step - loss: 0.4479 - acc: 0.8846 - val_loss: 1.6736 - val_acc: 0.7160.4555 - acc: 0.880 - ETA: 0s - loss: 0.4557 - acc: \n",
      "Epoch 20/20\n",
      "7982/7982 [==============================] - 2s 256us/step - loss: 0.4298 - acc: 0.8893 - val_loss: 1.7537 - val_acc: 0.7130\n"
     ]
    },
    {
     "data": {
      "text/plain": [
       "<keras.callbacks.History at 0x22c0cf081c8>"
      ]
     },
     "execution_count": 36,
     "metadata": {},
     "output_type": "execute_result"
    }
   ],
   "source": [
    "model=models.Sequential()\n",
    "model.add(layers.Dense(64,activation='relu',input_shape=(10000,)))\n",
    "model.add(layers.Dense(4,activation='relu'))\n",
    "model.add(layers.Dense(46,activation='softmax'))\n",
    "\n",
    "model.compile(optimizer='rmsprop',loss='categorical_crossentropy',metrics=['accuracy'])\n",
    "model.fit(partial_x_train,partial_y_train,epochs=20,batch_size=128,validation_data=(x_val,y_val))\n"
   ]
  },
  {
   "cell_type": "code",
   "execution_count": 37,
   "metadata": {},
   "outputs": [
    {
     "name": "stdout",
     "output_type": "stream",
     "text": [
      "Downloading data from https://s3.amazonaws.com/keras-datasets/boston_housing.npz\n",
      "57344/57026 [==============================] - 0s 7us/step\n"
     ]
    }
   ],
   "source": [
    "from keras.datasets import boston_housing\n",
    "(train_data,train_targets),(test_data,test_targets)=boston_housing.load_data()"
   ]
  },
  {
   "cell_type": "code",
   "execution_count": 38,
   "metadata": {},
   "outputs": [],
   "source": [
    "mean=train_data.mean(axis=0)\n",
    "train_data-=mean\n",
    "std=train_data.std(axis=0)\n",
    "train_data/=std\n",
    "\n",
    "test_data-=mean\n",
    "test_data/=std"
   ]
  },
  {
   "cell_type": "code",
   "execution_count": 40,
   "metadata": {},
   "outputs": [],
   "source": [
    "def build_model():\n",
    "    model=models.Sequential()\n",
    "    model.add(layers.Dense(64,activation='relu',input_shape=(train_data.shape[1],)))\n",
    "    model.add(layers.Dense(64,activation='relu'))\n",
    "    model.add(layers.Dense(1))\n",
    "    model.compile(optimizer='rmsprop',loss='mse',metrics=['mae'])\n",
    "    return model"
   ]
  },
  {
   "cell_type": "code",
   "execution_count": 51,
   "metadata": {},
   "outputs": [
    {
     "name": "stdout",
     "output_type": "stream",
     "text": [
      "Processing Fold # 0\n",
      "Processing Fold # 1\n",
      "Processing Fold # 2\n",
      "Processing Fold # 3\n"
     ]
    }
   ],
   "source": [
    "import numpy as np\n",
    "\n",
    "k=4\n",
    "num_val_samples=len(train_data)//k\n",
    "num_epochs=100\n",
    "all_scores=[]\n",
    "for i in range(k):\n",
    "    print('Processing Fold #',i)\n",
    "    val_data=train_data[i*num_val_samples:(i+1)*num_val_samples]\n",
    "    val_target=train_targets[i*num_val_samples : (i+1)*num_val_samples]\n",
    "    \n",
    "    partial_train_data=np.concatenate([train_data[:i*num_val_samples],\n",
    "                                         train_data[(i+1)*num_val_samples:]],axis=0)\n",
    "    partial_train_targets=np.concatenate([train_targets[:i*num_val_samples],\n",
    "                                         train_targets[(i+1)*num_val_samples:]],axis=0)\n",
    "    model=build_model()\n",
    "    model.fit(partial_train_data,partial_train_targets,epochs=num_epochs,batch_size=1,verbose=0)\n",
    "    val_mse,val_mae=model.evaluate(val_data,val_target,verbose=0)\n",
    "    all_scores.append(val_mae)"
   ]
  },
  {
   "cell_type": "code",
   "execution_count": 54,
   "metadata": {},
   "outputs": [
    {
     "data": {
      "text/plain": [
       "[2.0466333887364603, 2.2921694316486323, 2.798282979738594, 2.2184934143972868]"
      ]
     },
     "execution_count": 54,
     "metadata": {},
     "output_type": "execute_result"
    }
   ],
   "source": [
    "all_scores"
   ]
  },
  {
   "cell_type": "code",
   "execution_count": 63,
   "metadata": {},
   "outputs": [
    {
     "name": "stdout",
     "output_type": "stream",
     "text": [
      "Processing Fold # 0\n",
      "Processing Fold # 1\n",
      "Processing Fold # 2\n",
      "Processing Fold # 3\n"
     ]
    }
   ],
   "source": [
    "\n",
    "num_epochs=100\n",
    "all_mae_histories=[]\n",
    "for i in range(k):\n",
    "    print('Processing Fold #',i)\n",
    "    val_data=train_data[i*num_val_samples:(i+1)*num_val_samples]\n",
    "    val_targets=train_targets[i*num_val_samples : (i+1)*num_val_samples]\n",
    "    \n",
    "    partial_train_data=np.concatenate([train_data[:i*num_val_samples],\n",
    "                                         train_data[(i+1)*num_val_samples:]],axis=0)\n",
    "    partial_train_targets=np.concatenate([train_targets[:i*num_val_samples],\n",
    "                                         train_targets[(i+1)*num_val_samples:]],axis=0)\n",
    "    model=build_model()\n",
    "    history=model.fit(partial_train_data,partial_train_targets,epochs=num_epochs,batch_size=1,verbose=0,\n",
    "             validation_data=(val_data,val_targets))\n",
    "    mae_history=history.history['val_mean_absolute_error']\n",
    "    all_mae_histories.append(mae_history)"
   ]
  },
  {
   "cell_type": "code",
   "execution_count": 64,
   "metadata": {},
   "outputs": [],
   "source": [
    "average_mae_history=[np.mean([x[i] for x in all_mae_histories]) for i in range(num_epochs)]"
   ]
  },
  {
   "cell_type": "code",
   "execution_count": 65,
   "metadata": {},
   "outputs": [
    {
     "data": {
      "image/png": "[encoded data removed]",
      "text/plain": [
       "<Figure size 432x288 with 1 Axes>"
      ]
     },
     "metadata": {
      "needs_background": "light"
     },
     "output_type": "display_data"
    }
   ],
   "source": [
    "import matplotlib.pyplot as plt\n",
    "\n",
    "plt.plot(range(1,len(average_mae_history)+1),average_mae_history)\n",
    "plt.xlabel('Epochs')\n",
    "plt.ylabel('Validation MAE')\n",
    "plt.show()"
   ]
  },
  {
   "cell_type": "code",
   "execution_count": 66,
   "metadata": {},
   "outputs": [
    {
     "data": {
      "image/png": "[encoded data removed]",
      "text/plain": [
       "<Figure size 432x288 with 1 Axes>"
      ]
     },
     "metadata": {
      "needs_background": "light"
     },
     "output_type": "display_data"
    }
   ],
   "source": [
    "def smooth_curve(points,factor=0.9):\n",
    "    smoothed_points=[]\n",
    "    for point in points:\n",
    "        if smoothed_points:\n",
    "            previous=smoothed_points[-1]\n",
    "            smoothed_points.append(previous*factor+point*(1-factor))\n",
    "        else:\n",
    "            smoothed_points.append(point)\n",
    "    return smoothed_points\n",
    "\n",
    "smooth_mae_history=smooth_curve(average_mae_history[10:])\n",
    "plt.plot(range(1,len(smooth_mae_history)+1),smooth_mae_history)\n",
    "plt.xlabel('Epochs')\n",
    "plt.ylabel('Validation MAE')\n",
    "plt.show()"
   ]
  }
 ],
 "metadata": {
  "kernelspec": {
   "display_name": "Python 3",
   "language": "python",
   "name": "python3"
  },
  "language_info": {
   "codemirror_mode": {
    "name": "ipython",
    "version": 3
   },
   "file_extension": ".py",
   "mimetype": "text/x-python",
   "name": "python",
   "nbconvert_exporter": "python",
   "pygments_lexer": "ipython3",
   "version": "3.7.6"
  }
 },
 "nbformat": 4,
 "nbformat_minor": 4
}
